{
  "nbformat": 4,
  "nbformat_minor": 0,
  "metadata": {
    "kernelspec": {
      "display_name": "Python 3",
      "language": "python",
      "name": "python3"
    },
    "language_info": {
      "codemirror_mode": {
        "name": "ipython",
        "version": 3
      },
      "file_extension": ".py",
      "mimetype": "text/x-python",
      "name": "python",
      "nbconvert_exporter": "python",
      "pygments_lexer": "ipython3",
      "version": "3.7.4"
    },
    "colab": {
      "name": "Plotly_workshop_new-checkpoint.ipynb",
      "provenance": []
    }
  },
  "cells": [
    {
      "cell_type": "markdown",
      "metadata": {
        "id": "u_5-M3wudvJe"
      },
      "source": [
        "Lesson Plan for Plotly Lab\n",
        "What is Python???\n",
        "\n",
        "    Python is a programming language that is easy to learn and reads like plain english\n",
        "    Important note is that in python, the most important thing are indents.  Improper indents WILL cause errors\n",
        "Basic Types\n",
        "\n",
        "    During this lessson plan we will be using a few different types\n",
        "        String: a sequence of letters and symbols surrounded by \"\"\n",
        "        Integer: whole number (eg 5)\n",
        "        float: number with decimal places (eg 5.3)\n",
        "        Object: a special type that has its own methods we can use - \n",
        "        a method is a series of lines of code that accomplishes some task\n",
        "        Dataframe: special object imported by the pandas library, allows us\n",
        "        to create a relational way of viewing and manipulating data\n",
        "        Series/List: simply a list of some form of data\n",
        "        Dictionary: a series of mappings from one type to another\n",
        "        \n",
        "What does Import do?\n",
        "\n",
        "    the import statement gives us functions, objects or a set of objects and functions (known as a\n",
        "    library) that other people created that we would like to use.\n",
        "    the 'as' keyword lets us rename this library or object for our\n",
        "    convienence\n",
        "    \n",
        "    CSV\n",
        "        Gives us the ability to utilize and read in a comma seperated value\n",
        "        file, such as the one I have provided\n",
        "    Numpy\n",
        "        Gives us the ability to create a series object, series objects are \n",
        "        what plotly uses to graph\n",
        "     Plotly\n",
        "        Gives us access to all of the methods we need to create a plotly graph\n",
        "    Plotly.Plotly \n",
        "        This gives us easy access to plotly's plotting methods\n",
        "    Plotly.graph_objs\n",
        "        This is a plotly graph.  we are renaming it for ease later\n",
        "    Pandas\n",
        "        Gives us the ability to create a dataframe from our CSV files\n",
        "\n",
        "Plotly tools set credentials\n",
        "\n",
        "    in order to save our graphs to our specific account, Plotly wants to know our username and our specific API key\n",
        "    We can find this in the following way\n",
        "    go to https://plot.ly/ and either create an account or login\n",
        "    hover over your account in the right hand corner and click settings \n",
        "    your username should be available in the left column\n",
        "    click API keys on the left hand side\n",
        "    click generate/regenerate key, and save that number\n",
        "    set your credentials as I have done below.\n",
        "    "
      ]
    },
    {
      "cell_type": "markdown",
      "metadata": {
        "id": "TJeE2ggQdvJj"
      },
      "source": [
        "Project Set Up For Personal Device:\n",
        "\n",
        "1.) Install Python (python.org)\n",
        "\n",
        "2.) Open Command Prompt\n",
        "    - You can verify that Python has been properly installed by typing \"python\" and pressing enter\n",
        "    - The version number will come up if python has been properly installed\n",
        "    \n",
        "3.) Install Plotly Libraries by typing the following commands:\n",
        "    - pip install plotly\n",
        "    - pip install chart_studio\n",
        "    \n",
        "4.) Install Jupyter Notebook by typing the following commands:\n",
        "    - python3 -m pip install jupyter\n",
        "    - type \"jupyter notebook\" to run it\n",
        "    \n",
        "5.) Download project files\n",
        "    - github.com/GTLibraryDataVisualization/Plotly-with-Python-Introduction-Workshop\n",
        "    - Press the green \"Clone or Download\" button and download the project zip file\n",
        "    - This holds the data you'll play with\n",
        "    \n",
        "6.) Set up Plotly account\n",
        "    - chart-studio.plot.ly/settings/api\n",
        "    \n",
        "7.) Generate an API key\n",
        "    - chart-studio.plot.ly/settings/api\n",
        "    - Once you have an account, generate an API key to gain access to Plotly's services.\n",
        "    - You're good to go!\n",
        " \n"
      ]
    },
    {
      "cell_type": "code",
      "metadata": {
        "id": "wXH1lBf8d5Gw",
        "outputId": "65acbab8-7ec4-4ca6-c15e-c2521bd3d98d",
        "colab": {
          "base_uri": "https://localhost:8080/"
        }
      },
      "source": [
        "!pip install chart_studio"
      ],
      "execution_count": 3,
      "outputs": [
        {
          "output_type": "stream",
          "name": "stdout",
          "text": [
            "Collecting chart_studio\n",
            "  Downloading chart_studio-1.1.0-py3-none-any.whl (64 kB)\n",
            "\u001b[?25l\r\u001b[K     |█████                           | 10 kB 20.5 MB/s eta 0:00:01\r\u001b[K     |██████████▏                     | 20 kB 23.5 MB/s eta 0:00:01\r\u001b[K     |███████████████▎                | 30 kB 20.7 MB/s eta 0:00:01\r\u001b[K     |████████████████████▍           | 40 kB 13.0 MB/s eta 0:00:01\r\u001b[K     |█████████████████████████▍      | 51 kB 5.7 MB/s eta 0:00:01\r\u001b[K     |██████████████████████████████▌ | 61 kB 5.7 MB/s eta 0:00:01\r\u001b[K     |████████████████████████████████| 64 kB 2.1 MB/s \n",
            "\u001b[?25hRequirement already satisfied: requests in /usr/local/lib/python3.7/dist-packages (from chart_studio) (2.23.0)\n",
            "Requirement already satisfied: retrying>=1.3.3 in /usr/local/lib/python3.7/dist-packages (from chart_studio) (1.3.3)\n",
            "Requirement already satisfied: plotly in /usr/local/lib/python3.7/dist-packages (from chart_studio) (4.4.1)\n",
            "Requirement already satisfied: six in /usr/local/lib/python3.7/dist-packages (from chart_studio) (1.15.0)\n",
            "Requirement already satisfied: chardet<4,>=3.0.2 in /usr/local/lib/python3.7/dist-packages (from requests->chart_studio) (3.0.4)\n",
            "Requirement already satisfied: urllib3!=1.25.0,!=1.25.1,<1.26,>=1.21.1 in /usr/local/lib/python3.7/dist-packages (from requests->chart_studio) (1.24.3)\n",
            "Requirement already satisfied: idna<3,>=2.5 in /usr/local/lib/python3.7/dist-packages (from requests->chart_studio) (2.10)\n",
            "Requirement already satisfied: certifi>=2017.4.17 in /usr/local/lib/python3.7/dist-packages (from requests->chart_studio) (2021.5.30)\n",
            "Installing collected packages: chart-studio\n",
            "Successfully installed chart-studio-1.1.0\n"
          ]
        }
      ]
    },
    {
      "cell_type": "code",
      "metadata": {
        "id": "KslsoVLHdvJk"
      },
      "source": [
        "#setting up the project\n",
        "\n",
        "import csv\n",
        "import numpy as np\n",
        "import chart_studio.plotly as py\n",
        "import plotly.graph_objs as go\n",
        "# import chart_studio\n",
        "import pandas as pd\n",
        "from google.colab import files\n"
      ],
      "execution_count": 7,
      "outputs": []
    },
    {
      "cell_type": "code",
      "metadata": {
        "id": "sGjRCH7DeEov",
        "outputId": "4effbdf2-a28b-4190-ac7f-5d07f73f769c",
        "colab": {
          "resources": {
            "http://localhost:8080/nbextensions/google.colab/files.js": {
              "data": "Ly8gQ29weXJpZ2h0IDIwMTcgR29vZ2xlIExMQwovLwovLyBMaWNlbnNlZCB1bmRlciB0aGUgQXBhY2hlIExpY2Vuc2UsIFZlcnNpb24gMi4wICh0aGUgIkxpY2Vuc2UiKTsKLy8geW91IG1heSBub3QgdXNlIHRoaXMgZmlsZSBleGNlcHQgaW4gY29tcGxpYW5jZSB3aXRoIHRoZSBMaWNlbnNlLgovLyBZb3UgbWF5IG9idGFpbiBhIGNvcHkgb2YgdGhlIExpY2Vuc2UgYXQKLy8KLy8gICAgICBodHRwOi8vd3d3LmFwYWNoZS5vcmcvbGljZW5zZXMvTElDRU5TRS0yLjAKLy8KLy8gVW5sZXNzIHJlcXVpcmVkIGJ5IGFwcGxpY2FibGUgbGF3IG9yIGFncmVlZCB0byBpbiB3cml0aW5nLCBzb2Z0d2FyZQovLyBkaXN0cmlidXRlZCB1bmRlciB0aGUgTGljZW5zZSBpcyBkaXN0cmlidXRlZCBvbiBhbiAiQVMgSVMiIEJBU0lTLAovLyBXSVRIT1VUIFdBUlJBTlRJRVMgT1IgQ09ORElUSU9OUyBPRiBBTlkgS0lORCwgZWl0aGVyIGV4cHJlc3Mgb3IgaW1wbGllZC4KLy8gU2VlIHRoZSBMaWNlbnNlIGZvciB0aGUgc3BlY2lmaWMgbGFuZ3VhZ2UgZ292ZXJuaW5nIHBlcm1pc3Npb25zIGFuZAovLyBsaW1pdGF0aW9ucyB1bmRlciB0aGUgTGljZW5zZS4KCi8qKgogKiBAZmlsZW92ZXJ2aWV3IEhlbHBlcnMgZm9yIGdvb2dsZS5jb2xhYiBQeXRob24gbW9kdWxlLgogKi8KKGZ1bmN0aW9uKHNjb3BlKSB7CmZ1bmN0aW9uIHNwYW4odGV4dCwgc3R5bGVBdHRyaWJ1dGVzID0ge30pIHsKICBjb25zdCBlbGVtZW50ID0gZG9jdW1lbnQuY3JlYXRlRWxlbWVudCgnc3BhbicpOwogIGVsZW1lbnQudGV4dENvbnRlbnQgPSB0ZXh0OwogIGZvciAoY29uc3Qga2V5IG9mIE9iamVjdC5rZXlzKHN0eWxlQXR0cmlidXRlcykpIHsKICAgIGVsZW1lbnQuc3R5bGVba2V5XSA9IHN0eWxlQXR0cmlidXRlc1trZXldOwogIH0KICByZXR1cm4gZWxlbWVudDsKfQoKLy8gTWF4IG51bWJlciBvZiBieXRlcyB3aGljaCB3aWxsIGJlIHVwbG9hZGVkIGF0IGEgdGltZS4KY29uc3QgTUFYX1BBWUxPQURfU0laRSA9IDEwMCAqIDEwMjQ7CgpmdW5jdGlvbiBfdXBsb2FkRmlsZXMoaW5wdXRJZCwgb3V0cHV0SWQpIHsKICBjb25zdCBzdGVwcyA9IHVwbG9hZEZpbGVzU3RlcChpbnB1dElkLCBvdXRwdXRJZCk7CiAgY29uc3Qgb3V0cHV0RWxlbWVudCA9IGRvY3VtZW50LmdldEVsZW1lbnRCeUlkKG91dHB1dElkKTsKICAvLyBDYWNoZSBzdGVwcyBvbiB0aGUgb3V0cHV0RWxlbWVudCB0byBtYWtlIGl0IGF2YWlsYWJsZSBmb3IgdGhlIG5leHQgY2FsbAogIC8vIHRvIHVwbG9hZEZpbGVzQ29udGludWUgZnJvbSBQeXRob24uCiAgb3V0cHV0RWxlbWVudC5zdGVwcyA9IHN0ZXBzOwoKICByZXR1cm4gX3VwbG9hZEZpbGVzQ29udGludWUob3V0cHV0SWQpOwp9CgovLyBUaGlzIGlzIHJvdWdobHkgYW4gYXN5bmMgZ2VuZXJhdG9yIChub3Qgc3VwcG9ydGVkIGluIHRoZSBicm93c2VyIHlldCksCi8vIHdoZXJlIHRoZXJlIGFyZSBtdWx0aXBsZSBhc3luY2hyb25vdXMgc3RlcHMgYW5kIHRoZSBQeXRob24gc2lkZSBpcyBnb2luZwovLyB0byBwb2xsIGZvciBjb21wbGV0aW9uIG9mIGVhY2ggc3RlcC4KLy8gVGhpcyB1c2VzIGEgUHJvbWlzZSB0byBibG9jayB0aGUgcHl0aG9uIHNpZGUgb24gY29tcGxldGlvbiBvZiBlYWNoIHN0ZXAsCi8vIHRoZW4gcGFzc2VzIHRoZSByZXN1bHQgb2YgdGhlIHByZXZpb3VzIHN0ZXAgYXMgdGhlIGlucHV0IHRvIHRoZSBuZXh0IHN0ZXAuCmZ1bmN0aW9uIF91cGxvYWRGaWxlc0NvbnRpbnVlKG91dHB1dElkKSB7CiAgY29uc3Qgb3V0cHV0RWxlbWVudCA9IGRvY3VtZW50LmdldEVsZW1lbnRCeUlkKG91dHB1dElkKTsKICBjb25zdCBzdGVwcyA9IG91dHB1dEVsZW1lbnQuc3RlcHM7CgogIGNvbnN0IG5leHQgPSBzdGVwcy5uZXh0KG91dHB1dEVsZW1lbnQubGFzdFByb21pc2VWYWx1ZSk7CiAgcmV0dXJuIFByb21pc2UucmVzb2x2ZShuZXh0LnZhbHVlLnByb21pc2UpLnRoZW4oKHZhbHVlKSA9PiB7CiAgICAvLyBDYWNoZSB0aGUgbGFzdCBwcm9taXNlIHZhbHVlIHRvIG1ha2UgaXQgYXZhaWxhYmxlIHRvIHRoZSBuZXh0CiAgICAvLyBzdGVwIG9mIHRoZSBnZW5lcmF0b3IuCiAgICBvdXRwdXRFbGVtZW50Lmxhc3RQcm9taXNlVmFsdWUgPSB2YWx1ZTsKICAgIHJldHVybiBuZXh0LnZhbHVlLnJlc3BvbnNlOwogIH0pOwp9CgovKioKICogR2VuZXJhdG9yIGZ1bmN0aW9uIHdoaWNoIGlzIGNhbGxlZCBiZXR3ZWVuIGVhY2ggYXN5bmMgc3RlcCBvZiB0aGUgdXBsb2FkCiAqIHByb2Nlc3MuCiAqIEBwYXJhbSB7c3RyaW5nfSBpbnB1dElkIEVsZW1lbnQgSUQgb2YgdGhlIGlucHV0IGZpbGUgcGlja2VyIGVsZW1lbnQuCiAqIEBwYXJhbSB7c3RyaW5nfSBvdXRwdXRJZCBFbGVtZW50IElEIG9mIHRoZSBvdXRwdXQgZGlzcGxheS4KICogQHJldHVybiB7IUl0ZXJhYmxlPCFPYmplY3Q+fSBJdGVyYWJsZSBvZiBuZXh0IHN0ZXBzLgogKi8KZnVuY3Rpb24qIHVwbG9hZEZpbGVzU3RlcChpbnB1dElkLCBvdXRwdXRJZCkgewogIGNvbnN0IGlucHV0RWxlbWVudCA9IGRvY3VtZW50LmdldEVsZW1lbnRCeUlkKGlucHV0SWQpOwogIGlucHV0RWxlbWVudC5kaXNhYmxlZCA9IGZhbHNlOwoKICBjb25zdCBvdXRwdXRFbGVtZW50ID0gZG9jdW1lbnQuZ2V0RWxlbWVudEJ5SWQob3V0cHV0SWQpOwogIG91dHB1dEVsZW1lbnQuaW5uZXJIVE1MID0gJyc7CgogIGNvbnN0IHBpY2tlZFByb21pc2UgPSBuZXcgUHJvbWlzZSgocmVzb2x2ZSkgPT4gewogICAgaW5wdXRFbGVtZW50LmFkZEV2ZW50TGlzdGVuZXIoJ2NoYW5nZScsIChlKSA9PiB7CiAgICAgIHJlc29sdmUoZS50YXJnZXQuZmlsZXMpOwogICAgfSk7CiAgfSk7CgogIGNvbnN0IGNhbmNlbCA9IGRvY3VtZW50LmNyZWF0ZUVsZW1lbnQoJ2J1dHRvbicpOwogIGlucHV0RWxlbWVudC5wYXJlbnRFbGVtZW50LmFwcGVuZENoaWxkKGNhbmNlbCk7CiAgY2FuY2VsLnRleHRDb250ZW50ID0gJ0NhbmNlbCB1cGxvYWQnOwogIGNvbnN0IGNhbmNlbFByb21pc2UgPSBuZXcgUHJvbWlzZSgocmVzb2x2ZSkgPT4gewogICAgY2FuY2VsLm9uY2xpY2sgPSAoKSA9PiB7CiAgICAgIHJlc29sdmUobnVsbCk7CiAgICB9OwogIH0pOwoKICAvLyBXYWl0IGZvciB0aGUgdXNlciB0byBwaWNrIHRoZSBmaWxlcy4KICBjb25zdCBmaWxlcyA9IHlpZWxkIHsKICAgIHByb21pc2U6IFByb21pc2UucmFjZShbcGlja2VkUHJvbWlzZSwgY2FuY2VsUHJvbWlzZV0pLAogICAgcmVzcG9uc2U6IHsKICAgICAgYWN0aW9uOiAnc3RhcnRpbmcnLAogICAgfQogIH07CgogIGNhbmNlbC5yZW1vdmUoKTsKCiAgLy8gRGlzYWJsZSB0aGUgaW5wdXQgZWxlbWVudCBzaW5jZSBmdXJ0aGVyIHBpY2tzIGFyZSBub3QgYWxsb3dlZC4KICBpbnB1dEVsZW1lbnQuZGlzYWJsZWQgPSB0cnVlOwoKICBpZiAoIWZpbGVzKSB7CiAgICByZXR1cm4gewogICAgICByZXNwb25zZTogewogICAgICAgIGFjdGlvbjogJ2NvbXBsZXRlJywKICAgICAgfQogICAgfTsKICB9CgogIGZvciAoY29uc3QgZmlsZSBvZiBmaWxlcykgewogICAgY29uc3QgbGkgPSBkb2N1bWVudC5jcmVhdGVFbGVtZW50KCdsaScpOwogICAgbGkuYXBwZW5kKHNwYW4oZmlsZS5uYW1lLCB7Zm9udFdlaWdodDogJ2JvbGQnfSkpOwogICAgbGkuYXBwZW5kKHNwYW4oCiAgICAgICAgYCgke2ZpbGUudHlwZSB8fCAnbi9hJ30pIC0gJHtmaWxlLnNpemV9IGJ5dGVzLCBgICsKICAgICAgICBgbGFzdCBtb2RpZmllZDogJHsKICAgICAgICAgICAgZmlsZS5sYXN0TW9kaWZpZWREYXRlID8gZmlsZS5sYXN0TW9kaWZpZWREYXRlLnRvTG9jYWxlRGF0ZVN0cmluZygpIDoKICAgICAgICAgICAgICAgICAgICAgICAgICAgICAgICAgICAgJ24vYSd9IC0gYCkpOwogICAgY29uc3QgcGVyY2VudCA9IHNwYW4oJzAlIGRvbmUnKTsKICAgIGxpLmFwcGVuZENoaWxkKHBlcmNlbnQpOwoKICAgIG91dHB1dEVsZW1lbnQuYXBwZW5kQ2hpbGQobGkpOwoKICAgIGNvbnN0IGZpbGVEYXRhUHJvbWlzZSA9IG5ldyBQcm9taXNlKChyZXNvbHZlKSA9PiB7CiAgICAgIGNvbnN0IHJlYWRlciA9IG5ldyBGaWxlUmVhZGVyKCk7CiAgICAgIHJlYWRlci5vbmxvYWQgPSAoZSkgPT4gewogICAgICAgIHJlc29sdmUoZS50YXJnZXQucmVzdWx0KTsKICAgICAgfTsKICAgICAgcmVhZGVyLnJlYWRBc0FycmF5QnVmZmVyKGZpbGUpOwogICAgfSk7CiAgICAvLyBXYWl0IGZvciB0aGUgZGF0YSB0byBiZSByZWFkeS4KICAgIGxldCBmaWxlRGF0YSA9IHlpZWxkIHsKICAgICAgcHJvbWlzZTogZmlsZURhdGFQcm9taXNlLAogICAgICByZXNwb25zZTogewogICAgICAgIGFjdGlvbjogJ2NvbnRpbnVlJywKICAgICAgfQogICAgfTsKCiAgICAvLyBVc2UgYSBjaHVua2VkIHNlbmRpbmcgdG8gYXZvaWQgbWVzc2FnZSBzaXplIGxpbWl0cy4gU2VlIGIvNjIxMTU2NjAuCiAgICBsZXQgcG9zaXRpb24gPSAwOwogICAgZG8gewogICAgICBjb25zdCBsZW5ndGggPSBNYXRoLm1pbihmaWxlRGF0YS5ieXRlTGVuZ3RoIC0gcG9zaXRpb24sIE1BWF9QQVlMT0FEX1NJWkUpOwogICAgICBjb25zdCBjaHVuayA9IG5ldyBVaW50OEFycmF5KGZpbGVEYXRhLCBwb3NpdGlvbiwgbGVuZ3RoKTsKICAgICAgcG9zaXRpb24gKz0gbGVuZ3RoOwoKICAgICAgY29uc3QgYmFzZTY0ID0gYnRvYShTdHJpbmcuZnJvbUNoYXJDb2RlLmFwcGx5KG51bGwsIGNodW5rKSk7CiAgICAgIHlpZWxkIHsKICAgICAgICByZXNwb25zZTogewogICAgICAgICAgYWN0aW9uOiAnYXBwZW5kJywKICAgICAgICAgIGZpbGU6IGZpbGUubmFtZSwKICAgICAgICAgIGRhdGE6IGJhc2U2NCwKICAgICAgICB9LAogICAgICB9OwoKICAgICAgbGV0IHBlcmNlbnREb25lID0gZmlsZURhdGEuYnl0ZUxlbmd0aCA9PT0gMCA/CiAgICAgICAgICAxMDAgOgogICAgICAgICAgTWF0aC5yb3VuZCgocG9zaXRpb24gLyBmaWxlRGF0YS5ieXRlTGVuZ3RoKSAqIDEwMCk7CiAgICAgIHBlcmNlbnQudGV4dENvbnRlbnQgPSBgJHtwZXJjZW50RG9uZX0lIGRvbmVgOwoKICAgIH0gd2hpbGUgKHBvc2l0aW9uIDwgZmlsZURhdGEuYnl0ZUxlbmd0aCk7CiAgfQoKICAvLyBBbGwgZG9uZS4KICB5aWVsZCB7CiAgICByZXNwb25zZTogewogICAgICBhY3Rpb246ICdjb21wbGV0ZScsCiAgICB9CiAgfTsKfQoKc2NvcGUuZ29vZ2xlID0gc2NvcGUuZ29vZ2xlIHx8IHt9OwpzY29wZS5nb29nbGUuY29sYWIgPSBzY29wZS5nb29nbGUuY29sYWIgfHwge307CnNjb3BlLmdvb2dsZS5jb2xhYi5fZmlsZXMgPSB7CiAgX3VwbG9hZEZpbGVzLAogIF91cGxvYWRGaWxlc0NvbnRpbnVlLAp9Owp9KShzZWxmKTsK",
              "ok": true,
              "headers": [
                [
                  "content-type",
                  "application/javascript"
                ]
              ],
              "status": 200,
              "status_text": ""
            }
          },
          "base_uri": "https://localhost:8080/",
          "height": 72
        }
      },
      "source": [
        "uploaded = files.upload()\n",
        "fp = open(\"univ_reduced.csv\")"
      ],
      "execution_count": 8,
      "outputs": [
        {
          "output_type": "display_data",
          "data": {
            "text/html": [
              "\n",
              "     <input type=\"file\" id=\"files-e3754713-ff98-4eec-9f05-59eed78426ca\" name=\"files[]\" multiple disabled\n",
              "        style=\"border:none\" />\n",
              "     <output id=\"result-e3754713-ff98-4eec-9f05-59eed78426ca\">\n",
              "      Upload widget is only available when the cell has been executed in the\n",
              "      current browser session. Please rerun this cell to enable.\n",
              "      </output>\n",
              "      <script src=\"/nbextensions/google.colab/files.js\"></script> "
            ],
            "text/plain": [
              "<IPython.core.display.HTML object>"
            ]
          },
          "metadata": {}
        },
        {
          "output_type": "stream",
          "name": "stdout",
          "text": [
            "Saving univ_reduced.csv to univ_reduced.csv\n"
          ]
        }
      ]
    },
    {
      "cell_type": "code",
      "metadata": {
        "id": "YBi7nqFmfGNe",
        "outputId": "4200148c-c314-45e1-8150-a5bacec93191",
        "colab": {
          "base_uri": "https://localhost:8080/",
          "height": 419
        }
      },
      "source": [
        "df = pd.read_csv(fp)\n",
        "df"
      ],
      "execution_count": 11,
      "outputs": [
        {
          "output_type": "execute_result",
          "data": {
            "text/html": [
              "<div>\n",
              "<style scoped>\n",
              "    .dataframe tbody tr th:only-of-type {\n",
              "        vertical-align: middle;\n",
              "    }\n",
              "\n",
              "    .dataframe tbody tr th {\n",
              "        vertical-align: top;\n",
              "    }\n",
              "\n",
              "    .dataframe thead th {\n",
              "        text-align: right;\n",
              "    }\n",
              "</style>\n",
              "<table border=\"1\" class=\"dataframe\">\n",
              "  <thead>\n",
              "    <tr style=\"text-align: right;\">\n",
              "      <th></th>\n",
              "      <th>INSTNM</th>\n",
              "      <th>SAT_AVG_ALL</th>\n",
              "      <th>UGDS</th>\n",
              "      <th>UGDS_RICH</th>\n",
              "      <th>MD_EARN_WNE_P10</th>\n",
              "    </tr>\n",
              "  </thead>\n",
              "  <tbody>\n",
              "    <tr>\n",
              "      <th>0</th>\n",
              "      <td>Alabama A &amp; M University</td>\n",
              "      <td>850.0</td>\n",
              "      <td>4505.0</td>\n",
              "      <td>0.0340</td>\n",
              "      <td>29900</td>\n",
              "    </tr>\n",
              "    <tr>\n",
              "      <th>1</th>\n",
              "      <td>University of Alabama at Birmingham</td>\n",
              "      <td>1147.0</td>\n",
              "      <td>11269.0</td>\n",
              "      <td>0.5863</td>\n",
              "      <td>40200</td>\n",
              "    </tr>\n",
              "    <tr>\n",
              "      <th>2</th>\n",
              "      <td>Amridge University</td>\n",
              "      <td>NaN</td>\n",
              "      <td>308.0</td>\n",
              "      <td>0.2110</td>\n",
              "      <td>40100</td>\n",
              "    </tr>\n",
              "    <tr>\n",
              "      <th>3</th>\n",
              "      <td>University of Alabama in Huntsville</td>\n",
              "      <td>1221.0</td>\n",
              "      <td>5829.0</td>\n",
              "      <td>0.7024</td>\n",
              "      <td>45600</td>\n",
              "    </tr>\n",
              "    <tr>\n",
              "      <th>4</th>\n",
              "      <td>Alabama State University</td>\n",
              "      <td>844.0</td>\n",
              "      <td>4740.0</td>\n",
              "      <td>0.0165</td>\n",
              "      <td>26700</td>\n",
              "    </tr>\n",
              "    <tr>\n",
              "      <th>...</th>\n",
              "      <td>...</td>\n",
              "      <td>...</td>\n",
              "      <td>...</td>\n",
              "      <td>...</td>\n",
              "      <td>...</td>\n",
              "    </tr>\n",
              "    <tr>\n",
              "      <th>7588</th>\n",
              "      <td>National Personal Training Institute of Cleveland</td>\n",
              "      <td>NaN</td>\n",
              "      <td>NaN</td>\n",
              "      <td>NaN</td>\n",
              "      <td>NaN</td>\n",
              "    </tr>\n",
              "    <tr>\n",
              "      <th>7589</th>\n",
              "      <td>Bay Area Medical Academy - San Jose Satellite ...</td>\n",
              "      <td>NaN</td>\n",
              "      <td>NaN</td>\n",
              "      <td>NaN</td>\n",
              "      <td>NaN</td>\n",
              "    </tr>\n",
              "    <tr>\n",
              "      <th>7590</th>\n",
              "      <td>High Desert Medical College</td>\n",
              "      <td>NaN</td>\n",
              "      <td>NaN</td>\n",
              "      <td>NaN</td>\n",
              "      <td>NaN</td>\n",
              "    </tr>\n",
              "    <tr>\n",
              "      <th>7591</th>\n",
              "      <td>Vantage College-San Antonio</td>\n",
              "      <td>NaN</td>\n",
              "      <td>NaN</td>\n",
              "      <td>NaN</td>\n",
              "      <td>NaN</td>\n",
              "    </tr>\n",
              "    <tr>\n",
              "      <th>7592</th>\n",
              "      <td>American Institute of Pharmaceutical Technolog...</td>\n",
              "      <td>NaN</td>\n",
              "      <td>NaN</td>\n",
              "      <td>NaN</td>\n",
              "      <td>NaN</td>\n",
              "    </tr>\n",
              "  </tbody>\n",
              "</table>\n",
              "<p>7593 rows × 5 columns</p>\n",
              "</div>"
            ],
            "text/plain": [
              "                                                 INSTNM  ...  MD_EARN_WNE_P10\n",
              "0                              Alabama A & M University  ...            29900\n",
              "1                   University of Alabama at Birmingham  ...            40200\n",
              "2                                    Amridge University  ...            40100\n",
              "3                   University of Alabama in Huntsville  ...            45600\n",
              "4                              Alabama State University  ...            26700\n",
              "...                                                 ...  ...              ...\n",
              "7588  National Personal Training Institute of Cleveland  ...              NaN\n",
              "7589  Bay Area Medical Academy - San Jose Satellite ...  ...              NaN\n",
              "7590                        High Desert Medical College  ...              NaN\n",
              "7591                        Vantage College-San Antonio  ...              NaN\n",
              "7592  American Institute of Pharmaceutical Technolog...  ...              NaN\n",
              "\n",
              "[7593 rows x 5 columns]"
            ]
          },
          "metadata": {},
          "execution_count": 11
        }
      ]
    },
    {
      "cell_type": "code",
      "metadata": {
        "id": "DtBvbF-qdvJm"
      },
      "source": [
        "#reading the data\n",
        "\n",
        "# csv_file = \"univ_reduced.csv\"\n",
        "# df = pd.read_csv(csv_file)\n",
        "# print(df) # do not include this statement if using a text editor"
      ],
      "execution_count": 13,
      "outputs": []
    },
    {
      "cell_type": "markdown",
      "metadata": {
        "id": "I5JEur0advJn"
      },
      "source": [
        "The variable CSV_file is going to be a string object that points to the location of our data\n",
        "\n",
        "    the next line asks our pandas library to try to read our CSV file, and turn it into a dataframe.\n",
        "    \n",
        "When done successfully, it will be stored in the variable df.\n",
        "\n",
        "    The print statement is used to see our data.\n",
        "    Notice there are over 7500 rows\n",
        "https://drive.google.com/drive/folders/1WCZQmB_dAHCr4lHE027qEcvMTPLchs8D?usp=sharing"
      ]
    },
    {
      "cell_type": "markdown",
      "metadata": {
        "id": "3B2f769YdvJn"
      },
      "source": [
        "Notice we have a lot of Nan values.  Plotly cannot graph those, so we need to get rid of them.\n",
        "We do this by indexing into our dataframe using [], then selecting the column we want, and then keeping it if the value is not null\n",
        "    \n",
        "    we also have some \"privacy surpressed\" values in the salary category.  since this is not a number we want to \n",
        "    eliminate those as well\n",
        "    the ~ operator means not.  \n",
        "    we will tell our data frame to keep any values where the salary column does not contain the word \"privacy surpressed\"\n",
        "    \n",
        "    notice how now there are only a little over 1300 rows.  the rest of the datapoints contained \n",
        "    incomplete data that we could not graph.\n",
        "    "
      ]
    },
    {
      "cell_type": "code",
      "metadata": {
        "id": "LoO1-YavdvJo",
        "outputId": "f2879409-ae0e-4dda-c999-1387785f04d3",
        "colab": {
          "base_uri": "https://localhost:8080/"
        }
      },
      "source": [
        "#cleaning up the data\n",
        "\n",
        "df = df[df.SAT_AVG_ALL.notnull()]\n",
        "df = df[df.INSTNM.notnull()]\n",
        "df = df[df.UGDS_RICH.notnull()]\n",
        "df = df[df.MD_EARN_WNE_P10.notnull()]\n",
        "df = df[~df.MD_EARN_WNE_P10.str.contains('PrivacySuppressed')]\n",
        "print(df) #do not include this statement if using a text editor"
      ],
      "execution_count": 14,
      "outputs": [
        {
          "output_type": "stream",
          "name": "stdout",
          "text": [
            "                                                 INSTNM  ...  MD_EARN_WNE_P10\n",
            "0                              Alabama A & M University  ...            29900\n",
            "1                   University of Alabama at Birmingham  ...            40200\n",
            "3                   University of Alabama in Huntsville  ...            45600\n",
            "4                              Alabama State University  ...            26700\n",
            "5                             The University of Alabama  ...            42700\n",
            "...                                                 ...  ...              ...\n",
            "6820                                 Augusta University  ...            58500\n",
            "6821                    Middle Georgia State University  ...            32400\n",
            "6866                        University of North Georgia  ...            40600\n",
            "6868  Northeastern University Professional Advanceme...  ...            64000\n",
            "6880                   Arizona State University-Skysong  ...            45400\n",
            "\n",
            "[1307 rows x 5 columns]\n"
          ]
        }
      ]
    },
    {
      "cell_type": "markdown",
      "metadata": {
        "id": "uiHxMs9qdvJo"
      },
      "source": [
        "These lines extract the columns from our dataframe and give us arrays that we can use to graph\n",
        "    We need to do this because plotly works with Numpy, not Pandas.\n",
        "    to get the names out of our list, we look into our dataframe for the column we want, and call .values.  this simply gives us \n",
        "    back the values that were in that column.\n",
        "    we want to know our university names, their average SAT, their starting salaries, and the percentage of white students."
      ]
    },
    {
      "cell_type": "code",
      "metadata": {
        "id": "aqmbix1HdvJp"
      },
      "source": [
        "#extracting data values\n",
        "\n",
        "name = df['INSTNM'].values\n",
        "sat_average = df['SAT_AVG_ALL'].values\n",
        "salary = df['MD_EARN_WNE_P10'].values\n",
        "percentage_white = df['UGDS_RICH'].values"
      ],
      "execution_count": 16,
      "outputs": []
    },
    {
      "cell_type": "markdown",
      "metadata": {
        "id": "FOGZO3q3dvJp"
      },
      "source": [
        "calling go.scatter3d is going to help us create a 3D scatter plot object containing all our points\n",
        "\n",
        "    we want our x axis to be their SAT averages, so we set x = to the sat average\n",
        "    we want our y values to be their starting salary, so we set y = salary\n",
        "    we want our z values to be the school's percentage white, so we set z = percentage_white\n",
        "    when we hover over a point, we want to be able to see what school it is, so we will set our text= to the name of the school\n",
        "    Mode is how we want points displayed, for this example, we want our points displayed as markers (or dots)\n",
        "\n",
        "Next we want to define what our markers look like, so we will send in a dictionary telling plotly how to format dots\n",
        "\n",
        "    we are letting the size of the dots be 4 each\n",
        "    we want to color our dots by the percentage of white students\n",
        "    plotly has built in colorscales for coloring the points, for this example we will use Viridis\n",
        "    Opacity is how transparent our dots we will be, we will set this to .8 (0 is invisible, 1 is solid)\n",
        "    \n",
        "To actually graph data, plotly can support many of these \"traces\" so it wants each trace sent into it as a list, \n",
        "    since we only have 1 trace for this example, we are creating a list with a single entry, trace 1"
      ]
    },
    {
      "cell_type": "code",
      "metadata": {
        "id": "pYjlivOwdvJq"
      },
      "source": [
        "#preparing data for plotly\n",
        "\n",
        "trace1 = go.Scatter3d(\n",
        "    x=sat_average,\n",
        "    y=salary,\n",
        "    z=percentage_white,\n",
        "    text=name,\n",
        "    mode='markers',\n",
        "    marker=dict(\n",
        "        size=4,\n",
        "        color=percentage_white, # set color to an array/list of desired values\n",
        "        colorscale='Viridis',   # choose a colorscale\n",
        "        opacity=0.8\n",
        "    )\n",
        ")\n",
        "my_data = [trace1]"
      ],
      "execution_count": 17,
      "outputs": []
    },
    {
      "cell_type": "markdown",
      "metadata": {
        "id": "lUwZ7WuNdvJq"
      },
      "source": [
        "Next we want to define the layout of our graph\n",
        "\n",
        "    we want the title of our graph to simply be university data, so we can set title to \"university data\"\n",
        "    to label our axis, plotly asks us to create a scene where we define what we want our axis to be \n",
        "        \n",
        "        inside of our scene, we can define the axis labels\n",
        "        let us set our x axis label to SAT average\n",
        "        let us set our y axis label to average salary\n",
        "        let us set our z axis label to percentage white\n",
        "        \n",
        "Once we have all of that, we can actually plot the graph\n",
        "\n",
        "    first we have to create a completed figure to graph.  Plotly will do this automatically, all it needs to know\n",
        "    is the data we want to plot, and the layout, or how we want it to look.  \n",
        "    so we specify that the data it should use is my_data, and the layout it should use is my_layout.\n",
        "    \n",
        "    Finally, in order to display the graph, we call py.plot or py.iplot.  and specify the graph, as well as what\n",
        "    we want to save our graph as\n",
        "    \n",
        "    IMPORTANT if using a text editor use py.plot, iplot is only for jupyter notebook"
      ]
    },
    {
      "cell_type": "code",
      "metadata": {
        "id": "LEz0LVkqdvJr",
        "outputId": "e0cfff5b-0e2a-4fb5-c3be-cd8bd30b016e",
        "colab": {
          "base_uri": "https://localhost:8080/",
          "height": 542
        }
      },
      "source": [
        "my_layout = go.Layout(\n",
        "    title='University Data',\n",
        "    scene=dict(\n",
        "        xaxis=dict(\n",
        "            title='SAT Average'\n",
        "        ),\n",
        "        yaxis=dict(\n",
        "            title='Average Salary'\n",
        "        ),\n",
        "        zaxis=dict(\n",
        "            title='Percentage White'\n",
        "        )\n",
        "    )\n",
        ")\n",
        "fig = go.Figure(data=my_data, layout=my_layout)\n",
        "fig\n",
        "# py.iplot(fig, filename='univ_vis') #if using a text editor call py.plot(fig, filename='univ_vis')"
      ],
      "execution_count": 19,
      "outputs": [
        {
          "output_type": "display_data",
          "data": {
            "text/html": [
              "<html>\n",
              "<head><meta charset=\"utf-8\" /></head>\n",
              "<body>\n",
              "    <div>\n",
              "            <script src=\"https://cdnjs.cloudflare.com/ajax/libs/mathjax/2.7.5/MathJax.js?config=TeX-AMS-MML_SVG\"></script><script type=\"text/javascript\">if (window.MathJax) {MathJax.Hub.Config({SVG: {font: \"STIX-Web\"}});}</script>\n",
              "                <script type=\"text/javascript\">window.PlotlyConfig = {MathJaxConfig: 'local'};</script>\n",
              "        <script src=\"https://cdn.plot.ly/plotly-latest.min.js\"></script>    \n",
              "            <div id=\"4c4142e2-7cf6-4865-b8f7-525057efe297\" class=\"plotly-graph-div\" style=\"height:525px; width:100%;\"></div>\n",
              "            <script type=\"text/javascript\">\n",
              "                \n",
              "                    window.PLOTLYENV=window.PLOTLYENV || {};\n",
              "                    \n",
              "                if (document.getElementById(\"4c4142e2-7cf6-4865-b8f7-525057efe297\")) {\n",
              "                    Plotly.newPlot(\n",
              "                        '4c4142e2-7cf6-4865-b8f7-525057efe297',\n",
              "                        [{\"marker\": {\"color\": [0.034, 0.5863, 0.7024, 0.0165, 0.7807, 0.5355, 0.8420000000000001, 0.7912, 0.3996, 0.631, 0.6981, 0.7802, 0.4511, 0.6067, 0.6159, 0.7164, 0.7102, 0.0047, 0.8143, 0.5896, 0.6852, 0.5828, 0.0581, 0.5345, 0.0044, 0.4208, 0.5512, 0.523, 0.665, 0.5606, 0.5158, 0.7481, 0.7722, 0.0439, 0.7431, 0.7285, 0.6574, 0.6667, 0.8301, 0.6586, 0.7782, 0.7441, 0.8498, 0.6563, 0.7508, 0.8306, 0.6327, 0.4375, 0.4895, 0.3916, 0.2737, 0.4925, 0.575, 0.1409, 0.1936, 0.4601, 0.2134, 0.2211, 0.1881, 0.0714, 0.2278, 0.29, 0.2689, 0.2832, 0.1493, 0.2714, 0.1321, 0.2144, 0.3454, 0.3301, 0.584, 0.4498, 0.4641, 0.4226, 0.3652, 0.354, 0.38299999999999995, 0.2115, 0.4491, 0.4846, 0.2245, 0.1371, 0.6492, 0.4489, 0.2895, 0.4765, 0.3529, 0.0932, 0.2516, 0.4887, 0.2457, 0.4199, 0.2566, 0.2726, 0.4738, 0.5856, 0.3976, 0.4751, 0.3414, 0.5332, 0.2062, 0.2703, 0.6578, 0.1922, 0.4869, 0.4835, 0.5954, 0.4633, 0.4795, 0.4531, 0.1294, 0.4013, 0.6976, 0.6366, 0.3135, 0.3398, 0.4935, 0.5063, 0.6652, 0.7059, 0.7471, 0.7365, 0.6747, 0.5187, 0.7006, 0.5835, 0.5554, 0.5922, 0.4845, 0.7455, 0.2358, 0.6478, 0.606, 0.5567, 0.5931, 0.3959, 0.7661, 0.5354, 0.5725, 0.5598, 0.4651, 0.1104, 0.7436, 0.371, 0.5816, 0.4863, 0.5627, 0.5785, 0.0169, 0.7899, 0.2128, 0.4415, 0.5871, 0.5325, 0.7587, 0.0441, 0.0322, 0.4314, 0.7744, 0.7755, 0.4278, 0.419, 0.0945, 0.7396, 0.6438, 0.569, 0.12, 0.4187, 0.6863, 0.3143, 0.6162, 0.5137, 0.1032, 0.6175, 0.5917, 0.6114, 0.5074, 0.4006, 0.3715, 0.6526, 0.7899, 0.0427, 0.5702, 0.4435, 0.0004, 0.8109, 0.5064, 0.6623, 0.5143, 0.8669, 0.6723, 0.4058, 0.0171, 0.5082, 0.6228, 0.8486, 0.6236, 0.2636, 0.7115, 0.5006, 0.6818, 0.4763, 0.0014, 0.336, 0.0218, 0.7095, 0.6834, 0.5395, 0.0389, 0.6186, 0.0005, 0.7633, 0.8378, 0.5063, 0.4997, 0.7599, 0.1765, 0.2218, 0.1745, 0.8811, 0.7368, 0.7585, 0.8178, 0.7496, 0.7889, 0.3633, 0.5641, 0.7979, 0.6413, 0.0273, 0.4451, 0.5356, 0.6804, 0.6701, 0.8394, 0.3642, 0.6248, 0.9979, 0.3403, 0.4816, 0.7132, 0.3257, 0.769, 0.5818, 0.639, 0.7984, 0.4544, 0.5814, 0.7434, 0.6793, 0.7321, 0.6257, 0.706, 0.4942, 0.5718, 0.5037, 0.3346, 0.7934, 0.6986, 0.6689, 0.4495, 0.3784, 0.6742, 0.4488, 0.6255, 0.6371, 0.7315, 0.6502, 0.6313, 0.6214, 0.7559999999999999, 0.804, 0.8109999999999999, 0.7611, 0.8178, 0.7052, 0.7289, 0.8429, 0.6548, 0.7897, 0.8172, 0.6544, 0.8575, 0.8206, 0.7151, 0.7043, 0.3515, 0.8707, 0.6554, 0.8434, 0.7392, 0.7119, 0.5514, 0.8464, 0.8714, 0.8048, 0.7191, 0.7264, 0.6921, 0.6971, 0.5474, 0.8075, 0.7378, 0.8115, 0.7996, 0.7513, 0.7819, 0.8981, 0.8564, 0.7933, 0.7206, 0.7356, 0.8009, 0.8735, 0.8484, 0.7442, 0.6618, 0.731, 0.7929, 0.627, 0.75, 0.9065, 0.6089, 0.7231, 0.5628, 0.7576, 0.5165, 0.6729999999999999, 0.8352, 0.8395, 0.7912, 0.8065, 0.8347, 0.8284, 0.7959999999999999, 0.8819, 0.6626, 0.6577, 0.7722, 0.7085, 0.7998, 0.6016, 0.6981, 0.6825, 0.0, 0.7239, 0.6652, 0.6887, 0.7687, 0.6983, 0.6042, 0.5736, 0.5413, 0.6793, 0.6413, 0.6292, 0.9513, 0.8129, 0.8498, 0.6014, 0.6598, 0.7269, 0.7779, 0.7613, 0.8499, 0.7908, 0.2691, 0.7337, 0.7622, 0.6786, 0.7595, 0.8949, 0.8113, 0.8228, 0.8095, 0.7328, 0.6747, 0.7576, 0.7154, 0.7629, 0.6692, 0.0008, 0.0107, 0.6656, 0.7288, 0.5708, 0.6277, 0.6844, 0.5101, 0.6744, 0.5381, 0.6779999999999999, 0.621, 0.5427, 0.601, 0.6406, 0.0235, 0.0318, 0.6687, 0.6956, 0.0358, 0.9620000000000001, 0.616, 0.7475, 0.8240000000000001, 0.9122, 0.7952, 0.5453, 0.8169, 0.3378, 0.0263, 0.4349, 0.1569, 0.0163, 0.5503, 0.4128, 0.4357, 0.5216, 0.4813, 0.0957, 0.0181, 0.6821, 0.5554, 0.7144, 0.6052, 0.5727, 0.6956, 0.3904, 0.4212, 0.3839, 0.9155, 0.7028, 0.619, 0.6171, 0.4304, 0.4693, 0.7751, 0.6916, 0.5253, 0.6669, 0.7324, 0.7183, 0.7248, 0.4399, 0.7215, 0.6712, 0.6351, 0.6702, 0.3623, 0.4168, 0.6308, 0.3657, 0.8712, 0.6219, 0.7372, 0.4787, 0.5623, 0.0469, 0.6674, 0.8149, 0.6384, 0.4021, 0.5817, 0.3959, 0.6026, 0.7333, 0.7732, 0.6044, 0.5357, 0.7102, 0.7207, 0.7669, 0.8283, 0.2882, 0.8227, 0.7368, 0.7876, 0.7912, 0.7834, 0.5839, 0.6466, 0.6501, 0.7885, 0.758, 0.7777, 0.8258, 0.8374, 0.8009999999999999, 0.604, 0.6327, 0.1731, 0.599, 0.6156, 0.6742, 0.8609, 0.6920000000000001, 0.6659999999999999, 0.8498, 0.6698, 0.7556, 0.7492, 0.8039, 0.7076, 0.5963, 0.7693, 0.6482, 0.5691, 0.7236, 0.5296, 0.8521, 0.8801, 0.7774, 0.6336, 0.9344, 0.7217, 0.6552, 0.7625, 0.6971, 0.7818, 0.5898, 0.8582, 0.6198, 0.7776, 0.7907, 0.8388, 0.8496, 0.7916, 0.7271, 0.8042, 0.5899, 0.7454, 0.7423, 0.8292, 0.8117, 0.6374, 0.7957, 0.8674, 0.0271, 0.8555, 0.5713, 0.0409, 0.7358, 0.7816, 0.5666, 0.0277, 0.6653, 0.7211, 0.0047, 0.6091, 0.0047, 0.5984, 0.5895, 0.7965, 0.8229, 0.7828, 0.7667, 0.3111, 0.6012, 0.7081, 0.7979, 0.7806, 0.7099, 0.6293, 0.5621, 0.754, 0.6885, 0.7724, 0.787, 0.5764, 0.7815, 0.6251, 0.7989, 0.7863, 0.9278, 0.7241, 0.6804, 0.6144, 0.5655, 0.8296, 0.6944, 0.7748, 0.8085, 0.5454, 0.5994, 0.6543, 0.7806, 0.7076, 0.8634, 0.8046, 0.7597, 0.8565, 0.792, 0.7478, 0.7781, 0.7642, 0.912, 0.7546, 0.71, 0.8177, 0.7026, 0.8005, 0.7908, 0.8549, 0.4434, 0.6888, 0.8456, 0.7709, 0.5472, 0.9407, 0.599, 0.35200000000000004, 0.6047, 0.7269, 0.4874, 0.755, 0.8076, 0.865, 0.7414, 0.0965, 0.3928, 0.5549, 0.253, 0.3013, 0.5764, 0.5865, 0.6887, 0.22899999999999998, 0.36, 0.7436, 0.3348, 0.4454, 0.6404, 0.6247, 0.5479, 0.4157, 0.24600000000000002, 0.1766, 0.5079, 0.3213, 0.66, 0.7203, 0.6559999999999999, 0.4336, 0.1502, 0.4591, 0.3333, 0.3178, 0.042, 0.5346, 0.3029, 0.354, 0.4865, 0.3635, 0.1515, 0.29600000000000004, 0.2569, 0.2347, 0.545, 0.6523, 0.6602, 0.5315, 0.7273, 0.8367, 0.6687, 0.3798, 0.3375, 0.4093, 0.2269, 0.3268, 0.1497, 0.2665, 0.1792, 0.062, 0.2911, 0.0625, 0.7411, 0.3253, 0.5928, 0.7771, 0.5779, 0.5518, 0.7978, 0.2005, 0.4589, 0.4, 0.5699, 0.5653, 0.5766, 0.5989, 0.6145, 0.268, 0.0688, 0.3371, 0.6818, 0.2007, 0.479, 0.2026, 0.5042, 0.4032, 0.5907, 0.7441, 0.6579999999999999, 0.6897, 0.3991, 0.5188, 0.6365, 0.6134, 0.8433, 0.3423, 0.7609999999999999, 0.7070000000000001, 0.6046, 0.6849, 0.489, 0.5584, 0.47700000000000004, 0.3621, 0.8184, 0.7892, 0.7164, 0.5138, 0.7805, 0.7435, 0.6347, 0.7847, 0.7539, 0.5473, 0.3044, 0.6802, 0.7133, 0.5546, 0.7478, 0.5928, 0.3404, 0.6241, 0.9372, 0.8471, 0.5569, 0.4507, 0.8794, 0.6162, 0.6898, 0.1684, 0.6796, 0.46299999999999997, 0.6868, 0.1449, 0.8159, 0.1866, 0.6664, 0.529, 0.7941, 0.408, 0.0036, 0.6856, 0.0032, 0.2401, 0.6807, 0.7075, 0.4758, 0.6354, 0.5035, 0.0467, 0.8043, 0.637, 0.5977, 0.5238, 0.0647, 0.7188, 0.7382, 0.3177, 0.7812, 0.4509, 0.3656, 0.5193, 0.769, 0.5487, 0.6847, 0.0111, 0.5456, 0.4839, 0.7583, 0.6511, 0.1554, 0.7936, 0.7601, 0.7793, 0.84, 0.6663, 0.8254, 0.8647, 0.7419, 0.8131, 0.7423, 0.8522, 0.7879, 0.7679, 0.8895, 0.8463, 0.8258, 0.7753, 0.7468, 0.5164, 0.868, 0.013999999999999999, 0.7965, 0.7451, 0.7476, 0.8104, 0.5985, 0.6867, 0.6376, 0.7825, 0.7994, 0.7988, 0.852, 0.7636, 0.6811, 0.8567, 0.8473, 0.845, 0.8273, 0.8079999999999999, 0.8855, 0.8837, 0.7478, 0.7732, 0.7303, 0.7741, 0.7378, 0.8415, 0.7012, 0.7844, 0.7905, 0.7745, 0.8595, 0.8244, 0.8493, 0.7842, 0.5956, 0.6813, 0.6134, 0.8445, 0.9363, 0.8545, 0.7776, 0.8238, 0.7206, 0.7105, 0.8636, 0.8779, 0.8893, 0.8711, 0.8303, 0.8749, 0.9722, 0.7597, 0.8286, 0.6909, 0.5696, 0.6209, 0.0119, 0.8004, 0.6876, 0.7211, 0.9002, 0.7170000000000001, 0.7568, 0.1267, 0.5938, 0.5683, 0.5516, 0.5318, 0.4966, 0.6253, 0.7274, 0.6886, 0.5925, 0.6964, 0.7056, 0.6086, 0.6183, 0.4876, 0.5788, 0.6271, 0.5536, 0.4384, 0.6673, 0.5577, 0.643, 0.7613, 0.6845, 0.5995, 0.7727, 0.7203, 0.6661, 0.5971, 0.5239, 0.5885, 0.6079, 0.6046, 0.6026, 0.7447, 0.6171, 0.6614, 0.7455, 0.6895, 0.6809, 0.797, 0.3565, 0.7675, 0.7743, 0.6137, 0.3171, 0.6221, 0.6009, 0.395, 0.83, 0.76, 0.5426, 0.8141, 0.6639, 0.5016, 0.8127, 0.8604, 0.7621, 0.8417, 0.568, 0.607, 0.625, 0.7389, 0.7509999999999999, 0.7721, 0.7737, 0.6181, 0.5293, 0.6655, 0.4805, 0.6563, 0.0112, 0.8422, 0.9789, 0.6976, 0.4106, 0.8232, 0.7857, 0.8274, 0.7642, 0.9184, 0.7167, 0.7806, 0.5441, 0.7867, 0.8712, 0.8463, 0.8783, 0.8118, 0.6365, 0.7656, 0.7543, 0.6803, 0.589, 0.629, 0.9375, 0.8867, 0.6016, 0.6861, 0.6053, 0.8047, 0.5049, 0.6875, 0.6257, 0.4495, 0.5499, 0.6161, 0.7189, 0.415, 0.7319, 0.78, 0.8738, 0.7449, 0.6784, 0.7111, 0.8011, 0.7509, 0.3837, 0.465, 0.8471, 0.8189, 0.9714, 0.7815, 0.8582, 0.4221, 0.7905, 0.565, 0.3234, 0.7444, 0.9149, 0.779, 0.7724, 0.6976, 0.7269, 0.659, 0.8267, 0.4294, 0.6165, 0.7066, 0.3138, 0.8283, 0.6112, 0.8032, 0.7668, 0.0108, 0.8346, 0.5225, 0.7153, 0.5473, 0.6990000000000001, 0.6748, 0.4573, 0.5764, 0.4237, 0.5916, 0.8038, 0.7747, 0.5768, 0.5717, 0.7684, 0.5882, 0.551, 0.4568, 0.2505, 0.6848, 0.0245, 0.5595, 0.5709, 0.5802, 0.8094, 0.8439, 0.8305, 0.8434, 0.8818, 0.8051, 0.8258, 0.6782, 0.8392, 0.8831, 0.8911, 0.8540000000000001, 0.6925, 0.6302, 0.5102, 0.7994, 0.4618, 0.8223, 0.8328, 0.4339, 0.6276, 0.7652, 0.8215, 0.0074, 0.8508, 0.775, 0.7333, 0.8703, 0.8137, 0.0145, 0.0011, 0.7878, 0.8270000000000001, 0.7788, 0.5019, 0.6447, 0.7440000000000001, 0.8712, 0.7751, 0.7483, 0.7897, 0.7655, 0.8140000000000001, 0.6884, 0.74, 0.7034, 0.5491, 0.6449, 0.5138, 0.5255, 0.6408, 0.512, 0.3793, 0.5988, 0.4381, 0.6512, 0.6435, 0.6285, 0.4988, 0.7098, 0.2705, 0.4294, 0.1655, 0.2571, 0.6112, 0.0517, 0.1936, 0.4761, 0.0202, 0.6591, 0.6676, 0.5657, 0.521, 0.523, 0.4656, 0.1875, 0.1268, 0.0288, 0.019, 0.0274, 0.3707, 0.3731, 0.2767, 0.5254, 0.5543, 0.1453, 0.6531, 0.629, 0.6158, 0.5743, 0.4906, 0.2058, 0.2346, 0.6835, 0.1773, 0.6455, 0.39899999999999997, 0.4427, 0.3744, 0.0656, 0.5767, 0.7349, 0.5462, 0.4009, 0.2498, 0.024, 0.6004, 0.2994, 0.3908, 0.5513, 0.4214, 0.5998, 0.8327, 0.3672, 0.7726, 0.8057, 0.7, 0.7269, 0.8339, 0.7008, 0.807, 0.825, 0.6479, 0.5081, 0.8191, 0.5772, 0.6459, 0.7345, 0.5906, 0.5837, 0.7423, 0.7307, 0.7094, 0.5211, 0.4339, 0.8086, 0.0191, 0.6397, 0.7597, 0.4639, 0.7547, 0.7277, 0.5842, 0.703, 0.4043, 0.0456, 0.4664, 0.7829, 0.6767, 0.5941, 0.82, 0.5861, 0.7995, 0.7076, 0.7789, 0.6774, 0.4964, 0.6027, 0.8026, 0.0261, 0.0146, 0.5392, 0.8227, 0.5896, 0.6656, 0.6545, 0.7243, 0.6919, 0.675, 0.5392, 0.6073, 0.445, 0.6921, 0.6266, 0.4245, 0.7282, 0.7249, 0.7251, 0.9653, 0.5114, 0.8526, 0.5762, 0.8590000000000001, 0.6444, 0.8619, 0.6766, 0.8436, 0.6912, 0.8151, 0.6458, 0.7929, 0.7151, 0.787, 0.8062, 0.7529, 0.5236, 0.9308, 0.5413, 0.833, 0.7498, 0.7228, 0.7958, 0.7741, 0.8231, 0.7269, 0.6555, 0.4884, 0.8282, 0.8348, 0.8869, 0.8170000000000001, 0.8942, 0.8196, 0.8925, 0.8568, 0.8965, 0.8314, 0.8654, 0.6845, 0.8735, 0.8086, 0.762, 0.6772, 0.9048, 0.8871, 0.8664, 0.7625, 0.0539, 0.3737, 0.6464, 0.6825, 0.3017, 0.4189, 0.43200000000000005, 0.4353, 0.6937, 0.5051, 0.8606, 0.9292, 0.8887, 0.5529999999999999, 0.9588, 0.6582, 0.5306, 0.6943, 0.4147, 0.6257, 0.6208, 0.7775, 0.4055, 0.6184, 0.8462, 0.8168, 0.2153, 0.6511, 0.5218, 0.3793, 0.7179, 0.7152, 0.7861, 0.3059, 0.1953, 0.7142, 0.8399, 0.5239, 0.5431, 0.5372, 0.7651, 0.4227, 0.6391], \"colorscale\": [[0.0, \"#440154\"], [0.1111111111111111, \"#482878\"], [0.2222222222222222, \"#3e4989\"], [0.3333333333333333, \"#31688e\"], [0.4444444444444444, \"#26828e\"], [0.5555555555555556, \"#1f9e89\"], [0.6666666666666666, \"#35b779\"], [0.7777777777777778, \"#6ece58\"], [0.8888888888888888, \"#b5de2b\"], [1.0, \"#fde725\"]], \"opacity\": 0.8, \"size\": 4}, \"mode\": \"markers\", \"text\": [\"Alabama A & M University\", \"University of Alabama at Birmingham\", \"University of Alabama in Huntsville\", \"Alabama State University\", \"The University of Alabama\", \"Auburn University at Montgomery\", \"Auburn University\", \"Birmingham Southern College\", \"Faulkner University\", \"Huntingdon College\", \"Jacksonville State University\", \"Judson College\", \"University of West Alabama\", \"Marion Military Institute\", \"University of Mobile\", \"University of Montevallo\", \"University of North Alabama\", \"Oakwood University\", \"Samford University\", \"University of South Alabama\", \"Spring Hill College\", \"Southeastern Bible College\", \"Stillman College\", \"Troy University\", \"Tuskegee University\", \"University of Alaska Fairbanks\", \"Alaska Pacific University\", \"Arizona State University-Tempe\", \"Prescott College\", \"Arizona Christian University\", \"University of Arkansas at Little Rock\", \"Lyon College\", \"University of Arkansas\", \"University of Arkansas at Pine Bluff\", \"Arkansas State University-Main Campus\", \"Baptist Health College-Little Rock\", \"University of Central Arkansas\", \"Central Baptist College\", \"Harding University\", \"Henderson State University\", \"Hendrix College\", \"John Brown University\", \"Ouachita Baptist University\", \"University of the Ozarks\", \"University of Arkansas Community College-Morrilton\", \"Williams Baptist College\", \"Southern Arkansas University Main Campus\", \"Azusa Pacific University\", \"Biola University\", \"California Baptist University\", \"California Institute of Technology\", \"California Lutheran University\", \"California Polytechnic State University-San Luis Obispo\", \"California State University-San Bernardino\", \"California State Polytechnic University-Pomona\", \"California State University-Chico\", \"California State University-Fresno\", \"California State University-Fullerton\", \"California State University-Long Beach\", \"California State University-Los Angeles\", \"California State University-Northridge\", \"California State University-Sacramento\", \"University of California-Berkeley\", \"University of California-Davis\", \"University of California-Irvine\", \"University of California-Los Angeles\", \"University of California-Riverside\", \"University of California-San Diego\", \"University of California-Santa Barbara\", \"University of California-Santa Cruz\", \"Chapman University\", \"Concordia University-Irvine\", \"San Diego Christian College\", \"Claremont McKenna College\", \"Dominican University of California\", \"Fresno Pacific University\", \"Harvey Mudd College\", \"Holy Names University\", \"Humboldt State University\", \"Life Pacific College\", \"University of La Verne\", \"La Sierra University\", \"The Master's University and Seminary\", \"Loyola Marymount University\", \"Menlo College\", \"Mills College\", \"Middlebury Institute of International Studies at Monterey\", \"Mount Saint Mary's University\", \"Notre Dame de Namur University\", \"Occidental College\", \"Otis College of Art and Design\", \"Hope International University\", \"Pacific Union College\", \"University of the Pacific\", \"Pepperdine University\", \"Point Loma Nazarene University\", \"Pomona College\", \"University of Redlands\", \"San Diego State University\", \"University of San Diego\", \"San Francisco State University\", \"University of San Francisco\", \"William Jessup University\", \"San Jose State University\", \"Santa Clara University\", \"Scripps College\", \"Simpson University\", \"Saint Mary's College of California\", \"Sonoma State University\", \"Vanguard University of Southern California\", \"Southern California Institute of Architecture\", \"University of Southern California\", \"Thomas Aquinas College\", \"Westmont College\", \"Whittier College\", \"Woodbury University\", \"Adams State University\", \"University of Colorado Denver/Anschutz Medical Campus\", \"University of Colorado Colorado Springs\", \"University of Colorado Boulder\", \"Colorado School of Mines\", \"Colorado State University-Fort Collins\", \"University of Denver\", \"Fort Lewis College\", \"Colorado Mesa University\", \"Metropolitan State University of Denver\", \"University of Northern Colorado\", \"Regis University\", \"Colorado State University-Pueblo\", \"Western State Colorado University\", \"University of Bridgeport\", \"Central Connecticut State University\", \"University of Connecticut\", \"University of Hartford\", \"University of New Haven\", \"Post University\", \"Quinnipiac University\", \"University of Saint Joseph\", \"St Vincent's College\", \"Southern Connecticut State University\", \"Yale University\", \"Delaware State University\", \"University of Delaware\", \"Wesley College\", \"American University\", \"Gallaudet University\", \"George Washington University\", \"Georgetown University\", \"Howard University\", \"The Baptist College of Florida\", \"Barry University\", \"Lynn University\", \"Johnson University Florida\", \"University of Central Florida\", \"Eckerd College\", \"Edward Waters College\", \"Florida Agricultural and Mechanical University\", \"Florida Atlantic University\", \"Flagler College-St Augustine\", \"Florida College\", \"Adventist University of Health Sciences\", \"Florida Institute of Technology\", \"Florida International University\", \"Florida Southern College\", \"Florida State University\", \"University of Florida\", \"Trinity International University-Florida\", \"University of Miami\", \"University of North Florida\", \"Nova Southeastern University\", \"Palm Beach Atlantic University\", \"University of South Florida-Main Campus\", \"St Thomas University\", \"Southeastern University\", \"The University of Tampa\", \"Trinity Baptist College\", \"Trinity College of Florida\", \"Warner University\", \"Webber International University\", \"The University of West Florida\", \"Abraham Baldwin Agricultural College\", \"Albany State University\", \"Armstrong State University\", \"Point University\", \"Clark Atlanta University\", \"Berry College\", \"Brenau University\", \"College of Coastal Georgia\", \"Columbus State University\", \"Covenant College\", \"Emmanuel College\", \"Emory University\", \"Fort Valley State University\", \"Georgia Institute of Technology-Main Campus\", \"Georgia Southwestern State University\", \"Georgia College and State University\", \"Georgia Southern University\", \"Georgia State University\", \"University of Georgia\", \"Gordon State College\", \"LaGrange College\", \"Mercer University\", \"Morehouse College\", \"Oglethorpe University\", \"Paine College\", \"Piedmont College\", \"Reinhardt University\", \"Savannah College of Art and Design\", \"Savannah State University\", \"Shorter University\", \"Spelman College\", \"Toccoa Falls College\", \"Truett McConnell University\", \"Valdosta State University\", \"University of West Georgia\", \"Young Harris College\", \"Chaminade University of Honolulu\", \"University of Hawaii at Hilo\", \"University of Hawaii at Manoa\", \"Boise Bible College\", \"Boise State University\", \"University of Idaho\", \"Lewis-Clark State College\", \"Northwest Nazarene University\", \"Brigham Young University-Idaho\", \"School of the Art Institute of Chicago\", \"Aurora University\", \"Blackburn College\", \"Bradley University\", \"Chicago State University\", \"University of Chicago\", \"Concordia University-Chicago\", \"Eastern Illinois University\", \"Elmhurst College\", \"Eureka College\", \"Governors State University\", \"Greenville College\", \"Hebrew Theological College\", \"University of Illinois at Chicago\", \"University of Illinois at Urbana-Champaign\", \"Illinois Wesleyan University\", \"Illinois Institute of Technology\", \"Illinois State University\", \"Judson University\", \"Lewis University\", \"Lincoln Christian University\", \"Lincoln College\", \"Loyola University Chicago\", \"MacMurray College\", \"McKendree University\", \"Millikin University\", \"Monmouth College\", \"North Central College\", \"North Park University\", \"Northern Illinois University\", \"Northwestern University\", \"Northeastern Illinois University\", \"Olivet Nazarene University\", \"Quincy University\", \"Rockford University\", \"Roosevelt University\", \"Dominican University\", \"University of St Francis\", \"Saint Xavier University\", \"University of Illinois at Springfield\", \"Southern Illinois University-Carbondale\", \"Southern Illinois University-Edwardsville\", \"Trinity Christian College\", \"Trinity International University-Illinois\", \"Western Illinois University\", \"Wheaton College\", \"Anderson University\", \"Ball State University\", \"Bethel College-Indiana\", \"Butler University\", \"DePauw University\", \"University of Evansville\", \"Franklin College\", \"Goshen College\", \"Grace College and Theological Seminary\", \"Hanover College\", \"Holy Cross College\", \"Huntington University\", \"Indiana University-Purdue University-Fort Wayne\", \"Indiana University-Purdue University-Indianapolis\", \"University of Indianapolis\", \"Indiana Institute of Technology\", \"University of Southern Indiana\", \"Indiana State University\", \"Indiana University-Kokomo\", \"Indiana University-South Bend\", \"Indiana University-Bloomington\", \"Indiana University-Northwest\", \"Indiana University-Southeast\", \"Indiana University-East\", \"Manchester University\", \"Marian University\", \"Indiana Wesleyan University-Marion\", \"University of Notre Dame\", \"Oakland City University\", \"Purdue University-Calumet Campus\", \"Purdue University-North Central Campus\", \"Rose-Hulman Institute of Technology\", \"University of Saint Francis-Fort Wayne\", \"Saint Josephs College\", \"Saint Mary-of-the-Woods College\", \"Saint Mary's College\", \"Saint Elizabeth School of Nursing\", \"Taylor University\", \"Trine University\", \"Valparaiso University\", \"Wabash College\", \"Buena Vista University\", \"Central College\", \"Clarke University\", \"Coe College\", \"Cornell College\", \"Dordt College\", \"Drake University\", \"University of Dubuque\", \"Emmaus Bible College\", \"Faith Baptist Bible College and Theological Seminary\", \"Graceland University-Lamoni\", \"Grand View University\", \"Grinnell College\", \"Iowa State University\", \"Iowa Wesleyan University\", \"University of Iowa\", \"Loras College\", \"Luther College\", \"Morningside College\", \"Mount Mercy University\", \"University of Northern Iowa\", \"Northwestern College\", \"Saint Ambrose University\", \"Simpson College\", \"Upper Iowa University\", \"Waldorf University\", \"Wartburg College\", \"Baker University\", \"Benedictine College\", \"Bethany College\", \"Emporia State University\", \"Friends University\", \"Haskell Indian Nations University\", \"University of Kansas\", \"Newman University\", \"Kansas Wesleyan University\", \"Manhattan Christian College\", \"McPherson College\", \"MidAmerica Nazarene University\", \"University of Saint Mary\", \"Southwestern College\", \"Sterling College\", \"Tabor College\", \"Wichita State University\", \"Alice Lloyd College\", \"Asbury University\", \"Bellarmine University\", \"Berea College\", \"Brescia University\", \"Campbellsville University\", \"Centre College\", \"University of the Cumberlands\", \"Eastern Kentucky University\", \"Georgetown College\", \"Kentucky State University\", \"Kentucky Wesleyan College\", \"University of Kentucky\", \"Kentucky Christian University\", \"University of Louisville\", \"Morehead State University\", \"Murray State University\", \"Northern Kentucky University\", \"University of Pikeville\", \"Saint Catharine College\", \"Spalding University\", \"Thomas More College\", \"Union College\", \"Western Kentucky University\", \"Centenary College of Louisiana\", \"Dillard University\", \"Grambling State University\", \"Louisiana State University-Alexandria\", \"Louisiana State University and Agricultural & Mechanical College\", \"Louisiana State University-Shreveport\", \"Louisiana College\", \"Louisiana Tech University\", \"Loyola University New Orleans\", \"McNeese State University\", \"University of New Orleans\", \"Nicholls State University\", \"University of Louisiana at Monroe\", \"Northwestern State University of Louisiana\", \"Our Lady of the Lake College\", \"Southeastern Louisiana University\", \"Southern University and A & M College\", \"Southern University at New Orleans\", \"University of Louisiana at Lafayette\", \"Tulane University of Louisiana\", \"Xavier University of Louisiana\", \"Maine College of Health Professions\", \"Colby College\", \"University of Maine at Fort Kent\", \"University of Maine\", \"Maine Maritime Academy\", \"University of New England\", \"Saint Joseph's College of Maine\", \"University of Southern Maine\", \"University of Baltimore\", \"Bowie State University\", \"Capitol Technology University\", \"Washington Adventist University\", \"Coppin State University\", \"Frostburg State University\", \"Johns Hopkins University\", \"University of Maryland-Baltimore County\", \"University of Maryland-College Park\", \"Maryland Institute College of Art\", \"University of Maryland Eastern Shore\", \"Morgan State University\", \"Mount St Mary's University\", \"Notre Dame of Maryland University\", \"St Mary's College of Maryland\", \"Towson University\", \"Stevenson University\", \"McDaniel College\", \"American International College\", \"Amherst College\", \"Babson College\", \"Boston Baptist College\", \"Becker College\", \"Bentley University\", \"Boston College\", \"Boston University\", \"Brandeis University\", \"Bridgewater State University\", \"Curry College\", \"Eastern Nazarene College\", \"Emerson College\", \"Fitchburg State University\", \"Framingham State University\", \"Gordon College\", \"Harvard University\", \"Lasell College\", \"Lesley University\", \"University of Massachusetts-Lowell\", \"University of Massachusetts-Amherst\", \"University of Massachusetts-Boston\", \"MCPHS University\", \"Massachusetts College of Art and Design\", \"Massachusetts Institute of Technology\", \"Massachusetts Maritime Academy\", \"Mount Ida College\", \"Massachusetts College of Liberal Arts\", \"Northeastern University\", \"College of Our Lady of the Elms\", \"Pine Manor College\", \"Simmons College\", \"Springfield College\", \"University of Massachusetts-Dartmouth\", \"Suffolk University\", \"Tufts University\", \"Wellesley College\", \"Wentworth Institute of Technology\", \"Western New England University\", \"Westfield State University\", \"Wheelock College\", \"Williams College\", \"Worcester State University\", \"Adrian College\", \"Albion College\", \"Alma College\", \"Andrews University\", \"Aquinas College\", \"Calvin College\", \"Central Michigan University\", \"Cleary University\", \"Concordia University-Ann Arbor\", \"College for Creative Studies\", \"University of Detroit Mercy\", \"Eastern Michigan University\", \"Ferris State University\", \"Kettering University\", \"Cornerstone University\", \"Grand Valley State University\", \"Hope College\", \"Lake Superior State University\", \"Lawrence Technological University\", \"Madonna University\", \"Marygrove College\", \"Rochester College\", \"University of Michigan-Ann Arbor\", \"Michigan State University\", \"Michigan Technological University\", \"University of Michigan-Dearborn\", \"University of Michigan-Flint\", \"Northern Michigan University\", \"Northwood University\", \"Oakland University\", \"Olivet College\", \"Kuyper College\", \"Saginaw Valley State University\", \"Siena Heights University\", \"Spring Arbor University\", \"Finlandia University\", \"Wayne State University\", \"Western Michigan University\", \"Augsburg College\", \"Bemidji State University\", \"Bethany Lutheran College\", \"Bethel University\", \"Carleton College\", \"Martin Luther College\", \"Hamline University\", \"Macalester College\", \"Minnesota State University-Mankato\", \"University of Minnesota-Twin Cities\", \"University of Minnesota-Crookston\", \"Minneapolis College of Art and Design\", \"University of Minnesota-Duluth\", \"University of Minnesota-Morris\", \"Minnesota State University Moorhead\", \"North Central University\", \"University of Northwestern-St Paul\", \"Oak Hills Christian College\", \"College of Saint Benedict\", \"Saint Cloud State University\", \"Saint Johns University\", \"Saint Mary's University of Minnesota\", \"St Olaf College\", \"Crown College\", \"The College of Saint Scholastica\", \"University of St Thomas\", \"St Catherine University\", \"Southwest Minnesota State University\", \"Winona State University\", \"Alcorn State University\", \"Blue Mountain College\", \"Delta State University\", \"Jackson State University\", \"Millsaps College\", \"University of Mississippi\", \"Mississippi University for Women\", \"Mississippi Valley State University\", \"Mississippi College\", \"Mississippi State University\", \"Rust College\", \"University of Southern Mississippi\", \"Tougaloo College\", \"William Carey University\", \"Avila University\", \"Calvary University\", \"Central Christian College of the Bible\", \"Central Methodist University-College of Liberal Arts and Sciences\", \"University of Central Missouri\", \"Cleveland University-Kansas City\", \"Cottey College\", \"Culver-Stockton College\", \"Drury University\", \"Evangel University\", \"Fontbonne University\", \"Kansas City Art Institute\", \"Lindenwood University\", \"Maryville University of Saint Louis\", \"Missouri Baptist University\", \"Missouri Southern State University\", \"University of Missouri-Columbia\", \"University of Missouri-Kansas City\", \"Missouri University of Science and Technology\", \"University of Missouri-St Louis\", \"Truman State University\", \"Northwest Missouri State University\", \"College of the Ozarks\", \"Rockhurst University\", \"Saint Louis University\", \"Saint Louis Christian College\", \"St Louis College of Pharmacy\", \"Southwest Baptist University\", \"Stephens College\", \"Southeast Missouri State University\", \"Missouri State University-Springfield\", \"Washington University in St Louis\", \"Webster University\", \"Westminster College\", \"William Jewell College\", \"William Woods University\", \"Highlands College of Montana Tech\", \"Carroll College\", \"Montana Tech of the University of Montana\", \"Montana State University\", \"The University of Montana\", \"Montana State University-Northern\", \"Rocky Mountain College\", \"Clarkson College\", \"Bryan College of Health Sciences\", \"Concordia University-Nebraska\", \"Creighton University\", \"Doane University-Arts & Sciences\", \"Grace University\", \"Hastings College\", \"University of Nebraska at Kearney\", \"Nebraska Methodist College of Nursing & Allied Health\", \"Midland University\", \"University of Nebraska at Omaha\", \"Nebraska Wesleyan University\", \"University of Nebraska-Lincoln\", \"Union College\", \"Nebraska College of Technical Agriculture\", \"York College\", \"University of Nevada-Las Vegas\", \"University of Nevada-Reno\", \"Sierra Nevada College\", \"Dartmouth College\", \"Franklin Pierce University\", \"University of New Hampshire-Main Campus\", \"Keene State College\", \"University of New Hampshire at Manchester\", \"Bloomfield College\", \"Caldwell University\", \"Centenary University\", \"Fairleigh Dickinson University-Metropolitan Campus\", \"Felician University\", \"Fairleigh Dickinson University-Florham Campus\", \"Georgian Court University\", \"Rowan University\", \"New Jersey City University\", \"Kean University\", \"Monmouth University\", \"New Jersey Institute of Technology\", \"Princeton University\", \"Ramapo College of New Jersey\", \"Rider University\", \"Rutgers University-Camden\", \"Rutgers University-New Brunswick\", \"Rutgers University-Newark\", \"Saint Peter's University\", \"Seton Hall University\", \"College of Saint Elizabeth\", \"Stevens Institute of Technology\", \"Stockton University\", \"The College of New Jersey\", \"William Paterson University of New Jersey\", \"New Mexico State University-Dona Ana\", \"Eastern New Mexico University-Main Campus\", \"Eastern New Mexico University-Roswell Campus\", \"New Mexico Military Institute\", \"University of New Mexico-Gallup Campus\", \"New Mexico Institute of Mining and Technology\", \"University of New Mexico-Los Alamos Campus\", \"University of New Mexico-Main Campus\", \"New Mexico State University-Alamogordo\", \"New Mexico State University-Carlsbad\", \"New Mexico State University-Grants\", \"New Mexico State University-Main Campus\", \"University of New Mexico-Valencia County Campus\", \"University of New Mexico-Taos Campus\", \"Adelphi University\", \"Albany College of Pharmacy and Health Sciences\", \"Alfred University\", \"Barnard College\", \"Canisius College\", \"Clarkson University\", \"Colgate University\", \"Columbia University in the City of New York\", \"Concordia College-New York\", \"Cornell University\", \"CUNY Bernard M Baruch College\", \"CUNY Brooklyn College\", \"CUNY City College\", \"CUNY Hunter College\", \"CUNY John Jay College of Criminal Justice\", \"CUNY Lehman College\", \"CUNY Queens College\", \"CUNY York College\", \"D'Youville College\", \"Dominican College of Blauvelt\", \"Fordham University\", \"Houghton College\", \"Iona College\", \"LIM College\", \"Le Moyne College\", \"LIU Brooklyn\", \"LIU Post\", \"LIU Brentwood\", \"Manhattan College\", \"Marymount Manhattan College\", \"Medaille College\", \"Molloy College\", \"Mount Saint Mary College\", \"College of Mount Saint Vincent\", \"The College of New Rochelle\", \"New York University\", \"Niagara University\", \"New York Institute of Technology\", \"New York School of Interior Design\", \"Nyack College\", \"Pace University-New York\", \"Pratt Institute-Main\", \"Rensselaer Polytechnic Institute\", \"Roberts Wesleyan College\", \"Rochester Institute of Technology\", \"St Bonaventure University\", \"St Francis College\", \"St. Thomas Aquinas College\", \"Skidmore College\", \"St. Joseph's College-New York\", \"Saint John Fisher College\", \"St John's University-New York\", \"SUNY College of Technology at Alfred\", \"SUNY College of Agriculture and Technology at Cobleskill\", \"Farmingdale State College\", \"Morrisville State College\", \"SUNY at Albany\", \"SUNY at Binghamton\", \"University at Buffalo\", \"Stony Brook University\", \"SUNY College of Environmental Science and Forestry\", \"SUNY Polytechnic Institute\", \"SUNY College at Brockport\", \"SUNY Buffalo State\", \"SUNY at Fredonia\", \"SUNY College at Geneseo\", \"State University of New York at New Paltz\", \"SUNY Oneonta\", \"SUNY College at Oswego\", \"SUNY at Purchase College\", \"SUNY College at Old Westbury\", \"SUNY College at Plattsburgh\", \"SUNY Maritime College\", \"Syracuse University\", \"United States Merchant Marine Academy\", \"Vassar College\", \"School of Visual Arts\", \"Wells College\", \"Yeshiva University\", \"Appalachian State University\", \"Barton College\", \"Belmont Abbey College\", \"Cabarrus College of Health Sciences\", \"Campbell University\", \"Catawba College\", \"Chowan University\", \"Davidson College\", \"Duke University\", \"East Carolina University\", \"Elizabeth City State University\", \"Elon University\", \"Fayetteville State University\", \"Gardner-Webb University\", \"Greensboro College\", \"High Point University\", \"John Wesley University\", \"Johnson C Smith University\", \"Lenoir-Rhyne University\", \"Livingstone College\", \"Louisburg College\", \"Mars Hill University\", \"Meredith College\", \"Methodist University\", \"Montreat College\", \"University of Mount Olive\", \"North Carolina A & T State University\", \"University of North Carolina at Asheville\", \"University of North Carolina at Chapel Hill\", \"University of North Carolina at Charlotte\", \"University of North Carolina at Greensboro\", \"North Carolina Central University\", \"University of North Carolina School of the Arts\", \"North Carolina State University at Raleigh\", \"North Carolina Wesleyan College\", \"University of North Carolina Wilmington\", \"William Peace University\", \"University of North Carolina at Pembroke\", \"Pfeiffer University\", \"Piedmont International University\", \"Queens University of Charlotte\", \"Mid-Atlantic Christian University\", \"Saint Augustine's University\", \"Salem College\", \"St Andrews University\", \"Warren Wilson College\", \"Wingate University\", \"Winston-Salem State University\", \"Western Carolina University\", \"Dickinson State University\", \"University of Jamestown\", \"University of Mary\", \"Minot State University\", \"University of North Dakota\", \"North Dakota State University-Main Campus\", \"Trinity Bible College and Graduate School\", \"Valley City State University\", \"University of Akron Main Campus\", \"University of Akron Wayne College\", \"Art Academy of Cincinnati\", \"Ashland University\", \"Aultman College of Nursing and Health Sciences\", \"Bluffton University\", \"Bowling Green State University-Firelands\", \"Bowling Green State University-Main Campus\", \"Capital University\", \"Case Western Reserve University\", \"Cedarville University\", \"Central State University\", \"The Christ College of Nursing and Health Sciences\", \"Cincinnati Christian University\", \"University of Cincinnati-Main Campus\", \"University of Cincinnati-Clermont College\", \"University of Cincinnati-Blue Ash College\", \"Cleveland Institute of Art\", \"Cleveland State University\", \"University of Dayton\", \"Defiance College\", \"The University of Findlay\", \"Good Samaritan College of Nursing and Health Science\", \"Heidelberg University\", \"Hiram College\", \"John Carroll University\", \"Kent State University at Ashtabula\", \"Kent State University at East Liverpool\", \"Kent State University at Stark\", \"Kent State University at Trumbull\", \"Kent State University at Tuscarawas\", \"Kent State University at Salem\", \"Kent State University at Kent\", \"Kent State University at Geauga\", \"Kenyon College\", \"Lake Erie College\", \"Lourdes University\", \"Malone University\", \"Marietta College\", \"Miami University-Hamilton\", \"Miami University-Middletown\", \"Miami University-Oxford\", \"Mount Carmel College of Nursing\", \"University of Mount Union\", \"Mount Vernon Nazarene University\", \"Muskingum University\", \"Notre Dame College\", \"Oberlin College\", \"Ohio Dominican University\", \"Ohio Northern University\", \"Ohio State University Agricultural Technical Institute\", \"Ohio State University-Lima Campus\", \"Ohio State University-Mansfield Campus\", \"Ohio State University-Marion Campus\", \"Ohio State University-Newark Campus\", \"Ohio State University-Main Campus\", \"Ohio University-Eastern Campus\", \"Ohio University-Chillicothe Campus\", \"Ohio University-Southern Campus\", \"Ohio University-Lancaster Campus\", \"Ohio University-Main Campus\", \"Ohio University-Zanesville Campus\", \"Trinity Health System School of Nursing\", \"Otterbein University\", \"Franciscan University of Steubenville\", \"University of Toledo\", \"Urbana University\", \"Ursuline College\", \"Wilberforce University\", \"Wilmington College\", \"The College of Wooster\", \"Wright State University-Main Campus\", \"Wright State University-Lake Campus\", \"Xavier University\", \"Youngstown State University\", \"Bacone College\", \"Oklahoma Wesleyan University\", \"University of Central Oklahoma\", \"East Central University\", \"Randall University\", \"Northeastern State University\", \"Northwestern Oklahoma State University\", \"Oklahoma Christian University\", \"University of Oklahoma-Health Sciences Center\", \"Oklahoma Panhandle State University\", \"Oklahoma State University-Main Campus\", \"Oklahoma Baptist University\", \"Oklahoma City University\", \"University of Oklahoma-Norman Campus\", \"Oral Roberts University\", \"Rogers State University\", \"University of Science and Arts of Oklahoma\", \"Southeastern Oklahoma State University\", \"Southwestern Christian University\", \"Southwestern Oklahoma State University\", \"University of Tulsa\", \"Concordia University-Portland\", \"Eastern Oregon University\", \"George Fox University\", \"Linfield College-McMinnville Campus\", \"Northwest Christian University\", \"Oregon Institute of Technology\", \"Oregon State University\", \"University of Oregon\", \"Pacific University\", \"Portland State University\", \"University of Portland\", \"Reed College\", \"Southern Oregon University\", \"Corban University\", \"Willamette University\", \"Western Oregon University\", \"DeSales University\", \"Alvernia University\", \"Arcadia University\", \"Bloomsburg University of Pennsylvania\", \"Bryn Mawr College\", \"Bucknell University\", \"California University of Pennsylvania\", \"Carlow University\", \"Carnegie Mellon University\", \"Cedar Crest College\", \"Central Penn College\", \"Chestnut Hill College\", \"Clarion University of Pennsylvania\", \"Delaware Valley University\", \"Drexel University\", \"Duquesne University\", \"East Stroudsburg University of Pennsylvania\", \"Eastern University\", \"Edinboro University of Pennsylvania\", \"Elizabethtown College\", \"Gannon University\", \"Geneva College\", \"Gwynedd Mercy University\", \"Haverford College\", \"Holy Family University\", \"Immaculata University\", \"Indiana University of Pennsylvania-Main Campus\", \"Keystone College\", \"Kutztown University of Pennsylvania\", \"La Roche College\", \"La Salle University\", \"Lafayette College\", \"Lancaster Bible College\", \"Lehigh University\", \"Lincoln University\", \"Lock Haven University\", \"St Margaret School of Nursing\", \"Lycoming College\", \"Manor College\", \"Mansfield University of Pennsylvania\", \"Marywood University\", \"Messiah College\", \"Millersville University of Pennsylvania\", \"Misericordia University\", \"Moravian College\", \"Mount Aloysius College\", \"Neumann University\", \"Pennsylvania State University-Penn State Erie-Behrend College\", \"Pennsylvania State University-Penn State New Kensington\", \"Pennsylvania State University-Penn State Shenango\", \"Pennsylvania State University-Penn State Wilkes-Barre\", \"Pennsylvania State University-Penn State Worthington Scranton\", \"Pennsylvania State University-Penn State Lehigh Valley\", \"Pennsylvania State University-Penn State Altoona\", \"Pennsylvania State University-Penn State Beaver\", \"Pennsylvania State University-Penn State Berks\", \"Pennsylvania State University-Penn State Harrisburg\", \"Pennsylvania State University-Penn State Brandywine\", \"Pennsylvania State University-Penn State DuBois\", \"Pennsylvania State University-Penn State Fayette- Eberly\", \"Pennsylvania State University-Penn State Hazleton\", \"Pennsylvania State University-Main Campus\", \"Pennsylvania State University-Penn State Greater Allegheny\", \"Pennsylvania State University-Penn State Mont Alto\", \"Pennsylvania State University-Penn State Abington\", \"Pennsylvania State University-Penn State Schuylkill\", \"Pennsylvania State University-Penn State York\", \"University of Pennsylvania\", \"Philadelphia University\", \"The University of the Arts\", \"Cairn University-Langhorne\", \"University of the Sciences\", \"University of Pittsburgh-Bradford\", \"University of Pittsburgh-Greensburg\", \"University of Pittsburgh-Johnstown\", \"University of Pittsburgh-Pittsburgh Campus\", \"University of Pittsburgh-Titusville\", \"Point Park University\", \"Reading Hospital School of Health Sciences\", \"Robert Morris University\", \"Rosemont College\", \"Saint Francis University\", \"Saint Vincent College\", \"University of Scranton\", \"University of Pittsburgh Medical Center-Shadyside School of Nursing\", \"Shippensburg University of Pennsylvania\", \"Slippery Rock University of Pennsylvania\", \"Swarthmore College\", \"Thiel College\", \"University of Valley Forge\", \"Valley Forge Military College\", \"Villanova University\", \"Waynesburg University\", \"West Chester University of Pennsylvania\", \"Westminster College\", \"Widener University\", \"Wilkes University\", \"Wilson College\", \"York College Pennsylvania\", \"Brown University\", \"Rhode Island College\", \"University of Rhode Island\", \"Rhode Island School of Design\", \"Anderson University\", \"Charleston Southern University\", \"College of Charleston\", \"Citadel Military College of South Carolina\", \"Claflin University\", \"Clemson University\", \"Coker College\", \"Columbia International University\", \"Columbia College\", \"Converse College\", \"Erskine College\", \"Francis Marion University\", \"Lander University\", \"Limestone College\", \"Newberry College\", \"North Greenville University\", \"Presbyterian College\", \"University of South Carolina-Aiken\", \"University of South Carolina-Beaufort\", \"University of South Carolina-Columbia\", \"University of South Carolina-Lancaster\", \"University of South Carolina-Salkehatchie\", \"University of South Carolina-Sumter\", \"University of South Carolina-Union\", \"Coastal Carolina University\", \"South Carolina State University\", \"University of South Carolina-Upstate\", \"Spartanburg Methodist College\", \"Winthrop University\", \"Wofford College\", \"Augustana University\", \"Black Hills State University\", \"Dakota State University\", \"Dakota Wesleyan University\", \"Mount Marty College\", \"Northern State University\", \"Presentation College\", \"South Dakota School of Mines and Technology\", \"South Dakota State University\", \"University of Sioux Falls\", \"University of South Dakota\", \"Aquinas College\", \"Austin Peay State University\", \"Baptist Memorial College of Health Sciences\", \"Belmont University\", \"Bethel University\", \"Bryan College-Dayton\", \"Carson-Newman University\", \"Christian Brothers University\", \"Cumberland University\", \"Lipscomb University\", \"East Tennessee State University\", \"Fisk University\", \"Freed-Hardeman University\", \"Hiwassee College\", \"John A Gupton College\", \"Johnson University\", \"King University\", \"Lane College\", \"Le Moyne-Owen College\", \"Lee University\", \"Lincoln Memorial University\", \"Maryville College\", \"University of Memphis\", \"Middle Tennessee State University\", \"Rhodes College\", \"Roane State Community College\", \"Tennessee Wesleyan University\", \"The University of Tennessee-Chattanooga\", \"The University of Tennessee-Knoxville\", \"The University of Tennessee-Martin\", \"Tennessee Technological University\", \"Trevecca Nazarene University\", \"Tusculum College\", \"Union University\", \"Vanderbilt University\", \"Abilene Christian University\", \"Angelo State University\", \"Austin College\", \"Baylor University\", \"Concordia University-Texas\", \"Texas A & M University-Corpus Christi\", \"Dallas Baptist University\", \"Dallas Christian College\", \"University of Dallas\", \"East Texas Baptist University\", \"Texas A&M University-Texarkana\", \"Texas A & M University-Commerce\", \"Hardin-Simmons University\", \"Houston Baptist University\", \"University of Houston-Clear Lake\", \"University of Houston-Downtown\", \"University of Houston\", \"Howard Payne University\", \"Huston-Tillotson University\", \"University of the Incarnate Word\", \"Lamar University\", \"Texas A & M International University\", \"LeTourneau University\", \"Lubbock Christian University\", \"University of Mary Hardin-Baylor\", \"McMurry University\", \"Midwestern State University\", \"University of North Texas\", \"Northwood University-Texas\", \"Our Lady of the Lake University\", \"The University of Texas Rio Grande Valley\", \"Paul Quinn College\", \"Prairie View A & M University\", \"Rice University\", \"Saint Edward's University\", \"University of St Thomas\", \"Sam Houston State University\", \"Schreiner University\", \"St. Mary's University\", \"Southern Methodist University\", \"Southwestern Assemblies of God University\", \"Southwestern University\", \"Stephen F Austin State University\", \"Texas State University\", \"Southwestern Adventist University\", \"Sul Ross State University\", \"Tarleton State University\", \"Texas A & M University-Kingsville\", \"Texas A & M University-College Station\", \"The University of Texas at Arlington\", \"The University of Texas at Austin\", \"The University of Texas at Dallas\", \"The University of Texas at El Paso\", \"The University of Texas at Tyler\", \"Texas Christian University\", \"Texas Lutheran University\", \"The University of Texas of the Permian Basin\", \"The University of Texas at San Antonio\", \"Texas Southern University\", \"Texas Tech University\", \"Texas Wesleyan University\", \"Texas Woman's University\", \"Trinity University\", \"Wayland Baptist University\", \"West Texas A & M University\", \"Brigham Young University-Provo\", \"Brigham Young University-Hawaii\", \"Southern Utah University\", \"Utah State University\", \"University of Utah\", \"Westminster College\", \"Castleton University\", \"Champlain College\", \"Johnson State College\", \"Lyndon State College\", \"Middlebury College\", \"Southern Vermont College\", \"University of Vermont\", \"Averett University\", \"Bluefield College\", \"Bridgewater College\", \"College of William and Mary\", \"Regent University\", \"Christopher Newport University\", \"Emory & Henry College\", \"Eastern Mennonite University\", \"Ferrum College\", \"George Mason University\", \"Hampden-Sydney College\", \"Hampton University\", \"Hollins University\", \"James Madison University\", \"Liberty University\", \"Longwood University\", \"Lynchburg College\", \"Mary Baldwin University\", \"University of Mary Washington\", \"Marymount University\", \"Norfolk State University\", \"Old Dominion University\", \"Randolph-Macon College\", \"Randolph College\", \"University of Richmond\", \"Roanoke College\", \"Shenandoah University\", \"Southern Virginia University\", \"Sweet Briar College\", \"The University of Virginia's College at Wise\", \"Virginia Polytechnic Institute and State University\", \"Virginia Commonwealth University\", \"University of Virginia-Main Campus\", \"Virginia Military Institute\", \"Virginia State University\", \"Virginia Union University\", \"Virginia Wesleyan College\", \"Washington and Lee University\", \"Central Washington University\", \"Eastern Washington University\", \"The Evergreen State College\", \"Gonzaga University\", \"Northwest University\", \"Pacific Lutheran University\", \"Saint Martin's University\", \"Seattle Pacific University\", \"Seattle University\", \"Walla Walla University\", \"Washington State University\", \"University of Washington-Seattle Campus\", \"Western Washington University\", \"Whitman College\", \"Alderson Broaddus University\", \"Appalachian Bible College\", \"Bethany College\", \"Bluefield State College\", \"University of Charleston\", \"Concord University\", \"Davis & Elkins College\", \"Fairmont State University\", \"Glenville State College\", \"Marshall University\", \"Potomac State College of West Virginia University\", \"Shepherd University\", \"West Virginia State University\", \"West Liberty University\", \"West Virginia University Institute of Technology\", \"West Virginia Wesleyan College\", \"West Virginia University\", \"Wheeling Jesuit University\", \"Alverno College\", \"Bellin College\", \"Cardinal Stritch University\", \"Carroll University\", \"Carthage College\", \"Concordia University-Wisconsin\", \"Edgewood College\", \"Lakeland University\", \"Marian University\", \"Marquette University\", \"Milwaukee School of Engineering\", \"Mount Mary University\", \"Northland College\", \"Ripon College\", \"Saint Norbert College\", \"University of Wisconsin Colleges\", \"Viterbo University\", \"University of Wisconsin-Whitewater\", \"University of Wisconsin-Eau Claire\", \"University of Wisconsin-Green Bay\", \"University of Wisconsin-La Crosse\", \"Wisconsin Lutheran College\", \"University of Wisconsin-Oshkosh\", \"University of Wisconsin-Parkside\", \"University of Wisconsin-Stout\", \"University of Wisconsin-Superior\", \"University of Wisconsin-Madison\", \"University of Wisconsin-Milwaukee\", \"University of Wisconsin-Platteville\", \"University of Wisconsin-River Falls\", \"University of Wisconsin-Stevens Point\", \"University of Wyoming\", \"University of the Virgin Islands\", \"Stanford University\", \"Purdue University-Main Campus\", \"Widener University-Delaware Law School\", \"California State University-San Marcos\", \"University of Washington-Bothell Campus\", \"University of Washington-Tacoma Campus\", \"Eastern New Mexico University-Ruidoso Campus\", \"Watkins College of Art Design & Film\", \"Arizona State University-West\", \"Trine University-Regional/Non-Traditional Campuses\", \"Southeast Missouri Hospital College of Nursing and Health Sciences\", \"Arkansas State University-Mountain Home\", \"Arizona State University-Polytechnic\", \"Mercy Hospital School of Nursing\", \"Florida Gulf Coast University\", \"University of Connecticut-Tri-Campus\", \"University of Connecticut-Avery Point\", \"University of Connecticut-Stamford\", \"Linfield College-School of Nursing\", \"The King's University\", \"Oregon State University-Cascades Campus\", \"DigiPen Institute of Technology\", \"Flagler College-Tallahassee\", \"Central Methodist University-College of Graduate and Extended Studies\", \"Doane University-Graduate and Professional Studies\", \"Shorter University-College of Adult & Professional Programs\", \"University of South Florida-St Petersburg\", \"Arizona State University-Downtown Phoenix\", \"Averett University-Non-Traditional Programs\", \"LIU Riverhead\", \"University of South Florida-Sarasota-Manatee\", \"University of Minnesota-Rochester\", \"Azusa Pacific University College\", \"Springfield College-School of Professional and Continuing Studies\", \"Pennsylvania State University-World Campus\", \"Elizabethtown College School of Continuing and Professional Studies\", \"Florida Institute of Technology-Online\", \"Augusta University\", \"Middle Georgia State University\", \"University of North Georgia\", \"Northeastern University Professional Advancement Network\", \"Arizona State University-Skysong\"], \"type\": \"scatter3d\", \"x\": [850.0, 1147.0, 1221.0, 844.0, 1181.0, 990.0, 1218.0, 1167.0, 985.0, 992.0, 1062.0, 1031.0, 930.0, 1061.0, 1025.0, 1069.0, 1027.0, 923.0, 1162.0, 1045.0, 1120.0, 1045.0, 831.0, 1046.0, 955.0, 1058.0, 985.0, 1143.0, 1039.0, 997.0, 990.0, 1120.0, 1154.0, 871.0, 1088.0, 1050.0, 1068.0, 968.0, 1135.0, 988.0, 1270.0, 1209.0, 1120.0, 1034.0, 930.0, 1010.0, 988.0, 1080.0, 1115.0, 960.0, 1544.0, 1109.0, 1259.0, 887.0, 1066.0, 1003.0, 897.0, 1024.0, 1056.0, 874.0, 902.0, 948.0, 1397.0, 1226.0, 1175.0, 1339.0, 1119.0, 1344.0, 1248.0, 1201.0, 1217.0, 1029.0, 933.0, 1408.0, 1054.0, 988.0, 1484.0, 858.0, 990.0, 901.0, 1034.0, 929.0, 1091.0, 1222.0, 1018.0, 1183.0, 1383.0, 915.0, 910.0, 1304.0, 1045.0, 910.0, 984.0, 1152.0, 1226.0, 1148.0, 1435.0, 1130.0, 1130.0, 1236.0, 979.0, 1172.0, 1012.0, 1055.0, 1313.0, 1362.0, 1001.0, 1124.0, 996.0, 975.0, 1116.0, 1391.0, 1280.0, 1179.0, 1057.0, 944.0, 954.0, 1055.0, 1088.0, 1212.0, 1339.0, 1145.0, 1249.0, 1012.0, 952.0, 971.0, 1031.0, 1092.0, 970.0, 964.0, 926.0, 1011.0, 1233.0, 1050.0, 1066.0, 893.0, 1095.0, 932.0, 905.0, 918.0, 1498.0, 892.0, 1198.0, 836.0, 1252.0, 883.0, 1294.0, 1416.0, 1105.0, 946.0, 926.0, 999.0, 1009.0, 1179.0, 1134.0, 781.0, 966.0, 1047.0, 1071.0, 1008.0, 928.0, 1194.0, 1090.0, 1172.0, 1215.0, 1272.0, 1042.0, 1319.0, 1140.0, 1130.0, 1065.0, 1167.0, 924.0, 955.0, 1092.0, 845.0, 898.0, 879.0, 902.0, 1053.0, 933.0, 883.0, 997.0, 910.0, 850.0, 1179.0, 990.0, 935.0, 961.0, 1189.0, 930.0, 1366.0, 865.0, 1403.0, 967.0, 1143.0, 1089.0, 1056.0, 1252.0, 851.0, 1012.0, 1217.0, 978.0, 1140.0, 749.0, 995.0, 953.0, 1064.0, 847.0, 969.0, 1015.0, 997.0, 938.0, 993.0, 945.0, 974.0, 966.0, 926.0, 1067.0, 1045.0, 1046.0, 1061.0, 939.0, 1056.0, 1040.0, 1155.0, 990.0, 1005.0, 1163.0, 875.0, 1506.0, 1047.0, 1010.0, 1090.0, 1033.0, 911.0, 1022.0, 1048.0, 1092.0, 1305.0, 1249.0, 1251.0, 1090.0, 1086.0, 1051.0, 1013.0, 824.0, 1195.0, 922.0, 1006.0, 1069.0, 1070.0, 1125.0, 1014.0, 1029.0, 1460.0, 870.0, 1078.0, 1010.0, 1007.0, 1038.0, 1010.0, 1069.0, 990.0, 1068.0, 1032.0, 1070.0, 1097.0, 1042.0, 970.0, 1314.0, 1050.0, 1070.0, 1026.0, 1209.0, 1208.0, 1157.0, 994.0, 1059.0, 1063.0, 1103.0, 984.0, 1029.0, 995.0, 1014.0, 1030.0, 962.0, 1002.0, 910.0, 947.0, 955.0, 1199.0, 928.0, 955.0, 961.0, 1013.0, 1026.0, 1086.0, 1455.0, 925.0, 960.0, 943.0, 1322.0, 974.0, 985.0, 952.0, 1125.0, 964.0, 1191.0, 1089.0, 1159.0, 1145.0, 1010.0, 1068.0, 1045.0, 1126.0, 1177.0, 1159.0, 1224.0, 944.0, 1069.0, 1051.0, 961.0, 969.0, 1402.0, 1142.0, 949.0, 1164.0, 1088.0, 1179.0, 1070.0, 990.0, 1050.0, 1141.0, 1050.0, 1104.0, 930.0, 937.0, 1105.0, 1048.0, 1129.0, 959.0, 1030.0, 1014.0, 850.0, 1145.0, 1095.0, 1020.0, 1025.0, 940.0, 1015.0, 978.0, 999.0, 990.0, 1007.0, 1089.0, 1006.0, 1101.0, 1120.0, 1117.0, 1003.0, 986.0, 1279.0, 1022.0, 1028.0, 1045.0, 931.0, 1048.0, 1143.0, 977.0, 1159.0, 1047.0, 1069.0, 1068.0, 965.0, 948.0, 970.0, 1016.0, 970.0, 1047.0, 1114.0, 888.0, 871.0, 950.0, 1163.0, 1029.0, 969.0, 1105.0, 1134.0, 1029.0, 1034.0, 1030.0, 1054.0, 1008.0, 1010.0, 1030.0, 911.0, 803.0, 1069.0, 1346.0, 1050.0, 1085.0, 1363.0, 885.0, 1090.0, 1050.0, 1070.0, 989.0, 984.0, 972.0, 883.0, 1023.0, 821.0, 888.0, 955.0, 1453.0, 1209.0, 1315.0, 1140.0, 834.0, 878.0, 1013.0, 1087.0, 1145.0, 1081.0, 1006.0, 1074.0, 887.0, 1451.0, 1317.0, 943.0, 1009.0, 1244.0, 1380.0, 1303.0, 1360.0, 996.0, 941.0, 978.0, 1211.0, 993.0, 975.0, 1112.0, 1497.0, 966.0, 1066.0, 1197.0, 1226.0, 1055.0, 1070.0, 1086.0, 1507.0, 1065.0, 906.0, 1016.0, 1435.0, 976.0, 775.0, 1163.0, 1042.0, 1025.0, 1024.0, 1424.0, 1369.0, 1104.0, 1080.0, 1001.0, 944.0, 1442.0, 1020.0, 1008.0, 1104.0, 1110.0, 1091.0, 1090.0, 1202.0, 1049.0, 950.0, 1052.0, 1070.0, 1122.0, 1029.0, 1009.0, 1204.0, 1033.0, 1090.0, 1205.0, 1027.0, 1156.0, 1030.0, 780.0, 949.0, 1384.0, 1159.0, 1207.0, 1105.0, 992.0, 1011.0, 1026.0, 1070.0, 931.0, 1010.0, 1030.0, 1027.0, 1073.0, 886.0, 1070.0, 1030.0, 1032.0, 1010.0, 1074.0, 1127.0, 1400.0, 1145.0, 1127.0, 1358.0, 1030.0, 1285.0, 1026.0, 1096.0, 1109.0, 1146.0, 1049.0, 1024.0, 1102.0, 930.0, 1118.0, 1030.0, 1148.0, 1046.0, 1282.0, 1019.0, 1067.0, 1202.0, 1032.0, 1008.0, 1050.0, 871.0, 990.0, 970.0, 910.0, 1163.0, 1118.0, 1012.0, 850.0, 1106.0, 1140.0, 780.0, 1049.0, 844.0, 1071.0, 986.0, 1010.0, 985.0, 1043.0, 1010.0, 910.0, 1049.0, 968.0, 1185.0, 1064.0, 1050.0, 1073.0, 1043.0, 1145.0, 961.0, 1030.0, 1203.0, 1130.0, 1261.0, 1105.0, 1246.0, 1047.0, 1069.0, 1162.0, 1257.0, 990.0, 1198.0, 1058.0, 1036.0, 1050.0, 1090.0, 1469.0, 1109.0, 1084.0, 1160.0, 1035.0, 1145.0, 1110.0, 1145.0, 1131.0, 1090.0, 892.0, 1037.0, 1050.0, 1090.0, 1076.0, 1196.0, 1064.0, 1003.0, 1055.0, 1049.0, 1110.0, 962.0, 1050.0, 1121.0, 1145.0, 1050.0, 1145.0, 950.0, 1007.0, 1084.0, 1012.0, 1437.0, 943.0, 1107.0, 991.0, 1107.0, 855.0, 969.0, 929.0, 1020.0, 878.0, 1020.0, 945.0, 1065.0, 865.0, 928.0, 1037.0, 1205.0, 1490.0, 1090.0, 1014.0, 1187.0, 1187.0, 1187.0, 918.0, 1145.0, 806.0, 1340.0, 1074.0, 1227.0, 990.0, 983.0, 947.0, 947.0, 970.0, 1040.0, 1191.0, 1040.0, 1040.0, 983.0, 983.0, 983.0, 983.0, 1040.0, 1040.0, 1094.0, 1176.0, 1057.0, 1357.0, 1078.0, 1198.0, 1374.0, 1473.0, 895.0, 1428.0, 1230.0, 1115.0, 1125.0, 1165.0, 975.0, 1025.0, 1110.0, 885.0, 1036.0, 879.0, 1273.0, 1110.0, 1005.0, 962.0, 1073.0, 1010.0, 1010.0, 1010.0, 1097.0, 1038.0, 868.0, 1067.0, 982.0, 906.0, 948.0, 1360.0, 1037.0, 1074.0, 1065.0, 901.0, 1060.0, 1085.0, 1368.0, 1067.0, 1251.0, 1066.0, 909.0, 942.0, 1239.0, 1010.0, 1087.0, 1080.0, 1016.0, 882.0, 994.0, 854.0, 1091.0, 1305.0, 1173.0, 1271.0, 1215.0, 1141.0, 1032.0, 901.0, 1050.0, 1206.0, 1124.0, 1087.0, 1103.0, 1082.0, 995.0, 1086.0, 1113.0, 1195.0, 1220.0, 1405.0, 1065.0, 1011.0, 1229.0, 1157.0, 959.0, 1021.0, 960.0, 1007.0, 990.0, 773.0, 1355.0, 1450.0, 1053.0, 844.0, 1211.0, 870.0, 977.0, 892.0, 1113.0, 894.0, 796.0, 990.0, 708.0, 783.0, 912.0, 1036.0, 955.0, 960.0, 909.0, 910.0, 1159.0, 1343.0, 1093.0, 1035.0, 879.0, 1108.0, 1264.0, 878.0, 1162.0, 868.0, 926.0, 931.0, 898.0, 1064.0, 947.0, 741.0, 1119.0, 902.0, 1120.0, 1040.0, 870.0, 1032.0, 951.0, 1044.0, 1066.0, 999.0, 1088.0, 1091.0, 926.0, 961.0, 1049.0, 1049.0, 963.0, 1045.0, 1070.0, 972.0, 1012.0, 1012.0, 1133.0, 1398.0, 1169.0, 777.0, 970.0, 1005.0, 1165.0, 1165.0, 1165.0, 1083.0, 1028.0, 1187.0, 984.0, 1047.0, 990.0, 1033.0, 1071.0, 1127.0, 1067.0, 1067.0, 1067.0, 1067.0, 1067.0, 1067.0, 1067.0, 1067.0, 1335.0, 989.0, 983.0, 1029.0, 1100.0, 1259.0, 1259.0, 1259.0, 990.0, 1078.0, 1047.0, 984.0, 899.0, 1357.0, 1009.0, 1158.0, 1295.0, 1295.0, 1295.0, 1295.0, 1295.0, 1295.0, 1108.0, 1108.0, 1108.0, 1108.0, 1108.0, 1108.0, 1010.0, 1120.0, 1165.0, 1069.0, 965.0, 1007.0, 762.0, 966.0, 1237.0, 1028.0, 1028.0, 1111.0, 981.0, 856.0, 962.0, 1010.0, 970.0, 925.0, 988.0, 950.0, 1118.0, 1204.0, 890.0, 1118.0, 1042.0, 1126.0, 1204.0, 1009.0, 830.0, 999.0, 970.0, 978.0, 990.0, 1295.0, 995.0, 951.0, 1089.0, 1061.0, 992.0, 1047.0, 1112.0, 1119.0, 1090.0, 1039.0, 1195.0, 1383.0, 1029.0, 1066.0, 1228.0, 946.0, 1054.0, 998.0, 1104.0, 979.0, 1346.0, 1315.0, 922.0, 972.0, 1448.0, 968.0, 759.0, 966.0, 934.0, 994.0, 1214.0, 1138.0, 945.0, 1026.0, 950.0, 1125.0, 1035.0, 1058.0, 924.0, 1433.0, 915.0, 975.0, 955.0, 906.0, 951.0, 939.0, 990.0, 1294.0, 1003.0, 1338.0, 833.0, 948.0, 1040.0, 1034.0, 748.0, 955.0, 1025.0, 1129.0, 1001.0, 1069.0, 1006.0, 934.0, 905.0, 1094.0, 1094.0, 1094.0, 1094.0, 1094.0, 1094.0, 1094.0, 1094.0, 1094.0, 1094.0, 1094.0, 1094.0, 1094.0, 1094.0, 1094.0, 1094.0, 1094.0, 1094.0, 1094.0, 1094.0, 1457.0, 1083.0, 1045.0, 976.0, 1145.0, 1201.0, 1201.0, 1201.0, 1201.0, 1201.0, 995.0, 898.0, 1051.0, 884.0, 1060.0, 1059.0, 1134.0, 1045.0, 979.0, 999.0, 1431.0, 923.0, 945.0, 840.0, 1326.0, 1019.0, 1072.0, 1028.0, 1032.0, 1053.0, 941.0, 1054.0, 1457.0, 913.0, 1077.0, 1273.0, 1078.0, 1030.0, 1141.0, 1073.0, 815.0, 1275.0, 960.0, 1045.0, 971.0, 1040.0, 993.0, 927.0, 922.0, 902.0, 958.0, 1116.0, 1082.0, 976.0, 927.0, 1199.0, 1199.0, 803.0, 925.0, 770.0, 1009.0, 760.0, 950.0, 864.0, 1044.0, 1170.0, 1164.0, 988.0, 1047.0, 982.0, 1030.0, 1024.0, 925.0, 1200.0, 1068.0, 1046.0, 1049.0, 1115.0, 1011.0, 1148.0, 1158.0, 928.0, 1016.0, 1039.0, 1105.0, 989.0, 1176.0, 1068.0, 937.0, 1101.0, 947.0, 930.0, 1009.0, 1005.0, 758.0, 760.0, 1088.0, 1055.0, 1052.0, 1029.0, 1031.0, 1306.0, 910.0, 1019.0, 1087.0, 1214.0, 1050.0, 1102.0, 1026.0, 960.0, 1163.0, 1498.0, 1092.0, 970.0, 1165.0, 1239.0, 998.0, 963.0, 1055.0, 831.0, 1217.0, 982.0, 995.0, 980.0, 1030.0, 1060.0, 1025.0, 894.0, 1154.0, 965.0, 786.0, 963.0, 974.0, 905.0, 1158.0, 1018.0, 1047.0, 887.0, 1002.0, 1093.0, 1026.0, 920.0, 924.0, 772.0, 857.0, 1482.0, 1135.0, 1103.0, 997.0, 997.0, 1038.0, 1330.0, 949.0, 1168.0, 1001.0, 1038.0, 904.0, 842.0, 959.0, 937.0, 1212.0, 1038.0, 1297.0, 1265.0, 933.0, 1059.0, 1220.0, 1006.0, 965.0, 1043.0, 817.0, 1134.0, 1003.0, 941.0, 1294.0, 911.0, 971.0, 1290.0, 1098.0, 1078.0, 1084.0, 1130.0, 1124.0, 959.0, 1156.0, 975.0, 937.0, 1383.0, 894.0, 1211.0, 913.0, 923.0, 1034.0, 1353.0, 1051.0, 1155.0, 980.0, 1009.0, 881.0, 1153.0, 1112.0, 1020.0, 1124.0, 1134.0, 1070.0, 985.0, 1014.0, 1009.0, 1110.0, 999.0, 808.0, 1020.0, 1098.0, 1014.0, 1337.0, 1092.0, 1005.0, 1041.0, 1098.0, 942.0, 1210.0, 1097.0, 1364.0, 1139.0, 857.0, 772.0, 982.0, 1395.0, 978.0, 970.0, 1067.0, 1205.0, 996.0, 1117.0, 1047.0, 1145.0, 1192.0, 1062.0, 1039.0, 1223.0, 1114.0, 1314.0, 980.0, 1012.0, 907.0, 934.0, 994.0, 994.0, 928.0, 962.0, 913.0, 1028.0, 1073.0, 995.0, 927.0, 984.0, 1073.0, 1015.0, 1073.0, 1032.0, 910.0, 1090.0, 1028.0, 1087.0, 1145.0, 1052.0, 1050.0, 907.0, 950.0, 1219.0, 1248.0, 902.0, 1118.0, 1105.0, 1125.0, 970.0, 1090.0, 1050.0, 1110.0, 1070.0, 1130.0, 1101.0, 1030.0, 970.0, 1030.0, 990.0, 1300.0, 1050.0, 1090.0, 1050.0, 1050.0, 1122.0, 807.0, 1479.0, 1231.0, 1032.0, 955.0, 1223.0, 1223.0, 947.0, 1003.0, 1143.0, 1089.0, 1030.0, 1088.0, 1143.0, 985.0, 1081.0, 1233.0, 1233.0, 1233.0, 1061.0, 1073.0, 1112.0, 1231.0, 1071.0, 1043.0, 1064.0, 969.0, 1167.0, 1143.0, 913.0, 1010.0, 1167.0, 1285.0, 1080.0, 1042.0, 1094.0, 1125.0, 1194.0, 1045.0, 864.0, 1013.0, 1435.0, 1143.0], \"y\": [\"29900\", \"40200\", \"45600\", \"26700\", \"42700\", \"33500\", \"47100\", \"45600\", \"35900\", \"36800\", \"35000\", \"27800\", \"36200\", \"45900\", \"35000\", \"33100\", \"36400\", \"32200\", \"46300\", \"37000\", \"42400\", \"31600\", \"27200\", \"35800\", \"35300\", \"37100\", \"39000\", \"45400\", \"32500\", \"33600\", \"33500\", \"40500\", \"43100\", \"26700\", \"31700\", \"44800\", \"36900\", \"33700\", \"38600\", \"34900\", \"40600\", \"46200\", \"38400\", \"38700\", \"27100\", \"32100\", \"34300\", \"50500\", \"43100\", \"40700\", \"74200\", \"52800\", \"63100\", \"44800\", \"51100\", \"45600\", \"43300\", \"44500\", \"47100\", \"43900\", \"43400\", \"47200\", \"61800\", \"56300\", \"55100\", \"58700\", \"47300\", \"58600\", \"52500\", \"43700\", \"51900\", \"44300\", \"34900\", \"75000\", \"51900\", \"41000\", \"74200\", \"51100\", \"34700\", \"28700\", \"48900\", \"45100\", \"38600\", \"55800\", \"46400\", \"39600\", \"55600\", \"52000\", \"54400\", \"49700\", \"44100\", \"35800\", \"50200\", \"69300\", \"61100\", \"49100\", \"56600\", \"52100\", \"48300\", \"59300\", \"48000\", \"59900\", \"35200\", \"53700\", \"69600\", \"49700\", \"32800\", \"56600\", \"45000\", \"36800\", \"44400\", \"70400\", \"40100\", \"49200\", \"43100\", \"46100\", \"34200\", \"53700\", \"41100\", \"48100\", \"82100\", \"45000\", \"53800\", \"34300\", \"35400\", \"38400\", \"40200\", \"51700\", \"36000\", \"36200\", \"42100\", \"46000\", \"55800\", \"45200\", \"49400\", \"39400\", \"60600\", \"48800\", \"59000\", \"42700\", \"83200\", \"34300\", \"55100\", \"44000\", \"59200\", \"29200\", \"67100\", \"90100\", \"46800\", \"32100\", \"44300\", \"38400\", \"29400\", \"43300\", \"41200\", \"23300\", \"35800\", \"41500\", \"36700\", \"35700\", \"51400\", \"61200\", \"44200\", \"39300\", \"44900\", \"53100\", \"41000\", \"57800\", \"42100\", \"44200\", \"39400\", \"41800\", \"45600\", \"33200\", \"45800\", \"28200\", \"28100\", \"39200\", \"33000\", \"36600\", \"31500\", \"31500\", \"38200\", \"32800\", \"34800\", \"38600\", \"40700\", \"28400\", \"34600\", \"39100\", \"29800\", \"61500\", \"28200\", \"75800\", \"34700\", \"39300\", \"40300\", \"41200\", \"48500\", \"31300\", \"40200\", \"46700\", \"42500\", \"40700\", \"26700\", \"39300\", \"36300\", \"35300\", \"31000\", \"44200\", \"46800\", \"26600\", \"31500\", \"36800\", \"37200\", \"37100\", \"38900\", \"34500\", \"43600\", \"28400\", \"36100\", \"41000\", \"33800\", \"36200\", \"39900\", \"32100\", \"40000\", \"37600\", \"51200\", \"34300\", \"65500\", \"39000\", \"40100\", \"47300\", \"34000\", \"39500\", \"36300\", \"21400\", \"52200\", \"57600\", \"55600\", \"69800\", \"45500\", \"41400\", \"47300\", \"29900\", \"29700\", \"52000\", \"36300\", \"45800\", \"42200\", \"39900\", \"45000\", \"42400\", \"43900\", \"65900\", \"36700\", \"38300\", \"37800\", \"43100\", \"42700\", \"45600\", \"47600\", \"44400\", \"43000\", \"41800\", \"41000\", \"42000\", \"41000\", \"41500\", \"45200\", \"36300\", \"39400\", \"35500\", \"54700\", \"50700\", \"40300\", \"41200\", \"37000\", \"35400\", \"42500\", \"36300\", \"34000\", \"35200\", \"41000\", \"40300\", \"41200\", \"35200\", \"36700\", \"35100\", \"33400\", \"46100\", \"35900\", \"35700\", \"30100\", \"38800\", \"42800\", \"48100\", \"71600\", \"34200\", \"37800\", \"37100\", \"79200\", \"38400\", \"40100\", \"30900\", \"46100\", \"45500\", \"36000\", \"41700\", \"48700\", \"53600\", \"38800\", \"43200\", \"40000\", \"44100\", \"41200\", \"39100\", \"56800\", \"38400\", \"30700\", \"32800\", \"37400\", \"41800\", \"44300\", \"48600\", \"35700\", \"50200\", \"42400\", \"43500\", \"42400\", \"43900\", \"42800\", \"37200\", \"44700\", \"44400\", \"40500\", \"36100\", \"42900\", \"49800\", \"39100\", \"39500\", \"36600\", \"41600\", \"22800\", \"46500\", \"43500\", \"39200\", \"31800\", \"41400\", \"40800\", \"37100\", \"46200\", \"34400\", \"41200\", \"39600\", \"31300\", \"35100\", \"46000\", \"31800\", \"37400\", \"32400\", \"44100\", \"32900\", \"34800\", \"40400\", \"28600\", \"34000\", \"43000\", \"31400\", \"40300\", \"31400\", \"35700\", \"36200\", \"28400\", \"29800\", \"43700\", \"46100\", \"31000\", \"33800\", \"44700\", \"32800\", \"28000\", \"33000\", \"47600\", \"34600\", \"40500\", \"41000\", \"46100\", \"37300\", \"37800\", \"36000\", \"36800\", \"33500\", \"45100\", \"36000\", \"33800\", \"28200\", \"38300\", \"56200\", \"47900\", \"50700\", \"55000\", \"33200\", \"40800\", \"84000\", \"45000\", \"40100\", \"37900\", \"55100\", \"46400\", \"70700\", \"43900\", \"35000\", \"43900\", \"69800\", \"54100\", \"61700\", \"35700\", \"36200\", \"39200\", \"53600\", \"47400\", \"48100\", \"49800\", \"49500\", \"47900\", \"43200\", \"59700\", \"91400\", \"26000\", \"42100\", \"80600\", \"70000\", \"62000\", \"55300\", \"43800\", \"44900\", \"42200\", \"43700\", \"41900\", \"45500\", \"39800\", \"90900\", \"39900\", \"35900\", \"50800\", \"49700\", \"47000\", \"112700\", \"34600\", \"94200\", \"79300\", \"38100\", \"34900\", \"64000\", \"44700\", \"35600\", \"49000\", \"43000\", \"46600\", \"51800\", \"66500\", \"60100\", \"60300\", \"54900\", \"43900\", \"36000\", \"54100\", \"45600\", \"36900\", \"46200\", \"42800\", \"38200\", \"35500\", \"43300\", \"40200\", \"49200\", \"35800\", \"40200\", \"46100\", \"37500\", \"42700\", \"78600\", \"36400\", \"41000\", \"43500\", \"36200\", \"55400\", \"39600\", \"27700\", \"34400\", \"60100\", \"51500\", \"64700\", \"46600\", \"40000\", \"34000\", \"45100\", \"41900\", \"36400\", \"27200\", \"37600\", \"38900\", \"38900\", \"30800\", \"39900\", \"43700\", \"47300\", \"39600\", \"34600\", \"45100\", \"52600\", \"36900\", \"47600\", \"45300\", \"43100\", \"49800\", \"41300\", \"34500\", \"45300\", \"39500\", \"38000\", \"30800\", \"36600\", \"23900\", \"50000\", \"42900\", \"59100\", \"44200\", \"47300\", \"32800\", \"51000\", \"55600\", \"46700\", \"37100\", \"42700\", \"30100\", \"30100\", \"33600\", \"29100\", \"46300\", \"41100\", \"33100\", \"22700\", \"38400\", \"40300\", \"22900\", \"35800\", \"25900\", \"34700\", \"42500\", \"32600\", \"29300\", \"34700\", \"36700\", \"38900\", \"33700\", \"36500\", \"31500\", \"34400\", \"40800\", \"30200\", \"39200\", \"46200\", \"34600\", \"32500\", \"46100\", \"43900\", \"67100\", \"40600\", \"43700\", \"37800\", \"32800\", \"47900\", \"54400\", \"24700\", \"120400\", \"32900\", \"33400\", \"36100\", \"37400\", \"66300\", \"41100\", \"41600\", \"44200\", \"34700\", \"41100\", \"43500\", \"41100\", \"40400\", \"34700\", \"35100\", \"37500\", \"48900\", \"48500\", \"36900\", \"56100\", \"44200\", \"31200\", \"41700\", \"39100\", \"47100\", \"38800\", \"42300\", \"45300\", \"43700\", \"40400\", \"43700\", \"36000\", \"43200\", \"45000\", \"44900\", \"70000\", \"37500\", \"47700\", \"41200\", \"47700\", \"35900\", \"41700\", \"43800\", \"48400\", \"41900\", \"48400\", \"42800\", \"49400\", \"42100\", \"46000\", \"50300\", \"65900\", \"80500\", \"48000\", \"50200\", \"56400\", \"56400\", \"56400\", \"44500\", \"56400\", \"42800\", \"87300\", \"46800\", \"56200\", \"44300\", \"33400\", \"29300\", \"29300\", \"36600\", \"34900\", \"52900\", \"34900\", \"34900\", \"33400\", \"33400\", \"33400\", \"33400\", \"34900\", \"34900\", \"55200\", \"122600\", \"39100\", \"56400\", \"46100\", \"68900\", \"61300\", \"78200\", \"45200\", \"73600\", \"55300\", \"43500\", \"45800\", \"45100\", \"43300\", \"41200\", \"47400\", \"39200\", \"48300\", \"45900\", \"57400\", \"39900\", \"53400\", \"45800\", \"49100\", \"46400\", \"46400\", \"46400\", \"62800\", \"40400\", \"38500\", \"57500\", \"47900\", \"50100\", \"34400\", \"59600\", \"40500\", \"53400\", \"40800\", \"40200\", \"57000\", \"43500\", \"77900\", \"41000\", \"60600\", \"44400\", \"44400\", \"45400\", \"47100\", \"52100\", \"45600\", \"53300\", \"39800\", \"33400\", \"48600\", \"32300\", \"50600\", \"59200\", \"49900\", \"55100\", \"42200\", \"48300\", \"41200\", \"38600\", \"39800\", \"46700\", \"43700\", \"42000\", \"41500\", \"35800\", \"43900\", \"40300\", \"76700\", \"58400\", \"78900\", \"51400\", \"40200\", \"35800\", \"55900\", \"36800\", \"35500\", \"35700\", \"42500\", \"44200\", \"38300\", \"32600\", \"54600\", \"77900\", \"39300\", \"29600\", \"49000\", \"29900\", \"37100\", \"34900\", \"38200\", \"35100\", \"28300\", \"36300\", \"21400\", \"26700\", \"30300\", \"36500\", \"38700\", \"36600\", \"37000\", \"33100\", \"34200\", \"54100\", \"42700\", \"35600\", \"32200\", \"31400\", \"49300\", \"37600\", \"39600\", \"34000\", \"32600\", \"35900\", \"30500\", \"37600\", \"28500\", \"25100\", \"32300\", \"33000\", \"27000\", \"40400\", \"31800\", \"36200\", \"39200\", \"42400\", \"46200\", \"38900\", \"46800\", \"46600\", \"27400\", \"38500\", \"35000\", \"35000\", \"28400\", \"39100\", \"57500\", \"37600\", \"39400\", \"39400\", \"43200\", \"69900\", \"40200\", \"24400\", \"51900\", \"33000\", \"39500\", \"39500\", \"39500\", \"35900\", \"39700\", \"51600\", \"38900\", \"41500\", \"47300\", \"36700\", \"38400\", \"51700\", \"36300\", \"36300\", \"36300\", \"36300\", \"36300\", \"36300\", \"36300\", \"36300\", \"44300\", \"33500\", \"34600\", \"41200\", \"40100\", \"45200\", \"45200\", \"45200\", \"56100\", \"42200\", \"41600\", \"37700\", \"42000\", \"40200\", \"38300\", \"62800\", \"43700\", \"43700\", \"43700\", \"43700\", \"43700\", \"43700\", \"39900\", \"39900\", \"39900\", \"39900\", \"39900\", \"39900\", \"49600\", \"41100\", \"36100\", \"41800\", \"34300\", \"44000\", \"31500\", \"38500\", \"45400\", \"38200\", \"38200\", \"47500\", \"34000\", \"31700\", \"49100\", \"38400\", \"35100\", \"34800\", \"35300\", \"35700\", \"36800\", \"48700\", \"35600\", \"44300\", \"37700\", \"40300\", \"48700\", \"34900\", \"32300\", \"32300\", \"34400\", \"25800\", \"38300\", \"45100\", \"42100\", \"38900\", \"43300\", \"52400\", \"42600\", \"52900\", \"46900\", \"43200\", \"42700\", \"42900\", \"56600\", \"37900\", \"37200\", \"36500\", \"49100\", \"37500\", \"47400\", \"42800\", \"42500\", \"43700\", \"53100\", \"66200\", \"39500\", \"38100\", \"81800\", \"45800\", \"34400\", \"41900\", \"37000\", \"39900\", \"66600\", \"56300\", \"43300\", \"40500\", \"35200\", \"49100\", \"45800\", \"38900\", \"53300\", \"56300\", \"48900\", \"51800\", \"39000\", \"29900\", \"40900\", \"40400\", \"54300\", \"67500\", \"33000\", \"77200\", \"33300\", \"40300\", \"47400\", \"45700\", \"37000\", \"37500\", \"37200\", \"43200\", \"43100\", \"49600\", \"48200\", \"37400\", \"41500\", \"48500\", \"48500\", \"48500\", \"48500\", \"48500\", \"48500\", \"48500\", \"48500\", \"48500\", \"48500\", \"48500\", \"48500\", \"48500\", \"48500\", \"48500\", \"48500\", \"48500\", \"48500\", \"48500\", \"48500\", \"82400\", \"49100\", \"30800\", \"33500\", \"91800\", \"50700\", \"50700\", \"50700\", \"50700\", \"50700\", \"35800\", \"59200\", \"44400\", \"44700\", \"48200\", \"47400\", \"56600\", \"51200\", \"44400\", \"39600\", \"52500\", \"36900\", \"29900\", \"43700\", \"74500\", \"43600\", \"46700\", \"42200\", \"53200\", \"50300\", \"33600\", \"48000\", \"63100\", \"39600\", \"49800\", \"46800\", \"34300\", \"35900\", \"39700\", \"54900\", \"28100\", \"50900\", \"31500\", \"29900\", \"33500\", \"31000\", \"37500\", \"32500\", \"33600\", \"36700\", \"32200\", \"31300\", \"42000\", \"35800\", \"33000\", \"43000\", \"43000\", \"27000\", \"32400\", \"31500\", \"37100\", \"28400\", \"36300\", \"31200\", \"36200\", \"50000\", \"41600\", \"34900\", \"36700\", \"35500\", \"33800\", \"34100\", \"34500\", \"54200\", \"42000\", \"38800\", \"40200\", \"45000\", \"34100\", \"52200\", \"43000\", \"38100\", \"34900\", \"36300\", \"43900\", \"38300\", \"39800\", \"34600\", \"33200\", \"36300\", \"27700\", \"36900\", \"28900\", \"42100\", \"23300\", \"27700\", \"33600\", \"36600\", \"37000\", \"36400\", \"37000\", \"49600\", \"28800\", \"37700\", \"37100\", \"43400\", \"35000\", \"37600\", \"39500\", \"37300\", \"41200\", \"64500\", \"41400\", \"38500\", \"48300\", \"49400\", \"40900\", \"41500\", \"42500\", \"37100\", \"44500\", \"38900\", \"35500\", \"37600\", \"40500\", \"46600\", \"47100\", \"42800\", \"49900\", \"36600\", \"31800\", \"44400\", \"39400\", \"43800\", \"47700\", \"40800\", \"41600\", \"38400\", \"39100\", \"43300\", \"45100\", \"38600\", \"40200\", \"27100\", \"34900\", \"64300\", \"45800\", \"48900\", \"42600\", \"38800\", \"45400\", \"57300\", \"33200\", \"50000\", \"40000\", \"44400\", \"39200\", \"36900\", \"41600\", \"40000\", \"55500\", \"46700\", \"54900\", \"51100\", \"38900\", \"42300\", \"49900\", \"44200\", \"44400\", \"44000\", \"30500\", \"49300\", \"42000\", \"44000\", \"54600\", \"40000\", \"40600\", \"56800\", \"41000\", \"38400\", \"42400\", \"51000\", \"47900\", \"36000\", \"40800\", \"31500\", \"32800\", \"55600\", \"35200\", \"45200\", \"41500\", \"40300\", \"41100\", \"55400\", \"41200\", \"43600\", \"38300\", \"38600\", \"36600\", \"58100\", \"48700\", \"41700\", \"32200\", \"53800\", \"35200\", \"39900\", \"42100\", \"36200\", \"50500\", \"52300\", \"33200\", \"42600\", \"46200\", \"40900\", \"60700\", \"43000\", \"41400\", \"34900\", \"36800\", \"37300\", \"60500\", \"42200\", \"60700\", \"63200\", \"33300\", \"31400\", \"39300\", \"72300\", \"44900\", \"42500\", \"34300\", \"54100\", \"38400\", \"47700\", \"45000\", \"47200\", \"55500\", \"43100\", \"48600\", \"54800\", \"44400\", \"46600\", \"43200\", \"27300\", \"39100\", \"26700\", \"41800\", \"30600\", \"35600\", \"32100\", \"30100\", \"34300\", \"44000\", \"38800\", \"29200\", \"34500\", \"44000\", \"40200\", \"44000\", \"42100\", \"37100\", \"55800\", \"47400\", \"41400\", \"44500\", \"42800\", \"42400\", \"41100\", \"39700\", \"59000\", \"67400\", \"39300\", \"33000\", \"43900\", \"45100\", \"34300\", \"41100\", \"41900\", \"44000\", \"38900\", \"44700\", \"40900\", \"41200\", \"37800\", \"44300\", \"35700\", \"54200\", \"42300\", \"45400\", \"40200\", \"39000\", \"46200\", \"32200\", \"85700\", \"55000\", \"53200\", \"45100\", \"54800\", \"54800\", \"29300\", \"33400\", \"45400\", \"41700\", \"51200\", \"31700\", \"45400\", \"50900\", \"41000\", \"55800\", \"55800\", \"55800\", \"52400\", \"35300\", \"46900\", \"81300\", \"36700\", \"34700\", \"44200\", \"44200\", \"41800\", \"45400\", \"41500\", \"46400\", \"41800\", \"49800\", \"50500\", \"43000\", \"48500\", \"49100\", \"61200\", \"58500\", \"32400\", \"40600\", \"64000\", \"45400\"], \"z\": [0.034, 0.5863, 0.7024, 0.0165, 0.7807, 0.5355, 0.8420000000000001, 0.7912, 0.3996, 0.631, 0.6981, 0.7802, 0.4511, 0.6067, 0.6159, 0.7164, 0.7102, 0.0047, 0.8143, 0.5896, 0.6852, 0.5828, 0.0581, 0.5345, 0.0044, 0.4208, 0.5512, 0.523, 0.665, 0.5606, 0.5158, 0.7481, 0.7722, 0.0439, 0.7431, 0.7285, 0.6574, 0.6667, 0.8301, 0.6586, 0.7782, 0.7441, 0.8498, 0.6563, 0.7508, 0.8306, 0.6327, 0.4375, 0.4895, 0.3916, 0.2737, 0.4925, 0.575, 0.1409, 0.1936, 0.4601, 0.2134, 0.2211, 0.1881, 0.0714, 0.2278, 0.29, 0.2689, 0.2832, 0.1493, 0.2714, 0.1321, 0.2144, 0.3454, 0.3301, 0.584, 0.4498, 0.4641, 0.4226, 0.3652, 0.354, 0.38299999999999995, 0.2115, 0.4491, 0.4846, 0.2245, 0.1371, 0.6492, 0.4489, 0.2895, 0.4765, 0.3529, 0.0932, 0.2516, 0.4887, 0.2457, 0.4199, 0.2566, 0.2726, 0.4738, 0.5856, 0.3976, 0.4751, 0.3414, 0.5332, 0.2062, 0.2703, 0.6578, 0.1922, 0.4869, 0.4835, 0.5954, 0.4633, 0.4795, 0.4531, 0.1294, 0.4013, 0.6976, 0.6366, 0.3135, 0.3398, 0.4935, 0.5063, 0.6652, 0.7059, 0.7471, 0.7365, 0.6747, 0.5187, 0.7006, 0.5835, 0.5554, 0.5922, 0.4845, 0.7455, 0.2358, 0.6478, 0.606, 0.5567, 0.5931, 0.3959, 0.7661, 0.5354, 0.5725, 0.5598, 0.4651, 0.1104, 0.7436, 0.371, 0.5816, 0.4863, 0.5627, 0.5785, 0.0169, 0.7899, 0.2128, 0.4415, 0.5871, 0.5325, 0.7587, 0.0441, 0.0322, 0.4314, 0.7744, 0.7755, 0.4278, 0.419, 0.0945, 0.7396, 0.6438, 0.569, 0.12, 0.4187, 0.6863, 0.3143, 0.6162, 0.5137, 0.1032, 0.6175, 0.5917, 0.6114, 0.5074, 0.4006, 0.3715, 0.6526, 0.7899, 0.0427, 0.5702, 0.4435, 0.0004, 0.8109, 0.5064, 0.6623, 0.5143, 0.8669, 0.6723, 0.4058, 0.0171, 0.5082, 0.6228, 0.8486, 0.6236, 0.2636, 0.7115, 0.5006, 0.6818, 0.4763, 0.0014, 0.336, 0.0218, 0.7095, 0.6834, 0.5395, 0.0389, 0.6186, 0.0005, 0.7633, 0.8378, 0.5063, 0.4997, 0.7599, 0.1765, 0.2218, 0.1745, 0.8811, 0.7368, 0.7585, 0.8178, 0.7496, 0.7889, 0.3633, 0.5641, 0.7979, 0.6413, 0.0273, 0.4451, 0.5356, 0.6804, 0.6701, 0.8394, 0.3642, 0.6248, 0.9979, 0.3403, 0.4816, 0.7132, 0.3257, 0.769, 0.5818, 0.639, 0.7984, 0.4544, 0.5814, 0.7434, 0.6793, 0.7321, 0.6257, 0.706, 0.4942, 0.5718, 0.5037, 0.3346, 0.7934, 0.6986, 0.6689, 0.4495, 0.3784, 0.6742, 0.4488, 0.6255, 0.6371, 0.7315, 0.6502, 0.6313, 0.6214, 0.7559999999999999, 0.804, 0.8109999999999999, 0.7611, 0.8178, 0.7052, 0.7289, 0.8429, 0.6548, 0.7897, 0.8172, 0.6544, 0.8575, 0.8206, 0.7151, 0.7043, 0.3515, 0.8707, 0.6554, 0.8434, 0.7392, 0.7119, 0.5514, 0.8464, 0.8714, 0.8048, 0.7191, 0.7264, 0.6921, 0.6971, 0.5474, 0.8075, 0.7378, 0.8115, 0.7996, 0.7513, 0.7819, 0.8981, 0.8564, 0.7933, 0.7206, 0.7356, 0.8009, 0.8735, 0.8484, 0.7442, 0.6618, 0.731, 0.7929, 0.627, 0.75, 0.9065, 0.6089, 0.7231, 0.5628, 0.7576, 0.5165, 0.6729999999999999, 0.8352, 0.8395, 0.7912, 0.8065, 0.8347, 0.8284, 0.7959999999999999, 0.8819, 0.6626, 0.6577, 0.7722, 0.7085, 0.7998, 0.6016, 0.6981, 0.6825, 0.0, 0.7239, 0.6652, 0.6887, 0.7687, 0.6983, 0.6042, 0.5736, 0.5413, 0.6793, 0.6413, 0.6292, 0.9513, 0.8129, 0.8498, 0.6014, 0.6598, 0.7269, 0.7779, 0.7613, 0.8499, 0.7908, 0.2691, 0.7337, 0.7622, 0.6786, 0.7595, 0.8949, 0.8113, 0.8228, 0.8095, 0.7328, 0.6747, 0.7576, 0.7154, 0.7629, 0.6692, 0.0008, 0.0107, 0.6656, 0.7288, 0.5708, 0.6277, 0.6844, 0.5101, 0.6744, 0.5381, 0.6779999999999999, 0.621, 0.5427, 0.601, 0.6406, 0.0235, 0.0318, 0.6687, 0.6956, 0.0358, 0.9620000000000001, 0.616, 0.7475, 0.8240000000000001, 0.9122, 0.7952, 0.5453, 0.8169, 0.3378, 0.0263, 0.4349, 0.1569, 0.0163, 0.5503, 0.4128, 0.4357, 0.5216, 0.4813, 0.0957, 0.0181, 0.6821, 0.5554, 0.7144, 0.6052, 0.5727, 0.6956, 0.3904, 0.4212, 0.3839, 0.9155, 0.7028, 0.619, 0.6171, 0.4304, 0.4693, 0.7751, 0.6916, 0.5253, 0.6669, 0.7324, 0.7183, 0.7248, 0.4399, 0.7215, 0.6712, 0.6351, 0.6702, 0.3623, 0.4168, 0.6308, 0.3657, 0.8712, 0.6219, 0.7372, 0.4787, 0.5623, 0.0469, 0.6674, 0.8149, 0.6384, 0.4021, 0.5817, 0.3959, 0.6026, 0.7333, 0.7732, 0.6044, 0.5357, 0.7102, 0.7207, 0.7669, 0.8283, 0.2882, 0.8227, 0.7368, 0.7876, 0.7912, 0.7834, 0.5839, 0.6466, 0.6501, 0.7885, 0.758, 0.7777, 0.8258, 0.8374, 0.8009999999999999, 0.604, 0.6327, 0.1731, 0.599, 0.6156, 0.6742, 0.8609, 0.6920000000000001, 0.6659999999999999, 0.8498, 0.6698, 0.7556, 0.7492, 0.8039, 0.7076, 0.5963, 0.7693, 0.6482, 0.5691, 0.7236, 0.5296, 0.8521, 0.8801, 0.7774, 0.6336, 0.9344, 0.7217, 0.6552, 0.7625, 0.6971, 0.7818, 0.5898, 0.8582, 0.6198, 0.7776, 0.7907, 0.8388, 0.8496, 0.7916, 0.7271, 0.8042, 0.5899, 0.7454, 0.7423, 0.8292, 0.8117, 0.6374, 0.7957, 0.8674, 0.0271, 0.8555, 0.5713, 0.0409, 0.7358, 0.7816, 0.5666, 0.0277, 0.6653, 0.7211, 0.0047, 0.6091, 0.0047, 0.5984, 0.5895, 0.7965, 0.8229, 0.7828, 0.7667, 0.3111, 0.6012, 0.7081, 0.7979, 0.7806, 0.7099, 0.6293, 0.5621, 0.754, 0.6885, 0.7724, 0.787, 0.5764, 0.7815, 0.6251, 0.7989, 0.7863, 0.9278, 0.7241, 0.6804, 0.6144, 0.5655, 0.8296, 0.6944, 0.7748, 0.8085, 0.5454, 0.5994, 0.6543, 0.7806, 0.7076, 0.8634, 0.8046, 0.7597, 0.8565, 0.792, 0.7478, 0.7781, 0.7642, 0.912, 0.7546, 0.71, 0.8177, 0.7026, 0.8005, 0.7908, 0.8549, 0.4434, 0.6888, 0.8456, 0.7709, 0.5472, 0.9407, 0.599, 0.35200000000000004, 0.6047, 0.7269, 0.4874, 0.755, 0.8076, 0.865, 0.7414, 0.0965, 0.3928, 0.5549, 0.253, 0.3013, 0.5764, 0.5865, 0.6887, 0.22899999999999998, 0.36, 0.7436, 0.3348, 0.4454, 0.6404, 0.6247, 0.5479, 0.4157, 0.24600000000000002, 0.1766, 0.5079, 0.3213, 0.66, 0.7203, 0.6559999999999999, 0.4336, 0.1502, 0.4591, 0.3333, 0.3178, 0.042, 0.5346, 0.3029, 0.354, 0.4865, 0.3635, 0.1515, 0.29600000000000004, 0.2569, 0.2347, 0.545, 0.6523, 0.6602, 0.5315, 0.7273, 0.8367, 0.6687, 0.3798, 0.3375, 0.4093, 0.2269, 0.3268, 0.1497, 0.2665, 0.1792, 0.062, 0.2911, 0.0625, 0.7411, 0.3253, 0.5928, 0.7771, 0.5779, 0.5518, 0.7978, 0.2005, 0.4589, 0.4, 0.5699, 0.5653, 0.5766, 0.5989, 0.6145, 0.268, 0.0688, 0.3371, 0.6818, 0.2007, 0.479, 0.2026, 0.5042, 0.4032, 0.5907, 0.7441, 0.6579999999999999, 0.6897, 0.3991, 0.5188, 0.6365, 0.6134, 0.8433, 0.3423, 0.7609999999999999, 0.7070000000000001, 0.6046, 0.6849, 0.489, 0.5584, 0.47700000000000004, 0.3621, 0.8184, 0.7892, 0.7164, 0.5138, 0.7805, 0.7435, 0.6347, 0.7847, 0.7539, 0.5473, 0.3044, 0.6802, 0.7133, 0.5546, 0.7478, 0.5928, 0.3404, 0.6241, 0.9372, 0.8471, 0.5569, 0.4507, 0.8794, 0.6162, 0.6898, 0.1684, 0.6796, 0.46299999999999997, 0.6868, 0.1449, 0.8159, 0.1866, 0.6664, 0.529, 0.7941, 0.408, 0.0036, 0.6856, 0.0032, 0.2401, 0.6807, 0.7075, 0.4758, 0.6354, 0.5035, 0.0467, 0.8043, 0.637, 0.5977, 0.5238, 0.0647, 0.7188, 0.7382, 0.3177, 0.7812, 0.4509, 0.3656, 0.5193, 0.769, 0.5487, 0.6847, 0.0111, 0.5456, 0.4839, 0.7583, 0.6511, 0.1554, 0.7936, 0.7601, 0.7793, 0.84, 0.6663, 0.8254, 0.8647, 0.7419, 0.8131, 0.7423, 0.8522, 0.7879, 0.7679, 0.8895, 0.8463, 0.8258, 0.7753, 0.7468, 0.5164, 0.868, 0.013999999999999999, 0.7965, 0.7451, 0.7476, 0.8104, 0.5985, 0.6867, 0.6376, 0.7825, 0.7994, 0.7988, 0.852, 0.7636, 0.6811, 0.8567, 0.8473, 0.845, 0.8273, 0.8079999999999999, 0.8855, 0.8837, 0.7478, 0.7732, 0.7303, 0.7741, 0.7378, 0.8415, 0.7012, 0.7844, 0.7905, 0.7745, 0.8595, 0.8244, 0.8493, 0.7842, 0.5956, 0.6813, 0.6134, 0.8445, 0.9363, 0.8545, 0.7776, 0.8238, 0.7206, 0.7105, 0.8636, 0.8779, 0.8893, 0.8711, 0.8303, 0.8749, 0.9722, 0.7597, 0.8286, 0.6909, 0.5696, 0.6209, 0.0119, 0.8004, 0.6876, 0.7211, 0.9002, 0.7170000000000001, 0.7568, 0.1267, 0.5938, 0.5683, 0.5516, 0.5318, 0.4966, 0.6253, 0.7274, 0.6886, 0.5925, 0.6964, 0.7056, 0.6086, 0.6183, 0.4876, 0.5788, 0.6271, 0.5536, 0.4384, 0.6673, 0.5577, 0.643, 0.7613, 0.6845, 0.5995, 0.7727, 0.7203, 0.6661, 0.5971, 0.5239, 0.5885, 0.6079, 0.6046, 0.6026, 0.7447, 0.6171, 0.6614, 0.7455, 0.6895, 0.6809, 0.797, 0.3565, 0.7675, 0.7743, 0.6137, 0.3171, 0.6221, 0.6009, 0.395, 0.83, 0.76, 0.5426, 0.8141, 0.6639, 0.5016, 0.8127, 0.8604, 0.7621, 0.8417, 0.568, 0.607, 0.625, 0.7389, 0.7509999999999999, 0.7721, 0.7737, 0.6181, 0.5293, 0.6655, 0.4805, 0.6563, 0.0112, 0.8422, 0.9789, 0.6976, 0.4106, 0.8232, 0.7857, 0.8274, 0.7642, 0.9184, 0.7167, 0.7806, 0.5441, 0.7867, 0.8712, 0.8463, 0.8783, 0.8118, 0.6365, 0.7656, 0.7543, 0.6803, 0.589, 0.629, 0.9375, 0.8867, 0.6016, 0.6861, 0.6053, 0.8047, 0.5049, 0.6875, 0.6257, 0.4495, 0.5499, 0.6161, 0.7189, 0.415, 0.7319, 0.78, 0.8738, 0.7449, 0.6784, 0.7111, 0.8011, 0.7509, 0.3837, 0.465, 0.8471, 0.8189, 0.9714, 0.7815, 0.8582, 0.4221, 0.7905, 0.565, 0.3234, 0.7444, 0.9149, 0.779, 0.7724, 0.6976, 0.7269, 0.659, 0.8267, 0.4294, 0.6165, 0.7066, 0.3138, 0.8283, 0.6112, 0.8032, 0.7668, 0.0108, 0.8346, 0.5225, 0.7153, 0.5473, 0.6990000000000001, 0.6748, 0.4573, 0.5764, 0.4237, 0.5916, 0.8038, 0.7747, 0.5768, 0.5717, 0.7684, 0.5882, 0.551, 0.4568, 0.2505, 0.6848, 0.0245, 0.5595, 0.5709, 0.5802, 0.8094, 0.8439, 0.8305, 0.8434, 0.8818, 0.8051, 0.8258, 0.6782, 0.8392, 0.8831, 0.8911, 0.8540000000000001, 0.6925, 0.6302, 0.5102, 0.7994, 0.4618, 0.8223, 0.8328, 0.4339, 0.6276, 0.7652, 0.8215, 0.0074, 0.8508, 0.775, 0.7333, 0.8703, 0.8137, 0.0145, 0.0011, 0.7878, 0.8270000000000001, 0.7788, 0.5019, 0.6447, 0.7440000000000001, 0.8712, 0.7751, 0.7483, 0.7897, 0.7655, 0.8140000000000001, 0.6884, 0.74, 0.7034, 0.5491, 0.6449, 0.5138, 0.5255, 0.6408, 0.512, 0.3793, 0.5988, 0.4381, 0.6512, 0.6435, 0.6285, 0.4988, 0.7098, 0.2705, 0.4294, 0.1655, 0.2571, 0.6112, 0.0517, 0.1936, 0.4761, 0.0202, 0.6591, 0.6676, 0.5657, 0.521, 0.523, 0.4656, 0.1875, 0.1268, 0.0288, 0.019, 0.0274, 0.3707, 0.3731, 0.2767, 0.5254, 0.5543, 0.1453, 0.6531, 0.629, 0.6158, 0.5743, 0.4906, 0.2058, 0.2346, 0.6835, 0.1773, 0.6455, 0.39899999999999997, 0.4427, 0.3744, 0.0656, 0.5767, 0.7349, 0.5462, 0.4009, 0.2498, 0.024, 0.6004, 0.2994, 0.3908, 0.5513, 0.4214, 0.5998, 0.8327, 0.3672, 0.7726, 0.8057, 0.7, 0.7269, 0.8339, 0.7008, 0.807, 0.825, 0.6479, 0.5081, 0.8191, 0.5772, 0.6459, 0.7345, 0.5906, 0.5837, 0.7423, 0.7307, 0.7094, 0.5211, 0.4339, 0.8086, 0.0191, 0.6397, 0.7597, 0.4639, 0.7547, 0.7277, 0.5842, 0.703, 0.4043, 0.0456, 0.4664, 0.7829, 0.6767, 0.5941, 0.82, 0.5861, 0.7995, 0.7076, 0.7789, 0.6774, 0.4964, 0.6027, 0.8026, 0.0261, 0.0146, 0.5392, 0.8227, 0.5896, 0.6656, 0.6545, 0.7243, 0.6919, 0.675, 0.5392, 0.6073, 0.445, 0.6921, 0.6266, 0.4245, 0.7282, 0.7249, 0.7251, 0.9653, 0.5114, 0.8526, 0.5762, 0.8590000000000001, 0.6444, 0.8619, 0.6766, 0.8436, 0.6912, 0.8151, 0.6458, 0.7929, 0.7151, 0.787, 0.8062, 0.7529, 0.5236, 0.9308, 0.5413, 0.833, 0.7498, 0.7228, 0.7958, 0.7741, 0.8231, 0.7269, 0.6555, 0.4884, 0.8282, 0.8348, 0.8869, 0.8170000000000001, 0.8942, 0.8196, 0.8925, 0.8568, 0.8965, 0.8314, 0.8654, 0.6845, 0.8735, 0.8086, 0.762, 0.6772, 0.9048, 0.8871, 0.8664, 0.7625, 0.0539, 0.3737, 0.6464, 0.6825, 0.3017, 0.4189, 0.43200000000000005, 0.4353, 0.6937, 0.5051, 0.8606, 0.9292, 0.8887, 0.5529999999999999, 0.9588, 0.6582, 0.5306, 0.6943, 0.4147, 0.6257, 0.6208, 0.7775, 0.4055, 0.6184, 0.8462, 0.8168, 0.2153, 0.6511, 0.5218, 0.3793, 0.7179, 0.7152, 0.7861, 0.3059, 0.1953, 0.7142, 0.8399, 0.5239, 0.5431, 0.5372, 0.7651, 0.4227, 0.6391]}],\n",
              "                        {\"scene\": {\"xaxis\": {\"title\": {\"text\": \"SAT Average\"}}, \"yaxis\": {\"title\": {\"text\": \"Average Salary\"}}, \"zaxis\": {\"title\": {\"text\": \"Percentage White\"}}}, \"template\": {\"data\": {\"bar\": [{\"error_x\": {\"color\": \"#2a3f5f\"}, \"error_y\": {\"color\": \"#2a3f5f\"}, \"marker\": {\"line\": {\"color\": \"#E5ECF6\", \"width\": 0.5}}, \"type\": \"bar\"}], \"barpolar\": [{\"marker\": {\"line\": {\"color\": \"#E5ECF6\", \"width\": 0.5}}, \"type\": \"barpolar\"}], \"carpet\": [{\"aaxis\": {\"endlinecolor\": \"#2a3f5f\", \"gridcolor\": \"white\", \"linecolor\": \"white\", \"minorgridcolor\": \"white\", \"startlinecolor\": \"#2a3f5f\"}, \"baxis\": {\"endlinecolor\": \"#2a3f5f\", \"gridcolor\": \"white\", \"linecolor\": \"white\", \"minorgridcolor\": \"white\", \"startlinecolor\": \"#2a3f5f\"}, \"type\": \"carpet\"}], \"choropleth\": [{\"colorbar\": {\"outlinewidth\": 0, \"ticks\": \"\"}, \"type\": \"choropleth\"}], \"contour\": [{\"colorbar\": {\"outlinewidth\": 0, \"ticks\": \"\"}, \"colorscale\": [[0.0, \"#0d0887\"], [0.1111111111111111, \"#46039f\"], [0.2222222222222222, \"#7201a8\"], [0.3333333333333333, \"#9c179e\"], [0.4444444444444444, \"#bd3786\"], [0.5555555555555556, \"#d8576b\"], [0.6666666666666666, \"#ed7953\"], [0.7777777777777778, \"#fb9f3a\"], [0.8888888888888888, \"#fdca26\"], [1.0, \"#f0f921\"]], \"type\": \"contour\"}], \"contourcarpet\": [{\"colorbar\": {\"outlinewidth\": 0, \"ticks\": \"\"}, \"type\": \"contourcarpet\"}], \"heatmap\": [{\"colorbar\": {\"outlinewidth\": 0, \"ticks\": \"\"}, \"colorscale\": [[0.0, \"#0d0887\"], [0.1111111111111111, \"#46039f\"], [0.2222222222222222, \"#7201a8\"], [0.3333333333333333, \"#9c179e\"], [0.4444444444444444, \"#bd3786\"], [0.5555555555555556, \"#d8576b\"], [0.6666666666666666, \"#ed7953\"], [0.7777777777777778, \"#fb9f3a\"], [0.8888888888888888, \"#fdca26\"], [1.0, \"#f0f921\"]], \"type\": \"heatmap\"}], \"heatmapgl\": [{\"colorbar\": {\"outlinewidth\": 0, \"ticks\": \"\"}, \"colorscale\": [[0.0, \"#0d0887\"], [0.1111111111111111, \"#46039f\"], [0.2222222222222222, \"#7201a8\"], [0.3333333333333333, \"#9c179e\"], [0.4444444444444444, \"#bd3786\"], [0.5555555555555556, \"#d8576b\"], [0.6666666666666666, \"#ed7953\"], [0.7777777777777778, \"#fb9f3a\"], [0.8888888888888888, \"#fdca26\"], [1.0, \"#f0f921\"]], \"type\": \"heatmapgl\"}], \"histogram\": [{\"marker\": {\"colorbar\": {\"outlinewidth\": 0, \"ticks\": \"\"}}, \"type\": \"histogram\"}], \"histogram2d\": [{\"colorbar\": {\"outlinewidth\": 0, \"ticks\": \"\"}, \"colorscale\": [[0.0, \"#0d0887\"], [0.1111111111111111, \"#46039f\"], [0.2222222222222222, \"#7201a8\"], [0.3333333333333333, \"#9c179e\"], [0.4444444444444444, \"#bd3786\"], [0.5555555555555556, \"#d8576b\"], [0.6666666666666666, \"#ed7953\"], [0.7777777777777778, \"#fb9f3a\"], [0.8888888888888888, \"#fdca26\"], [1.0, \"#f0f921\"]], \"type\": \"histogram2d\"}], \"histogram2dcontour\": [{\"colorbar\": {\"outlinewidth\": 0, \"ticks\": \"\"}, \"colorscale\": [[0.0, \"#0d0887\"], [0.1111111111111111, \"#46039f\"], [0.2222222222222222, \"#7201a8\"], [0.3333333333333333, \"#9c179e\"], [0.4444444444444444, \"#bd3786\"], [0.5555555555555556, \"#d8576b\"], [0.6666666666666666, \"#ed7953\"], [0.7777777777777778, \"#fb9f3a\"], [0.8888888888888888, \"#fdca26\"], [1.0, \"#f0f921\"]], \"type\": \"histogram2dcontour\"}], \"mesh3d\": [{\"colorbar\": {\"outlinewidth\": 0, \"ticks\": \"\"}, \"type\": \"mesh3d\"}], \"parcoords\": [{\"line\": {\"colorbar\": {\"outlinewidth\": 0, \"ticks\": \"\"}}, \"type\": \"parcoords\"}], \"pie\": [{\"automargin\": true, \"type\": \"pie\"}], \"scatter\": [{\"marker\": {\"colorbar\": {\"outlinewidth\": 0, \"ticks\": \"\"}}, \"type\": \"scatter\"}], \"scatter3d\": [{\"line\": {\"colorbar\": {\"outlinewidth\": 0, \"ticks\": \"\"}}, \"marker\": {\"colorbar\": {\"outlinewidth\": 0, \"ticks\": \"\"}}, \"type\": \"scatter3d\"}], \"scattercarpet\": [{\"marker\": {\"colorbar\": {\"outlinewidth\": 0, \"ticks\": \"\"}}, \"type\": \"scattercarpet\"}], \"scattergeo\": [{\"marker\": {\"colorbar\": {\"outlinewidth\": 0, \"ticks\": \"\"}}, \"type\": \"scattergeo\"}], \"scattergl\": [{\"marker\": {\"colorbar\": {\"outlinewidth\": 0, \"ticks\": \"\"}}, \"type\": \"scattergl\"}], \"scattermapbox\": [{\"marker\": {\"colorbar\": {\"outlinewidth\": 0, \"ticks\": \"\"}}, \"type\": \"scattermapbox\"}], \"scatterpolar\": [{\"marker\": {\"colorbar\": {\"outlinewidth\": 0, \"ticks\": \"\"}}, \"type\": \"scatterpolar\"}], \"scatterpolargl\": [{\"marker\": {\"colorbar\": {\"outlinewidth\": 0, \"ticks\": \"\"}}, \"type\": \"scatterpolargl\"}], \"scatterternary\": [{\"marker\": {\"colorbar\": {\"outlinewidth\": 0, \"ticks\": \"\"}}, \"type\": \"scatterternary\"}], \"surface\": [{\"colorbar\": {\"outlinewidth\": 0, \"ticks\": \"\"}, \"colorscale\": [[0.0, \"#0d0887\"], [0.1111111111111111, \"#46039f\"], [0.2222222222222222, \"#7201a8\"], [0.3333333333333333, \"#9c179e\"], [0.4444444444444444, \"#bd3786\"], [0.5555555555555556, \"#d8576b\"], [0.6666666666666666, \"#ed7953\"], [0.7777777777777778, \"#fb9f3a\"], [0.8888888888888888, \"#fdca26\"], [1.0, \"#f0f921\"]], \"type\": \"surface\"}], \"table\": [{\"cells\": {\"fill\": {\"color\": \"#EBF0F8\"}, \"line\": {\"color\": \"white\"}}, \"header\": {\"fill\": {\"color\": \"#C8D4E3\"}, \"line\": {\"color\": \"white\"}}, \"type\": \"table\"}]}, \"layout\": {\"annotationdefaults\": {\"arrowcolor\": \"#2a3f5f\", \"arrowhead\": 0, \"arrowwidth\": 1}, \"coloraxis\": {\"colorbar\": {\"outlinewidth\": 0, \"ticks\": \"\"}}, \"colorscale\": {\"diverging\": [[0, \"#8e0152\"], [0.1, \"#c51b7d\"], [0.2, \"#de77ae\"], [0.3, \"#f1b6da\"], [0.4, \"#fde0ef\"], [0.5, \"#f7f7f7\"], [0.6, \"#e6f5d0\"], [0.7, \"#b8e186\"], [0.8, \"#7fbc41\"], [0.9, \"#4d9221\"], [1, \"#276419\"]], \"sequential\": [[0.0, \"#0d0887\"], [0.1111111111111111, \"#46039f\"], [0.2222222222222222, \"#7201a8\"], [0.3333333333333333, \"#9c179e\"], [0.4444444444444444, \"#bd3786\"], [0.5555555555555556, \"#d8576b\"], [0.6666666666666666, \"#ed7953\"], [0.7777777777777778, \"#fb9f3a\"], [0.8888888888888888, \"#fdca26\"], [1.0, \"#f0f921\"]], \"sequentialminus\": [[0.0, \"#0d0887\"], [0.1111111111111111, \"#46039f\"], [0.2222222222222222, \"#7201a8\"], [0.3333333333333333, \"#9c179e\"], [0.4444444444444444, \"#bd3786\"], [0.5555555555555556, \"#d8576b\"], [0.6666666666666666, \"#ed7953\"], [0.7777777777777778, \"#fb9f3a\"], [0.8888888888888888, \"#fdca26\"], [1.0, \"#f0f921\"]]}, \"colorway\": [\"#636efa\", \"#EF553B\", \"#00cc96\", \"#ab63fa\", \"#FFA15A\", \"#19d3f3\", \"#FF6692\", \"#B6E880\", \"#FF97FF\", \"#FECB52\"], \"font\": {\"color\": \"#2a3f5f\"}, \"geo\": {\"bgcolor\": \"white\", \"lakecolor\": \"white\", \"landcolor\": \"#E5ECF6\", \"showlakes\": true, \"showland\": true, \"subunitcolor\": \"white\"}, \"hoverlabel\": {\"align\": \"left\"}, \"hovermode\": \"closest\", \"mapbox\": {\"style\": \"light\"}, \"paper_bgcolor\": \"white\", \"plot_bgcolor\": \"#E5ECF6\", \"polar\": {\"angularaxis\": {\"gridcolor\": \"white\", \"linecolor\": \"white\", \"ticks\": \"\"}, \"bgcolor\": \"#E5ECF6\", \"radialaxis\": {\"gridcolor\": \"white\", \"linecolor\": \"white\", \"ticks\": \"\"}}, \"scene\": {\"xaxis\": {\"backgroundcolor\": \"#E5ECF6\", \"gridcolor\": \"white\", \"gridwidth\": 2, \"linecolor\": \"white\", \"showbackground\": true, \"ticks\": \"\", \"zerolinecolor\": \"white\"}, \"yaxis\": {\"backgroundcolor\": \"#E5ECF6\", \"gridcolor\": \"white\", \"gridwidth\": 2, \"linecolor\": \"white\", \"showbackground\": true, \"ticks\": \"\", \"zerolinecolor\": \"white\"}, \"zaxis\": {\"backgroundcolor\": \"#E5ECF6\", \"gridcolor\": \"white\", \"gridwidth\": 2, \"linecolor\": \"white\", \"showbackground\": true, \"ticks\": \"\", \"zerolinecolor\": \"white\"}}, \"shapedefaults\": {\"line\": {\"color\": \"#2a3f5f\"}}, \"ternary\": {\"aaxis\": {\"gridcolor\": \"white\", \"linecolor\": \"white\", \"ticks\": \"\"}, \"baxis\": {\"gridcolor\": \"white\", \"linecolor\": \"white\", \"ticks\": \"\"}, \"bgcolor\": \"#E5ECF6\", \"caxis\": {\"gridcolor\": \"white\", \"linecolor\": \"white\", \"ticks\": \"\"}}, \"title\": {\"x\": 0.05}, \"xaxis\": {\"automargin\": true, \"gridcolor\": \"white\", \"linecolor\": \"white\", \"ticks\": \"\", \"title\": {\"standoff\": 15}, \"zerolinecolor\": \"white\", \"zerolinewidth\": 2}, \"yaxis\": {\"automargin\": true, \"gridcolor\": \"white\", \"linecolor\": \"white\", \"ticks\": \"\", \"title\": {\"standoff\": 15}, \"zerolinecolor\": \"white\", \"zerolinewidth\": 2}}}, \"title\": {\"text\": \"University Data\"}},\n",
              "                        {\"responsive\": true}\n",
              "                    ).then(function(){\n",
              "                            \n",
              "var gd = document.getElementById('4c4142e2-7cf6-4865-b8f7-525057efe297');\n",
              "var x = new MutationObserver(function (mutations, observer) {{\n",
              "        var display = window.getComputedStyle(gd).display;\n",
              "        if (!display || display === 'none') {{\n",
              "            console.log([gd, 'removed!']);\n",
              "            Plotly.purge(gd);\n",
              "            observer.disconnect();\n",
              "        }}\n",
              "}});\n",
              "\n",
              "// Listen for the removal of the full notebook cells\n",
              "var notebookContainer = gd.closest('#notebook-container');\n",
              "if (notebookContainer) {{\n",
              "    x.observe(notebookContainer, {childList: true});\n",
              "}}\n",
              "\n",
              "// Listen for the clearing of the current output cell\n",
              "var outputEl = gd.closest('.output');\n",
              "if (outputEl) {{\n",
              "    x.observe(outputEl, {childList: true});\n",
              "}}\n",
              "\n",
              "                        })\n",
              "                };\n",
              "                \n",
              "            </script>\n",
              "        </div>\n",
              "</body>\n",
              "</html>"
            ]
          },
          "metadata": {}
        }
      ]
    },
    {
      "cell_type": "code",
      "metadata": {
        "id": "E0khkLFtdvJr"
      },
      "source": [
        ""
      ],
      "execution_count": null,
      "outputs": []
    }
  ]
}