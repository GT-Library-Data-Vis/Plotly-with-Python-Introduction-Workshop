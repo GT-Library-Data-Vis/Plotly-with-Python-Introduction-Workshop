{
 "cells": [
  {
   "cell_type": "markdown",
   "metadata": {},
   "source": [
    "Survey Link:\n",
    " - https://docs.google.com/forms/d/e/1FAIpQLScpN3Leq765IihESOpakWJgj4MqdtR_jf9GXtlyqrMGA7nYqg/viewform\n",
    " \n",
    "Download this lesson plan:\n",
    " - https://github.com/GTLibraryDataVisualization/Plotly-with-Python-Introduction-Workshop\n",
    " - OR Google: Gt github data visualization\n",
    " \n",
    "Open this lesson plan:\n",
    " - open command prompt -> \"jupyter notebook\"\n",
    "\n",
    "\n",
    "\n",
    "*Lesson Plan for Plotly Lab*\n",
    "\n",
    "What is Python?\n",
    "\n",
    "    Python is a programming language that is easy to learn and reads closer to English than other languages. Identation is VERY important. It is necessary for Python to know \"what comes after what.\"\n",
    "    \n",
    "Basic Types\n",
    "\n",
    "    During this lessson plan we will be using a few different types--\n",
    "        String: a sequence of letters and symbols surrounded by \"\"\n",
    "        Integer: whole number (ex: 5)\n",
    "        float: number with decimal places (ex: 5.3)\n",
    "        Object: a special type that has its own methods we can use.\n",
    "        A method is a series of lines of code that accomplishes some task.\n",
    "        Dataframe: special object imported by the pandas library, allows us\n",
    "        to create a relational way of viewing and manipulating data.\n",
    "        Series/List: simply a list of some form of data.\n",
    "        Dictionary: a series of mappings from one type to another.\n",
    "        \n",
    "What does \"Import\" do?\n",
    "\n",
    "    The import statement gives us functions, objects or a set of objects and functions (known as a\n",
    "    library) that other people created that we would like to use. It saves us from having to write a\n",
    "    bunch of code ourselves. The 'as' keyword lets us address this library as any nickname we give it.\n",
    "    \n",
    "    numpy\n",
    "            Gives us the ability to create a series object, series objects are \n",
    "        what plotly uses to graph.\n",
    "        \n",
    "    pandas\n",
    "            Gives us the ability to create a dataframe from our CSV files.\n",
    "        \n",
    "    plotly\n",
    "            Gives us access to all of the methods we need to create a plotly graph.\n",
    "            \n",
    "    chart_studio.plotly\n",
    "            This gives us easy access to plotly's plotting methods.\n",
    "            \n",
    "    plotly.graph_objs\n",
    "            This is a plotly graph.  we are renaming it for ease later.\n",
    "                \n",
    "    plotly express\n",
    "            This is for our 2D scatterplots that we'll be generating.\n",
    "        "
   ]
  },
  {
   "cell_type": "markdown",
   "metadata": {},
   "source": [
    "Project Set Up For Personal Device:\n",
    "\n",
    "1.) Install Python3 (python.org)\n",
    "\n",
    "2.) Open command prompt:\n",
    "    - windows: [Shift key]+[Right click] on desktop and click \"Open PowerShell window here.\"\n",
    "    - linux / mac: on desktop, press [CTRL]+[ALT]+[T].\n",
    "\n",
    "3.) Verify installation:\n",
    "    - type \"python --version\" and press enter.\n",
    "    - Installation was a success if it returns \"Python 3.x.x.\"\n",
    "    \n",
    "4.) Install all of the needed libraries with the commands:\n",
    "    - pip install plotly\n",
    "    - pip install numpy\n",
    "    - pip install pandas\n",
    "    - pip install chart_studio\n",
    "    - pip install notebook\n",
    "    - pip install plotly-express\n",
    "    \n",
    "    OR\n",
    "    - python -m pip install plotly numpy pandas chart_studio jupyter\n",
    "    \n",
    "5.) Initialize Jupyter Notebook with:\n",
    "    - jupyter notebook\n",
    "    \n",
    "6.) Download project files\n",
    "    - github.com/GTLibraryDataVisualization/Plotly-with-Python-Introduction-Workshop\n",
    "    - Press the green \"Clone or Download\" button and download the project zip file.\n",
    "    - This holds the example data we will be graphing."
   ]
  },
  {
   "cell_type": "markdown",
   "metadata": {},
   "source": [
    "Time to actually get started on the plotting:"
   ]
  },
  {
   "cell_type": "code",
   "execution_count": 2,
   "metadata": {},
   "outputs": [],
   "source": [
    "#setting up the project\n",
    "\n",
    "import numpy as np\n",
    "import chart_studio.plotly as py\n",
    "import plotly.graph_objs as go\n",
    "import chart_studio\n",
    "import pandas as pd\n",
    "import plotly.express as px"
   ]
  },
  {
   "cell_type": "markdown",
   "metadata": {},
   "source": [
    "Plotly tools set credentials\n",
    "\n",
    "    In order to save our graphs to our specific account, Plotly needs a username and API key.\n",
    "    1) Go to https://plot.ly/\n",
    "    2) Create an account or login.\n",
    "    3) Hover over account name in upper-right and click Settings.\n",
    "    4) Click API keys on the left hand side.\n",
    "    5) Click (re)generate key, and copy that number.\n",
    "    6) Paste that key as well as your username below."
   ]
  },
  {
   "cell_type": "code",
   "execution_count": 3,
   "metadata": {},
   "outputs": [],
   "source": [
    "#replace FAKE_NAME with your Plotly username and FAKE_KEY with the API key you generated\n",
    "user = \"USER\"\n",
    "key = \"API_Key\"\n",
    "chart_studio.tools.set_credentials_file(username=user, api_key=key)"
   ]
  },
  {
   "cell_type": "code",
   "execution_count": 4,
   "metadata": {},
   "outputs": [],
   "source": [
    "#reading the data\n",
    "\n",
    "csv_file = \"univ_reduced.csv\"\n",
    "df = pd.read_csv(csv_file)\n",
    "#The variable csv_file is going to be a string object that points to the location of our data\n",
    "#the next line asks our pandas library to try to read our CSV file, and turn it into a dataframe.\n",
    "#Once executed, it will be stored in the variable df."
   ]
  },
  {
   "cell_type": "code",
   "execution_count": 5,
   "metadata": {},
   "outputs": [
    {
     "name": "stdout",
     "output_type": "stream",
     "text": [
      "                                                 INSTNM  SAT_AVG_ALL     UGDS  \\\n",
      "0                              Alabama A & M University        850.0   4505.0   \n",
      "1                   University of Alabama at Birmingham       1147.0  11269.0   \n",
      "2                                    Amridge University          NaN    308.0   \n",
      "3                   University of Alabama in Huntsville       1221.0   5829.0   \n",
      "4                              Alabama State University        844.0   4740.0   \n",
      "...                                                 ...          ...      ...   \n",
      "7588  National Personal Training Institute of Cleveland          NaN      NaN   \n",
      "7589  Bay Area Medical Academy - San Jose Satellite ...          NaN      NaN   \n",
      "7590                        High Desert Medical College          NaN      NaN   \n",
      "7591                        Vantage College-San Antonio          NaN      NaN   \n",
      "7592  American Institute of Pharmaceutical Technolog...          NaN      NaN   \n",
      "\n",
      "      UGDS_RICH MD_EARN_WNE_P10  \n",
      "0        0.0340           29900  \n",
      "1        0.5863           40200  \n",
      "2        0.2110           40100  \n",
      "3        0.7024           45600  \n",
      "4        0.0165           26700  \n",
      "...         ...             ...  \n",
      "7588        NaN             NaN  \n",
      "7589        NaN             NaN  \n",
      "7590        NaN             NaN  \n",
      "7591        NaN             NaN  \n",
      "7592        NaN             NaN  \n",
      "\n",
      "[7593 rows x 5 columns]\n"
     ]
    }
   ],
   "source": [
    "print(df)\n",
    "#The print statement is used to see our data.\n",
    "#Notice there are over 7500 rows."
   ]
  },
  {
   "cell_type": "code",
   "execution_count": 6,
   "metadata": {},
   "outputs": [
    {
     "name": "stdout",
     "output_type": "stream",
     "text": [
      "                                                 INSTNM  SAT_AVG_ALL     UGDS  \\\n",
      "0                              Alabama A & M University        850.0   4505.0   \n",
      "1                   University of Alabama at Birmingham       1147.0  11269.0   \n",
      "3                   University of Alabama in Huntsville       1221.0   5829.0   \n",
      "4                              Alabama State University        844.0   4740.0   \n",
      "5                             The University of Alabama       1181.0  31005.0   \n",
      "...                                                 ...          ...      ...   \n",
      "6820                                 Augusta University       1045.0   4773.0   \n",
      "6821                    Middle Georgia State University        864.0   7225.0   \n",
      "6866                        University of North Georgia       1013.0  16048.0   \n",
      "6868  Northeastern University Professional Advanceme...       1435.0   2051.0   \n",
      "6880                   Arizona State University-Skysong       1143.0  16219.0   \n",
      "\n",
      "      UGDS_RICH MD_EARN_WNE_P10  \n",
      "0        0.0340           29900  \n",
      "1        0.5863           40200  \n",
      "3        0.7024           45600  \n",
      "4        0.0165           26700  \n",
      "5        0.7807           42700  \n",
      "...         ...             ...  \n",
      "6820     0.5431           58500  \n",
      "6821     0.5372           32400  \n",
      "6866     0.7651           40600  \n",
      "6868     0.4227           64000  \n",
      "6880     0.6391           45400  \n",
      "\n",
      "[1325 rows x 5 columns]\n",
      "                                                 INSTNM  SAT_AVG_ALL     UGDS  \\\n",
      "0                              Alabama A & M University        850.0   4505.0   \n",
      "1                   University of Alabama at Birmingham       1147.0  11269.0   \n",
      "3                   University of Alabama in Huntsville       1221.0   5829.0   \n",
      "4                              Alabama State University        844.0   4740.0   \n",
      "5                             The University of Alabama       1181.0  31005.0   \n",
      "...                                                 ...          ...      ...   \n",
      "6820                                 Augusta University       1045.0   4773.0   \n",
      "6821                    Middle Georgia State University        864.0   7225.0   \n",
      "6866                        University of North Georgia       1013.0  16048.0   \n",
      "6868  Northeastern University Professional Advanceme...       1435.0   2051.0   \n",
      "6880                   Arizona State University-Skysong       1143.0  16219.0   \n",
      "\n",
      "      UGDS_RICH MD_EARN_WNE_P10  \n",
      "0        0.0340           29900  \n",
      "1        0.5863           40200  \n",
      "3        0.7024           45600  \n",
      "4        0.0165           26700  \n",
      "5        0.7807           42700  \n",
      "...         ...             ...  \n",
      "6820     0.5431           58500  \n",
      "6821     0.5372           32400  \n",
      "6866     0.7651           40600  \n",
      "6868     0.4227           64000  \n",
      "6880     0.6391           45400  \n",
      "\n",
      "[1307 rows x 5 columns]\n"
     ]
    }
   ],
   "source": [
    "###cleaning up the data###\n",
    "\n",
    "#Notice we have a lot of Nan values. Plotly cannot graph those, so we need to get rid of them.\n",
    "#We do this by indexing into our dataframe using [], select the column we want to filter, \n",
    "#and then only keeping every row that has a non-null value for that column entry.\n",
    "\n",
    "df = df[df.SAT_AVG_ALL.notnull()]\n",
    "df = df[df.INSTNM.notnull()]\n",
    "df = df[df.UGDS_RICH.notnull()]\n",
    "df = df[df.MD_EARN_WNE_P10.notnull()]\n",
    "print(df)\n",
    "\n",
    "#There are also some \"PrivacySupressed\" values in the salary column. Since this is also not a number,\n",
    "#we want to remove all rows that contain that value as well.\n",
    "\n",
    "df = df[~df.MD_EARN_WNE_P10.str.contains('PrivacySuppressed')]\n",
    "\n",
    "#Print the updated and cleaned dataframe.\n",
    "print(df)\n",
    "#Notice the drop from ~7500 rows to now ~1300 rows.\n",
    "#The rest contained data we could not graph."
   ]
  },
  {
   "cell_type": "markdown",
   "metadata": {},
   "source": [
    "Making a 2D graph is super easy using plotly express. Plotly express is typically used if you need a quick and dirty graph without too much customization. If you need more customization, then we'll use chart studio. We'll be using chart studio when we make our 3D plot.\n",
    "\n",
    "To generate our 2D plot with express, all we need is to reference our dataframe structure as the first parameter, and then choose the columns that we want to represent our axis as. In the example, we'll use the data we cleaned earlier and then choose the average SAT score column to represent our x axis and the median salary column to represent the y axis. We'll choose the institution name as the data we get when we hover over individual markers.\n",
    "\n",
    "So, as I mentioned earlier, in order to use a lot of the 2D scatterplots, you need to install plotly express. You can find the documentation for scatterplots and plotly express here.\n",
    "    - https://plotly.com/python/line-and-scatter/"
   ]
  },
  {
   "cell_type": "code",
   "execution_count": 11,
   "metadata": {},
   "outputs": [
    {
     "data": {
      "application/vnd.plotly.v1+json": {
       "config": {
        "plotlyServerURL": "https://plotly.com"
       },
       "data": [
        {
         "customdata": [
          [
           "Alabama A & M University"
          ],
          [
           "University of Alabama at Birmingham"
          ],
          [
           "University of Alabama in Huntsville"
          ],
          [
           "Alabama State University"
          ],
          [
           "The University of Alabama"
          ],
          [
           "Auburn University at Montgomery"
          ],
          [
           "Auburn University"
          ],
          [
           "Birmingham Southern College"
          ],
          [
           "Faulkner University"
          ],
          [
           "Huntingdon College"
          ],
          [
           "Jacksonville State University"
          ],
          [
           "Judson College"
          ],
          [
           "University of West Alabama"
          ],
          [
           "Marion Military Institute"
          ],
          [
           "University of Mobile"
          ],
          [
           "University of Montevallo"
          ],
          [
           "University of North Alabama"
          ],
          [
           "Oakwood University"
          ],
          [
           "Samford University"
          ],
          [
           "University of South Alabama"
          ],
          [
           "Spring Hill College"
          ],
          [
           "Southeastern Bible College"
          ],
          [
           "Stillman College"
          ],
          [
           "Troy University"
          ],
          [
           "Tuskegee University"
          ],
          [
           "University of Alaska Fairbanks"
          ],
          [
           "Alaska Pacific University"
          ],
          [
           "Arizona State University-Tempe"
          ],
          [
           "Prescott College"
          ],
          [
           "Arizona Christian University"
          ],
          [
           "University of Arkansas at Little Rock"
          ],
          [
           "Lyon College"
          ],
          [
           "University of Arkansas"
          ],
          [
           "University of Arkansas at Pine Bluff"
          ],
          [
           "Arkansas State University-Main Campus"
          ],
          [
           "Baptist Health College-Little Rock"
          ],
          [
           "University of Central Arkansas"
          ],
          [
           "Central Baptist College"
          ],
          [
           "Harding University"
          ],
          [
           "Henderson State University"
          ],
          [
           "Hendrix College"
          ],
          [
           "John Brown University"
          ],
          [
           "Ouachita Baptist University"
          ],
          [
           "University of the Ozarks"
          ],
          [
           "University of Arkansas Community College-Morrilton"
          ],
          [
           "Williams Baptist College"
          ],
          [
           "Southern Arkansas University Main Campus"
          ],
          [
           "Azusa Pacific University"
          ],
          [
           "Biola University"
          ],
          [
           "California Baptist University"
          ],
          [
           "California Institute of Technology"
          ],
          [
           "California Lutheran University"
          ],
          [
           "California Polytechnic State University-San Luis Obispo"
          ],
          [
           "California State University-San Bernardino"
          ],
          [
           "California State Polytechnic University-Pomona"
          ],
          [
           "California State University-Chico"
          ],
          [
           "California State University-Fresno"
          ],
          [
           "California State University-Fullerton"
          ],
          [
           "California State University-Long Beach"
          ],
          [
           "California State University-Los Angeles"
          ],
          [
           "California State University-Northridge"
          ],
          [
           "California State University-Sacramento"
          ],
          [
           "University of California-Berkeley"
          ],
          [
           "University of California-Davis"
          ],
          [
           "University of California-Irvine"
          ],
          [
           "University of California-Los Angeles"
          ],
          [
           "University of California-Riverside"
          ],
          [
           "University of California-San Diego"
          ],
          [
           "University of California-Santa Barbara"
          ],
          [
           "University of California-Santa Cruz"
          ],
          [
           "Chapman University"
          ],
          [
           "Concordia University-Irvine"
          ],
          [
           "San Diego Christian College"
          ],
          [
           "Claremont McKenna College"
          ],
          [
           "Dominican University of California"
          ],
          [
           "Fresno Pacific University"
          ],
          [
           "Harvey Mudd College"
          ],
          [
           "Holy Names University"
          ],
          [
           "Humboldt State University"
          ],
          [
           "Life Pacific College"
          ],
          [
           "University of La Verne"
          ],
          [
           "La Sierra University"
          ],
          [
           "The Master's University and Seminary"
          ],
          [
           "Loyola Marymount University"
          ],
          [
           "Menlo College"
          ],
          [
           "Mills College"
          ],
          [
           "Middlebury Institute of International Studies at Monterey"
          ],
          [
           "Mount Saint Mary's University"
          ],
          [
           "Notre Dame de Namur University"
          ],
          [
           "Occidental College"
          ],
          [
           "Otis College of Art and Design"
          ],
          [
           "Hope International University"
          ],
          [
           "Pacific Union College"
          ],
          [
           "University of the Pacific"
          ],
          [
           "Pepperdine University"
          ],
          [
           "Point Loma Nazarene University"
          ],
          [
           "Pomona College"
          ],
          [
           "University of Redlands"
          ],
          [
           "San Diego State University"
          ],
          [
           "University of San Diego"
          ],
          [
           "San Francisco State University"
          ],
          [
           "University of San Francisco"
          ],
          [
           "William Jessup University"
          ],
          [
           "San Jose State University"
          ],
          [
           "Santa Clara University"
          ],
          [
           "Scripps College"
          ],
          [
           "Simpson University"
          ],
          [
           "Saint Mary's College of California"
          ],
          [
           "Sonoma State University"
          ],
          [
           "Vanguard University of Southern California"
          ],
          [
           "Southern California Institute of Architecture"
          ],
          [
           "University of Southern California"
          ],
          [
           "Thomas Aquinas College"
          ],
          [
           "Westmont College"
          ],
          [
           "Whittier College"
          ],
          [
           "Woodbury University"
          ],
          [
           "Adams State University"
          ],
          [
           "University of Colorado Denver/Anschutz Medical Campus"
          ],
          [
           "University of Colorado Colorado Springs"
          ],
          [
           "University of Colorado Boulder"
          ],
          [
           "Colorado School of Mines"
          ],
          [
           "Colorado State University-Fort Collins"
          ],
          [
           "University of Denver"
          ],
          [
           "Fort Lewis College"
          ],
          [
           "Colorado Mesa University"
          ],
          [
           "Metropolitan State University of Denver"
          ],
          [
           "University of Northern Colorado"
          ],
          [
           "Regis University"
          ],
          [
           "Colorado State University-Pueblo"
          ],
          [
           "Western State Colorado University"
          ],
          [
           "University of Bridgeport"
          ],
          [
           "Central Connecticut State University"
          ],
          [
           "University of Connecticut"
          ],
          [
           "University of Hartford"
          ],
          [
           "University of New Haven"
          ],
          [
           "Post University"
          ],
          [
           "Quinnipiac University"
          ],
          [
           "University of Saint Joseph"
          ],
          [
           "St Vincent's College"
          ],
          [
           "Southern Connecticut State University"
          ],
          [
           "Yale University"
          ],
          [
           "Delaware State University"
          ],
          [
           "University of Delaware"
          ],
          [
           "Wesley College"
          ],
          [
           "American University"
          ],
          [
           "Gallaudet University"
          ],
          [
           "George Washington University"
          ],
          [
           "Georgetown University"
          ],
          [
           "Howard University"
          ],
          [
           "The Baptist College of Florida"
          ],
          [
           "Barry University"
          ],
          [
           "Lynn University"
          ],
          [
           "Johnson University Florida"
          ],
          [
           "University of Central Florida"
          ],
          [
           "Eckerd College"
          ],
          [
           "Edward Waters College"
          ],
          [
           "Florida Agricultural and Mechanical University"
          ],
          [
           "Florida Atlantic University"
          ],
          [
           "Flagler College-St Augustine"
          ],
          [
           "Florida College"
          ],
          [
           "Adventist University of Health Sciences"
          ],
          [
           "Florida Institute of Technology"
          ],
          [
           "Florida International University"
          ],
          [
           "Florida Southern College"
          ],
          [
           "Florida State University"
          ],
          [
           "University of Florida"
          ],
          [
           "Trinity International University-Florida"
          ],
          [
           "University of Miami"
          ],
          [
           "University of North Florida"
          ],
          [
           "Nova Southeastern University"
          ],
          [
           "Palm Beach Atlantic University"
          ],
          [
           "University of South Florida-Main Campus"
          ],
          [
           "St Thomas University"
          ],
          [
           "Southeastern University"
          ],
          [
           "The University of Tampa"
          ],
          [
           "Trinity Baptist College"
          ],
          [
           "Trinity College of Florida"
          ],
          [
           "Warner University"
          ],
          [
           "Webber International University"
          ],
          [
           "The University of West Florida"
          ],
          [
           "Abraham Baldwin Agricultural College"
          ],
          [
           "Albany State University"
          ],
          [
           "Armstrong State University"
          ],
          [
           "Point University"
          ],
          [
           "Clark Atlanta University"
          ],
          [
           "Berry College"
          ],
          [
           "Brenau University"
          ],
          [
           "College of Coastal Georgia"
          ],
          [
           "Columbus State University"
          ],
          [
           "Covenant College"
          ],
          [
           "Emmanuel College"
          ],
          [
           "Emory University"
          ],
          [
           "Fort Valley State University"
          ],
          [
           "Georgia Institute of Technology-Main Campus"
          ],
          [
           "Georgia Southwestern State University"
          ],
          [
           "Georgia College and State University"
          ],
          [
           "Georgia Southern University"
          ],
          [
           "Georgia State University"
          ],
          [
           "University of Georgia"
          ],
          [
           "Gordon State College"
          ],
          [
           "LaGrange College"
          ],
          [
           "Mercer University"
          ],
          [
           "Morehouse College"
          ],
          [
           "Oglethorpe University"
          ],
          [
           "Paine College"
          ],
          [
           "Piedmont College"
          ],
          [
           "Reinhardt University"
          ],
          [
           "Savannah College of Art and Design"
          ],
          [
           "Savannah State University"
          ],
          [
           "Shorter University"
          ],
          [
           "Spelman College"
          ],
          [
           "Toccoa Falls College"
          ],
          [
           "Truett McConnell University"
          ],
          [
           "Valdosta State University"
          ],
          [
           "University of West Georgia"
          ],
          [
           "Young Harris College"
          ],
          [
           "Chaminade University of Honolulu"
          ],
          [
           "University of Hawaii at Hilo"
          ],
          [
           "University of Hawaii at Manoa"
          ],
          [
           "Boise Bible College"
          ],
          [
           "Boise State University"
          ],
          [
           "University of Idaho"
          ],
          [
           "Lewis-Clark State College"
          ],
          [
           "Northwest Nazarene University"
          ],
          [
           "Brigham Young University-Idaho"
          ],
          [
           "School of the Art Institute of Chicago"
          ],
          [
           "Aurora University"
          ],
          [
           "Blackburn College"
          ],
          [
           "Bradley University"
          ],
          [
           "Chicago State University"
          ],
          [
           "University of Chicago"
          ],
          [
           "Concordia University-Chicago"
          ],
          [
           "Eastern Illinois University"
          ],
          [
           "Elmhurst College"
          ],
          [
           "Eureka College"
          ],
          [
           "Governors State University"
          ],
          [
           "Greenville College"
          ],
          [
           "Hebrew Theological College"
          ],
          [
           "University of Illinois at Chicago"
          ],
          [
           "University of Illinois at Urbana-Champaign"
          ],
          [
           "Illinois Wesleyan University"
          ],
          [
           "Illinois Institute of Technology"
          ],
          [
           "Illinois State University"
          ],
          [
           "Judson University"
          ],
          [
           "Lewis University"
          ],
          [
           "Lincoln Christian University"
          ],
          [
           "Lincoln College"
          ],
          [
           "Loyola University Chicago"
          ],
          [
           "MacMurray College"
          ],
          [
           "McKendree University"
          ],
          [
           "Millikin University"
          ],
          [
           "Monmouth College"
          ],
          [
           "North Central College"
          ],
          [
           "North Park University"
          ],
          [
           "Northern Illinois University"
          ],
          [
           "Northwestern University"
          ],
          [
           "Northeastern Illinois University"
          ],
          [
           "Olivet Nazarene University"
          ],
          [
           "Quincy University"
          ],
          [
           "Rockford University"
          ],
          [
           "Roosevelt University"
          ],
          [
           "Dominican University"
          ],
          [
           "University of St Francis"
          ],
          [
           "Saint Xavier University"
          ],
          [
           "University of Illinois at Springfield"
          ],
          [
           "Southern Illinois University-Carbondale"
          ],
          [
           "Southern Illinois University-Edwardsville"
          ],
          [
           "Trinity Christian College"
          ],
          [
           "Trinity International University-Illinois"
          ],
          [
           "Western Illinois University"
          ],
          [
           "Wheaton College"
          ],
          [
           "Anderson University"
          ],
          [
           "Ball State University"
          ],
          [
           "Bethel College-Indiana"
          ],
          [
           "Butler University"
          ],
          [
           "DePauw University"
          ],
          [
           "University of Evansville"
          ],
          [
           "Franklin College"
          ],
          [
           "Goshen College"
          ],
          [
           "Grace College and Theological Seminary"
          ],
          [
           "Hanover College"
          ],
          [
           "Holy Cross College"
          ],
          [
           "Huntington University"
          ],
          [
           "Indiana University-Purdue University-Fort Wayne"
          ],
          [
           "Indiana University-Purdue University-Indianapolis"
          ],
          [
           "University of Indianapolis"
          ],
          [
           "Indiana Institute of Technology"
          ],
          [
           "University of Southern Indiana"
          ],
          [
           "Indiana State University"
          ],
          [
           "Indiana University-Kokomo"
          ],
          [
           "Indiana University-South Bend"
          ],
          [
           "Indiana University-Bloomington"
          ],
          [
           "Indiana University-Northwest"
          ],
          [
           "Indiana University-Southeast"
          ],
          [
           "Indiana University-East"
          ],
          [
           "Manchester University"
          ],
          [
           "Marian University"
          ],
          [
           "Indiana Wesleyan University-Marion"
          ],
          [
           "University of Notre Dame"
          ],
          [
           "Oakland City University"
          ],
          [
           "Purdue University-Calumet Campus"
          ],
          [
           "Purdue University-North Central Campus"
          ],
          [
           "Rose-Hulman Institute of Technology"
          ],
          [
           "University of Saint Francis-Fort Wayne"
          ],
          [
           "Saint Josephs College"
          ],
          [
           "Saint Mary-of-the-Woods College"
          ],
          [
           "Saint Mary's College"
          ],
          [
           "Saint Elizabeth School of Nursing"
          ],
          [
           "Taylor University"
          ],
          [
           "Trine University"
          ],
          [
           "Valparaiso University"
          ],
          [
           "Wabash College"
          ],
          [
           "Buena Vista University"
          ],
          [
           "Central College"
          ],
          [
           "Clarke University"
          ],
          [
           "Coe College"
          ],
          [
           "Cornell College"
          ],
          [
           "Dordt College"
          ],
          [
           "Drake University"
          ],
          [
           "University of Dubuque"
          ],
          [
           "Emmaus Bible College"
          ],
          [
           "Faith Baptist Bible College and Theological Seminary"
          ],
          [
           "Graceland University-Lamoni"
          ],
          [
           "Grand View University"
          ],
          [
           "Grinnell College"
          ],
          [
           "Iowa State University"
          ],
          [
           "Iowa Wesleyan University"
          ],
          [
           "University of Iowa"
          ],
          [
           "Loras College"
          ],
          [
           "Luther College"
          ],
          [
           "Morningside College"
          ],
          [
           "Mount Mercy University"
          ],
          [
           "University of Northern Iowa"
          ],
          [
           "Northwestern College"
          ],
          [
           "Saint Ambrose University"
          ],
          [
           "Simpson College"
          ],
          [
           "Upper Iowa University"
          ],
          [
           "Waldorf University"
          ],
          [
           "Wartburg College"
          ],
          [
           "Baker University"
          ],
          [
           "Benedictine College"
          ],
          [
           "Bethany College"
          ],
          [
           "Emporia State University"
          ],
          [
           "Friends University"
          ],
          [
           "Haskell Indian Nations University"
          ],
          [
           "University of Kansas"
          ],
          [
           "Newman University"
          ],
          [
           "Kansas Wesleyan University"
          ],
          [
           "Manhattan Christian College"
          ],
          [
           "McPherson College"
          ],
          [
           "MidAmerica Nazarene University"
          ],
          [
           "University of Saint Mary"
          ],
          [
           "Southwestern College"
          ],
          [
           "Sterling College"
          ],
          [
           "Tabor College"
          ],
          [
           "Wichita State University"
          ],
          [
           "Alice Lloyd College"
          ],
          [
           "Asbury University"
          ],
          [
           "Bellarmine University"
          ],
          [
           "Berea College"
          ],
          [
           "Brescia University"
          ],
          [
           "Campbellsville University"
          ],
          [
           "Centre College"
          ],
          [
           "University of the Cumberlands"
          ],
          [
           "Eastern Kentucky University"
          ],
          [
           "Georgetown College"
          ],
          [
           "Kentucky State University"
          ],
          [
           "Kentucky Wesleyan College"
          ],
          [
           "University of Kentucky"
          ],
          [
           "Kentucky Christian University"
          ],
          [
           "University of Louisville"
          ],
          [
           "Morehead State University"
          ],
          [
           "Murray State University"
          ],
          [
           "Northern Kentucky University"
          ],
          [
           "University of Pikeville"
          ],
          [
           "Saint Catharine College"
          ],
          [
           "Spalding University"
          ],
          [
           "Thomas More College"
          ],
          [
           "Union College"
          ],
          [
           "Western Kentucky University"
          ],
          [
           "Centenary College of Louisiana"
          ],
          [
           "Dillard University"
          ],
          [
           "Grambling State University"
          ],
          [
           "Louisiana State University-Alexandria"
          ],
          [
           "Louisiana State University and Agricultural & Mechanical College"
          ],
          [
           "Louisiana State University-Shreveport"
          ],
          [
           "Louisiana College"
          ],
          [
           "Louisiana Tech University"
          ],
          [
           "Loyola University New Orleans"
          ],
          [
           "McNeese State University"
          ],
          [
           "University of New Orleans"
          ],
          [
           "Nicholls State University"
          ],
          [
           "University of Louisiana at Monroe"
          ],
          [
           "Northwestern State University of Louisiana"
          ],
          [
           "Our Lady of the Lake College"
          ],
          [
           "Southeastern Louisiana University"
          ],
          [
           "Southern University and A & M College"
          ],
          [
           "Southern University at New Orleans"
          ],
          [
           "University of Louisiana at Lafayette"
          ],
          [
           "Tulane University of Louisiana"
          ],
          [
           "Xavier University of Louisiana"
          ],
          [
           "Maine College of Health Professions"
          ],
          [
           "Colby College"
          ],
          [
           "University of Maine at Fort Kent"
          ],
          [
           "University of Maine"
          ],
          [
           "Maine Maritime Academy"
          ],
          [
           "University of New England"
          ],
          [
           "Saint Joseph's College of Maine"
          ],
          [
           "University of Southern Maine"
          ],
          [
           "University of Baltimore"
          ],
          [
           "Bowie State University"
          ],
          [
           "Capitol Technology University"
          ],
          [
           "Washington Adventist University"
          ],
          [
           "Coppin State University"
          ],
          [
           "Frostburg State University"
          ],
          [
           "Johns Hopkins University"
          ],
          [
           "University of Maryland-Baltimore County"
          ],
          [
           "University of Maryland-College Park"
          ],
          [
           "Maryland Institute College of Art"
          ],
          [
           "University of Maryland Eastern Shore"
          ],
          [
           "Morgan State University"
          ],
          [
           "Mount St Mary's University"
          ],
          [
           "Notre Dame of Maryland University"
          ],
          [
           "St Mary's College of Maryland"
          ],
          [
           "Towson University"
          ],
          [
           "Stevenson University"
          ],
          [
           "McDaniel College"
          ],
          [
           "American International College"
          ],
          [
           "Amherst College"
          ],
          [
           "Babson College"
          ],
          [
           "Boston Baptist College"
          ],
          [
           "Becker College"
          ],
          [
           "Bentley University"
          ],
          [
           "Boston College"
          ],
          [
           "Boston University"
          ],
          [
           "Brandeis University"
          ],
          [
           "Bridgewater State University"
          ],
          [
           "Curry College"
          ],
          [
           "Eastern Nazarene College"
          ],
          [
           "Emerson College"
          ],
          [
           "Fitchburg State University"
          ],
          [
           "Framingham State University"
          ],
          [
           "Gordon College"
          ],
          [
           "Harvard University"
          ],
          [
           "Lasell College"
          ],
          [
           "Lesley University"
          ],
          [
           "University of Massachusetts-Lowell"
          ],
          [
           "University of Massachusetts-Amherst"
          ],
          [
           "University of Massachusetts-Boston"
          ],
          [
           "MCPHS University"
          ],
          [
           "Massachusetts College of Art and Design"
          ],
          [
           "Massachusetts Institute of Technology"
          ],
          [
           "Massachusetts Maritime Academy"
          ],
          [
           "Mount Ida College"
          ],
          [
           "Massachusetts College of Liberal Arts"
          ],
          [
           "Northeastern University"
          ],
          [
           "College of Our Lady of the Elms"
          ],
          [
           "Pine Manor College"
          ],
          [
           "Simmons College"
          ],
          [
           "Springfield College"
          ],
          [
           "University of Massachusetts-Dartmouth"
          ],
          [
           "Suffolk University"
          ],
          [
           "Tufts University"
          ],
          [
           "Wellesley College"
          ],
          [
           "Wentworth Institute of Technology"
          ],
          [
           "Western New England University"
          ],
          [
           "Westfield State University"
          ],
          [
           "Wheelock College"
          ],
          [
           "Williams College"
          ],
          [
           "Worcester State University"
          ],
          [
           "Adrian College"
          ],
          [
           "Albion College"
          ],
          [
           "Alma College"
          ],
          [
           "Andrews University"
          ],
          [
           "Aquinas College"
          ],
          [
           "Calvin College"
          ],
          [
           "Central Michigan University"
          ],
          [
           "Cleary University"
          ],
          [
           "Concordia University-Ann Arbor"
          ],
          [
           "College for Creative Studies"
          ],
          [
           "University of Detroit Mercy"
          ],
          [
           "Eastern Michigan University"
          ],
          [
           "Ferris State University"
          ],
          [
           "Kettering University"
          ],
          [
           "Cornerstone University"
          ],
          [
           "Grand Valley State University"
          ],
          [
           "Hope College"
          ],
          [
           "Lake Superior State University"
          ],
          [
           "Lawrence Technological University"
          ],
          [
           "Madonna University"
          ],
          [
           "Marygrove College"
          ],
          [
           "Rochester College"
          ],
          [
           "University of Michigan-Ann Arbor"
          ],
          [
           "Michigan State University"
          ],
          [
           "Michigan Technological University"
          ],
          [
           "University of Michigan-Dearborn"
          ],
          [
           "University of Michigan-Flint"
          ],
          [
           "Northern Michigan University"
          ],
          [
           "Northwood University"
          ],
          [
           "Oakland University"
          ],
          [
           "Olivet College"
          ],
          [
           "Kuyper College"
          ],
          [
           "Saginaw Valley State University"
          ],
          [
           "Siena Heights University"
          ],
          [
           "Spring Arbor University"
          ],
          [
           "Finlandia University"
          ],
          [
           "Wayne State University"
          ],
          [
           "Western Michigan University"
          ],
          [
           "Augsburg College"
          ],
          [
           "Bemidji State University"
          ],
          [
           "Bethany Lutheran College"
          ],
          [
           "Bethel University"
          ],
          [
           "Carleton College"
          ],
          [
           "Martin Luther College"
          ],
          [
           "Hamline University"
          ],
          [
           "Macalester College"
          ],
          [
           "Minnesota State University-Mankato"
          ],
          [
           "University of Minnesota-Twin Cities"
          ],
          [
           "University of Minnesota-Crookston"
          ],
          [
           "Minneapolis College of Art and Design"
          ],
          [
           "University of Minnesota-Duluth"
          ],
          [
           "University of Minnesota-Morris"
          ],
          [
           "Minnesota State University Moorhead"
          ],
          [
           "North Central University"
          ],
          [
           "University of Northwestern-St Paul"
          ],
          [
           "Oak Hills Christian College"
          ],
          [
           "College of Saint Benedict"
          ],
          [
           "Saint Cloud State University"
          ],
          [
           "Saint Johns University"
          ],
          [
           "Saint Mary's University of Minnesota"
          ],
          [
           "St Olaf College"
          ],
          [
           "Crown College"
          ],
          [
           "The College of Saint Scholastica"
          ],
          [
           "University of St Thomas"
          ],
          [
           "St Catherine University"
          ],
          [
           "Southwest Minnesota State University"
          ],
          [
           "Winona State University"
          ],
          [
           "Alcorn State University"
          ],
          [
           "Blue Mountain College"
          ],
          [
           "Delta State University"
          ],
          [
           "Jackson State University"
          ],
          [
           "Millsaps College"
          ],
          [
           "University of Mississippi"
          ],
          [
           "Mississippi University for Women"
          ],
          [
           "Mississippi Valley State University"
          ],
          [
           "Mississippi College"
          ],
          [
           "Mississippi State University"
          ],
          [
           "Rust College"
          ],
          [
           "University of Southern Mississippi"
          ],
          [
           "Tougaloo College"
          ],
          [
           "William Carey University"
          ],
          [
           "Avila University"
          ],
          [
           "Calvary University"
          ],
          [
           "Central Christian College of the Bible"
          ],
          [
           "Central Methodist University-College of Liberal Arts and Sciences"
          ],
          [
           "University of Central Missouri"
          ],
          [
           "Cleveland University-Kansas City"
          ],
          [
           "Cottey College"
          ],
          [
           "Culver-Stockton College"
          ],
          [
           "Drury University"
          ],
          [
           "Evangel University"
          ],
          [
           "Fontbonne University"
          ],
          [
           "Kansas City Art Institute"
          ],
          [
           "Lindenwood University"
          ],
          [
           "Maryville University of Saint Louis"
          ],
          [
           "Missouri Baptist University"
          ],
          [
           "Missouri Southern State University"
          ],
          [
           "University of Missouri-Columbia"
          ],
          [
           "University of Missouri-Kansas City"
          ],
          [
           "Missouri University of Science and Technology"
          ],
          [
           "University of Missouri-St Louis"
          ],
          [
           "Truman State University"
          ],
          [
           "Northwest Missouri State University"
          ],
          [
           "College of the Ozarks"
          ],
          [
           "Rockhurst University"
          ],
          [
           "Saint Louis University"
          ],
          [
           "Saint Louis Christian College"
          ],
          [
           "St Louis College of Pharmacy"
          ],
          [
           "Southwest Baptist University"
          ],
          [
           "Stephens College"
          ],
          [
           "Southeast Missouri State University"
          ],
          [
           "Missouri State University-Springfield"
          ],
          [
           "Washington University in St Louis"
          ],
          [
           "Webster University"
          ],
          [
           "Westminster College"
          ],
          [
           "William Jewell College"
          ],
          [
           "William Woods University"
          ],
          [
           "Highlands College of Montana Tech"
          ],
          [
           "Carroll College"
          ],
          [
           "Montana Tech of the University of Montana"
          ],
          [
           "Montana State University"
          ],
          [
           "The University of Montana"
          ],
          [
           "Montana State University-Northern"
          ],
          [
           "Rocky Mountain College"
          ],
          [
           "Clarkson College"
          ],
          [
           "Bryan College of Health Sciences"
          ],
          [
           "Concordia University-Nebraska"
          ],
          [
           "Creighton University"
          ],
          [
           "Doane University-Arts & Sciences"
          ],
          [
           "Grace University"
          ],
          [
           "Hastings College"
          ],
          [
           "University of Nebraska at Kearney"
          ],
          [
           "Nebraska Methodist College of Nursing & Allied Health"
          ],
          [
           "Midland University"
          ],
          [
           "University of Nebraska at Omaha"
          ],
          [
           "Nebraska Wesleyan University"
          ],
          [
           "University of Nebraska-Lincoln"
          ],
          [
           "Union College"
          ],
          [
           "Nebraska College of Technical Agriculture"
          ],
          [
           "York College"
          ],
          [
           "University of Nevada-Las Vegas"
          ],
          [
           "University of Nevada-Reno"
          ],
          [
           "Sierra Nevada College"
          ],
          [
           "Dartmouth College"
          ],
          [
           "Franklin Pierce University"
          ],
          [
           "University of New Hampshire-Main Campus"
          ],
          [
           "Keene State College"
          ],
          [
           "University of New Hampshire at Manchester"
          ],
          [
           "Bloomfield College"
          ],
          [
           "Caldwell University"
          ],
          [
           "Centenary University"
          ],
          [
           "Fairleigh Dickinson University-Metropolitan Campus"
          ],
          [
           "Felician University"
          ],
          [
           "Fairleigh Dickinson University-Florham Campus"
          ],
          [
           "Georgian Court University"
          ],
          [
           "Rowan University"
          ],
          [
           "New Jersey City University"
          ],
          [
           "Kean University"
          ],
          [
           "Monmouth University"
          ],
          [
           "New Jersey Institute of Technology"
          ],
          [
           "Princeton University"
          ],
          [
           "Ramapo College of New Jersey"
          ],
          [
           "Rider University"
          ],
          [
           "Rutgers University-Camden"
          ],
          [
           "Rutgers University-New Brunswick"
          ],
          [
           "Rutgers University-Newark"
          ],
          [
           "Saint Peter's University"
          ],
          [
           "Seton Hall University"
          ],
          [
           "College of Saint Elizabeth"
          ],
          [
           "Stevens Institute of Technology"
          ],
          [
           "Stockton University"
          ],
          [
           "The College of New Jersey"
          ],
          [
           "William Paterson University of New Jersey"
          ],
          [
           "New Mexico State University-Dona Ana"
          ],
          [
           "Eastern New Mexico University-Main Campus"
          ],
          [
           "Eastern New Mexico University-Roswell Campus"
          ],
          [
           "New Mexico Military Institute"
          ],
          [
           "University of New Mexico-Gallup Campus"
          ],
          [
           "New Mexico Institute of Mining and Technology"
          ],
          [
           "University of New Mexico-Los Alamos Campus"
          ],
          [
           "University of New Mexico-Main Campus"
          ],
          [
           "New Mexico State University-Alamogordo"
          ],
          [
           "New Mexico State University-Carlsbad"
          ],
          [
           "New Mexico State University-Grants"
          ],
          [
           "New Mexico State University-Main Campus"
          ],
          [
           "University of New Mexico-Valencia County Campus"
          ],
          [
           "University of New Mexico-Taos Campus"
          ],
          [
           "Adelphi University"
          ],
          [
           "Albany College of Pharmacy and Health Sciences"
          ],
          [
           "Alfred University"
          ],
          [
           "Barnard College"
          ],
          [
           "Canisius College"
          ],
          [
           "Clarkson University"
          ],
          [
           "Colgate University"
          ],
          [
           "Columbia University in the City of New York"
          ],
          [
           "Concordia College-New York"
          ],
          [
           "Cornell University"
          ],
          [
           "CUNY Bernard M Baruch College"
          ],
          [
           "CUNY Brooklyn College"
          ],
          [
           "CUNY City College"
          ],
          [
           "CUNY Hunter College"
          ],
          [
           "CUNY John Jay College of Criminal Justice"
          ],
          [
           "CUNY Lehman College"
          ],
          [
           "CUNY Queens College"
          ],
          [
           "CUNY York College"
          ],
          [
           "D'Youville College"
          ],
          [
           "Dominican College of Blauvelt"
          ],
          [
           "Fordham University"
          ],
          [
           "Houghton College"
          ],
          [
           "Iona College"
          ],
          [
           "LIM College"
          ],
          [
           "Le Moyne College"
          ],
          [
           "LIU Brooklyn"
          ],
          [
           "LIU Post"
          ],
          [
           "LIU Brentwood"
          ],
          [
           "Manhattan College"
          ],
          [
           "Marymount Manhattan College"
          ],
          [
           "Medaille College"
          ],
          [
           "Molloy College"
          ],
          [
           "Mount Saint Mary College"
          ],
          [
           "College of Mount Saint Vincent"
          ],
          [
           "The College of New Rochelle"
          ],
          [
           "New York University"
          ],
          [
           "Niagara University"
          ],
          [
           "New York Institute of Technology"
          ],
          [
           "New York School of Interior Design"
          ],
          [
           "Nyack College"
          ],
          [
           "Pace University-New York"
          ],
          [
           "Pratt Institute-Main"
          ],
          [
           "Rensselaer Polytechnic Institute"
          ],
          [
           "Roberts Wesleyan College"
          ],
          [
           "Rochester Institute of Technology"
          ],
          [
           "St Bonaventure University"
          ],
          [
           "St Francis College"
          ],
          [
           "St. Thomas Aquinas College"
          ],
          [
           "Skidmore College"
          ],
          [
           "St. Joseph's College-New York"
          ],
          [
           "Saint John Fisher College"
          ],
          [
           "St John's University-New York"
          ],
          [
           "SUNY College of Technology at Alfred"
          ],
          [
           "SUNY College of Agriculture and Technology at Cobleskill"
          ],
          [
           "Farmingdale State College"
          ],
          [
           "Morrisville State College"
          ],
          [
           "SUNY at Albany"
          ],
          [
           "SUNY at Binghamton"
          ],
          [
           "University at Buffalo"
          ],
          [
           "Stony Brook University"
          ],
          [
           "SUNY College of Environmental Science and Forestry"
          ],
          [
           "SUNY Polytechnic Institute"
          ],
          [
           "SUNY College at Brockport"
          ],
          [
           "SUNY Buffalo State"
          ],
          [
           "SUNY at Fredonia"
          ],
          [
           "SUNY College at Geneseo"
          ],
          [
           "State University of New York at New Paltz"
          ],
          [
           "SUNY Oneonta"
          ],
          [
           "SUNY College at Oswego"
          ],
          [
           "SUNY at Purchase College"
          ],
          [
           "SUNY College at Old Westbury"
          ],
          [
           "SUNY College at Plattsburgh"
          ],
          [
           "SUNY Maritime College"
          ],
          [
           "Syracuse University"
          ],
          [
           "United States Merchant Marine Academy"
          ],
          [
           "Vassar College"
          ],
          [
           "School of Visual Arts"
          ],
          [
           "Wells College"
          ],
          [
           "Yeshiva University"
          ],
          [
           "Appalachian State University"
          ],
          [
           "Barton College"
          ],
          [
           "Belmont Abbey College"
          ],
          [
           "Cabarrus College of Health Sciences"
          ],
          [
           "Campbell University"
          ],
          [
           "Catawba College"
          ],
          [
           "Chowan University"
          ],
          [
           "Davidson College"
          ],
          [
           "Duke University"
          ],
          [
           "East Carolina University"
          ],
          [
           "Elizabeth City State University"
          ],
          [
           "Elon University"
          ],
          [
           "Fayetteville State University"
          ],
          [
           "Gardner-Webb University"
          ],
          [
           "Greensboro College"
          ],
          [
           "High Point University"
          ],
          [
           "John Wesley University"
          ],
          [
           "Johnson C Smith University"
          ],
          [
           "Lenoir-Rhyne University"
          ],
          [
           "Livingstone College"
          ],
          [
           "Louisburg College"
          ],
          [
           "Mars Hill University"
          ],
          [
           "Meredith College"
          ],
          [
           "Methodist University"
          ],
          [
           "Montreat College"
          ],
          [
           "University of Mount Olive"
          ],
          [
           "North Carolina A & T State University"
          ],
          [
           "University of North Carolina at Asheville"
          ],
          [
           "University of North Carolina at Chapel Hill"
          ],
          [
           "University of North Carolina at Charlotte"
          ],
          [
           "University of North Carolina at Greensboro"
          ],
          [
           "North Carolina Central University"
          ],
          [
           "University of North Carolina School of the Arts"
          ],
          [
           "North Carolina State University at Raleigh"
          ],
          [
           "North Carolina Wesleyan College"
          ],
          [
           "University of North Carolina Wilmington"
          ],
          [
           "William Peace University"
          ],
          [
           "University of North Carolina at Pembroke"
          ],
          [
           "Pfeiffer University"
          ],
          [
           "Piedmont International University"
          ],
          [
           "Queens University of Charlotte"
          ],
          [
           "Mid-Atlantic Christian University"
          ],
          [
           "Saint Augustine's University"
          ],
          [
           "Salem College"
          ],
          [
           "St Andrews University"
          ],
          [
           "Warren Wilson College"
          ],
          [
           "Wingate University"
          ],
          [
           "Winston-Salem State University"
          ],
          [
           "Western Carolina University"
          ],
          [
           "Dickinson State University"
          ],
          [
           "University of Jamestown"
          ],
          [
           "University of Mary"
          ],
          [
           "Minot State University"
          ],
          [
           "University of North Dakota"
          ],
          [
           "North Dakota State University-Main Campus"
          ],
          [
           "Trinity Bible College and Graduate School"
          ],
          [
           "Valley City State University"
          ],
          [
           "University of Akron Main Campus"
          ],
          [
           "University of Akron Wayne College"
          ],
          [
           "Art Academy of Cincinnati"
          ],
          [
           "Ashland University"
          ],
          [
           "Aultman College of Nursing and Health Sciences"
          ],
          [
           "Bluffton University"
          ],
          [
           "Bowling Green State University-Firelands"
          ],
          [
           "Bowling Green State University-Main Campus"
          ],
          [
           "Capital University"
          ],
          [
           "Case Western Reserve University"
          ],
          [
           "Cedarville University"
          ],
          [
           "Central State University"
          ],
          [
           "The Christ College of Nursing and Health Sciences"
          ],
          [
           "Cincinnati Christian University"
          ],
          [
           "University of Cincinnati-Main Campus"
          ],
          [
           "University of Cincinnati-Clermont College"
          ],
          [
           "University of Cincinnati-Blue Ash College"
          ],
          [
           "Cleveland Institute of Art"
          ],
          [
           "Cleveland State University"
          ],
          [
           "University of Dayton"
          ],
          [
           "Defiance College"
          ],
          [
           "The University of Findlay"
          ],
          [
           "Good Samaritan College of Nursing and Health Science"
          ],
          [
           "Heidelberg University"
          ],
          [
           "Hiram College"
          ],
          [
           "John Carroll University"
          ],
          [
           "Kent State University at Ashtabula"
          ],
          [
           "Kent State University at East Liverpool"
          ],
          [
           "Kent State University at Stark"
          ],
          [
           "Kent State University at Trumbull"
          ],
          [
           "Kent State University at Tuscarawas"
          ],
          [
           "Kent State University at Salem"
          ],
          [
           "Kent State University at Kent"
          ],
          [
           "Kent State University at Geauga"
          ],
          [
           "Kenyon College"
          ],
          [
           "Lake Erie College"
          ],
          [
           "Lourdes University"
          ],
          [
           "Malone University"
          ],
          [
           "Marietta College"
          ],
          [
           "Miami University-Hamilton"
          ],
          [
           "Miami University-Middletown"
          ],
          [
           "Miami University-Oxford"
          ],
          [
           "Mount Carmel College of Nursing"
          ],
          [
           "University of Mount Union"
          ],
          [
           "Mount Vernon Nazarene University"
          ],
          [
           "Muskingum University"
          ],
          [
           "Notre Dame College"
          ],
          [
           "Oberlin College"
          ],
          [
           "Ohio Dominican University"
          ],
          [
           "Ohio Northern University"
          ],
          [
           "Ohio State University Agricultural Technical Institute"
          ],
          [
           "Ohio State University-Lima Campus"
          ],
          [
           "Ohio State University-Mansfield Campus"
          ],
          [
           "Ohio State University-Marion Campus"
          ],
          [
           "Ohio State University-Newark Campus"
          ],
          [
           "Ohio State University-Main Campus"
          ],
          [
           "Ohio University-Eastern Campus"
          ],
          [
           "Ohio University-Chillicothe Campus"
          ],
          [
           "Ohio University-Southern Campus"
          ],
          [
           "Ohio University-Lancaster Campus"
          ],
          [
           "Ohio University-Main Campus"
          ],
          [
           "Ohio University-Zanesville Campus"
          ],
          [
           "Trinity Health System School of Nursing"
          ],
          [
           "Otterbein University"
          ],
          [
           "Franciscan University of Steubenville"
          ],
          [
           "University of Toledo"
          ],
          [
           "Urbana University"
          ],
          [
           "Ursuline College"
          ],
          [
           "Wilberforce University"
          ],
          [
           "Wilmington College"
          ],
          [
           "The College of Wooster"
          ],
          [
           "Wright State University-Main Campus"
          ],
          [
           "Wright State University-Lake Campus"
          ],
          [
           "Xavier University"
          ],
          [
           "Youngstown State University"
          ],
          [
           "Bacone College"
          ],
          [
           "Oklahoma Wesleyan University"
          ],
          [
           "University of Central Oklahoma"
          ],
          [
           "East Central University"
          ],
          [
           "Randall University"
          ],
          [
           "Northeastern State University"
          ],
          [
           "Northwestern Oklahoma State University"
          ],
          [
           "Oklahoma Christian University"
          ],
          [
           "University of Oklahoma-Health Sciences Center"
          ],
          [
           "Oklahoma Panhandle State University"
          ],
          [
           "Oklahoma State University-Main Campus"
          ],
          [
           "Oklahoma Baptist University"
          ],
          [
           "Oklahoma City University"
          ],
          [
           "University of Oklahoma-Norman Campus"
          ],
          [
           "Oral Roberts University"
          ],
          [
           "Rogers State University"
          ],
          [
           "University of Science and Arts of Oklahoma"
          ],
          [
           "Southeastern Oklahoma State University"
          ],
          [
           "Southwestern Christian University"
          ],
          [
           "Southwestern Oklahoma State University"
          ],
          [
           "University of Tulsa"
          ],
          [
           "Concordia University-Portland"
          ],
          [
           "Eastern Oregon University"
          ],
          [
           "George Fox University"
          ],
          [
           "Linfield College-McMinnville Campus"
          ],
          [
           "Northwest Christian University"
          ],
          [
           "Oregon Institute of Technology"
          ],
          [
           "Oregon State University"
          ],
          [
           "University of Oregon"
          ],
          [
           "Pacific University"
          ],
          [
           "Portland State University"
          ],
          [
           "University of Portland"
          ],
          [
           "Reed College"
          ],
          [
           "Southern Oregon University"
          ],
          [
           "Corban University"
          ],
          [
           "Willamette University"
          ],
          [
           "Western Oregon University"
          ],
          [
           "DeSales University"
          ],
          [
           "Alvernia University"
          ],
          [
           "Arcadia University"
          ],
          [
           "Bloomsburg University of Pennsylvania"
          ],
          [
           "Bryn Mawr College"
          ],
          [
           "Bucknell University"
          ],
          [
           "California University of Pennsylvania"
          ],
          [
           "Carlow University"
          ],
          [
           "Carnegie Mellon University"
          ],
          [
           "Cedar Crest College"
          ],
          [
           "Central Penn College"
          ],
          [
           "Chestnut Hill College"
          ],
          [
           "Clarion University of Pennsylvania"
          ],
          [
           "Delaware Valley University"
          ],
          [
           "Drexel University"
          ],
          [
           "Duquesne University"
          ],
          [
           "East Stroudsburg University of Pennsylvania"
          ],
          [
           "Eastern University"
          ],
          [
           "Edinboro University of Pennsylvania"
          ],
          [
           "Elizabethtown College"
          ],
          [
           "Gannon University"
          ],
          [
           "Geneva College"
          ],
          [
           "Gwynedd Mercy University"
          ],
          [
           "Haverford College"
          ],
          [
           "Holy Family University"
          ],
          [
           "Immaculata University"
          ],
          [
           "Indiana University of Pennsylvania-Main Campus"
          ],
          [
           "Keystone College"
          ],
          [
           "Kutztown University of Pennsylvania"
          ],
          [
           "La Roche College"
          ],
          [
           "La Salle University"
          ],
          [
           "Lafayette College"
          ],
          [
           "Lancaster Bible College"
          ],
          [
           "Lehigh University"
          ],
          [
           "Lincoln University"
          ],
          [
           "Lock Haven University"
          ],
          [
           "St Margaret School of Nursing"
          ],
          [
           "Lycoming College"
          ],
          [
           "Manor College"
          ],
          [
           "Mansfield University of Pennsylvania"
          ],
          [
           "Marywood University"
          ],
          [
           "Messiah College"
          ],
          [
           "Millersville University of Pennsylvania"
          ],
          [
           "Misericordia University"
          ],
          [
           "Moravian College"
          ],
          [
           "Mount Aloysius College"
          ],
          [
           "Neumann University"
          ],
          [
           "Pennsylvania State University-Penn State Erie-Behrend College"
          ],
          [
           "Pennsylvania State University-Penn State New Kensington"
          ],
          [
           "Pennsylvania State University-Penn State Shenango"
          ],
          [
           "Pennsylvania State University-Penn State Wilkes-Barre"
          ],
          [
           "Pennsylvania State University-Penn State Worthington Scranton"
          ],
          [
           "Pennsylvania State University-Penn State Lehigh Valley"
          ],
          [
           "Pennsylvania State University-Penn State Altoona"
          ],
          [
           "Pennsylvania State University-Penn State Beaver"
          ],
          [
           "Pennsylvania State University-Penn State Berks"
          ],
          [
           "Pennsylvania State University-Penn State Harrisburg"
          ],
          [
           "Pennsylvania State University-Penn State Brandywine"
          ],
          [
           "Pennsylvania State University-Penn State DuBois"
          ],
          [
           "Pennsylvania State University-Penn State Fayette- Eberly"
          ],
          [
           "Pennsylvania State University-Penn State Hazleton"
          ],
          [
           "Pennsylvania State University-Main Campus"
          ],
          [
           "Pennsylvania State University-Penn State Greater Allegheny"
          ],
          [
           "Pennsylvania State University-Penn State Mont Alto"
          ],
          [
           "Pennsylvania State University-Penn State Abington"
          ],
          [
           "Pennsylvania State University-Penn State Schuylkill"
          ],
          [
           "Pennsylvania State University-Penn State York"
          ],
          [
           "University of Pennsylvania"
          ],
          [
           "Philadelphia University"
          ],
          [
           "The University of the Arts"
          ],
          [
           "Cairn University-Langhorne"
          ],
          [
           "University of the Sciences"
          ],
          [
           "University of Pittsburgh-Bradford"
          ],
          [
           "University of Pittsburgh-Greensburg"
          ],
          [
           "University of Pittsburgh-Johnstown"
          ],
          [
           "University of Pittsburgh-Pittsburgh Campus"
          ],
          [
           "University of Pittsburgh-Titusville"
          ],
          [
           "Point Park University"
          ],
          [
           "Reading Hospital School of Health Sciences"
          ],
          [
           "Robert Morris University"
          ],
          [
           "Rosemont College"
          ],
          [
           "Saint Francis University"
          ],
          [
           "Saint Vincent College"
          ],
          [
           "University of Scranton"
          ],
          [
           "University of Pittsburgh Medical Center-Shadyside School of Nursing"
          ],
          [
           "Shippensburg University of Pennsylvania"
          ],
          [
           "Slippery Rock University of Pennsylvania"
          ],
          [
           "Swarthmore College"
          ],
          [
           "Thiel College"
          ],
          [
           "University of Valley Forge"
          ],
          [
           "Valley Forge Military College"
          ],
          [
           "Villanova University"
          ],
          [
           "Waynesburg University"
          ],
          [
           "West Chester University of Pennsylvania"
          ],
          [
           "Westminster College"
          ],
          [
           "Widener University"
          ],
          [
           "Wilkes University"
          ],
          [
           "Wilson College"
          ],
          [
           "York College Pennsylvania"
          ],
          [
           "Brown University"
          ],
          [
           "Rhode Island College"
          ],
          [
           "University of Rhode Island"
          ],
          [
           "Rhode Island School of Design"
          ],
          [
           "Anderson University"
          ],
          [
           "Charleston Southern University"
          ],
          [
           "College of Charleston"
          ],
          [
           "Citadel Military College of South Carolina"
          ],
          [
           "Claflin University"
          ],
          [
           "Clemson University"
          ],
          [
           "Coker College"
          ],
          [
           "Columbia International University"
          ],
          [
           "Columbia College"
          ],
          [
           "Converse College"
          ],
          [
           "Erskine College"
          ],
          [
           "Francis Marion University"
          ],
          [
           "Lander University"
          ],
          [
           "Limestone College"
          ],
          [
           "Newberry College"
          ],
          [
           "North Greenville University"
          ],
          [
           "Presbyterian College"
          ],
          [
           "University of South Carolina-Aiken"
          ],
          [
           "University of South Carolina-Beaufort"
          ],
          [
           "University of South Carolina-Columbia"
          ],
          [
           "University of South Carolina-Lancaster"
          ],
          [
           "University of South Carolina-Salkehatchie"
          ],
          [
           "University of South Carolina-Sumter"
          ],
          [
           "University of South Carolina-Union"
          ],
          [
           "Coastal Carolina University"
          ],
          [
           "South Carolina State University"
          ],
          [
           "University of South Carolina-Upstate"
          ],
          [
           "Spartanburg Methodist College"
          ],
          [
           "Winthrop University"
          ],
          [
           "Wofford College"
          ],
          [
           "Augustana University"
          ],
          [
           "Black Hills State University"
          ],
          [
           "Dakota State University"
          ],
          [
           "Dakota Wesleyan University"
          ],
          [
           "Mount Marty College"
          ],
          [
           "Northern State University"
          ],
          [
           "Presentation College"
          ],
          [
           "South Dakota School of Mines and Technology"
          ],
          [
           "South Dakota State University"
          ],
          [
           "University of Sioux Falls"
          ],
          [
           "University of South Dakota"
          ],
          [
           "Aquinas College"
          ],
          [
           "Austin Peay State University"
          ],
          [
           "Baptist Memorial College of Health Sciences"
          ],
          [
           "Belmont University"
          ],
          [
           "Bethel University"
          ],
          [
           "Bryan College-Dayton"
          ],
          [
           "Carson-Newman University"
          ],
          [
           "Christian Brothers University"
          ],
          [
           "Cumberland University"
          ],
          [
           "Lipscomb University"
          ],
          [
           "East Tennessee State University"
          ],
          [
           "Fisk University"
          ],
          [
           "Freed-Hardeman University"
          ],
          [
           "Hiwassee College"
          ],
          [
           "John A Gupton College"
          ],
          [
           "Johnson University"
          ],
          [
           "King University"
          ],
          [
           "Lane College"
          ],
          [
           "Le Moyne-Owen College"
          ],
          [
           "Lee University"
          ],
          [
           "Lincoln Memorial University"
          ],
          [
           "Maryville College"
          ],
          [
           "University of Memphis"
          ],
          [
           "Middle Tennessee State University"
          ],
          [
           "Rhodes College"
          ],
          [
           "Roane State Community College"
          ],
          [
           "Tennessee Wesleyan University"
          ],
          [
           "The University of Tennessee-Chattanooga"
          ],
          [
           "The University of Tennessee-Knoxville"
          ],
          [
           "The University of Tennessee-Martin"
          ],
          [
           "Tennessee Technological University"
          ],
          [
           "Trevecca Nazarene University"
          ],
          [
           "Tusculum College"
          ],
          [
           "Union University"
          ],
          [
           "Vanderbilt University"
          ],
          [
           "Abilene Christian University"
          ],
          [
           "Angelo State University"
          ],
          [
           "Austin College"
          ],
          [
           "Baylor University"
          ],
          [
           "Concordia University-Texas"
          ],
          [
           "Texas A & M University-Corpus Christi"
          ],
          [
           "Dallas Baptist University"
          ],
          [
           "Dallas Christian College"
          ],
          [
           "University of Dallas"
          ],
          [
           "East Texas Baptist University"
          ],
          [
           "Texas A&M University-Texarkana"
          ],
          [
           "Texas A & M University-Commerce"
          ],
          [
           "Hardin-Simmons University"
          ],
          [
           "Houston Baptist University"
          ],
          [
           "University of Houston-Clear Lake"
          ],
          [
           "University of Houston-Downtown"
          ],
          [
           "University of Houston"
          ],
          [
           "Howard Payne University"
          ],
          [
           "Huston-Tillotson University"
          ],
          [
           "University of the Incarnate Word"
          ],
          [
           "Lamar University"
          ],
          [
           "Texas A & M International University"
          ],
          [
           "LeTourneau University"
          ],
          [
           "Lubbock Christian University"
          ],
          [
           "University of Mary Hardin-Baylor"
          ],
          [
           "McMurry University"
          ],
          [
           "Midwestern State University"
          ],
          [
           "University of North Texas"
          ],
          [
           "Northwood University-Texas"
          ],
          [
           "Our Lady of the Lake University"
          ],
          [
           "The University of Texas Rio Grande Valley"
          ],
          [
           "Paul Quinn College"
          ],
          [
           "Prairie View A & M University"
          ],
          [
           "Rice University"
          ],
          [
           "Saint Edward's University"
          ],
          [
           "University of St Thomas"
          ],
          [
           "Sam Houston State University"
          ],
          [
           "Schreiner University"
          ],
          [
           "St. Mary's University"
          ],
          [
           "Southern Methodist University"
          ],
          [
           "Southwestern Assemblies of God University"
          ],
          [
           "Southwestern University"
          ],
          [
           "Stephen F Austin State University"
          ],
          [
           "Texas State University"
          ],
          [
           "Southwestern Adventist University"
          ],
          [
           "Sul Ross State University"
          ],
          [
           "Tarleton State University"
          ],
          [
           "Texas A & M University-Kingsville"
          ],
          [
           "Texas A & M University-College Station"
          ],
          [
           "The University of Texas at Arlington"
          ],
          [
           "The University of Texas at Austin"
          ],
          [
           "The University of Texas at Dallas"
          ],
          [
           "The University of Texas at El Paso"
          ],
          [
           "The University of Texas at Tyler"
          ],
          [
           "Texas Christian University"
          ],
          [
           "Texas Lutheran University"
          ],
          [
           "The University of Texas of the Permian Basin"
          ],
          [
           "The University of Texas at San Antonio"
          ],
          [
           "Texas Southern University"
          ],
          [
           "Texas Tech University"
          ],
          [
           "Texas Wesleyan University"
          ],
          [
           "Texas Woman's University"
          ],
          [
           "Trinity University"
          ],
          [
           "Wayland Baptist University"
          ],
          [
           "West Texas A & M University"
          ],
          [
           "Brigham Young University-Provo"
          ],
          [
           "Brigham Young University-Hawaii"
          ],
          [
           "Southern Utah University"
          ],
          [
           "Utah State University"
          ],
          [
           "University of Utah"
          ],
          [
           "Westminster College"
          ],
          [
           "Castleton University"
          ],
          [
           "Champlain College"
          ],
          [
           "Johnson State College"
          ],
          [
           "Lyndon State College"
          ],
          [
           "Middlebury College"
          ],
          [
           "Southern Vermont College"
          ],
          [
           "University of Vermont"
          ],
          [
           "Averett University"
          ],
          [
           "Bluefield College"
          ],
          [
           "Bridgewater College"
          ],
          [
           "College of William and Mary"
          ],
          [
           "Regent University"
          ],
          [
           "Christopher Newport University"
          ],
          [
           "Emory & Henry College"
          ],
          [
           "Eastern Mennonite University"
          ],
          [
           "Ferrum College"
          ],
          [
           "George Mason University"
          ],
          [
           "Hampden-Sydney College"
          ],
          [
           "Hampton University"
          ],
          [
           "Hollins University"
          ],
          [
           "James Madison University"
          ],
          [
           "Liberty University"
          ],
          [
           "Longwood University"
          ],
          [
           "Lynchburg College"
          ],
          [
           "Mary Baldwin University"
          ],
          [
           "University of Mary Washington"
          ],
          [
           "Marymount University"
          ],
          [
           "Norfolk State University"
          ],
          [
           "Old Dominion University"
          ],
          [
           "Randolph-Macon College"
          ],
          [
           "Randolph College"
          ],
          [
           "University of Richmond"
          ],
          [
           "Roanoke College"
          ],
          [
           "Shenandoah University"
          ],
          [
           "Southern Virginia University"
          ],
          [
           "Sweet Briar College"
          ],
          [
           "The University of Virginia's College at Wise"
          ],
          [
           "Virginia Polytechnic Institute and State University"
          ],
          [
           "Virginia Commonwealth University"
          ],
          [
           "University of Virginia-Main Campus"
          ],
          [
           "Virginia Military Institute"
          ],
          [
           "Virginia State University"
          ],
          [
           "Virginia Union University"
          ],
          [
           "Virginia Wesleyan College"
          ],
          [
           "Washington and Lee University"
          ],
          [
           "Central Washington University"
          ],
          [
           "Eastern Washington University"
          ],
          [
           "The Evergreen State College"
          ],
          [
           "Gonzaga University"
          ],
          [
           "Northwest University"
          ],
          [
           "Pacific Lutheran University"
          ],
          [
           "Saint Martin's University"
          ],
          [
           "Seattle Pacific University"
          ],
          [
           "Seattle University"
          ],
          [
           "Walla Walla University"
          ],
          [
           "Washington State University"
          ],
          [
           "University of Washington-Seattle Campus"
          ],
          [
           "Western Washington University"
          ],
          [
           "Whitman College"
          ],
          [
           "Alderson Broaddus University"
          ],
          [
           "Appalachian Bible College"
          ],
          [
           "Bethany College"
          ],
          [
           "Bluefield State College"
          ],
          [
           "University of Charleston"
          ],
          [
           "Concord University"
          ],
          [
           "Davis & Elkins College"
          ],
          [
           "Fairmont State University"
          ],
          [
           "Glenville State College"
          ],
          [
           "Marshall University"
          ],
          [
           "Potomac State College of West Virginia University"
          ],
          [
           "Shepherd University"
          ],
          [
           "West Virginia State University"
          ],
          [
           "West Liberty University"
          ],
          [
           "West Virginia University Institute of Technology"
          ],
          [
           "West Virginia Wesleyan College"
          ],
          [
           "West Virginia University"
          ],
          [
           "Wheeling Jesuit University"
          ],
          [
           "Alverno College"
          ],
          [
           "Bellin College"
          ],
          [
           "Cardinal Stritch University"
          ],
          [
           "Carroll University"
          ],
          [
           "Carthage College"
          ],
          [
           "Concordia University-Wisconsin"
          ],
          [
           "Edgewood College"
          ],
          [
           "Lakeland University"
          ],
          [
           "Marian University"
          ],
          [
           "Marquette University"
          ],
          [
           "Milwaukee School of Engineering"
          ],
          [
           "Mount Mary University"
          ],
          [
           "Northland College"
          ],
          [
           "Ripon College"
          ],
          [
           "Saint Norbert College"
          ],
          [
           "University of Wisconsin Colleges"
          ],
          [
           "Viterbo University"
          ],
          [
           "University of Wisconsin-Whitewater"
          ],
          [
           "University of Wisconsin-Eau Claire"
          ],
          [
           "University of Wisconsin-Green Bay"
          ],
          [
           "University of Wisconsin-La Crosse"
          ],
          [
           "Wisconsin Lutheran College"
          ],
          [
           "University of Wisconsin-Oshkosh"
          ],
          [
           "University of Wisconsin-Parkside"
          ],
          [
           "University of Wisconsin-Stout"
          ],
          [
           "University of Wisconsin-Superior"
          ],
          [
           "University of Wisconsin-Madison"
          ],
          [
           "University of Wisconsin-Milwaukee"
          ],
          [
           "University of Wisconsin-Platteville"
          ],
          [
           "University of Wisconsin-River Falls"
          ],
          [
           "University of Wisconsin-Stevens Point"
          ],
          [
           "University of Wyoming"
          ],
          [
           "University of the Virgin Islands"
          ],
          [
           "Stanford University"
          ],
          [
           "Purdue University-Main Campus"
          ],
          [
           "Widener University-Delaware Law School"
          ],
          [
           "California State University-San Marcos"
          ],
          [
           "University of Washington-Bothell Campus"
          ],
          [
           "University of Washington-Tacoma Campus"
          ],
          [
           "Eastern New Mexico University-Ruidoso Campus"
          ],
          [
           "Watkins College of Art Design & Film"
          ],
          [
           "Arizona State University-West"
          ],
          [
           "Trine University-Regional/Non-Traditional Campuses"
          ],
          [
           "Southeast Missouri Hospital College of Nursing and Health Sciences"
          ],
          [
           "Arkansas State University-Mountain Home"
          ],
          [
           "Arizona State University-Polytechnic"
          ],
          [
           "Mercy Hospital School of Nursing"
          ],
          [
           "Florida Gulf Coast University"
          ],
          [
           "University of Connecticut-Tri-Campus"
          ],
          [
           "University of Connecticut-Avery Point"
          ],
          [
           "University of Connecticut-Stamford"
          ],
          [
           "Linfield College-School of Nursing"
          ],
          [
           "The King's University"
          ],
          [
           "Oregon State University-Cascades Campus"
          ],
          [
           "DigiPen Institute of Technology"
          ],
          [
           "Flagler College-Tallahassee"
          ],
          [
           "Central Methodist University-College of Graduate and Extended Studies"
          ],
          [
           "Doane University-Graduate and Professional Studies"
          ],
          [
           "Shorter University-College of Adult & Professional Programs"
          ],
          [
           "University of South Florida-St Petersburg"
          ],
          [
           "Arizona State University-Downtown Phoenix"
          ],
          [
           "Averett University-Non-Traditional Programs"
          ],
          [
           "LIU Riverhead"
          ],
          [
           "University of South Florida-Sarasota-Manatee"
          ],
          [
           "University of Minnesota-Rochester"
          ],
          [
           "Azusa Pacific University College"
          ],
          [
           "Springfield College-School of Professional and Continuing Studies"
          ],
          [
           "Pennsylvania State University-World Campus"
          ],
          [
           "Elizabethtown College School of Continuing and Professional Studies"
          ],
          [
           "Florida Institute of Technology-Online"
          ],
          [
           "Augusta University"
          ],
          [
           "Middle Georgia State University"
          ],
          [
           "University of North Georgia"
          ],
          [
           "Northeastern University Professional Advancement Network"
          ],
          [
           "Arizona State University-Skysong"
          ]
         ],
         "hovertemplate": "SAT_AVG_ALL=%{x}<br>MD_EARN_WNE_P10=%{y}<br>INSTNM=%{customdata[0]}<extra></extra>",
         "legendgroup": "",
         "marker": {
          "color": "#636efa",
          "symbol": "circle"
         },
         "mode": "markers",
         "name": "",
         "showlegend": false,
         "type": "scattergl",
         "x": [
          850,
          1147,
          1221,
          844,
          1181,
          990,
          1218,
          1167,
          985,
          992,
          1062,
          1031,
          930,
          1061,
          1025,
          1069,
          1027,
          923,
          1162,
          1045,
          1120,
          1045,
          831,
          1046,
          955,
          1058,
          985,
          1143,
          1039,
          997,
          990,
          1120,
          1154,
          871,
          1088,
          1050,
          1068,
          968,
          1135,
          988,
          1270,
          1209,
          1120,
          1034,
          930,
          1010,
          988,
          1080,
          1115,
          960,
          1544,
          1109,
          1259,
          887,
          1066,
          1003,
          897,
          1024,
          1056,
          874,
          902,
          948,
          1397,
          1226,
          1175,
          1339,
          1119,
          1344,
          1248,
          1201,
          1217,
          1029,
          933,
          1408,
          1054,
          988,
          1484,
          858,
          990,
          901,
          1034,
          929,
          1091,
          1222,
          1018,
          1183,
          1383,
          915,
          910,
          1304,
          1045,
          910,
          984,
          1152,
          1226,
          1148,
          1435,
          1130,
          1130,
          1236,
          979,
          1172,
          1012,
          1055,
          1313,
          1362,
          1001,
          1124,
          996,
          975,
          1116,
          1391,
          1280,
          1179,
          1057,
          944,
          954,
          1055,
          1088,
          1212,
          1339,
          1145,
          1249,
          1012,
          952,
          971,
          1031,
          1092,
          970,
          964,
          926,
          1011,
          1233,
          1050,
          1066,
          893,
          1095,
          932,
          905,
          918,
          1498,
          892,
          1198,
          836,
          1252,
          883,
          1294,
          1416,
          1105,
          946,
          926,
          999,
          1009,
          1179,
          1134,
          781,
          966,
          1047,
          1071,
          1008,
          928,
          1194,
          1090,
          1172,
          1215,
          1272,
          1042,
          1319,
          1140,
          1130,
          1065,
          1167,
          924,
          955,
          1092,
          845,
          898,
          879,
          902,
          1053,
          933,
          883,
          997,
          910,
          850,
          1179,
          990,
          935,
          961,
          1189,
          930,
          1366,
          865,
          1403,
          967,
          1143,
          1089,
          1056,
          1252,
          851,
          1012,
          1217,
          978,
          1140,
          749,
          995,
          953,
          1064,
          847,
          969,
          1015,
          997,
          938,
          993,
          945,
          974,
          966,
          926,
          1067,
          1045,
          1046,
          1061,
          939,
          1056,
          1040,
          1155,
          990,
          1005,
          1163,
          875,
          1506,
          1047,
          1010,
          1090,
          1033,
          911,
          1022,
          1048,
          1092,
          1305,
          1249,
          1251,
          1090,
          1086,
          1051,
          1013,
          824,
          1195,
          922,
          1006,
          1069,
          1070,
          1125,
          1014,
          1029,
          1460,
          870,
          1078,
          1010,
          1007,
          1038,
          1010,
          1069,
          990,
          1068,
          1032,
          1070,
          1097,
          1042,
          970,
          1314,
          1050,
          1070,
          1026,
          1209,
          1208,
          1157,
          994,
          1059,
          1063,
          1103,
          984,
          1029,
          995,
          1014,
          1030,
          962,
          1002,
          910,
          947,
          955,
          1199,
          928,
          955,
          961,
          1013,
          1026,
          1086,
          1455,
          925,
          960,
          943,
          1322,
          974,
          985,
          952,
          1125,
          964,
          1191,
          1089,
          1159,
          1145,
          1010,
          1068,
          1045,
          1126,
          1177,
          1159,
          1224,
          944,
          1069,
          1051,
          961,
          969,
          1402,
          1142,
          949,
          1164,
          1088,
          1179,
          1070,
          990,
          1050,
          1141,
          1050,
          1104,
          930,
          937,
          1105,
          1048,
          1129,
          959,
          1030,
          1014,
          850,
          1145,
          1095,
          1020,
          1025,
          940,
          1015,
          978,
          999,
          990,
          1007,
          1089,
          1006,
          1101,
          1120,
          1117,
          1003,
          986,
          1279,
          1022,
          1028,
          1045,
          931,
          1048,
          1143,
          977,
          1159,
          1047,
          1069,
          1068,
          965,
          948,
          970,
          1016,
          970,
          1047,
          1114,
          888,
          871,
          950,
          1163,
          1029,
          969,
          1105,
          1134,
          1029,
          1034,
          1030,
          1054,
          1008,
          1010,
          1030,
          911,
          803,
          1069,
          1346,
          1050,
          1085,
          1363,
          885,
          1090,
          1050,
          1070,
          989,
          984,
          972,
          883,
          1023,
          821,
          888,
          955,
          1453,
          1209,
          1315,
          1140,
          834,
          878,
          1013,
          1087,
          1145,
          1081,
          1006,
          1074,
          887,
          1451,
          1317,
          943,
          1009,
          1244,
          1380,
          1303,
          1360,
          996,
          941,
          978,
          1211,
          993,
          975,
          1112,
          1497,
          966,
          1066,
          1197,
          1226,
          1055,
          1070,
          1086,
          1507,
          1065,
          906,
          1016,
          1435,
          976,
          775,
          1163,
          1042,
          1025,
          1024,
          1424,
          1369,
          1104,
          1080,
          1001,
          944,
          1442,
          1020,
          1008,
          1104,
          1110,
          1091,
          1090,
          1202,
          1049,
          950,
          1052,
          1070,
          1122,
          1029,
          1009,
          1204,
          1033,
          1090,
          1205,
          1027,
          1156,
          1030,
          780,
          949,
          1384,
          1159,
          1207,
          1105,
          992,
          1011,
          1026,
          1070,
          931,
          1010,
          1030,
          1027,
          1073,
          886,
          1070,
          1030,
          1032,
          1010,
          1074,
          1127,
          1400,
          1145,
          1127,
          1358,
          1030,
          1285,
          1026,
          1096,
          1109,
          1146,
          1049,
          1024,
          1102,
          930,
          1118,
          1030,
          1148,
          1046,
          1282,
          1019,
          1067,
          1202,
          1032,
          1008,
          1050,
          871,
          990,
          970,
          910,
          1163,
          1118,
          1012,
          850,
          1106,
          1140,
          780,
          1049,
          844,
          1071,
          986,
          1010,
          985,
          1043,
          1010,
          910,
          1049,
          968,
          1185,
          1064,
          1050,
          1073,
          1043,
          1145,
          961,
          1030,
          1203,
          1130,
          1261,
          1105,
          1246,
          1047,
          1069,
          1162,
          1257,
          990,
          1198,
          1058,
          1036,
          1050,
          1090,
          1469,
          1109,
          1084,
          1160,
          1035,
          1145,
          1110,
          1145,
          1131,
          1090,
          892,
          1037,
          1050,
          1090,
          1076,
          1196,
          1064,
          1003,
          1055,
          1049,
          1110,
          962,
          1050,
          1121,
          1145,
          1050,
          1145,
          950,
          1007,
          1084,
          1012,
          1437,
          943,
          1107,
          991,
          1107,
          855,
          969,
          929,
          1020,
          878,
          1020,
          945,
          1065,
          865,
          928,
          1037,
          1205,
          1490,
          1090,
          1014,
          1187,
          1187,
          1187,
          918,
          1145,
          806,
          1340,
          1074,
          1227,
          990,
          983,
          947,
          947,
          970,
          1040,
          1191,
          1040,
          1040,
          983,
          983,
          983,
          983,
          1040,
          1040,
          1094,
          1176,
          1057,
          1357,
          1078,
          1198,
          1374,
          1473,
          895,
          1428,
          1230,
          1115,
          1125,
          1165,
          975,
          1025,
          1110,
          885,
          1036,
          879,
          1273,
          1110,
          1005,
          962,
          1073,
          1010,
          1010,
          1010,
          1097,
          1038,
          868,
          1067,
          982,
          906,
          948,
          1360,
          1037,
          1074,
          1065,
          901,
          1060,
          1085,
          1368,
          1067,
          1251,
          1066,
          909,
          942,
          1239,
          1010,
          1087,
          1080,
          1016,
          882,
          994,
          854,
          1091,
          1305,
          1173,
          1271,
          1215,
          1141,
          1032,
          901,
          1050,
          1206,
          1124,
          1087,
          1103,
          1082,
          995,
          1086,
          1113,
          1195,
          1220,
          1405,
          1065,
          1011,
          1229,
          1157,
          959,
          1021,
          960,
          1007,
          990,
          773,
          1355,
          1450,
          1053,
          844,
          1211,
          870,
          977,
          892,
          1113,
          894,
          796,
          990,
          708,
          783,
          912,
          1036,
          955,
          960,
          909,
          910,
          1159,
          1343,
          1093,
          1035,
          879,
          1108,
          1264,
          878,
          1162,
          868,
          926,
          931,
          898,
          1064,
          947,
          741,
          1119,
          902,
          1120,
          1040,
          870,
          1032,
          951,
          1044,
          1066,
          999,
          1088,
          1091,
          926,
          961,
          1049,
          1049,
          963,
          1045,
          1070,
          972,
          1012,
          1012,
          1133,
          1398,
          1169,
          777,
          970,
          1005,
          1165,
          1165,
          1165,
          1083,
          1028,
          1187,
          984,
          1047,
          990,
          1033,
          1071,
          1127,
          1067,
          1067,
          1067,
          1067,
          1067,
          1067,
          1067,
          1067,
          1335,
          989,
          983,
          1029,
          1100,
          1259,
          1259,
          1259,
          990,
          1078,
          1047,
          984,
          899,
          1357,
          1009,
          1158,
          1295,
          1295,
          1295,
          1295,
          1295,
          1295,
          1108,
          1108,
          1108,
          1108,
          1108,
          1108,
          1010,
          1120,
          1165,
          1069,
          965,
          1007,
          762,
          966,
          1237,
          1028,
          1028,
          1111,
          981,
          856,
          962,
          1010,
          970,
          925,
          988,
          950,
          1118,
          1204,
          890,
          1118,
          1042,
          1126,
          1204,
          1009,
          830,
          999,
          970,
          978,
          990,
          1295,
          995,
          951,
          1089,
          1061,
          992,
          1047,
          1112,
          1119,
          1090,
          1039,
          1195,
          1383,
          1029,
          1066,
          1228,
          946,
          1054,
          998,
          1104,
          979,
          1346,
          1315,
          922,
          972,
          1448,
          968,
          759,
          966,
          934,
          994,
          1214,
          1138,
          945,
          1026,
          950,
          1125,
          1035,
          1058,
          924,
          1433,
          915,
          975,
          955,
          906,
          951,
          939,
          990,
          1294,
          1003,
          1338,
          833,
          948,
          1040,
          1034,
          748,
          955,
          1025,
          1129,
          1001,
          1069,
          1006,
          934,
          905,
          1094,
          1094,
          1094,
          1094,
          1094,
          1094,
          1094,
          1094,
          1094,
          1094,
          1094,
          1094,
          1094,
          1094,
          1094,
          1094,
          1094,
          1094,
          1094,
          1094,
          1457,
          1083,
          1045,
          976,
          1145,
          1201,
          1201,
          1201,
          1201,
          1201,
          995,
          898,
          1051,
          884,
          1060,
          1059,
          1134,
          1045,
          979,
          999,
          1431,
          923,
          945,
          840,
          1326,
          1019,
          1072,
          1028,
          1032,
          1053,
          941,
          1054,
          1457,
          913,
          1077,
          1273,
          1078,
          1030,
          1141,
          1073,
          815,
          1275,
          960,
          1045,
          971,
          1040,
          993,
          927,
          922,
          902,
          958,
          1116,
          1082,
          976,
          927,
          1199,
          1199,
          803,
          925,
          770,
          1009,
          760,
          950,
          864,
          1044,
          1170,
          1164,
          988,
          1047,
          982,
          1030,
          1024,
          925,
          1200,
          1068,
          1046,
          1049,
          1115,
          1011,
          1148,
          1158,
          928,
          1016,
          1039,
          1105,
          989,
          1176,
          1068,
          937,
          1101,
          947,
          930,
          1009,
          1005,
          758,
          760,
          1088,
          1055,
          1052,
          1029,
          1031,
          1306,
          910,
          1019,
          1087,
          1214,
          1050,
          1102,
          1026,
          960,
          1163,
          1498,
          1092,
          970,
          1165,
          1239,
          998,
          963,
          1055,
          831,
          1217,
          982,
          995,
          980,
          1030,
          1060,
          1025,
          894,
          1154,
          965,
          786,
          963,
          974,
          905,
          1158,
          1018,
          1047,
          887,
          1002,
          1093,
          1026,
          920,
          924,
          772,
          857,
          1482,
          1135,
          1103,
          997,
          997,
          1038,
          1330,
          949,
          1168,
          1001,
          1038,
          904,
          842,
          959,
          937,
          1212,
          1038,
          1297,
          1265,
          933,
          1059,
          1220,
          1006,
          965,
          1043,
          817,
          1134,
          1003,
          941,
          1294,
          911,
          971,
          1290,
          1098,
          1078,
          1084,
          1130,
          1124,
          959,
          1156,
          975,
          937,
          1383,
          894,
          1211,
          913,
          923,
          1034,
          1353,
          1051,
          1155,
          980,
          1009,
          881,
          1153,
          1112,
          1020,
          1124,
          1134,
          1070,
          985,
          1014,
          1009,
          1110,
          999,
          808,
          1020,
          1098,
          1014,
          1337,
          1092,
          1005,
          1041,
          1098,
          942,
          1210,
          1097,
          1364,
          1139,
          857,
          772,
          982,
          1395,
          978,
          970,
          1067,
          1205,
          996,
          1117,
          1047,
          1145,
          1192,
          1062,
          1039,
          1223,
          1114,
          1314,
          980,
          1012,
          907,
          934,
          994,
          994,
          928,
          962,
          913,
          1028,
          1073,
          995,
          927,
          984,
          1073,
          1015,
          1073,
          1032,
          910,
          1090,
          1028,
          1087,
          1145,
          1052,
          1050,
          907,
          950,
          1219,
          1248,
          902,
          1118,
          1105,
          1125,
          970,
          1090,
          1050,
          1110,
          1070,
          1130,
          1101,
          1030,
          970,
          1030,
          990,
          1300,
          1050,
          1090,
          1050,
          1050,
          1122,
          807,
          1479,
          1231,
          1032,
          955,
          1223,
          1223,
          947,
          1003,
          1143,
          1089,
          1030,
          1088,
          1143,
          985,
          1081,
          1233,
          1233,
          1233,
          1061,
          1073,
          1112,
          1231,
          1071,
          1043,
          1064,
          969,
          1167,
          1143,
          913,
          1010,
          1167,
          1285,
          1080,
          1042,
          1094,
          1125,
          1194,
          1045,
          864,
          1013,
          1435,
          1143
         ],
         "xaxis": "x",
         "y": [
          "29900",
          "40200",
          "45600",
          "26700",
          "42700",
          "33500",
          "47100",
          "45600",
          "35900",
          "36800",
          "35000",
          "27800",
          "36200",
          "45900",
          "35000",
          "33100",
          "36400",
          "32200",
          "46300",
          "37000",
          "42400",
          "31600",
          "27200",
          "35800",
          "35300",
          "37100",
          "39000",
          "45400",
          "32500",
          "33600",
          "33500",
          "40500",
          "43100",
          "26700",
          "31700",
          "44800",
          "36900",
          "33700",
          "38600",
          "34900",
          "40600",
          "46200",
          "38400",
          "38700",
          "27100",
          "32100",
          "34300",
          "50500",
          "43100",
          "40700",
          "74200",
          "52800",
          "63100",
          "44800",
          "51100",
          "45600",
          "43300",
          "44500",
          "47100",
          "43900",
          "43400",
          "47200",
          "61800",
          "56300",
          "55100",
          "58700",
          "47300",
          "58600",
          "52500",
          "43700",
          "51900",
          "44300",
          "34900",
          "75000",
          "51900",
          "41000",
          "74200",
          "51100",
          "34700",
          "28700",
          "48900",
          "45100",
          "38600",
          "55800",
          "46400",
          "39600",
          "55600",
          "52000",
          "54400",
          "49700",
          "44100",
          "35800",
          "50200",
          "69300",
          "61100",
          "49100",
          "56600",
          "52100",
          "48300",
          "59300",
          "48000",
          "59900",
          "35200",
          "53700",
          "69600",
          "49700",
          "32800",
          "56600",
          "45000",
          "36800",
          "44400",
          "70400",
          "40100",
          "49200",
          "43100",
          "46100",
          "34200",
          "53700",
          "41100",
          "48100",
          "82100",
          "45000",
          "53800",
          "34300",
          "35400",
          "38400",
          "40200",
          "51700",
          "36000",
          "36200",
          "42100",
          "46000",
          "55800",
          "45200",
          "49400",
          "39400",
          "60600",
          "48800",
          "59000",
          "42700",
          "83200",
          "34300",
          "55100",
          "44000",
          "59200",
          "29200",
          "67100",
          "90100",
          "46800",
          "32100",
          "44300",
          "38400",
          "29400",
          "43300",
          "41200",
          "23300",
          "35800",
          "41500",
          "36700",
          "35700",
          "51400",
          "61200",
          "44200",
          "39300",
          "44900",
          "53100",
          "41000",
          "57800",
          "42100",
          "44200",
          "39400",
          "41800",
          "45600",
          "33200",
          "45800",
          "28200",
          "28100",
          "39200",
          "33000",
          "36600",
          "31500",
          "31500",
          "38200",
          "32800",
          "34800",
          "38600",
          "40700",
          "28400",
          "34600",
          "39100",
          "29800",
          "61500",
          "28200",
          "75800",
          "34700",
          "39300",
          "40300",
          "41200",
          "48500",
          "31300",
          "40200",
          "46700",
          "42500",
          "40700",
          "26700",
          "39300",
          "36300",
          "35300",
          "31000",
          "44200",
          "46800",
          "26600",
          "31500",
          "36800",
          "37200",
          "37100",
          "38900",
          "34500",
          "43600",
          "28400",
          "36100",
          "41000",
          "33800",
          "36200",
          "39900",
          "32100",
          "40000",
          "37600",
          "51200",
          "34300",
          "65500",
          "39000",
          "40100",
          "47300",
          "34000",
          "39500",
          "36300",
          "21400",
          "52200",
          "57600",
          "55600",
          "69800",
          "45500",
          "41400",
          "47300",
          "29900",
          "29700",
          "52000",
          "36300",
          "45800",
          "42200",
          "39900",
          "45000",
          "42400",
          "43900",
          "65900",
          "36700",
          "38300",
          "37800",
          "43100",
          "42700",
          "45600",
          "47600",
          "44400",
          "43000",
          "41800",
          "41000",
          "42000",
          "41000",
          "41500",
          "45200",
          "36300",
          "39400",
          "35500",
          "54700",
          "50700",
          "40300",
          "41200",
          "37000",
          "35400",
          "42500",
          "36300",
          "34000",
          "35200",
          "41000",
          "40300",
          "41200",
          "35200",
          "36700",
          "35100",
          "33400",
          "46100",
          "35900",
          "35700",
          "30100",
          "38800",
          "42800",
          "48100",
          "71600",
          "34200",
          "37800",
          "37100",
          "79200",
          "38400",
          "40100",
          "30900",
          "46100",
          "45500",
          "36000",
          "41700",
          "48700",
          "53600",
          "38800",
          "43200",
          "40000",
          "44100",
          "41200",
          "39100",
          "56800",
          "38400",
          "30700",
          "32800",
          "37400",
          "41800",
          "44300",
          "48600",
          "35700",
          "50200",
          "42400",
          "43500",
          "42400",
          "43900",
          "42800",
          "37200",
          "44700",
          "44400",
          "40500",
          "36100",
          "42900",
          "49800",
          "39100",
          "39500",
          "36600",
          "41600",
          "22800",
          "46500",
          "43500",
          "39200",
          "31800",
          "41400",
          "40800",
          "37100",
          "46200",
          "34400",
          "41200",
          "39600",
          "31300",
          "35100",
          "46000",
          "31800",
          "37400",
          "32400",
          "44100",
          "32900",
          "34800",
          "40400",
          "28600",
          "34000",
          "43000",
          "31400",
          "40300",
          "31400",
          "35700",
          "36200",
          "28400",
          "29800",
          "43700",
          "46100",
          "31000",
          "33800",
          "44700",
          "32800",
          "28000",
          "33000",
          "47600",
          "34600",
          "40500",
          "41000",
          "46100",
          "37300",
          "37800",
          "36000",
          "36800",
          "33500",
          "45100",
          "36000",
          "33800",
          "28200",
          "38300",
          "56200",
          "47900",
          "50700",
          "55000",
          "33200",
          "40800",
          "84000",
          "45000",
          "40100",
          "37900",
          "55100",
          "46400",
          "70700",
          "43900",
          "35000",
          "43900",
          "69800",
          "54100",
          "61700",
          "35700",
          "36200",
          "39200",
          "53600",
          "47400",
          "48100",
          "49800",
          "49500",
          "47900",
          "43200",
          "59700",
          "91400",
          "26000",
          "42100",
          "80600",
          "70000",
          "62000",
          "55300",
          "43800",
          "44900",
          "42200",
          "43700",
          "41900",
          "45500",
          "39800",
          "90900",
          "39900",
          "35900",
          "50800",
          "49700",
          "47000",
          "112700",
          "34600",
          "94200",
          "79300",
          "38100",
          "34900",
          "64000",
          "44700",
          "35600",
          "49000",
          "43000",
          "46600",
          "51800",
          "66500",
          "60100",
          "60300",
          "54900",
          "43900",
          "36000",
          "54100",
          "45600",
          "36900",
          "46200",
          "42800",
          "38200",
          "35500",
          "43300",
          "40200",
          "49200",
          "35800",
          "40200",
          "46100",
          "37500",
          "42700",
          "78600",
          "36400",
          "41000",
          "43500",
          "36200",
          "55400",
          "39600",
          "27700",
          "34400",
          "60100",
          "51500",
          "64700",
          "46600",
          "40000",
          "34000",
          "45100",
          "41900",
          "36400",
          "27200",
          "37600",
          "38900",
          "38900",
          "30800",
          "39900",
          "43700",
          "47300",
          "39600",
          "34600",
          "45100",
          "52600",
          "36900",
          "47600",
          "45300",
          "43100",
          "49800",
          "41300",
          "34500",
          "45300",
          "39500",
          "38000",
          "30800",
          "36600",
          "23900",
          "50000",
          "42900",
          "59100",
          "44200",
          "47300",
          "32800",
          "51000",
          "55600",
          "46700",
          "37100",
          "42700",
          "30100",
          "30100",
          "33600",
          "29100",
          "46300",
          "41100",
          "33100",
          "22700",
          "38400",
          "40300",
          "22900",
          "35800",
          "25900",
          "34700",
          "42500",
          "32600",
          "29300",
          "34700",
          "36700",
          "38900",
          "33700",
          "36500",
          "31500",
          "34400",
          "40800",
          "30200",
          "39200",
          "46200",
          "34600",
          "32500",
          "46100",
          "43900",
          "67100",
          "40600",
          "43700",
          "37800",
          "32800",
          "47900",
          "54400",
          "24700",
          "120400",
          "32900",
          "33400",
          "36100",
          "37400",
          "66300",
          "41100",
          "41600",
          "44200",
          "34700",
          "41100",
          "43500",
          "41100",
          "40400",
          "34700",
          "35100",
          "37500",
          "48900",
          "48500",
          "36900",
          "56100",
          "44200",
          "31200",
          "41700",
          "39100",
          "47100",
          "38800",
          "42300",
          "45300",
          "43700",
          "40400",
          "43700",
          "36000",
          "43200",
          "45000",
          "44900",
          "70000",
          "37500",
          "47700",
          "41200",
          "47700",
          "35900",
          "41700",
          "43800",
          "48400",
          "41900",
          "48400",
          "42800",
          "49400",
          "42100",
          "46000",
          "50300",
          "65900",
          "80500",
          "48000",
          "50200",
          "56400",
          "56400",
          "56400",
          "44500",
          "56400",
          "42800",
          "87300",
          "46800",
          "56200",
          "44300",
          "33400",
          "29300",
          "29300",
          "36600",
          "34900",
          "52900",
          "34900",
          "34900",
          "33400",
          "33400",
          "33400",
          "33400",
          "34900",
          "34900",
          "55200",
          "122600",
          "39100",
          "56400",
          "46100",
          "68900",
          "61300",
          "78200",
          "45200",
          "73600",
          "55300",
          "43500",
          "45800",
          "45100",
          "43300",
          "41200",
          "47400",
          "39200",
          "48300",
          "45900",
          "57400",
          "39900",
          "53400",
          "45800",
          "49100",
          "46400",
          "46400",
          "46400",
          "62800",
          "40400",
          "38500",
          "57500",
          "47900",
          "50100",
          "34400",
          "59600",
          "40500",
          "53400",
          "40800",
          "40200",
          "57000",
          "43500",
          "77900",
          "41000",
          "60600",
          "44400",
          "44400",
          "45400",
          "47100",
          "52100",
          "45600",
          "53300",
          "39800",
          "33400",
          "48600",
          "32300",
          "50600",
          "59200",
          "49900",
          "55100",
          "42200",
          "48300",
          "41200",
          "38600",
          "39800",
          "46700",
          "43700",
          "42000",
          "41500",
          "35800",
          "43900",
          "40300",
          "76700",
          "58400",
          "78900",
          "51400",
          "40200",
          "35800",
          "55900",
          "36800",
          "35500",
          "35700",
          "42500",
          "44200",
          "38300",
          "32600",
          "54600",
          "77900",
          "39300",
          "29600",
          "49000",
          "29900",
          "37100",
          "34900",
          "38200",
          "35100",
          "28300",
          "36300",
          "21400",
          "26700",
          "30300",
          "36500",
          "38700",
          "36600",
          "37000",
          "33100",
          "34200",
          "54100",
          "42700",
          "35600",
          "32200",
          "31400",
          "49300",
          "37600",
          "39600",
          "34000",
          "32600",
          "35900",
          "30500",
          "37600",
          "28500",
          "25100",
          "32300",
          "33000",
          "27000",
          "40400",
          "31800",
          "36200",
          "39200",
          "42400",
          "46200",
          "38900",
          "46800",
          "46600",
          "27400",
          "38500",
          "35000",
          "35000",
          "28400",
          "39100",
          "57500",
          "37600",
          "39400",
          "39400",
          "43200",
          "69900",
          "40200",
          "24400",
          "51900",
          "33000",
          "39500",
          "39500",
          "39500",
          "35900",
          "39700",
          "51600",
          "38900",
          "41500",
          "47300",
          "36700",
          "38400",
          "51700",
          "36300",
          "36300",
          "36300",
          "36300",
          "36300",
          "36300",
          "36300",
          "36300",
          "44300",
          "33500",
          "34600",
          "41200",
          "40100",
          "45200",
          "45200",
          "45200",
          "56100",
          "42200",
          "41600",
          "37700",
          "42000",
          "40200",
          "38300",
          "62800",
          "43700",
          "43700",
          "43700",
          "43700",
          "43700",
          "43700",
          "39900",
          "39900",
          "39900",
          "39900",
          "39900",
          "39900",
          "49600",
          "41100",
          "36100",
          "41800",
          "34300",
          "44000",
          "31500",
          "38500",
          "45400",
          "38200",
          "38200",
          "47500",
          "34000",
          "31700",
          "49100",
          "38400",
          "35100",
          "34800",
          "35300",
          "35700",
          "36800",
          "48700",
          "35600",
          "44300",
          "37700",
          "40300",
          "48700",
          "34900",
          "32300",
          "32300",
          "34400",
          "25800",
          "38300",
          "45100",
          "42100",
          "38900",
          "43300",
          "52400",
          "42600",
          "52900",
          "46900",
          "43200",
          "42700",
          "42900",
          "56600",
          "37900",
          "37200",
          "36500",
          "49100",
          "37500",
          "47400",
          "42800",
          "42500",
          "43700",
          "53100",
          "66200",
          "39500",
          "38100",
          "81800",
          "45800",
          "34400",
          "41900",
          "37000",
          "39900",
          "66600",
          "56300",
          "43300",
          "40500",
          "35200",
          "49100",
          "45800",
          "38900",
          "53300",
          "56300",
          "48900",
          "51800",
          "39000",
          "29900",
          "40900",
          "40400",
          "54300",
          "67500",
          "33000",
          "77200",
          "33300",
          "40300",
          "47400",
          "45700",
          "37000",
          "37500",
          "37200",
          "43200",
          "43100",
          "49600",
          "48200",
          "37400",
          "41500",
          "48500",
          "48500",
          "48500",
          "48500",
          "48500",
          "48500",
          "48500",
          "48500",
          "48500",
          "48500",
          "48500",
          "48500",
          "48500",
          "48500",
          "48500",
          "48500",
          "48500",
          "48500",
          "48500",
          "48500",
          "82400",
          "49100",
          "30800",
          "33500",
          "91800",
          "50700",
          "50700",
          "50700",
          "50700",
          "50700",
          "35800",
          "59200",
          "44400",
          "44700",
          "48200",
          "47400",
          "56600",
          "51200",
          "44400",
          "39600",
          "52500",
          "36900",
          "29900",
          "43700",
          "74500",
          "43600",
          "46700",
          "42200",
          "53200",
          "50300",
          "33600",
          "48000",
          "63100",
          "39600",
          "49800",
          "46800",
          "34300",
          "35900",
          "39700",
          "54900",
          "28100",
          "50900",
          "31500",
          "29900",
          "33500",
          "31000",
          "37500",
          "32500",
          "33600",
          "36700",
          "32200",
          "31300",
          "42000",
          "35800",
          "33000",
          "43000",
          "43000",
          "27000",
          "32400",
          "31500",
          "37100",
          "28400",
          "36300",
          "31200",
          "36200",
          "50000",
          "41600",
          "34900",
          "36700",
          "35500",
          "33800",
          "34100",
          "34500",
          "54200",
          "42000",
          "38800",
          "40200",
          "45000",
          "34100",
          "52200",
          "43000",
          "38100",
          "34900",
          "36300",
          "43900",
          "38300",
          "39800",
          "34600",
          "33200",
          "36300",
          "27700",
          "36900",
          "28900",
          "42100",
          "23300",
          "27700",
          "33600",
          "36600",
          "37000",
          "36400",
          "37000",
          "49600",
          "28800",
          "37700",
          "37100",
          "43400",
          "35000",
          "37600",
          "39500",
          "37300",
          "41200",
          "64500",
          "41400",
          "38500",
          "48300",
          "49400",
          "40900",
          "41500",
          "42500",
          "37100",
          "44500",
          "38900",
          "35500",
          "37600",
          "40500",
          "46600",
          "47100",
          "42800",
          "49900",
          "36600",
          "31800",
          "44400",
          "39400",
          "43800",
          "47700",
          "40800",
          "41600",
          "38400",
          "39100",
          "43300",
          "45100",
          "38600",
          "40200",
          "27100",
          "34900",
          "64300",
          "45800",
          "48900",
          "42600",
          "38800",
          "45400",
          "57300",
          "33200",
          "50000",
          "40000",
          "44400",
          "39200",
          "36900",
          "41600",
          "40000",
          "55500",
          "46700",
          "54900",
          "51100",
          "38900",
          "42300",
          "49900",
          "44200",
          "44400",
          "44000",
          "30500",
          "49300",
          "42000",
          "44000",
          "54600",
          "40000",
          "40600",
          "56800",
          "41000",
          "38400",
          "42400",
          "51000",
          "47900",
          "36000",
          "40800",
          "31500",
          "32800",
          "55600",
          "35200",
          "45200",
          "41500",
          "40300",
          "41100",
          "55400",
          "41200",
          "43600",
          "38300",
          "38600",
          "36600",
          "58100",
          "48700",
          "41700",
          "32200",
          "53800",
          "35200",
          "39900",
          "42100",
          "36200",
          "50500",
          "52300",
          "33200",
          "42600",
          "46200",
          "40900",
          "60700",
          "43000",
          "41400",
          "34900",
          "36800",
          "37300",
          "60500",
          "42200",
          "60700",
          "63200",
          "33300",
          "31400",
          "39300",
          "72300",
          "44900",
          "42500",
          "34300",
          "54100",
          "38400",
          "47700",
          "45000",
          "47200",
          "55500",
          "43100",
          "48600",
          "54800",
          "44400",
          "46600",
          "43200",
          "27300",
          "39100",
          "26700",
          "41800",
          "30600",
          "35600",
          "32100",
          "30100",
          "34300",
          "44000",
          "38800",
          "29200",
          "34500",
          "44000",
          "40200",
          "44000",
          "42100",
          "37100",
          "55800",
          "47400",
          "41400",
          "44500",
          "42800",
          "42400",
          "41100",
          "39700",
          "59000",
          "67400",
          "39300",
          "33000",
          "43900",
          "45100",
          "34300",
          "41100",
          "41900",
          "44000",
          "38900",
          "44700",
          "40900",
          "41200",
          "37800",
          "44300",
          "35700",
          "54200",
          "42300",
          "45400",
          "40200",
          "39000",
          "46200",
          "32200",
          "85700",
          "55000",
          "53200",
          "45100",
          "54800",
          "54800",
          "29300",
          "33400",
          "45400",
          "41700",
          "51200",
          "31700",
          "45400",
          "50900",
          "41000",
          "55800",
          "55800",
          "55800",
          "52400",
          "35300",
          "46900",
          "81300",
          "36700",
          "34700",
          "44200",
          "44200",
          "41800",
          "45400",
          "41500",
          "46400",
          "41800",
          "49800",
          "50500",
          "43000",
          "48500",
          "49100",
          "61200",
          "58500",
          "32400",
          "40600",
          "64000",
          "45400"
         ],
         "yaxis": "y"
        }
       ],
       "layout": {
        "legend": {
         "tracegroupgap": 0
        },
        "margin": {
         "t": 60
        },
        "template": {
         "data": {
          "bar": [
           {
            "error_x": {
             "color": "#2a3f5f"
            },
            "error_y": {
             "color": "#2a3f5f"
            },
            "marker": {
             "line": {
              "color": "#E5ECF6",
              "width": 0.5
             }
            },
            "type": "bar"
           }
          ],
          "barpolar": [
           {
            "marker": {
             "line": {
              "color": "#E5ECF6",
              "width": 0.5
             }
            },
            "type": "barpolar"
           }
          ],
          "carpet": [
           {
            "aaxis": {
             "endlinecolor": "#2a3f5f",
             "gridcolor": "white",
             "linecolor": "white",
             "minorgridcolor": "white",
             "startlinecolor": "#2a3f5f"
            },
            "baxis": {
             "endlinecolor": "#2a3f5f",
             "gridcolor": "white",
             "linecolor": "white",
             "minorgridcolor": "white",
             "startlinecolor": "#2a3f5f"
            },
            "type": "carpet"
           }
          ],
          "choropleth": [
           {
            "colorbar": {
             "outlinewidth": 0,
             "ticks": ""
            },
            "type": "choropleth"
           }
          ],
          "contour": [
           {
            "colorbar": {
             "outlinewidth": 0,
             "ticks": ""
            },
            "colorscale": [
             [
              0,
              "#0d0887"
             ],
             [
              0.1111111111111111,
              "#46039f"
             ],
             [
              0.2222222222222222,
              "#7201a8"
             ],
             [
              0.3333333333333333,
              "#9c179e"
             ],
             [
              0.4444444444444444,
              "#bd3786"
             ],
             [
              0.5555555555555556,
              "#d8576b"
             ],
             [
              0.6666666666666666,
              "#ed7953"
             ],
             [
              0.7777777777777778,
              "#fb9f3a"
             ],
             [
              0.8888888888888888,
              "#fdca26"
             ],
             [
              1,
              "#f0f921"
             ]
            ],
            "type": "contour"
           }
          ],
          "contourcarpet": [
           {
            "colorbar": {
             "outlinewidth": 0,
             "ticks": ""
            },
            "type": "contourcarpet"
           }
          ],
          "heatmap": [
           {
            "colorbar": {
             "outlinewidth": 0,
             "ticks": ""
            },
            "colorscale": [
             [
              0,
              "#0d0887"
             ],
             [
              0.1111111111111111,
              "#46039f"
             ],
             [
              0.2222222222222222,
              "#7201a8"
             ],
             [
              0.3333333333333333,
              "#9c179e"
             ],
             [
              0.4444444444444444,
              "#bd3786"
             ],
             [
              0.5555555555555556,
              "#d8576b"
             ],
             [
              0.6666666666666666,
              "#ed7953"
             ],
             [
              0.7777777777777778,
              "#fb9f3a"
             ],
             [
              0.8888888888888888,
              "#fdca26"
             ],
             [
              1,
              "#f0f921"
             ]
            ],
            "type": "heatmap"
           }
          ],
          "heatmapgl": [
           {
            "colorbar": {
             "outlinewidth": 0,
             "ticks": ""
            },
            "colorscale": [
             [
              0,
              "#0d0887"
             ],
             [
              0.1111111111111111,
              "#46039f"
             ],
             [
              0.2222222222222222,
              "#7201a8"
             ],
             [
              0.3333333333333333,
              "#9c179e"
             ],
             [
              0.4444444444444444,
              "#bd3786"
             ],
             [
              0.5555555555555556,
              "#d8576b"
             ],
             [
              0.6666666666666666,
              "#ed7953"
             ],
             [
              0.7777777777777778,
              "#fb9f3a"
             ],
             [
              0.8888888888888888,
              "#fdca26"
             ],
             [
              1,
              "#f0f921"
             ]
            ],
            "type": "heatmapgl"
           }
          ],
          "histogram": [
           {
            "marker": {
             "colorbar": {
              "outlinewidth": 0,
              "ticks": ""
             }
            },
            "type": "histogram"
           }
          ],
          "histogram2d": [
           {
            "colorbar": {
             "outlinewidth": 0,
             "ticks": ""
            },
            "colorscale": [
             [
              0,
              "#0d0887"
             ],
             [
              0.1111111111111111,
              "#46039f"
             ],
             [
              0.2222222222222222,
              "#7201a8"
             ],
             [
              0.3333333333333333,
              "#9c179e"
             ],
             [
              0.4444444444444444,
              "#bd3786"
             ],
             [
              0.5555555555555556,
              "#d8576b"
             ],
             [
              0.6666666666666666,
              "#ed7953"
             ],
             [
              0.7777777777777778,
              "#fb9f3a"
             ],
             [
              0.8888888888888888,
              "#fdca26"
             ],
             [
              1,
              "#f0f921"
             ]
            ],
            "type": "histogram2d"
           }
          ],
          "histogram2dcontour": [
           {
            "colorbar": {
             "outlinewidth": 0,
             "ticks": ""
            },
            "colorscale": [
             [
              0,
              "#0d0887"
             ],
             [
              0.1111111111111111,
              "#46039f"
             ],
             [
              0.2222222222222222,
              "#7201a8"
             ],
             [
              0.3333333333333333,
              "#9c179e"
             ],
             [
              0.4444444444444444,
              "#bd3786"
             ],
             [
              0.5555555555555556,
              "#d8576b"
             ],
             [
              0.6666666666666666,
              "#ed7953"
             ],
             [
              0.7777777777777778,
              "#fb9f3a"
             ],
             [
              0.8888888888888888,
              "#fdca26"
             ],
             [
              1,
              "#f0f921"
             ]
            ],
            "type": "histogram2dcontour"
           }
          ],
          "mesh3d": [
           {
            "colorbar": {
             "outlinewidth": 0,
             "ticks": ""
            },
            "type": "mesh3d"
           }
          ],
          "parcoords": [
           {
            "line": {
             "colorbar": {
              "outlinewidth": 0,
              "ticks": ""
             }
            },
            "type": "parcoords"
           }
          ],
          "pie": [
           {
            "automargin": true,
            "type": "pie"
           }
          ],
          "scatter": [
           {
            "marker": {
             "colorbar": {
              "outlinewidth": 0,
              "ticks": ""
             }
            },
            "type": "scatter"
           }
          ],
          "scatter3d": [
           {
            "line": {
             "colorbar": {
              "outlinewidth": 0,
              "ticks": ""
             }
            },
            "marker": {
             "colorbar": {
              "outlinewidth": 0,
              "ticks": ""
             }
            },
            "type": "scatter3d"
           }
          ],
          "scattercarpet": [
           {
            "marker": {
             "colorbar": {
              "outlinewidth": 0,
              "ticks": ""
             }
            },
            "type": "scattercarpet"
           }
          ],
          "scattergeo": [
           {
            "marker": {
             "colorbar": {
              "outlinewidth": 0,
              "ticks": ""
             }
            },
            "type": "scattergeo"
           }
          ],
          "scattergl": [
           {
            "marker": {
             "colorbar": {
              "outlinewidth": 0,
              "ticks": ""
             }
            },
            "type": "scattergl"
           }
          ],
          "scattermapbox": [
           {
            "marker": {
             "colorbar": {
              "outlinewidth": 0,
              "ticks": ""
             }
            },
            "type": "scattermapbox"
           }
          ],
          "scatterpolar": [
           {
            "marker": {
             "colorbar": {
              "outlinewidth": 0,
              "ticks": ""
             }
            },
            "type": "scatterpolar"
           }
          ],
          "scatterpolargl": [
           {
            "marker": {
             "colorbar": {
              "outlinewidth": 0,
              "ticks": ""
             }
            },
            "type": "scatterpolargl"
           }
          ],
          "scatterternary": [
           {
            "marker": {
             "colorbar": {
              "outlinewidth": 0,
              "ticks": ""
             }
            },
            "type": "scatterternary"
           }
          ],
          "surface": [
           {
            "colorbar": {
             "outlinewidth": 0,
             "ticks": ""
            },
            "colorscale": [
             [
              0,
              "#0d0887"
             ],
             [
              0.1111111111111111,
              "#46039f"
             ],
             [
              0.2222222222222222,
              "#7201a8"
             ],
             [
              0.3333333333333333,
              "#9c179e"
             ],
             [
              0.4444444444444444,
              "#bd3786"
             ],
             [
              0.5555555555555556,
              "#d8576b"
             ],
             [
              0.6666666666666666,
              "#ed7953"
             ],
             [
              0.7777777777777778,
              "#fb9f3a"
             ],
             [
              0.8888888888888888,
              "#fdca26"
             ],
             [
              1,
              "#f0f921"
             ]
            ],
            "type": "surface"
           }
          ],
          "table": [
           {
            "cells": {
             "fill": {
              "color": "#EBF0F8"
             },
             "line": {
              "color": "white"
             }
            },
            "header": {
             "fill": {
              "color": "#C8D4E3"
             },
             "line": {
              "color": "white"
             }
            },
            "type": "table"
           }
          ]
         },
         "layout": {
          "annotationdefaults": {
           "arrowcolor": "#2a3f5f",
           "arrowhead": 0,
           "arrowwidth": 1
          },
          "coloraxis": {
           "colorbar": {
            "outlinewidth": 0,
            "ticks": ""
           }
          },
          "colorscale": {
           "diverging": [
            [
             0,
             "#8e0152"
            ],
            [
             0.1,
             "#c51b7d"
            ],
            [
             0.2,
             "#de77ae"
            ],
            [
             0.3,
             "#f1b6da"
            ],
            [
             0.4,
             "#fde0ef"
            ],
            [
             0.5,
             "#f7f7f7"
            ],
            [
             0.6,
             "#e6f5d0"
            ],
            [
             0.7,
             "#b8e186"
            ],
            [
             0.8,
             "#7fbc41"
            ],
            [
             0.9,
             "#4d9221"
            ],
            [
             1,
             "#276419"
            ]
           ],
           "sequential": [
            [
             0,
             "#0d0887"
            ],
            [
             0.1111111111111111,
             "#46039f"
            ],
            [
             0.2222222222222222,
             "#7201a8"
            ],
            [
             0.3333333333333333,
             "#9c179e"
            ],
            [
             0.4444444444444444,
             "#bd3786"
            ],
            [
             0.5555555555555556,
             "#d8576b"
            ],
            [
             0.6666666666666666,
             "#ed7953"
            ],
            [
             0.7777777777777778,
             "#fb9f3a"
            ],
            [
             0.8888888888888888,
             "#fdca26"
            ],
            [
             1,
             "#f0f921"
            ]
           ],
           "sequentialminus": [
            [
             0,
             "#0d0887"
            ],
            [
             0.1111111111111111,
             "#46039f"
            ],
            [
             0.2222222222222222,
             "#7201a8"
            ],
            [
             0.3333333333333333,
             "#9c179e"
            ],
            [
             0.4444444444444444,
             "#bd3786"
            ],
            [
             0.5555555555555556,
             "#d8576b"
            ],
            [
             0.6666666666666666,
             "#ed7953"
            ],
            [
             0.7777777777777778,
             "#fb9f3a"
            ],
            [
             0.8888888888888888,
             "#fdca26"
            ],
            [
             1,
             "#f0f921"
            ]
           ]
          },
          "colorway": [
           "#636efa",
           "#EF553B",
           "#00cc96",
           "#ab63fa",
           "#FFA15A",
           "#19d3f3",
           "#FF6692",
           "#B6E880",
           "#FF97FF",
           "#FECB52"
          ],
          "font": {
           "color": "#2a3f5f"
          },
          "geo": {
           "bgcolor": "white",
           "lakecolor": "white",
           "landcolor": "#E5ECF6",
           "showlakes": true,
           "showland": true,
           "subunitcolor": "white"
          },
          "hoverlabel": {
           "align": "left"
          },
          "hovermode": "closest",
          "mapbox": {
           "style": "light"
          },
          "paper_bgcolor": "white",
          "plot_bgcolor": "#E5ECF6",
          "polar": {
           "angularaxis": {
            "gridcolor": "white",
            "linecolor": "white",
            "ticks": ""
           },
           "bgcolor": "#E5ECF6",
           "radialaxis": {
            "gridcolor": "white",
            "linecolor": "white",
            "ticks": ""
           }
          },
          "scene": {
           "xaxis": {
            "backgroundcolor": "#E5ECF6",
            "gridcolor": "white",
            "gridwidth": 2,
            "linecolor": "white",
            "showbackground": true,
            "ticks": "",
            "zerolinecolor": "white"
           },
           "yaxis": {
            "backgroundcolor": "#E5ECF6",
            "gridcolor": "white",
            "gridwidth": 2,
            "linecolor": "white",
            "showbackground": true,
            "ticks": "",
            "zerolinecolor": "white"
           },
           "zaxis": {
            "backgroundcolor": "#E5ECF6",
            "gridcolor": "white",
            "gridwidth": 2,
            "linecolor": "white",
            "showbackground": true,
            "ticks": "",
            "zerolinecolor": "white"
           }
          },
          "shapedefaults": {
           "line": {
            "color": "#2a3f5f"
           }
          },
          "ternary": {
           "aaxis": {
            "gridcolor": "white",
            "linecolor": "white",
            "ticks": ""
           },
           "baxis": {
            "gridcolor": "white",
            "linecolor": "white",
            "ticks": ""
           },
           "bgcolor": "#E5ECF6",
           "caxis": {
            "gridcolor": "white",
            "linecolor": "white",
            "ticks": ""
           }
          },
          "title": {
           "x": 0.05
          },
          "xaxis": {
           "automargin": true,
           "gridcolor": "white",
           "linecolor": "white",
           "ticks": "",
           "title": {
            "standoff": 15
           },
           "zerolinecolor": "white",
           "zerolinewidth": 2
          },
          "yaxis": {
           "automargin": true,
           "gridcolor": "white",
           "linecolor": "white",
           "ticks": "",
           "title": {
            "standoff": 15
           },
           "zerolinecolor": "white",
           "zerolinewidth": 2
          }
         }
        },
        "xaxis": {
         "anchor": "y",
         "domain": [
          0,
          1
         ],
         "title": {
          "text": "SAT_AVG_ALL"
         }
        },
        "yaxis": {
         "anchor": "x",
         "domain": [
          0,
          1
         ],
         "title": {
          "text": "MD_EARN_WNE_P10"
         }
        }
       }
      },
      "text/html": [
       "<div>                            <div id=\"387b84e5-7f75-46bc-a0a8-552cbf580d54\" class=\"plotly-graph-div\" style=\"height:525px; width:100%;\"></div>            <script type=\"text/javascript\">                require([\"plotly\"], function(Plotly) {                    window.PLOTLYENV=window.PLOTLYENV || {};                                    if (document.getElementById(\"387b84e5-7f75-46bc-a0a8-552cbf580d54\")) {                    Plotly.newPlot(                        \"387b84e5-7f75-46bc-a0a8-552cbf580d54\",                        [{\"customdata\": [[\"Alabama A & M University\"], [\"University of Alabama at Birmingham\"], [\"University of Alabama in Huntsville\"], [\"Alabama State University\"], [\"The University of Alabama\"], [\"Auburn University at Montgomery\"], [\"Auburn University\"], [\"Birmingham Southern College\"], [\"Faulkner University\"], [\"Huntingdon College\"], [\"Jacksonville State University\"], [\"Judson College\"], [\"University of West Alabama\"], [\"Marion Military Institute\"], [\"University of Mobile\"], [\"University of Montevallo\"], [\"University of North Alabama\"], [\"Oakwood University\"], [\"Samford University\"], [\"University of South Alabama\"], [\"Spring Hill College\"], [\"Southeastern Bible College\"], [\"Stillman College\"], [\"Troy University\"], [\"Tuskegee University\"], [\"University of Alaska Fairbanks\"], [\"Alaska Pacific University\"], [\"Arizona State University-Tempe\"], [\"Prescott College\"], [\"Arizona Christian University\"], [\"University of Arkansas at Little Rock\"], [\"Lyon College\"], [\"University of Arkansas\"], [\"University of Arkansas at Pine Bluff\"], [\"Arkansas State University-Main Campus\"], [\"Baptist Health College-Little Rock\"], [\"University of Central Arkansas\"], [\"Central Baptist College\"], [\"Harding University\"], [\"Henderson State University\"], [\"Hendrix College\"], [\"John Brown University\"], [\"Ouachita Baptist University\"], [\"University of the Ozarks\"], [\"University of Arkansas Community College-Morrilton\"], [\"Williams Baptist College\"], [\"Southern Arkansas University Main Campus\"], [\"Azusa Pacific University\"], [\"Biola University\"], [\"California Baptist University\"], [\"California Institute of Technology\"], [\"California Lutheran University\"], [\"California Polytechnic State University-San Luis Obispo\"], [\"California State University-San Bernardino\"], [\"California State Polytechnic University-Pomona\"], [\"California State University-Chico\"], [\"California State University-Fresno\"], [\"California State University-Fullerton\"], [\"California State University-Long Beach\"], [\"California State University-Los Angeles\"], [\"California State University-Northridge\"], [\"California State University-Sacramento\"], [\"University of California-Berkeley\"], [\"University of California-Davis\"], [\"University of California-Irvine\"], [\"University of California-Los Angeles\"], [\"University of California-Riverside\"], [\"University of California-San Diego\"], [\"University of California-Santa Barbara\"], [\"University of California-Santa Cruz\"], [\"Chapman University\"], [\"Concordia University-Irvine\"], [\"San Diego Christian College\"], [\"Claremont McKenna College\"], [\"Dominican University of California\"], [\"Fresno Pacific University\"], [\"Harvey Mudd College\"], [\"Holy Names University\"], [\"Humboldt State University\"], [\"Life Pacific College\"], [\"University of La Verne\"], [\"La Sierra University\"], [\"The Master's University and Seminary\"], [\"Loyola Marymount University\"], [\"Menlo College\"], [\"Mills College\"], [\"Middlebury Institute of International Studies at Monterey\"], [\"Mount Saint Mary's University\"], [\"Notre Dame de Namur University\"], [\"Occidental College\"], [\"Otis College of Art and Design\"], [\"Hope International University\"], [\"Pacific Union College\"], [\"University of the Pacific\"], [\"Pepperdine University\"], [\"Point Loma Nazarene University\"], [\"Pomona College\"], [\"University of Redlands\"], [\"San Diego State University\"], [\"University of San Diego\"], [\"San Francisco State University\"], [\"University of San Francisco\"], [\"William Jessup University\"], [\"San Jose State University\"], [\"Santa Clara University\"], [\"Scripps College\"], [\"Simpson University\"], [\"Saint Mary's College of California\"], [\"Sonoma State University\"], [\"Vanguard University of Southern California\"], [\"Southern California Institute of Architecture\"], [\"University of Southern California\"], [\"Thomas Aquinas College\"], [\"Westmont College\"], [\"Whittier College\"], [\"Woodbury University\"], [\"Adams State University\"], [\"University of Colorado Denver/Anschutz Medical Campus\"], [\"University of Colorado Colorado Springs\"], [\"University of Colorado Boulder\"], [\"Colorado School of Mines\"], [\"Colorado State University-Fort Collins\"], [\"University of Denver\"], [\"Fort Lewis College\"], [\"Colorado Mesa University\"], [\"Metropolitan State University of Denver\"], [\"University of Northern Colorado\"], [\"Regis University\"], [\"Colorado State University-Pueblo\"], [\"Western State Colorado University\"], [\"University of Bridgeport\"], [\"Central Connecticut State University\"], [\"University of Connecticut\"], [\"University of Hartford\"], [\"University of New Haven\"], [\"Post University\"], [\"Quinnipiac University\"], [\"University of Saint Joseph\"], [\"St Vincent's College\"], [\"Southern Connecticut State University\"], [\"Yale University\"], [\"Delaware State University\"], [\"University of Delaware\"], [\"Wesley College\"], [\"American University\"], [\"Gallaudet University\"], [\"George Washington University\"], [\"Georgetown University\"], [\"Howard University\"], [\"The Baptist College of Florida\"], [\"Barry University\"], [\"Lynn University\"], [\"Johnson University Florida\"], [\"University of Central Florida\"], [\"Eckerd College\"], [\"Edward Waters College\"], [\"Florida Agricultural and Mechanical University\"], [\"Florida Atlantic University\"], [\"Flagler College-St Augustine\"], [\"Florida College\"], [\"Adventist University of Health Sciences\"], [\"Florida Institute of Technology\"], [\"Florida International University\"], [\"Florida Southern College\"], [\"Florida State University\"], [\"University of Florida\"], [\"Trinity International University-Florida\"], [\"University of Miami\"], [\"University of North Florida\"], [\"Nova Southeastern University\"], [\"Palm Beach Atlantic University\"], [\"University of South Florida-Main Campus\"], [\"St Thomas University\"], [\"Southeastern University\"], [\"The University of Tampa\"], [\"Trinity Baptist College\"], [\"Trinity College of Florida\"], [\"Warner University\"], [\"Webber International University\"], [\"The University of West Florida\"], [\"Abraham Baldwin Agricultural College\"], [\"Albany State University\"], [\"Armstrong State University\"], [\"Point University\"], [\"Clark Atlanta University\"], [\"Berry College\"], [\"Brenau University\"], [\"College of Coastal Georgia\"], [\"Columbus State University\"], [\"Covenant College\"], [\"Emmanuel College\"], [\"Emory University\"], [\"Fort Valley State University\"], [\"Georgia Institute of Technology-Main Campus\"], [\"Georgia Southwestern State University\"], [\"Georgia College and State University\"], [\"Georgia Southern University\"], [\"Georgia State University\"], [\"University of Georgia\"], [\"Gordon State College\"], [\"LaGrange College\"], [\"Mercer University\"], [\"Morehouse College\"], [\"Oglethorpe University\"], [\"Paine College\"], [\"Piedmont College\"], [\"Reinhardt University\"], [\"Savannah College of Art and Design\"], [\"Savannah State University\"], [\"Shorter University\"], [\"Spelman College\"], [\"Toccoa Falls College\"], [\"Truett McConnell University\"], [\"Valdosta State University\"], [\"University of West Georgia\"], [\"Young Harris College\"], [\"Chaminade University of Honolulu\"], [\"University of Hawaii at Hilo\"], [\"University of Hawaii at Manoa\"], [\"Boise Bible College\"], [\"Boise State University\"], [\"University of Idaho\"], [\"Lewis-Clark State College\"], [\"Northwest Nazarene University\"], [\"Brigham Young University-Idaho\"], [\"School of the Art Institute of Chicago\"], [\"Aurora University\"], [\"Blackburn College\"], [\"Bradley University\"], [\"Chicago State University\"], [\"University of Chicago\"], [\"Concordia University-Chicago\"], [\"Eastern Illinois University\"], [\"Elmhurst College\"], [\"Eureka College\"], [\"Governors State University\"], [\"Greenville College\"], [\"Hebrew Theological College\"], [\"University of Illinois at Chicago\"], [\"University of Illinois at Urbana-Champaign\"], [\"Illinois Wesleyan University\"], [\"Illinois Institute of Technology\"], [\"Illinois State University\"], [\"Judson University\"], [\"Lewis University\"], [\"Lincoln Christian University\"], [\"Lincoln College\"], [\"Loyola University Chicago\"], [\"MacMurray College\"], [\"McKendree University\"], [\"Millikin University\"], [\"Monmouth College\"], [\"North Central College\"], [\"North Park University\"], [\"Northern Illinois University\"], [\"Northwestern University\"], [\"Northeastern Illinois University\"], [\"Olivet Nazarene University\"], [\"Quincy University\"], [\"Rockford University\"], [\"Roosevelt University\"], [\"Dominican University\"], [\"University of St Francis\"], [\"Saint Xavier University\"], [\"University of Illinois at Springfield\"], [\"Southern Illinois University-Carbondale\"], [\"Southern Illinois University-Edwardsville\"], [\"Trinity Christian College\"], [\"Trinity International University-Illinois\"], [\"Western Illinois University\"], [\"Wheaton College\"], [\"Anderson University\"], [\"Ball State University\"], [\"Bethel College-Indiana\"], [\"Butler University\"], [\"DePauw University\"], [\"University of Evansville\"], [\"Franklin College\"], [\"Goshen College\"], [\"Grace College and Theological Seminary\"], [\"Hanover College\"], [\"Holy Cross College\"], [\"Huntington University\"], [\"Indiana University-Purdue University-Fort Wayne\"], [\"Indiana University-Purdue University-Indianapolis\"], [\"University of Indianapolis\"], [\"Indiana Institute of Technology\"], [\"University of Southern Indiana\"], [\"Indiana State University\"], [\"Indiana University-Kokomo\"], [\"Indiana University-South Bend\"], [\"Indiana University-Bloomington\"], [\"Indiana University-Northwest\"], [\"Indiana University-Southeast\"], [\"Indiana University-East\"], [\"Manchester University\"], [\"Marian University\"], [\"Indiana Wesleyan University-Marion\"], [\"University of Notre Dame\"], [\"Oakland City University\"], [\"Purdue University-Calumet Campus\"], [\"Purdue University-North Central Campus\"], [\"Rose-Hulman Institute of Technology\"], [\"University of Saint Francis-Fort Wayne\"], [\"Saint Josephs College\"], [\"Saint Mary-of-the-Woods College\"], [\"Saint Mary's College\"], [\"Saint Elizabeth School of Nursing\"], [\"Taylor University\"], [\"Trine University\"], [\"Valparaiso University\"], [\"Wabash College\"], [\"Buena Vista University\"], [\"Central College\"], [\"Clarke University\"], [\"Coe College\"], [\"Cornell College\"], [\"Dordt College\"], [\"Drake University\"], [\"University of Dubuque\"], [\"Emmaus Bible College\"], [\"Faith Baptist Bible College and Theological Seminary\"], [\"Graceland University-Lamoni\"], [\"Grand View University\"], [\"Grinnell College\"], [\"Iowa State University\"], [\"Iowa Wesleyan University\"], [\"University of Iowa\"], [\"Loras College\"], [\"Luther College\"], [\"Morningside College\"], [\"Mount Mercy University\"], [\"University of Northern Iowa\"], [\"Northwestern College\"], [\"Saint Ambrose University\"], [\"Simpson College\"], [\"Upper Iowa University\"], [\"Waldorf University\"], [\"Wartburg College\"], [\"Baker University\"], [\"Benedictine College\"], [\"Bethany College\"], [\"Emporia State University\"], [\"Friends University\"], [\"Haskell Indian Nations University\"], [\"University of Kansas\"], [\"Newman University\"], [\"Kansas Wesleyan University\"], [\"Manhattan Christian College\"], [\"McPherson College\"], [\"MidAmerica Nazarene University\"], [\"University of Saint Mary\"], [\"Southwestern College\"], [\"Sterling College\"], [\"Tabor College\"], [\"Wichita State University\"], [\"Alice Lloyd College\"], [\"Asbury University\"], [\"Bellarmine University\"], [\"Berea College\"], [\"Brescia University\"], [\"Campbellsville University\"], [\"Centre College\"], [\"University of the Cumberlands\"], [\"Eastern Kentucky University\"], [\"Georgetown College\"], [\"Kentucky State University\"], [\"Kentucky Wesleyan College\"], [\"University of Kentucky\"], [\"Kentucky Christian University\"], [\"University of Louisville\"], [\"Morehead State University\"], [\"Murray State University\"], [\"Northern Kentucky University\"], [\"University of Pikeville\"], [\"Saint Catharine College\"], [\"Spalding University\"], [\"Thomas More College\"], [\"Union College\"], [\"Western Kentucky University\"], [\"Centenary College of Louisiana\"], [\"Dillard University\"], [\"Grambling State University\"], [\"Louisiana State University-Alexandria\"], [\"Louisiana State University and Agricultural & Mechanical College\"], [\"Louisiana State University-Shreveport\"], [\"Louisiana College\"], [\"Louisiana Tech University\"], [\"Loyola University New Orleans\"], [\"McNeese State University\"], [\"University of New Orleans\"], [\"Nicholls State University\"], [\"University of Louisiana at Monroe\"], [\"Northwestern State University of Louisiana\"], [\"Our Lady of the Lake College\"], [\"Southeastern Louisiana University\"], [\"Southern University and A & M College\"], [\"Southern University at New Orleans\"], [\"University of Louisiana at Lafayette\"], [\"Tulane University of Louisiana\"], [\"Xavier University of Louisiana\"], [\"Maine College of Health Professions\"], [\"Colby College\"], [\"University of Maine at Fort Kent\"], [\"University of Maine\"], [\"Maine Maritime Academy\"], [\"University of New England\"], [\"Saint Joseph's College of Maine\"], [\"University of Southern Maine\"], [\"University of Baltimore\"], [\"Bowie State University\"], [\"Capitol Technology University\"], [\"Washington Adventist University\"], [\"Coppin State University\"], [\"Frostburg State University\"], [\"Johns Hopkins University\"], [\"University of Maryland-Baltimore County\"], [\"University of Maryland-College Park\"], [\"Maryland Institute College of Art\"], [\"University of Maryland Eastern Shore\"], [\"Morgan State University\"], [\"Mount St Mary's University\"], [\"Notre Dame of Maryland University\"], [\"St Mary's College of Maryland\"], [\"Towson University\"], [\"Stevenson University\"], [\"McDaniel College\"], [\"American International College\"], [\"Amherst College\"], [\"Babson College\"], [\"Boston Baptist College\"], [\"Becker College\"], [\"Bentley University\"], [\"Boston College\"], [\"Boston University\"], [\"Brandeis University\"], [\"Bridgewater State University\"], [\"Curry College\"], [\"Eastern Nazarene College\"], [\"Emerson College\"], [\"Fitchburg State University\"], [\"Framingham State University\"], [\"Gordon College\"], [\"Harvard University\"], [\"Lasell College\"], [\"Lesley University\"], [\"University of Massachusetts-Lowell\"], [\"University of Massachusetts-Amherst\"], [\"University of Massachusetts-Boston\"], [\"MCPHS University\"], [\"Massachusetts College of Art and Design\"], [\"Massachusetts Institute of Technology\"], [\"Massachusetts Maritime Academy\"], [\"Mount Ida College\"], [\"Massachusetts College of Liberal Arts\"], [\"Northeastern University\"], [\"College of Our Lady of the Elms\"], [\"Pine Manor College\"], [\"Simmons College\"], [\"Springfield College\"], [\"University of Massachusetts-Dartmouth\"], [\"Suffolk University\"], [\"Tufts University\"], [\"Wellesley College\"], [\"Wentworth Institute of Technology\"], [\"Western New England University\"], [\"Westfield State University\"], [\"Wheelock College\"], [\"Williams College\"], [\"Worcester State University\"], [\"Adrian College\"], [\"Albion College\"], [\"Alma College\"], [\"Andrews University\"], [\"Aquinas College\"], [\"Calvin College\"], [\"Central Michigan University\"], [\"Cleary University\"], [\"Concordia University-Ann Arbor\"], [\"College for Creative Studies\"], [\"University of Detroit Mercy\"], [\"Eastern Michigan University\"], [\"Ferris State University\"], [\"Kettering University\"], [\"Cornerstone University\"], [\"Grand Valley State University\"], [\"Hope College\"], [\"Lake Superior State University\"], [\"Lawrence Technological University\"], [\"Madonna University\"], [\"Marygrove College\"], [\"Rochester College\"], [\"University of Michigan-Ann Arbor\"], [\"Michigan State University\"], [\"Michigan Technological University\"], [\"University of Michigan-Dearborn\"], [\"University of Michigan-Flint\"], [\"Northern Michigan University\"], [\"Northwood University\"], [\"Oakland University\"], [\"Olivet College\"], [\"Kuyper College\"], [\"Saginaw Valley State University\"], [\"Siena Heights University\"], [\"Spring Arbor University\"], [\"Finlandia University\"], [\"Wayne State University\"], [\"Western Michigan University\"], [\"Augsburg College\"], [\"Bemidji State University\"], [\"Bethany Lutheran College\"], [\"Bethel University\"], [\"Carleton College\"], [\"Martin Luther College\"], [\"Hamline University\"], [\"Macalester College\"], [\"Minnesota State University-Mankato\"], [\"University of Minnesota-Twin Cities\"], [\"University of Minnesota-Crookston\"], [\"Minneapolis College of Art and Design\"], [\"University of Minnesota-Duluth\"], [\"University of Minnesota-Morris\"], [\"Minnesota State University Moorhead\"], [\"North Central University\"], [\"University of Northwestern-St Paul\"], [\"Oak Hills Christian College\"], [\"College of Saint Benedict\"], [\"Saint Cloud State University\"], [\"Saint Johns University\"], [\"Saint Mary's University of Minnesota\"], [\"St Olaf College\"], [\"Crown College\"], [\"The College of Saint Scholastica\"], [\"University of St Thomas\"], [\"St Catherine University\"], [\"Southwest Minnesota State University\"], [\"Winona State University\"], [\"Alcorn State University\"], [\"Blue Mountain College\"], [\"Delta State University\"], [\"Jackson State University\"], [\"Millsaps College\"], [\"University of Mississippi\"], [\"Mississippi University for Women\"], [\"Mississippi Valley State University\"], [\"Mississippi College\"], [\"Mississippi State University\"], [\"Rust College\"], [\"University of Southern Mississippi\"], [\"Tougaloo College\"], [\"William Carey University\"], [\"Avila University\"], [\"Calvary University\"], [\"Central Christian College of the Bible\"], [\"Central Methodist University-College of Liberal Arts and Sciences\"], [\"University of Central Missouri\"], [\"Cleveland University-Kansas City\"], [\"Cottey College\"], [\"Culver-Stockton College\"], [\"Drury University\"], [\"Evangel University\"], [\"Fontbonne University\"], [\"Kansas City Art Institute\"], [\"Lindenwood University\"], [\"Maryville University of Saint Louis\"], [\"Missouri Baptist University\"], [\"Missouri Southern State University\"], [\"University of Missouri-Columbia\"], [\"University of Missouri-Kansas City\"], [\"Missouri University of Science and Technology\"], [\"University of Missouri-St Louis\"], [\"Truman State University\"], [\"Northwest Missouri State University\"], [\"College of the Ozarks\"], [\"Rockhurst University\"], [\"Saint Louis University\"], [\"Saint Louis Christian College\"], [\"St Louis College of Pharmacy\"], [\"Southwest Baptist University\"], [\"Stephens College\"], [\"Southeast Missouri State University\"], [\"Missouri State University-Springfield\"], [\"Washington University in St Louis\"], [\"Webster University\"], [\"Westminster College\"], [\"William Jewell College\"], [\"William Woods University\"], [\"Highlands College of Montana Tech\"], [\"Carroll College\"], [\"Montana Tech of the University of Montana\"], [\"Montana State University\"], [\"The University of Montana\"], [\"Montana State University-Northern\"], [\"Rocky Mountain College\"], [\"Clarkson College\"], [\"Bryan College of Health Sciences\"], [\"Concordia University-Nebraska\"], [\"Creighton University\"], [\"Doane University-Arts & Sciences\"], [\"Grace University\"], [\"Hastings College\"], [\"University of Nebraska at Kearney\"], [\"Nebraska Methodist College of Nursing & Allied Health\"], [\"Midland University\"], [\"University of Nebraska at Omaha\"], [\"Nebraska Wesleyan University\"], [\"University of Nebraska-Lincoln\"], [\"Union College\"], [\"Nebraska College of Technical Agriculture\"], [\"York College\"], [\"University of Nevada-Las Vegas\"], [\"University of Nevada-Reno\"], [\"Sierra Nevada College\"], [\"Dartmouth College\"], [\"Franklin Pierce University\"], [\"University of New Hampshire-Main Campus\"], [\"Keene State College\"], [\"University of New Hampshire at Manchester\"], [\"Bloomfield College\"], [\"Caldwell University\"], [\"Centenary University\"], [\"Fairleigh Dickinson University-Metropolitan Campus\"], [\"Felician University\"], [\"Fairleigh Dickinson University-Florham Campus\"], [\"Georgian Court University\"], [\"Rowan University\"], [\"New Jersey City University\"], [\"Kean University\"], [\"Monmouth University\"], [\"New Jersey Institute of Technology\"], [\"Princeton University\"], [\"Ramapo College of New Jersey\"], [\"Rider University\"], [\"Rutgers University-Camden\"], [\"Rutgers University-New Brunswick\"], [\"Rutgers University-Newark\"], [\"Saint Peter's University\"], [\"Seton Hall University\"], [\"College of Saint Elizabeth\"], [\"Stevens Institute of Technology\"], [\"Stockton University\"], [\"The College of New Jersey\"], [\"William Paterson University of New Jersey\"], [\"New Mexico State University-Dona Ana\"], [\"Eastern New Mexico University-Main Campus\"], [\"Eastern New Mexico University-Roswell Campus\"], [\"New Mexico Military Institute\"], [\"University of New Mexico-Gallup Campus\"], [\"New Mexico Institute of Mining and Technology\"], [\"University of New Mexico-Los Alamos Campus\"], [\"University of New Mexico-Main Campus\"], [\"New Mexico State University-Alamogordo\"], [\"New Mexico State University-Carlsbad\"], [\"New Mexico State University-Grants\"], [\"New Mexico State University-Main Campus\"], [\"University of New Mexico-Valencia County Campus\"], [\"University of New Mexico-Taos Campus\"], [\"Adelphi University\"], [\"Albany College of Pharmacy and Health Sciences\"], [\"Alfred University\"], [\"Barnard College\"], [\"Canisius College\"], [\"Clarkson University\"], [\"Colgate University\"], [\"Columbia University in the City of New York\"], [\"Concordia College-New York\"], [\"Cornell University\"], [\"CUNY Bernard M Baruch College\"], [\"CUNY Brooklyn College\"], [\"CUNY City College\"], [\"CUNY Hunter College\"], [\"CUNY John Jay College of Criminal Justice\"], [\"CUNY Lehman College\"], [\"CUNY Queens College\"], [\"CUNY York College\"], [\"D'Youville College\"], [\"Dominican College of Blauvelt\"], [\"Fordham University\"], [\"Houghton College\"], [\"Iona College\"], [\"LIM College\"], [\"Le Moyne College\"], [\"LIU Brooklyn\"], [\"LIU Post\"], [\"LIU Brentwood\"], [\"Manhattan College\"], [\"Marymount Manhattan College\"], [\"Medaille College\"], [\"Molloy College\"], [\"Mount Saint Mary College\"], [\"College of Mount Saint Vincent\"], [\"The College of New Rochelle\"], [\"New York University\"], [\"Niagara University\"], [\"New York Institute of Technology\"], [\"New York School of Interior Design\"], [\"Nyack College\"], [\"Pace University-New York\"], [\"Pratt Institute-Main\"], [\"Rensselaer Polytechnic Institute\"], [\"Roberts Wesleyan College\"], [\"Rochester Institute of Technology\"], [\"St Bonaventure University\"], [\"St Francis College\"], [\"St. Thomas Aquinas College\"], [\"Skidmore College\"], [\"St. Joseph's College-New York\"], [\"Saint John Fisher College\"], [\"St John's University-New York\"], [\"SUNY College of Technology at Alfred\"], [\"SUNY College of Agriculture and Technology at Cobleskill\"], [\"Farmingdale State College\"], [\"Morrisville State College\"], [\"SUNY at Albany\"], [\"SUNY at Binghamton\"], [\"University at Buffalo\"], [\"Stony Brook University\"], [\"SUNY College of Environmental Science and Forestry\"], [\"SUNY Polytechnic Institute\"], [\"SUNY College at Brockport\"], [\"SUNY Buffalo State\"], [\"SUNY at Fredonia\"], [\"SUNY College at Geneseo\"], [\"State University of New York at New Paltz\"], [\"SUNY Oneonta\"], [\"SUNY College at Oswego\"], [\"SUNY at Purchase College\"], [\"SUNY College at Old Westbury\"], [\"SUNY College at Plattsburgh\"], [\"SUNY Maritime College\"], [\"Syracuse University\"], [\"United States Merchant Marine Academy\"], [\"Vassar College\"], [\"School of Visual Arts\"], [\"Wells College\"], [\"Yeshiva University\"], [\"Appalachian State University\"], [\"Barton College\"], [\"Belmont Abbey College\"], [\"Cabarrus College of Health Sciences\"], [\"Campbell University\"], [\"Catawba College\"], [\"Chowan University\"], [\"Davidson College\"], [\"Duke University\"], [\"East Carolina University\"], [\"Elizabeth City State University\"], [\"Elon University\"], [\"Fayetteville State University\"], [\"Gardner-Webb University\"], [\"Greensboro College\"], [\"High Point University\"], [\"John Wesley University\"], [\"Johnson C Smith University\"], [\"Lenoir-Rhyne University\"], [\"Livingstone College\"], [\"Louisburg College\"], [\"Mars Hill University\"], [\"Meredith College\"], [\"Methodist University\"], [\"Montreat College\"], [\"University of Mount Olive\"], [\"North Carolina A & T State University\"], [\"University of North Carolina at Asheville\"], [\"University of North Carolina at Chapel Hill\"], [\"University of North Carolina at Charlotte\"], [\"University of North Carolina at Greensboro\"], [\"North Carolina Central University\"], [\"University of North Carolina School of the Arts\"], [\"North Carolina State University at Raleigh\"], [\"North Carolina Wesleyan College\"], [\"University of North Carolina Wilmington\"], [\"William Peace University\"], [\"University of North Carolina at Pembroke\"], [\"Pfeiffer University\"], [\"Piedmont International University\"], [\"Queens University of Charlotte\"], [\"Mid-Atlantic Christian University\"], [\"Saint Augustine's University\"], [\"Salem College\"], [\"St Andrews University\"], [\"Warren Wilson College\"], [\"Wingate University\"], [\"Winston-Salem State University\"], [\"Western Carolina University\"], [\"Dickinson State University\"], [\"University of Jamestown\"], [\"University of Mary\"], [\"Minot State University\"], [\"University of North Dakota\"], [\"North Dakota State University-Main Campus\"], [\"Trinity Bible College and Graduate School\"], [\"Valley City State University\"], [\"University of Akron Main Campus\"], [\"University of Akron Wayne College\"], [\"Art Academy of Cincinnati\"], [\"Ashland University\"], [\"Aultman College of Nursing and Health Sciences\"], [\"Bluffton University\"], [\"Bowling Green State University-Firelands\"], [\"Bowling Green State University-Main Campus\"], [\"Capital University\"], [\"Case Western Reserve University\"], [\"Cedarville University\"], [\"Central State University\"], [\"The Christ College of Nursing and Health Sciences\"], [\"Cincinnati Christian University\"], [\"University of Cincinnati-Main Campus\"], [\"University of Cincinnati-Clermont College\"], [\"University of Cincinnati-Blue Ash College\"], [\"Cleveland Institute of Art\"], [\"Cleveland State University\"], [\"University of Dayton\"], [\"Defiance College\"], [\"The University of Findlay\"], [\"Good Samaritan College of Nursing and Health Science\"], [\"Heidelberg University\"], [\"Hiram College\"], [\"John Carroll University\"], [\"Kent State University at Ashtabula\"], [\"Kent State University at East Liverpool\"], [\"Kent State University at Stark\"], [\"Kent State University at Trumbull\"], [\"Kent State University at Tuscarawas\"], [\"Kent State University at Salem\"], [\"Kent State University at Kent\"], [\"Kent State University at Geauga\"], [\"Kenyon College\"], [\"Lake Erie College\"], [\"Lourdes University\"], [\"Malone University\"], [\"Marietta College\"], [\"Miami University-Hamilton\"], [\"Miami University-Middletown\"], [\"Miami University-Oxford\"], [\"Mount Carmel College of Nursing\"], [\"University of Mount Union\"], [\"Mount Vernon Nazarene University\"], [\"Muskingum University\"], [\"Notre Dame College\"], [\"Oberlin College\"], [\"Ohio Dominican University\"], [\"Ohio Northern University\"], [\"Ohio State University Agricultural Technical Institute\"], [\"Ohio State University-Lima Campus\"], [\"Ohio State University-Mansfield Campus\"], [\"Ohio State University-Marion Campus\"], [\"Ohio State University-Newark Campus\"], [\"Ohio State University-Main Campus\"], [\"Ohio University-Eastern Campus\"], [\"Ohio University-Chillicothe Campus\"], [\"Ohio University-Southern Campus\"], [\"Ohio University-Lancaster Campus\"], [\"Ohio University-Main Campus\"], [\"Ohio University-Zanesville Campus\"], [\"Trinity Health System School of Nursing\"], [\"Otterbein University\"], [\"Franciscan University of Steubenville\"], [\"University of Toledo\"], [\"Urbana University\"], [\"Ursuline College\"], [\"Wilberforce University\"], [\"Wilmington College\"], [\"The College of Wooster\"], [\"Wright State University-Main Campus\"], [\"Wright State University-Lake Campus\"], [\"Xavier University\"], [\"Youngstown State University\"], [\"Bacone College\"], [\"Oklahoma Wesleyan University\"], [\"University of Central Oklahoma\"], [\"East Central University\"], [\"Randall University\"], [\"Northeastern State University\"], [\"Northwestern Oklahoma State University\"], [\"Oklahoma Christian University\"], [\"University of Oklahoma-Health Sciences Center\"], [\"Oklahoma Panhandle State University\"], [\"Oklahoma State University-Main Campus\"], [\"Oklahoma Baptist University\"], [\"Oklahoma City University\"], [\"University of Oklahoma-Norman Campus\"], [\"Oral Roberts University\"], [\"Rogers State University\"], [\"University of Science and Arts of Oklahoma\"], [\"Southeastern Oklahoma State University\"], [\"Southwestern Christian University\"], [\"Southwestern Oklahoma State University\"], [\"University of Tulsa\"], [\"Concordia University-Portland\"], [\"Eastern Oregon University\"], [\"George Fox University\"], [\"Linfield College-McMinnville Campus\"], [\"Northwest Christian University\"], [\"Oregon Institute of Technology\"], [\"Oregon State University\"], [\"University of Oregon\"], [\"Pacific University\"], [\"Portland State University\"], [\"University of Portland\"], [\"Reed College\"], [\"Southern Oregon University\"], [\"Corban University\"], [\"Willamette University\"], [\"Western Oregon University\"], [\"DeSales University\"], [\"Alvernia University\"], [\"Arcadia University\"], [\"Bloomsburg University of Pennsylvania\"], [\"Bryn Mawr College\"], [\"Bucknell University\"], [\"California University of Pennsylvania\"], [\"Carlow University\"], [\"Carnegie Mellon University\"], [\"Cedar Crest College\"], [\"Central Penn College\"], [\"Chestnut Hill College\"], [\"Clarion University of Pennsylvania\"], [\"Delaware Valley University\"], [\"Drexel University\"], [\"Duquesne University\"], [\"East Stroudsburg University of Pennsylvania\"], [\"Eastern University\"], [\"Edinboro University of Pennsylvania\"], [\"Elizabethtown College\"], [\"Gannon University\"], [\"Geneva College\"], [\"Gwynedd Mercy University\"], [\"Haverford College\"], [\"Holy Family University\"], [\"Immaculata University\"], [\"Indiana University of Pennsylvania-Main Campus\"], [\"Keystone College\"], [\"Kutztown University of Pennsylvania\"], [\"La Roche College\"], [\"La Salle University\"], [\"Lafayette College\"], [\"Lancaster Bible College\"], [\"Lehigh University\"], [\"Lincoln University\"], [\"Lock Haven University\"], [\"St Margaret School of Nursing\"], [\"Lycoming College\"], [\"Manor College\"], [\"Mansfield University of Pennsylvania\"], [\"Marywood University\"], [\"Messiah College\"], [\"Millersville University of Pennsylvania\"], [\"Misericordia University\"], [\"Moravian College\"], [\"Mount Aloysius College\"], [\"Neumann University\"], [\"Pennsylvania State University-Penn State Erie-Behrend College\"], [\"Pennsylvania State University-Penn State New Kensington\"], [\"Pennsylvania State University-Penn State Shenango\"], [\"Pennsylvania State University-Penn State Wilkes-Barre\"], [\"Pennsylvania State University-Penn State Worthington Scranton\"], [\"Pennsylvania State University-Penn State Lehigh Valley\"], [\"Pennsylvania State University-Penn State Altoona\"], [\"Pennsylvania State University-Penn State Beaver\"], [\"Pennsylvania State University-Penn State Berks\"], [\"Pennsylvania State University-Penn State Harrisburg\"], [\"Pennsylvania State University-Penn State Brandywine\"], [\"Pennsylvania State University-Penn State DuBois\"], [\"Pennsylvania State University-Penn State Fayette- Eberly\"], [\"Pennsylvania State University-Penn State Hazleton\"], [\"Pennsylvania State University-Main Campus\"], [\"Pennsylvania State University-Penn State Greater Allegheny\"], [\"Pennsylvania State University-Penn State Mont Alto\"], [\"Pennsylvania State University-Penn State Abington\"], [\"Pennsylvania State University-Penn State Schuylkill\"], [\"Pennsylvania State University-Penn State York\"], [\"University of Pennsylvania\"], [\"Philadelphia University\"], [\"The University of the Arts\"], [\"Cairn University-Langhorne\"], [\"University of the Sciences\"], [\"University of Pittsburgh-Bradford\"], [\"University of Pittsburgh-Greensburg\"], [\"University of Pittsburgh-Johnstown\"], [\"University of Pittsburgh-Pittsburgh Campus\"], [\"University of Pittsburgh-Titusville\"], [\"Point Park University\"], [\"Reading Hospital School of Health Sciences\"], [\"Robert Morris University\"], [\"Rosemont College\"], [\"Saint Francis University\"], [\"Saint Vincent College\"], [\"University of Scranton\"], [\"University of Pittsburgh Medical Center-Shadyside School of Nursing\"], [\"Shippensburg University of Pennsylvania\"], [\"Slippery Rock University of Pennsylvania\"], [\"Swarthmore College\"], [\"Thiel College\"], [\"University of Valley Forge\"], [\"Valley Forge Military College\"], [\"Villanova University\"], [\"Waynesburg University\"], [\"West Chester University of Pennsylvania\"], [\"Westminster College\"], [\"Widener University\"], [\"Wilkes University\"], [\"Wilson College\"], [\"York College Pennsylvania\"], [\"Brown University\"], [\"Rhode Island College\"], [\"University of Rhode Island\"], [\"Rhode Island School of Design\"], [\"Anderson University\"], [\"Charleston Southern University\"], [\"College of Charleston\"], [\"Citadel Military College of South Carolina\"], [\"Claflin University\"], [\"Clemson University\"], [\"Coker College\"], [\"Columbia International University\"], [\"Columbia College\"], [\"Converse College\"], [\"Erskine College\"], [\"Francis Marion University\"], [\"Lander University\"], [\"Limestone College\"], [\"Newberry College\"], [\"North Greenville University\"], [\"Presbyterian College\"], [\"University of South Carolina-Aiken\"], [\"University of South Carolina-Beaufort\"], [\"University of South Carolina-Columbia\"], [\"University of South Carolina-Lancaster\"], [\"University of South Carolina-Salkehatchie\"], [\"University of South Carolina-Sumter\"], [\"University of South Carolina-Union\"], [\"Coastal Carolina University\"], [\"South Carolina State University\"], [\"University of South Carolina-Upstate\"], [\"Spartanburg Methodist College\"], [\"Winthrop University\"], [\"Wofford College\"], [\"Augustana University\"], [\"Black Hills State University\"], [\"Dakota State University\"], [\"Dakota Wesleyan University\"], [\"Mount Marty College\"], [\"Northern State University\"], [\"Presentation College\"], [\"South Dakota School of Mines and Technology\"], [\"South Dakota State University\"], [\"University of Sioux Falls\"], [\"University of South Dakota\"], [\"Aquinas College\"], [\"Austin Peay State University\"], [\"Baptist Memorial College of Health Sciences\"], [\"Belmont University\"], [\"Bethel University\"], [\"Bryan College-Dayton\"], [\"Carson-Newman University\"], [\"Christian Brothers University\"], [\"Cumberland University\"], [\"Lipscomb University\"], [\"East Tennessee State University\"], [\"Fisk University\"], [\"Freed-Hardeman University\"], [\"Hiwassee College\"], [\"John A Gupton College\"], [\"Johnson University\"], [\"King University\"], [\"Lane College\"], [\"Le Moyne-Owen College\"], [\"Lee University\"], [\"Lincoln Memorial University\"], [\"Maryville College\"], [\"University of Memphis\"], [\"Middle Tennessee State University\"], [\"Rhodes College\"], [\"Roane State Community College\"], [\"Tennessee Wesleyan University\"], [\"The University of Tennessee-Chattanooga\"], [\"The University of Tennessee-Knoxville\"], [\"The University of Tennessee-Martin\"], [\"Tennessee Technological University\"], [\"Trevecca Nazarene University\"], [\"Tusculum College\"], [\"Union University\"], [\"Vanderbilt University\"], [\"Abilene Christian University\"], [\"Angelo State University\"], [\"Austin College\"], [\"Baylor University\"], [\"Concordia University-Texas\"], [\"Texas A & M University-Corpus Christi\"], [\"Dallas Baptist University\"], [\"Dallas Christian College\"], [\"University of Dallas\"], [\"East Texas Baptist University\"], [\"Texas A&M University-Texarkana\"], [\"Texas A & M University-Commerce\"], [\"Hardin-Simmons University\"], [\"Houston Baptist University\"], [\"University of Houston-Clear Lake\"], [\"University of Houston-Downtown\"], [\"University of Houston\"], [\"Howard Payne University\"], [\"Huston-Tillotson University\"], [\"University of the Incarnate Word\"], [\"Lamar University\"], [\"Texas A & M International University\"], [\"LeTourneau University\"], [\"Lubbock Christian University\"], [\"University of Mary Hardin-Baylor\"], [\"McMurry University\"], [\"Midwestern State University\"], [\"University of North Texas\"], [\"Northwood University-Texas\"], [\"Our Lady of the Lake University\"], [\"The University of Texas Rio Grande Valley\"], [\"Paul Quinn College\"], [\"Prairie View A & M University\"], [\"Rice University\"], [\"Saint Edward's University\"], [\"University of St Thomas\"], [\"Sam Houston State University\"], [\"Schreiner University\"], [\"St. Mary's University\"], [\"Southern Methodist University\"], [\"Southwestern Assemblies of God University\"], [\"Southwestern University\"], [\"Stephen F Austin State University\"], [\"Texas State University\"], [\"Southwestern Adventist University\"], [\"Sul Ross State University\"], [\"Tarleton State University\"], [\"Texas A & M University-Kingsville\"], [\"Texas A & M University-College Station\"], [\"The University of Texas at Arlington\"], [\"The University of Texas at Austin\"], [\"The University of Texas at Dallas\"], [\"The University of Texas at El Paso\"], [\"The University of Texas at Tyler\"], [\"Texas Christian University\"], [\"Texas Lutheran University\"], [\"The University of Texas of the Permian Basin\"], [\"The University of Texas at San Antonio\"], [\"Texas Southern University\"], [\"Texas Tech University\"], [\"Texas Wesleyan University\"], [\"Texas Woman's University\"], [\"Trinity University\"], [\"Wayland Baptist University\"], [\"West Texas A & M University\"], [\"Brigham Young University-Provo\"], [\"Brigham Young University-Hawaii\"], [\"Southern Utah University\"], [\"Utah State University\"], [\"University of Utah\"], [\"Westminster College\"], [\"Castleton University\"], [\"Champlain College\"], [\"Johnson State College\"], [\"Lyndon State College\"], [\"Middlebury College\"], [\"Southern Vermont College\"], [\"University of Vermont\"], [\"Averett University\"], [\"Bluefield College\"], [\"Bridgewater College\"], [\"College of William and Mary\"], [\"Regent University\"], [\"Christopher Newport University\"], [\"Emory & Henry College\"], [\"Eastern Mennonite University\"], [\"Ferrum College\"], [\"George Mason University\"], [\"Hampden-Sydney College\"], [\"Hampton University\"], [\"Hollins University\"], [\"James Madison University\"], [\"Liberty University\"], [\"Longwood University\"], [\"Lynchburg College\"], [\"Mary Baldwin University\"], [\"University of Mary Washington\"], [\"Marymount University\"], [\"Norfolk State University\"], [\"Old Dominion University\"], [\"Randolph-Macon College\"], [\"Randolph College\"], [\"University of Richmond\"], [\"Roanoke College\"], [\"Shenandoah University\"], [\"Southern Virginia University\"], [\"Sweet Briar College\"], [\"The University of Virginia's College at Wise\"], [\"Virginia Polytechnic Institute and State University\"], [\"Virginia Commonwealth University\"], [\"University of Virginia-Main Campus\"], [\"Virginia Military Institute\"], [\"Virginia State University\"], [\"Virginia Union University\"], [\"Virginia Wesleyan College\"], [\"Washington and Lee University\"], [\"Central Washington University\"], [\"Eastern Washington University\"], [\"The Evergreen State College\"], [\"Gonzaga University\"], [\"Northwest University\"], [\"Pacific Lutheran University\"], [\"Saint Martin's University\"], [\"Seattle Pacific University\"], [\"Seattle University\"], [\"Walla Walla University\"], [\"Washington State University\"], [\"University of Washington-Seattle Campus\"], [\"Western Washington University\"], [\"Whitman College\"], [\"Alderson Broaddus University\"], [\"Appalachian Bible College\"], [\"Bethany College\"], [\"Bluefield State College\"], [\"University of Charleston\"], [\"Concord University\"], [\"Davis & Elkins College\"], [\"Fairmont State University\"], [\"Glenville State College\"], [\"Marshall University\"], [\"Potomac State College of West Virginia University\"], [\"Shepherd University\"], [\"West Virginia State University\"], [\"West Liberty University\"], [\"West Virginia University Institute of Technology\"], [\"West Virginia Wesleyan College\"], [\"West Virginia University\"], [\"Wheeling Jesuit University\"], [\"Alverno College\"], [\"Bellin College\"], [\"Cardinal Stritch University\"], [\"Carroll University\"], [\"Carthage College\"], [\"Concordia University-Wisconsin\"], [\"Edgewood College\"], [\"Lakeland University\"], [\"Marian University\"], [\"Marquette University\"], [\"Milwaukee School of Engineering\"], [\"Mount Mary University\"], [\"Northland College\"], [\"Ripon College\"], [\"Saint Norbert College\"], [\"University of Wisconsin Colleges\"], [\"Viterbo University\"], [\"University of Wisconsin-Whitewater\"], [\"University of Wisconsin-Eau Claire\"], [\"University of Wisconsin-Green Bay\"], [\"University of Wisconsin-La Crosse\"], [\"Wisconsin Lutheran College\"], [\"University of Wisconsin-Oshkosh\"], [\"University of Wisconsin-Parkside\"], [\"University of Wisconsin-Stout\"], [\"University of Wisconsin-Superior\"], [\"University of Wisconsin-Madison\"], [\"University of Wisconsin-Milwaukee\"], [\"University of Wisconsin-Platteville\"], [\"University of Wisconsin-River Falls\"], [\"University of Wisconsin-Stevens Point\"], [\"University of Wyoming\"], [\"University of the Virgin Islands\"], [\"Stanford University\"], [\"Purdue University-Main Campus\"], [\"Widener University-Delaware Law School\"], [\"California State University-San Marcos\"], [\"University of Washington-Bothell Campus\"], [\"University of Washington-Tacoma Campus\"], [\"Eastern New Mexico University-Ruidoso Campus\"], [\"Watkins College of Art Design & Film\"], [\"Arizona State University-West\"], [\"Trine University-Regional/Non-Traditional Campuses\"], [\"Southeast Missouri Hospital College of Nursing and Health Sciences\"], [\"Arkansas State University-Mountain Home\"], [\"Arizona State University-Polytechnic\"], [\"Mercy Hospital School of Nursing\"], [\"Florida Gulf Coast University\"], [\"University of Connecticut-Tri-Campus\"], [\"University of Connecticut-Avery Point\"], [\"University of Connecticut-Stamford\"], [\"Linfield College-School of Nursing\"], [\"The King's University\"], [\"Oregon State University-Cascades Campus\"], [\"DigiPen Institute of Technology\"], [\"Flagler College-Tallahassee\"], [\"Central Methodist University-College of Graduate and Extended Studies\"], [\"Doane University-Graduate and Professional Studies\"], [\"Shorter University-College of Adult & Professional Programs\"], [\"University of South Florida-St Petersburg\"], [\"Arizona State University-Downtown Phoenix\"], [\"Averett University-Non-Traditional Programs\"], [\"LIU Riverhead\"], [\"University of South Florida-Sarasota-Manatee\"], [\"University of Minnesota-Rochester\"], [\"Azusa Pacific University College\"], [\"Springfield College-School of Professional and Continuing Studies\"], [\"Pennsylvania State University-World Campus\"], [\"Elizabethtown College School of Continuing and Professional Studies\"], [\"Florida Institute of Technology-Online\"], [\"Augusta University\"], [\"Middle Georgia State University\"], [\"University of North Georgia\"], [\"Northeastern University Professional Advancement Network\"], [\"Arizona State University-Skysong\"]], \"hovertemplate\": \"SAT_AVG_ALL=%{x}<br>MD_EARN_WNE_P10=%{y}<br>INSTNM=%{customdata[0]}<extra></extra>\", \"legendgroup\": \"\", \"marker\": {\"color\": \"#636efa\", \"symbol\": \"circle\"}, \"mode\": \"markers\", \"name\": \"\", \"showlegend\": false, \"type\": \"scattergl\", \"x\": [850.0, 1147.0, 1221.0, 844.0, 1181.0, 990.0, 1218.0, 1167.0, 985.0, 992.0, 1062.0, 1031.0, 930.0, 1061.0, 1025.0, 1069.0, 1027.0, 923.0, 1162.0, 1045.0, 1120.0, 1045.0, 831.0, 1046.0, 955.0, 1058.0, 985.0, 1143.0, 1039.0, 997.0, 990.0, 1120.0, 1154.0, 871.0, 1088.0, 1050.0, 1068.0, 968.0, 1135.0, 988.0, 1270.0, 1209.0, 1120.0, 1034.0, 930.0, 1010.0, 988.0, 1080.0, 1115.0, 960.0, 1544.0, 1109.0, 1259.0, 887.0, 1066.0, 1003.0, 897.0, 1024.0, 1056.0, 874.0, 902.0, 948.0, 1397.0, 1226.0, 1175.0, 1339.0, 1119.0, 1344.0, 1248.0, 1201.0, 1217.0, 1029.0, 933.0, 1408.0, 1054.0, 988.0, 1484.0, 858.0, 990.0, 901.0, 1034.0, 929.0, 1091.0, 1222.0, 1018.0, 1183.0, 1383.0, 915.0, 910.0, 1304.0, 1045.0, 910.0, 984.0, 1152.0, 1226.0, 1148.0, 1435.0, 1130.0, 1130.0, 1236.0, 979.0, 1172.0, 1012.0, 1055.0, 1313.0, 1362.0, 1001.0, 1124.0, 996.0, 975.0, 1116.0, 1391.0, 1280.0, 1179.0, 1057.0, 944.0, 954.0, 1055.0, 1088.0, 1212.0, 1339.0, 1145.0, 1249.0, 1012.0, 952.0, 971.0, 1031.0, 1092.0, 970.0, 964.0, 926.0, 1011.0, 1233.0, 1050.0, 1066.0, 893.0, 1095.0, 932.0, 905.0, 918.0, 1498.0, 892.0, 1198.0, 836.0, 1252.0, 883.0, 1294.0, 1416.0, 1105.0, 946.0, 926.0, 999.0, 1009.0, 1179.0, 1134.0, 781.0, 966.0, 1047.0, 1071.0, 1008.0, 928.0, 1194.0, 1090.0, 1172.0, 1215.0, 1272.0, 1042.0, 1319.0, 1140.0, 1130.0, 1065.0, 1167.0, 924.0, 955.0, 1092.0, 845.0, 898.0, 879.0, 902.0, 1053.0, 933.0, 883.0, 997.0, 910.0, 850.0, 1179.0, 990.0, 935.0, 961.0, 1189.0, 930.0, 1366.0, 865.0, 1403.0, 967.0, 1143.0, 1089.0, 1056.0, 1252.0, 851.0, 1012.0, 1217.0, 978.0, 1140.0, 749.0, 995.0, 953.0, 1064.0, 847.0, 969.0, 1015.0, 997.0, 938.0, 993.0, 945.0, 974.0, 966.0, 926.0, 1067.0, 1045.0, 1046.0, 1061.0, 939.0, 1056.0, 1040.0, 1155.0, 990.0, 1005.0, 1163.0, 875.0, 1506.0, 1047.0, 1010.0, 1090.0, 1033.0, 911.0, 1022.0, 1048.0, 1092.0, 1305.0, 1249.0, 1251.0, 1090.0, 1086.0, 1051.0, 1013.0, 824.0, 1195.0, 922.0, 1006.0, 1069.0, 1070.0, 1125.0, 1014.0, 1029.0, 1460.0, 870.0, 1078.0, 1010.0, 1007.0, 1038.0, 1010.0, 1069.0, 990.0, 1068.0, 1032.0, 1070.0, 1097.0, 1042.0, 970.0, 1314.0, 1050.0, 1070.0, 1026.0, 1209.0, 1208.0, 1157.0, 994.0, 1059.0, 1063.0, 1103.0, 984.0, 1029.0, 995.0, 1014.0, 1030.0, 962.0, 1002.0, 910.0, 947.0, 955.0, 1199.0, 928.0, 955.0, 961.0, 1013.0, 1026.0, 1086.0, 1455.0, 925.0, 960.0, 943.0, 1322.0, 974.0, 985.0, 952.0, 1125.0, 964.0, 1191.0, 1089.0, 1159.0, 1145.0, 1010.0, 1068.0, 1045.0, 1126.0, 1177.0, 1159.0, 1224.0, 944.0, 1069.0, 1051.0, 961.0, 969.0, 1402.0, 1142.0, 949.0, 1164.0, 1088.0, 1179.0, 1070.0, 990.0, 1050.0, 1141.0, 1050.0, 1104.0, 930.0, 937.0, 1105.0, 1048.0, 1129.0, 959.0, 1030.0, 1014.0, 850.0, 1145.0, 1095.0, 1020.0, 1025.0, 940.0, 1015.0, 978.0, 999.0, 990.0, 1007.0, 1089.0, 1006.0, 1101.0, 1120.0, 1117.0, 1003.0, 986.0, 1279.0, 1022.0, 1028.0, 1045.0, 931.0, 1048.0, 1143.0, 977.0, 1159.0, 1047.0, 1069.0, 1068.0, 965.0, 948.0, 970.0, 1016.0, 970.0, 1047.0, 1114.0, 888.0, 871.0, 950.0, 1163.0, 1029.0, 969.0, 1105.0, 1134.0, 1029.0, 1034.0, 1030.0, 1054.0, 1008.0, 1010.0, 1030.0, 911.0, 803.0, 1069.0, 1346.0, 1050.0, 1085.0, 1363.0, 885.0, 1090.0, 1050.0, 1070.0, 989.0, 984.0, 972.0, 883.0, 1023.0, 821.0, 888.0, 955.0, 1453.0, 1209.0, 1315.0, 1140.0, 834.0, 878.0, 1013.0, 1087.0, 1145.0, 1081.0, 1006.0, 1074.0, 887.0, 1451.0, 1317.0, 943.0, 1009.0, 1244.0, 1380.0, 1303.0, 1360.0, 996.0, 941.0, 978.0, 1211.0, 993.0, 975.0, 1112.0, 1497.0, 966.0, 1066.0, 1197.0, 1226.0, 1055.0, 1070.0, 1086.0, 1507.0, 1065.0, 906.0, 1016.0, 1435.0, 976.0, 775.0, 1163.0, 1042.0, 1025.0, 1024.0, 1424.0, 1369.0, 1104.0, 1080.0, 1001.0, 944.0, 1442.0, 1020.0, 1008.0, 1104.0, 1110.0, 1091.0, 1090.0, 1202.0, 1049.0, 950.0, 1052.0, 1070.0, 1122.0, 1029.0, 1009.0, 1204.0, 1033.0, 1090.0, 1205.0, 1027.0, 1156.0, 1030.0, 780.0, 949.0, 1384.0, 1159.0, 1207.0, 1105.0, 992.0, 1011.0, 1026.0, 1070.0, 931.0, 1010.0, 1030.0, 1027.0, 1073.0, 886.0, 1070.0, 1030.0, 1032.0, 1010.0, 1074.0, 1127.0, 1400.0, 1145.0, 1127.0, 1358.0, 1030.0, 1285.0, 1026.0, 1096.0, 1109.0, 1146.0, 1049.0, 1024.0, 1102.0, 930.0, 1118.0, 1030.0, 1148.0, 1046.0, 1282.0, 1019.0, 1067.0, 1202.0, 1032.0, 1008.0, 1050.0, 871.0, 990.0, 970.0, 910.0, 1163.0, 1118.0, 1012.0, 850.0, 1106.0, 1140.0, 780.0, 1049.0, 844.0, 1071.0, 986.0, 1010.0, 985.0, 1043.0, 1010.0, 910.0, 1049.0, 968.0, 1185.0, 1064.0, 1050.0, 1073.0, 1043.0, 1145.0, 961.0, 1030.0, 1203.0, 1130.0, 1261.0, 1105.0, 1246.0, 1047.0, 1069.0, 1162.0, 1257.0, 990.0, 1198.0, 1058.0, 1036.0, 1050.0, 1090.0, 1469.0, 1109.0, 1084.0, 1160.0, 1035.0, 1145.0, 1110.0, 1145.0, 1131.0, 1090.0, 892.0, 1037.0, 1050.0, 1090.0, 1076.0, 1196.0, 1064.0, 1003.0, 1055.0, 1049.0, 1110.0, 962.0, 1050.0, 1121.0, 1145.0, 1050.0, 1145.0, 950.0, 1007.0, 1084.0, 1012.0, 1437.0, 943.0, 1107.0, 991.0, 1107.0, 855.0, 969.0, 929.0, 1020.0, 878.0, 1020.0, 945.0, 1065.0, 865.0, 928.0, 1037.0, 1205.0, 1490.0, 1090.0, 1014.0, 1187.0, 1187.0, 1187.0, 918.0, 1145.0, 806.0, 1340.0, 1074.0, 1227.0, 990.0, 983.0, 947.0, 947.0, 970.0, 1040.0, 1191.0, 1040.0, 1040.0, 983.0, 983.0, 983.0, 983.0, 1040.0, 1040.0, 1094.0, 1176.0, 1057.0, 1357.0, 1078.0, 1198.0, 1374.0, 1473.0, 895.0, 1428.0, 1230.0, 1115.0, 1125.0, 1165.0, 975.0, 1025.0, 1110.0, 885.0, 1036.0, 879.0, 1273.0, 1110.0, 1005.0, 962.0, 1073.0, 1010.0, 1010.0, 1010.0, 1097.0, 1038.0, 868.0, 1067.0, 982.0, 906.0, 948.0, 1360.0, 1037.0, 1074.0, 1065.0, 901.0, 1060.0, 1085.0, 1368.0, 1067.0, 1251.0, 1066.0, 909.0, 942.0, 1239.0, 1010.0, 1087.0, 1080.0, 1016.0, 882.0, 994.0, 854.0, 1091.0, 1305.0, 1173.0, 1271.0, 1215.0, 1141.0, 1032.0, 901.0, 1050.0, 1206.0, 1124.0, 1087.0, 1103.0, 1082.0, 995.0, 1086.0, 1113.0, 1195.0, 1220.0, 1405.0, 1065.0, 1011.0, 1229.0, 1157.0, 959.0, 1021.0, 960.0, 1007.0, 990.0, 773.0, 1355.0, 1450.0, 1053.0, 844.0, 1211.0, 870.0, 977.0, 892.0, 1113.0, 894.0, 796.0, 990.0, 708.0, 783.0, 912.0, 1036.0, 955.0, 960.0, 909.0, 910.0, 1159.0, 1343.0, 1093.0, 1035.0, 879.0, 1108.0, 1264.0, 878.0, 1162.0, 868.0, 926.0, 931.0, 898.0, 1064.0, 947.0, 741.0, 1119.0, 902.0, 1120.0, 1040.0, 870.0, 1032.0, 951.0, 1044.0, 1066.0, 999.0, 1088.0, 1091.0, 926.0, 961.0, 1049.0, 1049.0, 963.0, 1045.0, 1070.0, 972.0, 1012.0, 1012.0, 1133.0, 1398.0, 1169.0, 777.0, 970.0, 1005.0, 1165.0, 1165.0, 1165.0, 1083.0, 1028.0, 1187.0, 984.0, 1047.0, 990.0, 1033.0, 1071.0, 1127.0, 1067.0, 1067.0, 1067.0, 1067.0, 1067.0, 1067.0, 1067.0, 1067.0, 1335.0, 989.0, 983.0, 1029.0, 1100.0, 1259.0, 1259.0, 1259.0, 990.0, 1078.0, 1047.0, 984.0, 899.0, 1357.0, 1009.0, 1158.0, 1295.0, 1295.0, 1295.0, 1295.0, 1295.0, 1295.0, 1108.0, 1108.0, 1108.0, 1108.0, 1108.0, 1108.0, 1010.0, 1120.0, 1165.0, 1069.0, 965.0, 1007.0, 762.0, 966.0, 1237.0, 1028.0, 1028.0, 1111.0, 981.0, 856.0, 962.0, 1010.0, 970.0, 925.0, 988.0, 950.0, 1118.0, 1204.0, 890.0, 1118.0, 1042.0, 1126.0, 1204.0, 1009.0, 830.0, 999.0, 970.0, 978.0, 990.0, 1295.0, 995.0, 951.0, 1089.0, 1061.0, 992.0, 1047.0, 1112.0, 1119.0, 1090.0, 1039.0, 1195.0, 1383.0, 1029.0, 1066.0, 1228.0, 946.0, 1054.0, 998.0, 1104.0, 979.0, 1346.0, 1315.0, 922.0, 972.0, 1448.0, 968.0, 759.0, 966.0, 934.0, 994.0, 1214.0, 1138.0, 945.0, 1026.0, 950.0, 1125.0, 1035.0, 1058.0, 924.0, 1433.0, 915.0, 975.0, 955.0, 906.0, 951.0, 939.0, 990.0, 1294.0, 1003.0, 1338.0, 833.0, 948.0, 1040.0, 1034.0, 748.0, 955.0, 1025.0, 1129.0, 1001.0, 1069.0, 1006.0, 934.0, 905.0, 1094.0, 1094.0, 1094.0, 1094.0, 1094.0, 1094.0, 1094.0, 1094.0, 1094.0, 1094.0, 1094.0, 1094.0, 1094.0, 1094.0, 1094.0, 1094.0, 1094.0, 1094.0, 1094.0, 1094.0, 1457.0, 1083.0, 1045.0, 976.0, 1145.0, 1201.0, 1201.0, 1201.0, 1201.0, 1201.0, 995.0, 898.0, 1051.0, 884.0, 1060.0, 1059.0, 1134.0, 1045.0, 979.0, 999.0, 1431.0, 923.0, 945.0, 840.0, 1326.0, 1019.0, 1072.0, 1028.0, 1032.0, 1053.0, 941.0, 1054.0, 1457.0, 913.0, 1077.0, 1273.0, 1078.0, 1030.0, 1141.0, 1073.0, 815.0, 1275.0, 960.0, 1045.0, 971.0, 1040.0, 993.0, 927.0, 922.0, 902.0, 958.0, 1116.0, 1082.0, 976.0, 927.0, 1199.0, 1199.0, 803.0, 925.0, 770.0, 1009.0, 760.0, 950.0, 864.0, 1044.0, 1170.0, 1164.0, 988.0, 1047.0, 982.0, 1030.0, 1024.0, 925.0, 1200.0, 1068.0, 1046.0, 1049.0, 1115.0, 1011.0, 1148.0, 1158.0, 928.0, 1016.0, 1039.0, 1105.0, 989.0, 1176.0, 1068.0, 937.0, 1101.0, 947.0, 930.0, 1009.0, 1005.0, 758.0, 760.0, 1088.0, 1055.0, 1052.0, 1029.0, 1031.0, 1306.0, 910.0, 1019.0, 1087.0, 1214.0, 1050.0, 1102.0, 1026.0, 960.0, 1163.0, 1498.0, 1092.0, 970.0, 1165.0, 1239.0, 998.0, 963.0, 1055.0, 831.0, 1217.0, 982.0, 995.0, 980.0, 1030.0, 1060.0, 1025.0, 894.0, 1154.0, 965.0, 786.0, 963.0, 974.0, 905.0, 1158.0, 1018.0, 1047.0, 887.0, 1002.0, 1093.0, 1026.0, 920.0, 924.0, 772.0, 857.0, 1482.0, 1135.0, 1103.0, 997.0, 997.0, 1038.0, 1330.0, 949.0, 1168.0, 1001.0, 1038.0, 904.0, 842.0, 959.0, 937.0, 1212.0, 1038.0, 1297.0, 1265.0, 933.0, 1059.0, 1220.0, 1006.0, 965.0, 1043.0, 817.0, 1134.0, 1003.0, 941.0, 1294.0, 911.0, 971.0, 1290.0, 1098.0, 1078.0, 1084.0, 1130.0, 1124.0, 959.0, 1156.0, 975.0, 937.0, 1383.0, 894.0, 1211.0, 913.0, 923.0, 1034.0, 1353.0, 1051.0, 1155.0, 980.0, 1009.0, 881.0, 1153.0, 1112.0, 1020.0, 1124.0, 1134.0, 1070.0, 985.0, 1014.0, 1009.0, 1110.0, 999.0, 808.0, 1020.0, 1098.0, 1014.0, 1337.0, 1092.0, 1005.0, 1041.0, 1098.0, 942.0, 1210.0, 1097.0, 1364.0, 1139.0, 857.0, 772.0, 982.0, 1395.0, 978.0, 970.0, 1067.0, 1205.0, 996.0, 1117.0, 1047.0, 1145.0, 1192.0, 1062.0, 1039.0, 1223.0, 1114.0, 1314.0, 980.0, 1012.0, 907.0, 934.0, 994.0, 994.0, 928.0, 962.0, 913.0, 1028.0, 1073.0, 995.0, 927.0, 984.0, 1073.0, 1015.0, 1073.0, 1032.0, 910.0, 1090.0, 1028.0, 1087.0, 1145.0, 1052.0, 1050.0, 907.0, 950.0, 1219.0, 1248.0, 902.0, 1118.0, 1105.0, 1125.0, 970.0, 1090.0, 1050.0, 1110.0, 1070.0, 1130.0, 1101.0, 1030.0, 970.0, 1030.0, 990.0, 1300.0, 1050.0, 1090.0, 1050.0, 1050.0, 1122.0, 807.0, 1479.0, 1231.0, 1032.0, 955.0, 1223.0, 1223.0, 947.0, 1003.0, 1143.0, 1089.0, 1030.0, 1088.0, 1143.0, 985.0, 1081.0, 1233.0, 1233.0, 1233.0, 1061.0, 1073.0, 1112.0, 1231.0, 1071.0, 1043.0, 1064.0, 969.0, 1167.0, 1143.0, 913.0, 1010.0, 1167.0, 1285.0, 1080.0, 1042.0, 1094.0, 1125.0, 1194.0, 1045.0, 864.0, 1013.0, 1435.0, 1143.0], \"xaxis\": \"x\", \"y\": [\"29900\", \"40200\", \"45600\", \"26700\", \"42700\", \"33500\", \"47100\", \"45600\", \"35900\", \"36800\", \"35000\", \"27800\", \"36200\", \"45900\", \"35000\", \"33100\", \"36400\", \"32200\", \"46300\", \"37000\", \"42400\", \"31600\", \"27200\", \"35800\", \"35300\", \"37100\", \"39000\", \"45400\", \"32500\", \"33600\", \"33500\", \"40500\", \"43100\", \"26700\", \"31700\", \"44800\", \"36900\", \"33700\", \"38600\", \"34900\", \"40600\", \"46200\", \"38400\", \"38700\", \"27100\", \"32100\", \"34300\", \"50500\", \"43100\", \"40700\", \"74200\", \"52800\", \"63100\", \"44800\", \"51100\", \"45600\", \"43300\", \"44500\", \"47100\", \"43900\", \"43400\", \"47200\", \"61800\", \"56300\", \"55100\", \"58700\", \"47300\", \"58600\", \"52500\", \"43700\", \"51900\", \"44300\", \"34900\", \"75000\", \"51900\", \"41000\", \"74200\", \"51100\", \"34700\", \"28700\", \"48900\", \"45100\", \"38600\", \"55800\", \"46400\", \"39600\", \"55600\", \"52000\", \"54400\", \"49700\", \"44100\", \"35800\", \"50200\", \"69300\", \"61100\", \"49100\", \"56600\", \"52100\", \"48300\", \"59300\", \"48000\", \"59900\", \"35200\", \"53700\", \"69600\", \"49700\", \"32800\", \"56600\", \"45000\", \"36800\", \"44400\", \"70400\", \"40100\", \"49200\", \"43100\", \"46100\", \"34200\", \"53700\", \"41100\", \"48100\", \"82100\", \"45000\", \"53800\", \"34300\", \"35400\", \"38400\", \"40200\", \"51700\", \"36000\", \"36200\", \"42100\", \"46000\", \"55800\", \"45200\", \"49400\", \"39400\", \"60600\", \"48800\", \"59000\", \"42700\", \"83200\", \"34300\", \"55100\", \"44000\", \"59200\", \"29200\", \"67100\", \"90100\", \"46800\", \"32100\", \"44300\", \"38400\", \"29400\", \"43300\", \"41200\", \"23300\", \"35800\", \"41500\", \"36700\", \"35700\", \"51400\", \"61200\", \"44200\", \"39300\", \"44900\", \"53100\", \"41000\", \"57800\", \"42100\", \"44200\", \"39400\", \"41800\", \"45600\", \"33200\", \"45800\", \"28200\", \"28100\", \"39200\", \"33000\", \"36600\", \"31500\", \"31500\", \"38200\", \"32800\", \"34800\", \"38600\", \"40700\", \"28400\", \"34600\", \"39100\", \"29800\", \"61500\", \"28200\", \"75800\", \"34700\", \"39300\", \"40300\", \"41200\", \"48500\", \"31300\", \"40200\", \"46700\", \"42500\", \"40700\", \"26700\", \"39300\", \"36300\", \"35300\", \"31000\", \"44200\", \"46800\", \"26600\", \"31500\", \"36800\", \"37200\", \"37100\", \"38900\", \"34500\", \"43600\", \"28400\", \"36100\", \"41000\", \"33800\", \"36200\", \"39900\", \"32100\", \"40000\", \"37600\", \"51200\", \"34300\", \"65500\", \"39000\", \"40100\", \"47300\", \"34000\", \"39500\", \"36300\", \"21400\", \"52200\", \"57600\", \"55600\", \"69800\", \"45500\", \"41400\", \"47300\", \"29900\", \"29700\", \"52000\", \"36300\", \"45800\", \"42200\", \"39900\", \"45000\", \"42400\", \"43900\", \"65900\", \"36700\", \"38300\", \"37800\", \"43100\", \"42700\", \"45600\", \"47600\", \"44400\", \"43000\", \"41800\", \"41000\", \"42000\", \"41000\", \"41500\", \"45200\", \"36300\", \"39400\", \"35500\", \"54700\", \"50700\", \"40300\", \"41200\", \"37000\", \"35400\", \"42500\", \"36300\", \"34000\", \"35200\", \"41000\", \"40300\", \"41200\", \"35200\", \"36700\", \"35100\", \"33400\", \"46100\", \"35900\", \"35700\", \"30100\", \"38800\", \"42800\", \"48100\", \"71600\", \"34200\", \"37800\", \"37100\", \"79200\", \"38400\", \"40100\", \"30900\", \"46100\", \"45500\", \"36000\", \"41700\", \"48700\", \"53600\", \"38800\", \"43200\", \"40000\", \"44100\", \"41200\", \"39100\", \"56800\", \"38400\", \"30700\", \"32800\", \"37400\", \"41800\", \"44300\", \"48600\", \"35700\", \"50200\", \"42400\", \"43500\", \"42400\", \"43900\", \"42800\", \"37200\", \"44700\", \"44400\", \"40500\", \"36100\", \"42900\", \"49800\", \"39100\", \"39500\", \"36600\", \"41600\", \"22800\", \"46500\", \"43500\", \"39200\", \"31800\", \"41400\", \"40800\", \"37100\", \"46200\", \"34400\", \"41200\", \"39600\", \"31300\", \"35100\", \"46000\", \"31800\", \"37400\", \"32400\", \"44100\", \"32900\", \"34800\", \"40400\", \"28600\", \"34000\", \"43000\", \"31400\", \"40300\", \"31400\", \"35700\", \"36200\", \"28400\", \"29800\", \"43700\", \"46100\", \"31000\", \"33800\", \"44700\", \"32800\", \"28000\", \"33000\", \"47600\", \"34600\", \"40500\", \"41000\", \"46100\", \"37300\", \"37800\", \"36000\", \"36800\", \"33500\", \"45100\", \"36000\", \"33800\", \"28200\", \"38300\", \"56200\", \"47900\", \"50700\", \"55000\", \"33200\", \"40800\", \"84000\", \"45000\", \"40100\", \"37900\", \"55100\", \"46400\", \"70700\", \"43900\", \"35000\", \"43900\", \"69800\", \"54100\", \"61700\", \"35700\", \"36200\", \"39200\", \"53600\", \"47400\", \"48100\", \"49800\", \"49500\", \"47900\", \"43200\", \"59700\", \"91400\", \"26000\", \"42100\", \"80600\", \"70000\", \"62000\", \"55300\", \"43800\", \"44900\", \"42200\", \"43700\", \"41900\", \"45500\", \"39800\", \"90900\", \"39900\", \"35900\", \"50800\", \"49700\", \"47000\", \"112700\", \"34600\", \"94200\", \"79300\", \"38100\", \"34900\", \"64000\", \"44700\", \"35600\", \"49000\", \"43000\", \"46600\", \"51800\", \"66500\", \"60100\", \"60300\", \"54900\", \"43900\", \"36000\", \"54100\", \"45600\", \"36900\", \"46200\", \"42800\", \"38200\", \"35500\", \"43300\", \"40200\", \"49200\", \"35800\", \"40200\", \"46100\", \"37500\", \"42700\", \"78600\", \"36400\", \"41000\", \"43500\", \"36200\", \"55400\", \"39600\", \"27700\", \"34400\", \"60100\", \"51500\", \"64700\", \"46600\", \"40000\", \"34000\", \"45100\", \"41900\", \"36400\", \"27200\", \"37600\", \"38900\", \"38900\", \"30800\", \"39900\", \"43700\", \"47300\", \"39600\", \"34600\", \"45100\", \"52600\", \"36900\", \"47600\", \"45300\", \"43100\", \"49800\", \"41300\", \"34500\", \"45300\", \"39500\", \"38000\", \"30800\", \"36600\", \"23900\", \"50000\", \"42900\", \"59100\", \"44200\", \"47300\", \"32800\", \"51000\", \"55600\", \"46700\", \"37100\", \"42700\", \"30100\", \"30100\", \"33600\", \"29100\", \"46300\", \"41100\", \"33100\", \"22700\", \"38400\", \"40300\", \"22900\", \"35800\", \"25900\", \"34700\", \"42500\", \"32600\", \"29300\", \"34700\", \"36700\", \"38900\", \"33700\", \"36500\", \"31500\", \"34400\", \"40800\", \"30200\", \"39200\", \"46200\", \"34600\", \"32500\", \"46100\", \"43900\", \"67100\", \"40600\", \"43700\", \"37800\", \"32800\", \"47900\", \"54400\", \"24700\", \"120400\", \"32900\", \"33400\", \"36100\", \"37400\", \"66300\", \"41100\", \"41600\", \"44200\", \"34700\", \"41100\", \"43500\", \"41100\", \"40400\", \"34700\", \"35100\", \"37500\", \"48900\", \"48500\", \"36900\", \"56100\", \"44200\", \"31200\", \"41700\", \"39100\", \"47100\", \"38800\", \"42300\", \"45300\", \"43700\", \"40400\", \"43700\", \"36000\", \"43200\", \"45000\", \"44900\", \"70000\", \"37500\", \"47700\", \"41200\", \"47700\", \"35900\", \"41700\", \"43800\", \"48400\", \"41900\", \"48400\", \"42800\", \"49400\", \"42100\", \"46000\", \"50300\", \"65900\", \"80500\", \"48000\", \"50200\", \"56400\", \"56400\", \"56400\", \"44500\", \"56400\", \"42800\", \"87300\", \"46800\", \"56200\", \"44300\", \"33400\", \"29300\", \"29300\", \"36600\", \"34900\", \"52900\", \"34900\", \"34900\", \"33400\", \"33400\", \"33400\", \"33400\", \"34900\", \"34900\", \"55200\", \"122600\", \"39100\", \"56400\", \"46100\", \"68900\", \"61300\", \"78200\", \"45200\", \"73600\", \"55300\", \"43500\", \"45800\", \"45100\", \"43300\", \"41200\", \"47400\", \"39200\", \"48300\", \"45900\", \"57400\", \"39900\", \"53400\", \"45800\", \"49100\", \"46400\", \"46400\", \"46400\", \"62800\", \"40400\", \"38500\", \"57500\", \"47900\", \"50100\", \"34400\", \"59600\", \"40500\", \"53400\", \"40800\", \"40200\", \"57000\", \"43500\", \"77900\", \"41000\", \"60600\", \"44400\", \"44400\", \"45400\", \"47100\", \"52100\", \"45600\", \"53300\", \"39800\", \"33400\", \"48600\", \"32300\", \"50600\", \"59200\", \"49900\", \"55100\", \"42200\", \"48300\", \"41200\", \"38600\", \"39800\", \"46700\", \"43700\", \"42000\", \"41500\", \"35800\", \"43900\", \"40300\", \"76700\", \"58400\", \"78900\", \"51400\", \"40200\", \"35800\", \"55900\", \"36800\", \"35500\", \"35700\", \"42500\", \"44200\", \"38300\", \"32600\", \"54600\", \"77900\", \"39300\", \"29600\", \"49000\", \"29900\", \"37100\", \"34900\", \"38200\", \"35100\", \"28300\", \"36300\", \"21400\", \"26700\", \"30300\", \"36500\", \"38700\", \"36600\", \"37000\", \"33100\", \"34200\", \"54100\", \"42700\", \"35600\", \"32200\", \"31400\", \"49300\", \"37600\", \"39600\", \"34000\", \"32600\", \"35900\", \"30500\", \"37600\", \"28500\", \"25100\", \"32300\", \"33000\", \"27000\", \"40400\", \"31800\", \"36200\", \"39200\", \"42400\", \"46200\", \"38900\", \"46800\", \"46600\", \"27400\", \"38500\", \"35000\", \"35000\", \"28400\", \"39100\", \"57500\", \"37600\", \"39400\", \"39400\", \"43200\", \"69900\", \"40200\", \"24400\", \"51900\", \"33000\", \"39500\", \"39500\", \"39500\", \"35900\", \"39700\", \"51600\", \"38900\", \"41500\", \"47300\", \"36700\", \"38400\", \"51700\", \"36300\", \"36300\", \"36300\", \"36300\", \"36300\", \"36300\", \"36300\", \"36300\", \"44300\", \"33500\", \"34600\", \"41200\", \"40100\", \"45200\", \"45200\", \"45200\", \"56100\", \"42200\", \"41600\", \"37700\", \"42000\", \"40200\", \"38300\", \"62800\", \"43700\", \"43700\", \"43700\", \"43700\", \"43700\", \"43700\", \"39900\", \"39900\", \"39900\", \"39900\", \"39900\", \"39900\", \"49600\", \"41100\", \"36100\", \"41800\", \"34300\", \"44000\", \"31500\", \"38500\", \"45400\", \"38200\", \"38200\", \"47500\", \"34000\", \"31700\", \"49100\", \"38400\", \"35100\", \"34800\", \"35300\", \"35700\", \"36800\", \"48700\", \"35600\", \"44300\", \"37700\", \"40300\", \"48700\", \"34900\", \"32300\", \"32300\", \"34400\", \"25800\", \"38300\", \"45100\", \"42100\", \"38900\", \"43300\", \"52400\", \"42600\", \"52900\", \"46900\", \"43200\", \"42700\", \"42900\", \"56600\", \"37900\", \"37200\", \"36500\", \"49100\", \"37500\", \"47400\", \"42800\", \"42500\", \"43700\", \"53100\", \"66200\", \"39500\", \"38100\", \"81800\", \"45800\", \"34400\", \"41900\", \"37000\", \"39900\", \"66600\", \"56300\", \"43300\", \"40500\", \"35200\", \"49100\", \"45800\", \"38900\", \"53300\", \"56300\", \"48900\", \"51800\", \"39000\", \"29900\", \"40900\", \"40400\", \"54300\", \"67500\", \"33000\", \"77200\", \"33300\", \"40300\", \"47400\", \"45700\", \"37000\", \"37500\", \"37200\", \"43200\", \"43100\", \"49600\", \"48200\", \"37400\", \"41500\", \"48500\", \"48500\", \"48500\", \"48500\", \"48500\", \"48500\", \"48500\", \"48500\", \"48500\", \"48500\", \"48500\", \"48500\", \"48500\", \"48500\", \"48500\", \"48500\", \"48500\", \"48500\", \"48500\", \"48500\", \"82400\", \"49100\", \"30800\", \"33500\", \"91800\", \"50700\", \"50700\", \"50700\", \"50700\", \"50700\", \"35800\", \"59200\", \"44400\", \"44700\", \"48200\", \"47400\", \"56600\", \"51200\", \"44400\", \"39600\", \"52500\", \"36900\", \"29900\", \"43700\", \"74500\", \"43600\", \"46700\", \"42200\", \"53200\", \"50300\", \"33600\", \"48000\", \"63100\", \"39600\", \"49800\", \"46800\", \"34300\", \"35900\", \"39700\", \"54900\", \"28100\", \"50900\", \"31500\", \"29900\", \"33500\", \"31000\", \"37500\", \"32500\", \"33600\", \"36700\", \"32200\", \"31300\", \"42000\", \"35800\", \"33000\", \"43000\", \"43000\", \"27000\", \"32400\", \"31500\", \"37100\", \"28400\", \"36300\", \"31200\", \"36200\", \"50000\", \"41600\", \"34900\", \"36700\", \"35500\", \"33800\", \"34100\", \"34500\", \"54200\", \"42000\", \"38800\", \"40200\", \"45000\", \"34100\", \"52200\", \"43000\", \"38100\", \"34900\", \"36300\", \"43900\", \"38300\", \"39800\", \"34600\", \"33200\", \"36300\", \"27700\", \"36900\", \"28900\", \"42100\", \"23300\", \"27700\", \"33600\", \"36600\", \"37000\", \"36400\", \"37000\", \"49600\", \"28800\", \"37700\", \"37100\", \"43400\", \"35000\", \"37600\", \"39500\", \"37300\", \"41200\", \"64500\", \"41400\", \"38500\", \"48300\", \"49400\", \"40900\", \"41500\", \"42500\", \"37100\", \"44500\", \"38900\", \"35500\", \"37600\", \"40500\", \"46600\", \"47100\", \"42800\", \"49900\", \"36600\", \"31800\", \"44400\", \"39400\", \"43800\", \"47700\", \"40800\", \"41600\", \"38400\", \"39100\", \"43300\", \"45100\", \"38600\", \"40200\", \"27100\", \"34900\", \"64300\", \"45800\", \"48900\", \"42600\", \"38800\", \"45400\", \"57300\", \"33200\", \"50000\", \"40000\", \"44400\", \"39200\", \"36900\", \"41600\", \"40000\", \"55500\", \"46700\", \"54900\", \"51100\", \"38900\", \"42300\", \"49900\", \"44200\", \"44400\", \"44000\", \"30500\", \"49300\", \"42000\", \"44000\", \"54600\", \"40000\", \"40600\", \"56800\", \"41000\", \"38400\", \"42400\", \"51000\", \"47900\", \"36000\", \"40800\", \"31500\", \"32800\", \"55600\", \"35200\", \"45200\", \"41500\", \"40300\", \"41100\", \"55400\", \"41200\", \"43600\", \"38300\", \"38600\", \"36600\", \"58100\", \"48700\", \"41700\", \"32200\", \"53800\", \"35200\", \"39900\", \"42100\", \"36200\", \"50500\", \"52300\", \"33200\", \"42600\", \"46200\", \"40900\", \"60700\", \"43000\", \"41400\", \"34900\", \"36800\", \"37300\", \"60500\", \"42200\", \"60700\", \"63200\", \"33300\", \"31400\", \"39300\", \"72300\", \"44900\", \"42500\", \"34300\", \"54100\", \"38400\", \"47700\", \"45000\", \"47200\", \"55500\", \"43100\", \"48600\", \"54800\", \"44400\", \"46600\", \"43200\", \"27300\", \"39100\", \"26700\", \"41800\", \"30600\", \"35600\", \"32100\", \"30100\", \"34300\", \"44000\", \"38800\", \"29200\", \"34500\", \"44000\", \"40200\", \"44000\", \"42100\", \"37100\", \"55800\", \"47400\", \"41400\", \"44500\", \"42800\", \"42400\", \"41100\", \"39700\", \"59000\", \"67400\", \"39300\", \"33000\", \"43900\", \"45100\", \"34300\", \"41100\", \"41900\", \"44000\", \"38900\", \"44700\", \"40900\", \"41200\", \"37800\", \"44300\", \"35700\", \"54200\", \"42300\", \"45400\", \"40200\", \"39000\", \"46200\", \"32200\", \"85700\", \"55000\", \"53200\", \"45100\", \"54800\", \"54800\", \"29300\", \"33400\", \"45400\", \"41700\", \"51200\", \"31700\", \"45400\", \"50900\", \"41000\", \"55800\", \"55800\", \"55800\", \"52400\", \"35300\", \"46900\", \"81300\", \"36700\", \"34700\", \"44200\", \"44200\", \"41800\", \"45400\", \"41500\", \"46400\", \"41800\", \"49800\", \"50500\", \"43000\", \"48500\", \"49100\", \"61200\", \"58500\", \"32400\", \"40600\", \"64000\", \"45400\"], \"yaxis\": \"y\"}],                        {\"legend\": {\"tracegroupgap\": 0}, \"margin\": {\"t\": 60}, \"template\": {\"data\": {\"bar\": [{\"error_x\": {\"color\": \"#2a3f5f\"}, \"error_y\": {\"color\": \"#2a3f5f\"}, \"marker\": {\"line\": {\"color\": \"#E5ECF6\", \"width\": 0.5}}, \"type\": \"bar\"}], \"barpolar\": [{\"marker\": {\"line\": {\"color\": \"#E5ECF6\", \"width\": 0.5}}, \"type\": \"barpolar\"}], \"carpet\": [{\"aaxis\": {\"endlinecolor\": \"#2a3f5f\", \"gridcolor\": \"white\", \"linecolor\": \"white\", \"minorgridcolor\": \"white\", \"startlinecolor\": \"#2a3f5f\"}, \"baxis\": {\"endlinecolor\": \"#2a3f5f\", \"gridcolor\": \"white\", \"linecolor\": \"white\", \"minorgridcolor\": \"white\", \"startlinecolor\": \"#2a3f5f\"}, \"type\": \"carpet\"}], \"choropleth\": [{\"colorbar\": {\"outlinewidth\": 0, \"ticks\": \"\"}, \"type\": \"choropleth\"}], \"contour\": [{\"colorbar\": {\"outlinewidth\": 0, \"ticks\": \"\"}, \"colorscale\": [[0.0, \"#0d0887\"], [0.1111111111111111, \"#46039f\"], [0.2222222222222222, \"#7201a8\"], [0.3333333333333333, \"#9c179e\"], [0.4444444444444444, \"#bd3786\"], [0.5555555555555556, \"#d8576b\"], [0.6666666666666666, \"#ed7953\"], [0.7777777777777778, \"#fb9f3a\"], [0.8888888888888888, \"#fdca26\"], [1.0, \"#f0f921\"]], \"type\": \"contour\"}], \"contourcarpet\": [{\"colorbar\": {\"outlinewidth\": 0, \"ticks\": \"\"}, \"type\": \"contourcarpet\"}], \"heatmap\": [{\"colorbar\": {\"outlinewidth\": 0, \"ticks\": \"\"}, \"colorscale\": [[0.0, \"#0d0887\"], [0.1111111111111111, \"#46039f\"], [0.2222222222222222, \"#7201a8\"], [0.3333333333333333, \"#9c179e\"], [0.4444444444444444, \"#bd3786\"], [0.5555555555555556, \"#d8576b\"], [0.6666666666666666, \"#ed7953\"], [0.7777777777777778, \"#fb9f3a\"], [0.8888888888888888, \"#fdca26\"], [1.0, \"#f0f921\"]], \"type\": \"heatmap\"}], \"heatmapgl\": [{\"colorbar\": {\"outlinewidth\": 0, \"ticks\": \"\"}, \"colorscale\": [[0.0, \"#0d0887\"], [0.1111111111111111, \"#46039f\"], [0.2222222222222222, \"#7201a8\"], [0.3333333333333333, \"#9c179e\"], [0.4444444444444444, \"#bd3786\"], [0.5555555555555556, \"#d8576b\"], [0.6666666666666666, \"#ed7953\"], [0.7777777777777778, \"#fb9f3a\"], [0.8888888888888888, \"#fdca26\"], [1.0, \"#f0f921\"]], \"type\": \"heatmapgl\"}], \"histogram\": [{\"marker\": {\"colorbar\": {\"outlinewidth\": 0, \"ticks\": \"\"}}, \"type\": \"histogram\"}], \"histogram2d\": [{\"colorbar\": {\"outlinewidth\": 0, \"ticks\": \"\"}, \"colorscale\": [[0.0, \"#0d0887\"], [0.1111111111111111, \"#46039f\"], [0.2222222222222222, \"#7201a8\"], [0.3333333333333333, \"#9c179e\"], [0.4444444444444444, \"#bd3786\"], [0.5555555555555556, \"#d8576b\"], [0.6666666666666666, \"#ed7953\"], [0.7777777777777778, \"#fb9f3a\"], [0.8888888888888888, \"#fdca26\"], [1.0, \"#f0f921\"]], \"type\": \"histogram2d\"}], \"histogram2dcontour\": [{\"colorbar\": {\"outlinewidth\": 0, \"ticks\": \"\"}, \"colorscale\": [[0.0, \"#0d0887\"], [0.1111111111111111, \"#46039f\"], [0.2222222222222222, \"#7201a8\"], [0.3333333333333333, \"#9c179e\"], [0.4444444444444444, \"#bd3786\"], [0.5555555555555556, \"#d8576b\"], [0.6666666666666666, \"#ed7953\"], [0.7777777777777778, \"#fb9f3a\"], [0.8888888888888888, \"#fdca26\"], [1.0, \"#f0f921\"]], \"type\": \"histogram2dcontour\"}], \"mesh3d\": [{\"colorbar\": {\"outlinewidth\": 0, \"ticks\": \"\"}, \"type\": \"mesh3d\"}], \"parcoords\": [{\"line\": {\"colorbar\": {\"outlinewidth\": 0, \"ticks\": \"\"}}, \"type\": \"parcoords\"}], \"pie\": [{\"automargin\": true, \"type\": \"pie\"}], \"scatter\": [{\"marker\": {\"colorbar\": {\"outlinewidth\": 0, \"ticks\": \"\"}}, \"type\": \"scatter\"}], \"scatter3d\": [{\"line\": {\"colorbar\": {\"outlinewidth\": 0, \"ticks\": \"\"}}, \"marker\": {\"colorbar\": {\"outlinewidth\": 0, \"ticks\": \"\"}}, \"type\": \"scatter3d\"}], \"scattercarpet\": [{\"marker\": {\"colorbar\": {\"outlinewidth\": 0, \"ticks\": \"\"}}, \"type\": \"scattercarpet\"}], \"scattergeo\": [{\"marker\": {\"colorbar\": {\"outlinewidth\": 0, \"ticks\": \"\"}}, \"type\": \"scattergeo\"}], \"scattergl\": [{\"marker\": {\"colorbar\": {\"outlinewidth\": 0, \"ticks\": \"\"}}, \"type\": \"scattergl\"}], \"scattermapbox\": [{\"marker\": {\"colorbar\": {\"outlinewidth\": 0, \"ticks\": \"\"}}, \"type\": \"scattermapbox\"}], \"scatterpolar\": [{\"marker\": {\"colorbar\": {\"outlinewidth\": 0, \"ticks\": \"\"}}, \"type\": \"scatterpolar\"}], \"scatterpolargl\": [{\"marker\": {\"colorbar\": {\"outlinewidth\": 0, \"ticks\": \"\"}}, \"type\": \"scatterpolargl\"}], \"scatterternary\": [{\"marker\": {\"colorbar\": {\"outlinewidth\": 0, \"ticks\": \"\"}}, \"type\": \"scatterternary\"}], \"surface\": [{\"colorbar\": {\"outlinewidth\": 0, \"ticks\": \"\"}, \"colorscale\": [[0.0, \"#0d0887\"], [0.1111111111111111, \"#46039f\"], [0.2222222222222222, \"#7201a8\"], [0.3333333333333333, \"#9c179e\"], [0.4444444444444444, \"#bd3786\"], [0.5555555555555556, \"#d8576b\"], [0.6666666666666666, \"#ed7953\"], [0.7777777777777778, \"#fb9f3a\"], [0.8888888888888888, \"#fdca26\"], [1.0, \"#f0f921\"]], \"type\": \"surface\"}], \"table\": [{\"cells\": {\"fill\": {\"color\": \"#EBF0F8\"}, \"line\": {\"color\": \"white\"}}, \"header\": {\"fill\": {\"color\": \"#C8D4E3\"}, \"line\": {\"color\": \"white\"}}, \"type\": \"table\"}]}, \"layout\": {\"annotationdefaults\": {\"arrowcolor\": \"#2a3f5f\", \"arrowhead\": 0, \"arrowwidth\": 1}, \"coloraxis\": {\"colorbar\": {\"outlinewidth\": 0, \"ticks\": \"\"}}, \"colorscale\": {\"diverging\": [[0, \"#8e0152\"], [0.1, \"#c51b7d\"], [0.2, \"#de77ae\"], [0.3, \"#f1b6da\"], [0.4, \"#fde0ef\"], [0.5, \"#f7f7f7\"], [0.6, \"#e6f5d0\"], [0.7, \"#b8e186\"], [0.8, \"#7fbc41\"], [0.9, \"#4d9221\"], [1, \"#276419\"]], \"sequential\": [[0.0, \"#0d0887\"], [0.1111111111111111, \"#46039f\"], [0.2222222222222222, \"#7201a8\"], [0.3333333333333333, \"#9c179e\"], [0.4444444444444444, \"#bd3786\"], [0.5555555555555556, \"#d8576b\"], [0.6666666666666666, \"#ed7953\"], [0.7777777777777778, \"#fb9f3a\"], [0.8888888888888888, \"#fdca26\"], [1.0, \"#f0f921\"]], \"sequentialminus\": [[0.0, \"#0d0887\"], [0.1111111111111111, \"#46039f\"], [0.2222222222222222, \"#7201a8\"], [0.3333333333333333, \"#9c179e\"], [0.4444444444444444, \"#bd3786\"], [0.5555555555555556, \"#d8576b\"], [0.6666666666666666, \"#ed7953\"], [0.7777777777777778, \"#fb9f3a\"], [0.8888888888888888, \"#fdca26\"], [1.0, \"#f0f921\"]]}, \"colorway\": [\"#636efa\", \"#EF553B\", \"#00cc96\", \"#ab63fa\", \"#FFA15A\", \"#19d3f3\", \"#FF6692\", \"#B6E880\", \"#FF97FF\", \"#FECB52\"], \"font\": {\"color\": \"#2a3f5f\"}, \"geo\": {\"bgcolor\": \"white\", \"lakecolor\": \"white\", \"landcolor\": \"#E5ECF6\", \"showlakes\": true, \"showland\": true, \"subunitcolor\": \"white\"}, \"hoverlabel\": {\"align\": \"left\"}, \"hovermode\": \"closest\", \"mapbox\": {\"style\": \"light\"}, \"paper_bgcolor\": \"white\", \"plot_bgcolor\": \"#E5ECF6\", \"polar\": {\"angularaxis\": {\"gridcolor\": \"white\", \"linecolor\": \"white\", \"ticks\": \"\"}, \"bgcolor\": \"#E5ECF6\", \"radialaxis\": {\"gridcolor\": \"white\", \"linecolor\": \"white\", \"ticks\": \"\"}}, \"scene\": {\"xaxis\": {\"backgroundcolor\": \"#E5ECF6\", \"gridcolor\": \"white\", \"gridwidth\": 2, \"linecolor\": \"white\", \"showbackground\": true, \"ticks\": \"\", \"zerolinecolor\": \"white\"}, \"yaxis\": {\"backgroundcolor\": \"#E5ECF6\", \"gridcolor\": \"white\", \"gridwidth\": 2, \"linecolor\": \"white\", \"showbackground\": true, \"ticks\": \"\", \"zerolinecolor\": \"white\"}, \"zaxis\": {\"backgroundcolor\": \"#E5ECF6\", \"gridcolor\": \"white\", \"gridwidth\": 2, \"linecolor\": \"white\", \"showbackground\": true, \"ticks\": \"\", \"zerolinecolor\": \"white\"}}, \"shapedefaults\": {\"line\": {\"color\": \"#2a3f5f\"}}, \"ternary\": {\"aaxis\": {\"gridcolor\": \"white\", \"linecolor\": \"white\", \"ticks\": \"\"}, \"baxis\": {\"gridcolor\": \"white\", \"linecolor\": \"white\", \"ticks\": \"\"}, \"bgcolor\": \"#E5ECF6\", \"caxis\": {\"gridcolor\": \"white\", \"linecolor\": \"white\", \"ticks\": \"\"}}, \"title\": {\"x\": 0.05}, \"xaxis\": {\"automargin\": true, \"gridcolor\": \"white\", \"linecolor\": \"white\", \"ticks\": \"\", \"title\": {\"standoff\": 15}, \"zerolinecolor\": \"white\", \"zerolinewidth\": 2}, \"yaxis\": {\"automargin\": true, \"gridcolor\": \"white\", \"linecolor\": \"white\", \"ticks\": \"\", \"title\": {\"standoff\": 15}, \"zerolinecolor\": \"white\", \"zerolinewidth\": 2}}}, \"xaxis\": {\"anchor\": \"y\", \"domain\": [0.0, 1.0], \"title\": {\"text\": \"SAT_AVG_ALL\"}}, \"yaxis\": {\"anchor\": \"x\", \"domain\": [0.0, 1.0], \"title\": {\"text\": \"MD_EARN_WNE_P10\"}}},                        {\"responsive\": true}                    ).then(function(){\n",
       "                            \n",
       "var gd = document.getElementById('387b84e5-7f75-46bc-a0a8-552cbf580d54');\n",
       "var x = new MutationObserver(function (mutations, observer) {{\n",
       "        var display = window.getComputedStyle(gd).display;\n",
       "        if (!display || display === 'none') {{\n",
       "            console.log([gd, 'removed!']);\n",
       "            Plotly.purge(gd);\n",
       "            observer.disconnect();\n",
       "        }}\n",
       "}});\n",
       "\n",
       "// Listen for the removal of the full notebook cells\n",
       "var notebookContainer = gd.closest('#notebook-container');\n",
       "if (notebookContainer) {{\n",
       "    x.observe(notebookContainer, {childList: true});\n",
       "}}\n",
       "\n",
       "// Listen for the clearing of the current output cell\n",
       "var outputEl = gd.closest('.output');\n",
       "if (outputEl) {{\n",
       "    x.observe(outputEl, {childList: true});\n",
       "}}\n",
       "\n",
       "                        })                };                });            </script>        </div>"
      ]
     },
     "metadata": {},
     "output_type": "display_data"
    },
    {
     "data": {
      "text/html": [
       "\n",
       "        <iframe\n",
       "            width=\"100%\"\n",
       "            height=\"525px\"\n",
       "            src=\"https://plotly.com/~dndaniell16/3.embed\"\n",
       "            frameborder=\"0\"\n",
       "            allowfullscreen\n",
       "        ></iframe>\n",
       "        "
      ],
      "text/plain": [
       "<IPython.lib.display.IFrame at 0x27caea61f88>"
      ]
     },
     "execution_count": 11,
     "metadata": {},
     "output_type": "execute_result"
    }
   ],
   "source": [
    "#Hover_data takes in a list of column headers of the dataframe that we pass in, but the institution name was\n",
    "#the only other portion of data that was useful for our 2D plot.\n",
    "fig = px.scatter(df, x=\"SAT_AVG_ALL\", y=\"MD_EARN_WNE_P10\", hover_data=['INSTNM'])\n",
    "fig.show()\n",
    "py.iplot(fig, filename='2D_univ_scatter') #if using a text editor call py.plot(fig, filename='univ_vis')"
   ]
  },
  {
   "cell_type": "markdown",
   "metadata": {},
   "source": [
    "The following code extracts the columns from our dataframe and give us arrays that we can use to graph. We need to do this because plotly works with *series* types (such as arrays) and not panda data structures. To get the names out of our list, we look into our dataframe for the column we want, and call .values. This simply gives us back the values that were in that column as an array. We want to know our university names, their average SAT, their starting salaries, and the percentage of rich students."
   ]
  },
  {
   "cell_type": "code",
   "execution_count": 14,
   "metadata": {},
   "outputs": [],
   "source": [
    "#extracting data values\n",
    "\n",
    "name = df['INSTNM'].values\n",
    "sat_average = df['SAT_AVG_ALL'].values\n",
    "salary = df['MD_EARN_WNE_P10'].values\n",
    "percentage_rich = df['UGDS_RICH'].values"
   ]
  },
  {
   "cell_type": "markdown",
   "metadata": {},
   "source": [
    "Calling go.scatter3d is going to help us create a 3D scatter plot object containing all our points.\n",
    "\n",
    "***IN ORDER TO GRAPH OUR DATA WE NEED TWO THINGS: 1) A DATA SET AND 2) A LAYOUT.***\n",
    "- The Data set is \"what\" we are going to show.\n",
    "- The Layout is \"how\" we are going to show it.\n",
    "\n",
    "*Let's start with the data set:*\n",
    "\n",
    "We want:\n",
    "    - x axis to equal SAT averages (x = sat_average).\n",
    "    - y axis to equal starting salary (y = salary).\n",
    "    - z axis to equal percentage rich (z = percentage_rich).\n",
    "    - when hovering over a point, to display corresponding school name (text = name).\n",
    "    - our data points to be displayed as markers / dots (mode = \"markers\").\n",
    "\n",
    "Now we want to control what our dots look like. Do this by passing in a tuple (static array) of information\n",
    "    (marker = dict(.......)).\n",
    "\n",
    "    The size of each dot is 4 (size = 4).\n",
    "    The color will correspond to the percentage of rich students (color = percentage_rich).\n",
    "    Plotly has premade colorscales so for this example we will use \"Viridis\" (colorscale = 'Viridis').\n",
    "    Opacity is how transparent our dots we will be (0 is invisible, 1 is solid). We will set this to .8 (opacity = 0.8).\n",
    "    \n",
    "Think of a \"trace\" as a big grouping of all of the data needed to draw a graph. Plotly can support many of these \"traces\" simultaneously, so it likes to receive a list of traces. For this demonstration, we will use a list of size one to hold our single trace, trace1."
   ]
  },
  {
   "cell_type": "code",
   "execution_count": 15,
   "metadata": {},
   "outputs": [],
   "source": [
    "#preparing data for plotly\n",
    "\n",
    "trace1 = go.Scatter3d(\n",
    "    x=sat_average,\n",
    "    y=salary,\n",
    "    z=percentage_rich,\n",
    "    text=name,\n",
    "    mode='markers',\n",
    "    marker=dict(\n",
    "        size=4,\n",
    "        color=percentage_rich, # set color to an array/list of desired values\n",
    "        colorscale='Viridis',   # choose a colorscale\n",
    "        opacity=0.8\n",
    "    )\n",
    ")\n",
    "\n",
    "#The reason that we put our \"trace\" into a list is that we can actually input several different traces into a single plot.\n",
    "#These traces are separate \"correlations\" of data that will share axis with our other traces\n",
    "my_data = [trace1]"
   ]
  },
  {
   "cell_type": "markdown",
   "metadata": {},
   "source": [
    "Next we want to define the layout of our graph\n",
    "\n",
    "    We want the title of our graph to simply be \"univeristy data\" (title = 'University Data').\n",
    "    To label our axis, we must first create a \"scene.\" Inside this scene, we pass in a tuple of info, including\n",
    "    xaxis, yaxis, and zaxis. Then each of those get their own tuple of info to describe themselves in detail\n",
    "    scene=dict(xaxis=dict(......), yaxis=dict(.....), zaxis=dict(.....)).\n",
    "    \n",
    "    Let us set our x axis label to SAT average, y to average salary, and z to percentage rich."
   ]
  },
  {
   "cell_type": "code",
   "execution_count": 16,
   "metadata": {},
   "outputs": [],
   "source": [
    "my_layout = go.Layout(\n",
    "    title='University Data',\n",
    "    scene=dict(\n",
    "        xaxis=dict(\n",
    "            title='SAT Average'\n",
    "        ),\n",
    "        yaxis=dict(\n",
    "            title='Average Salary'\n",
    "        ),\n",
    "        zaxis=dict(\n",
    "            title='Percentage Rich'\n",
    "        )\n",
    "    )\n",
    ")"
   ]
  },
  {
   "cell_type": "markdown",
   "metadata": {},
   "source": [
    "Once we have all of that, we can actually plot the graph\n",
    "\n",
    "        First we have to create a completed figure to graph. Plotly will do this automatically for us. All it needs to know is the data we want to plot and the layout. So we specify that the data it should use is my_data, and the layout it should use is my_layout. Finally, in order to display the graph, we call py.plot or py.iplot, specify the figure we want to plot, and what we want to save our graph as.\n",
    "        \n",
    "        IMPORTANT if using a text editor use py.plot, iplot is only for jupyter notebook."
   ]
  },
  {
   "cell_type": "code",
   "execution_count": 17,
   "metadata": {},
   "outputs": [
    {
     "data": {
      "text/html": [
       "\n",
       "        <iframe\n",
       "            width=\"100%\"\n",
       "            height=\"525px\"\n",
       "            src=\"https://plotly.com/~dndaniell16/1.embed\"\n",
       "            frameborder=\"0\"\n",
       "            allowfullscreen\n",
       "        ></iframe>\n",
       "        "
      ],
      "text/plain": [
       "<IPython.lib.display.IFrame at 0x1b155a52708>"
      ]
     },
     "execution_count": 17,
     "metadata": {},
     "output_type": "execute_result"
    }
   ],
   "source": [
    "fig = go.Figure(data=my_data, layout=my_layout)\n",
    "py.iplot(fig, filename='univ_vis') #if using a text editor call py.plot(fig, filename='univ_vis')"
   ]
  },
  {
   "cell_type": "code",
   "execution_count": null,
   "metadata": {},
   "outputs": [],
   "source": []
  }
 ],
 "metadata": {
  "kernelspec": {
   "display_name": "Python 3",
   "language": "python",
   "name": "python3"
  },
  "language_info": {
   "codemirror_mode": {
    "name": "ipython",
    "version": 3
   },
   "file_extension": ".py",
   "mimetype": "text/x-python",
   "name": "python",
   "nbconvert_exporter": "python",
   "pygments_lexer": "ipython3",
   "version": "3.7.5"
  }
 },
 "nbformat": 4,
 "nbformat_minor": 2
}
