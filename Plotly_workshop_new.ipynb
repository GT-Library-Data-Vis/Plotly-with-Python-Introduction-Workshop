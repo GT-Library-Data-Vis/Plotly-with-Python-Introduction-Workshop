{
 "cells": [
  {
   "cell_type": "markdown",
   "metadata": {},
   "source": [
    "Lesson Plan for Plotly Lab\n",
    "What is Python???\n",
    "\n",
    "    Python is a programming language that is easy to learn and reads like plain english\n",
    "    Important note is that in python, the most important thing are indents.  Improper indents WILL cause errors\n",
    "Basic Types\n",
    "\n",
    "    During this lessson plan we will be using a few different types\n",
    "        String: a sequence of letters and symbols surrounded by \"\"\n",
    "        Integer: whole number (eg 5)\n",
    "        float: number with decimal places (eg 5.3)\n",
    "        Object: a special type that has its own methods we can use - \n",
    "        a method is a series of lines of code that accomplishes some task\n",
    "        Dataframe: special object imported by the pandas library, allows us\n",
    "        to create a relational way of viewing and manipulating data\n",
    "        Series/List: simply a list of some form of data\n",
    "        Dictionary: a series of mappings from one type to another\n",
    "        \n",
    "What does Import do?\n",
    "\n",
    "    the import statement gives us functions, objects or a set of objects and functions (known as a\n",
    "    library) that other people created that we would like to use.\n",
    "    the 'as' keyword lets us rename this library or object for our\n",
    "    convienence\n",
    "    \n",
    "    CSV\n",
    "        Gives us the ability to utilize and read in a comma seperated value\n",
    "        file, such as the one I have provided\n",
    "    Numpy\n",
    "        Gives us the ability to create a series object, series objects are \n",
    "        what plotly uses to graph\n",
    "     Plotly\n",
    "        Gives us access to all of the methods we need to create a plotly graph\n",
    "    Plotly.Plotly \n",
    "        This gives us easy access to plotly's plotting methods\n",
    "    Plotly.graph_objs\n",
    "        This is a plotly graph.  we are renaming it for ease later\n",
    "    Pandas\n",
    "        Gives us the ability to create a dataframe from our CSV files\n",
    "\n",
    "Plotly tools set credentials\n",
    "\n",
    "    in order to save our graphs to our specific account, Plotly wants to know our username and our specific API key\n",
    "    We can find this in the following way\n",
    "    go to https://plot.ly/ and either create an account or login\n",
    "    hover over your account in the right hand corner and click settings \n",
    "    your username should be available in the left column\n",
    "    click API keys on the left hand side\n",
    "    click generate/regenerate key, and save that number\n",
    "    set your credentials as I have done below.\n",
    "    "
   ]
  },
  {
   "cell_type": "code",
   "execution_count": null,
   "metadata": {},
   "outputs": [],
   "source": [
    "#setting up the project\n",
    "\n",
    "import csv\n",
    "import numpy as np\n",
    "import chart_studio.plotly as py\n",
    "import plotly.graph_objs as go\n",
    "import chart_studio\n",
    "import pandas as pd\n",
    "#username='Fake.Username',api_key='55555'\n",
    "chart_studio.tools.set_credentials_file(username='charlestonf', api_key='Snch64bsUgs9gBHQWdNp')"
   ]
  },
  {
   "cell_type": "code",
   "execution_count": 27,
   "metadata": {},
   "outputs": [
    {
     "name": "stdout",
     "output_type": "stream",
     "text": [
      "                                                 INSTNM  SAT_AVG_ALL     UGDS  \\\n",
      "0                              Alabama A & M University        850.0   4505.0   \n",
      "1                   University of Alabama at Birmingham       1147.0  11269.0   \n",
      "2                                    Amridge University          NaN    308.0   \n",
      "3                   University of Alabama in Huntsville       1221.0   5829.0   \n",
      "4                              Alabama State University        844.0   4740.0   \n",
      "...                                                 ...          ...      ...   \n",
      "7588  National Personal Training Institute of Cleveland          NaN      NaN   \n",
      "7589  Bay Area Medical Academy - San Jose Satellite ...          NaN      NaN   \n",
      "7590                        High Desert Medical College          NaN      NaN   \n",
      "7591                        Vantage College-San Antonio          NaN      NaN   \n",
      "7592  American Institute of Pharmaceutical Technolog...          NaN      NaN   \n",
      "\n",
      "      UGDS_WHITE MD_EARN_WNE_P10  \n",
      "0         0.0340           29900  \n",
      "1         0.5863           40200  \n",
      "2         0.2110           40100  \n",
      "3         0.7024           45600  \n",
      "4         0.0165           26700  \n",
      "...          ...             ...  \n",
      "7588         NaN             NaN  \n",
      "7589         NaN             NaN  \n",
      "7590         NaN             NaN  \n",
      "7591         NaN             NaN  \n",
      "7592         NaN             NaN  \n",
      "\n",
      "[7593 rows x 5 columns]\n"
     ]
    }
   ],
   "source": [
    "#reading the data\n",
    "\n",
    "csv_file = \"univ_reduced.csv\"\n",
    "df = pd.read_csv(csv_file)\n",
    "print(df) # do not include this statement if using a text editor"
   ]
  },
  {
   "cell_type": "markdown",
   "metadata": {},
   "source": [
    "The variable CSV_file is going to be a string object that points to the location of our data\n",
    "\n",
    "    the next line asks our pandas library to try to read our CSV file, and turn it into a dataframe.\n",
    "    \n",
    "When done successfully, it will be stored in the variable df.\n",
    "\n",
    "    The print statement is used to see our data.\n",
    "    Notice there are over 7500 rows\n",
    "https://drive.google.com/drive/folders/1WCZQmB_dAHCr4lHE027qEcvMTPLchs8D?usp=sharing"
   ]
  },
  {
   "cell_type": "markdown",
   "metadata": {},
   "source": [
    "Notice we have a lot of Nan values.  Plotly cannot graph those, so we need to get rid of them.\n",
    "We do this by indexing into our dataframe using [], then selecting the column we want, and then keeping it if the value is not null\n",
    "    \n",
    "    we also have some \"privacy surpressed\" values in the salary category.  since this is not a number we want to \n",
    "    eliminate those as well\n",
    "    the ~ operator means not.  \n",
    "    we will tell our data frame to keep any values where the salary column does not contain the word \"privacy surpressed\"\n",
    "    \n",
    "    notice how now there are only a little over 1300 rows.  the rest of the datapoints contained \n",
    "    incomplete data that we could not graph.\n",
    "    "
   ]
  },
  {
   "cell_type": "code",
   "execution_count": 28,
   "metadata": {},
   "outputs": [
    {
     "name": "stdout",
     "output_type": "stream",
     "text": [
      "                                                 INSTNM  SAT_AVG_ALL     UGDS  \\\n",
      "0                              Alabama A & M University        850.0   4505.0   \n",
      "1                   University of Alabama at Birmingham       1147.0  11269.0   \n",
      "3                   University of Alabama in Huntsville       1221.0   5829.0   \n",
      "4                              Alabama State University        844.0   4740.0   \n",
      "5                             The University of Alabama       1181.0  31005.0   \n",
      "...                                                 ...          ...      ...   \n",
      "6820                                 Augusta University       1045.0   4773.0   \n",
      "6821                    Middle Georgia State University        864.0   7225.0   \n",
      "6866                        University of North Georgia       1013.0  16048.0   \n",
      "6868  Northeastern University Professional Advanceme...       1435.0   2051.0   \n",
      "6880                   Arizona State University-Skysong       1143.0  16219.0   \n",
      "\n",
      "      UGDS_WHITE MD_EARN_WNE_P10  \n",
      "0         0.0340           29900  \n",
      "1         0.5863           40200  \n",
      "3         0.7024           45600  \n",
      "4         0.0165           26700  \n",
      "5         0.7807           42700  \n",
      "...          ...             ...  \n",
      "6820      0.5431           58500  \n",
      "6821      0.5372           32400  \n",
      "6866      0.7651           40600  \n",
      "6868      0.4227           64000  \n",
      "6880      0.6391           45400  \n",
      "\n",
      "[1307 rows x 5 columns]\n"
     ]
    }
   ],
   "source": [
    "#cleaning up the data\n",
    "\n",
    "df = df[df.SAT_AVG_ALL.notnull()]\n",
    "df = df[df.INSTNM.notnull()]\n",
    "df = df[df.UGDS_WHITE.notnull()]\n",
    "df = df[df.MD_EARN_WNE_P10.notnull()]\n",
    "df = df[~df.MD_EARN_WNE_P10.str.contains('PrivacySuppressed')]\n",
    "print(df) #do not include this statement if using a text editor"
   ]
  },
  {
   "cell_type": "markdown",
   "metadata": {},
   "source": [
    "These lines extract the columns from our dataframe and give us arrays that we can use to graph\n",
    "    We need to do this because plotly works with Numpy, not Pandas.\n",
    "    to get the names out of our list, we look into our dataframe for the column we want, and call .values.  this simply gives us \n",
    "    back the values that were in that column.\n",
    "    we want to know our university names, their average SAT, their starting salaries, and the percentage of white students."
   ]
  },
  {
   "cell_type": "code",
   "execution_count": 29,
   "metadata": {},
   "outputs": [],
   "source": [
    "#extracting data values\n",
    "\n",
    "name = df['INSTNM'].values\n",
    "sat_average = df['SAT_AVG_ALL'].values\n",
    "salary = df['MD_EARN_WNE_P10'].values\n",
    "percentage_white = df['UGDS_WHITE'].values"
   ]
  },
  {
   "cell_type": "markdown",
   "metadata": {},
   "source": [
    "calling go.scatter3d is going to help us create a 3D scatter plot object containing all our points\n",
    "\n",
    "    we want our x axis to be their SAT averages, so we set x = to the sat average\n",
    "    we want our y values to be their starting salary, so we set y = salary\n",
    "    we want our z values to be the school's percentage white, so we set z = percentage_white\n",
    "    when we hover over a point, we want to be able to see what school it is, so we will set our text= to the name of the school\n",
    "    Mode is how we want points displayed, for this example, we want our points displayed as markers (or dots)\n",
    "\n",
    "Next we want to define what our markers look like, so we will send in a dictionary telling plotly how to format dots\n",
    "\n",
    "    we are letting the size of the dots be 4 each\n",
    "    we want to color our dots by the percentage of white students\n",
    "    plotly has built in colorscales for coloring the points, for this example we will use Viridis\n",
    "    Opacity is how transparent our dots we will be, we will set this to .8 (0 is invisible, 1 is solid)\n",
    "    \n",
    "To actually graph data, plotly can support many of these \"traces\" so it wants each trace sent into it as a list, \n",
    "    since we only have 1 trace for this example, we are creating a list with a single entry, trace 1"
   ]
  },
  {
   "cell_type": "code",
   "execution_count": 30,
   "metadata": {},
   "outputs": [],
   "source": [
    "#preparing data for plotly\n",
    "\n",
    "trace1 = go.Scatter3d(\n",
    "    x=sat_average,\n",
    "    y=salary,\n",
    "    z=percentage_white,\n",
    "    text=name,\n",
    "    mode='markers',\n",
    "    marker=dict(\n",
    "        size=4,\n",
    "        color=percentage_white, # set color to an array/list of desired values\n",
    "        colorscale='Viridis',   # choose a colorscale\n",
    "        opacity=0.8\n",
    "    )\n",
    ")\n",
    "my_data = [trace1]"
   ]
  },
  {
   "cell_type": "markdown",
   "metadata": {},
   "source": [
    "Next we want to define the layout of our graph\n",
    "\n",
    "    we want the title of our graph to simply be university data, so we can set title to \"university data\"\n",
    "    to label our axis, plotly asks us to create a scene where we define what we want our axis to be \n",
    "        \n",
    "        inside of our scene, we can define the axis labels\n",
    "        let us set our x axis label to SAT average\n",
    "        let us set our y axis label to average salary\n",
    "        let us set our z axis label to percentage white\n",
    "        \n",
    "Once we have all of that, we can actually plot the graph\n",
    "\n",
    "    first we have to create a completed figure to graph.  Plotly will do this automatically, all it needs to know\n",
    "    is the data we want to plot, and the layout, or how we want it to look.  \n",
    "    so we specify that the data it should use is my_data, and the layout it should use is my_layout.\n",
    "    \n",
    "    Finally, in order to display the graph, we call py.plot or py.iplot.  and specify the graph, as well as what\n",
    "    we want to save our graph as\n",
    "    \n",
    "    IMPORTANT if using a text editor use py.plot, iplot is only for jupyter notebook"
   ]
  },
  {
   "cell_type": "code",
   "execution_count": 31,
   "metadata": {},
   "outputs": [
    {
     "data": {
      "text/html": [
       "\n",
       "        <iframe\n",
       "            width=\"100%\"\n",
       "            height=\"525px\"\n",
       "            src=\"https://plot.ly/~charlestonf/1.embed\"\n",
       "            frameborder=\"0\"\n",
       "            allowfullscreen\n",
       "        ></iframe>\n",
       "        "
      ],
      "text/plain": [
       "<IPython.lib.display.IFrame at 0x124e7c30>"
      ]
     },
     "execution_count": 31,
     "metadata": {},
     "output_type": "execute_result"
    }
   ],
   "source": [
    "my_layout = go.Layout(\n",
    "    title='University Data',\n",
    "    scene=dict(\n",
    "        xaxis=dict(\n",
    "            title='SAT Average'\n",
    "        ),\n",
    "        yaxis=dict(\n",
    "            title='Average Salary'\n",
    "        ),\n",
    "        zaxis=dict(\n",
    "            title='Percentage White'\n",
    "        )\n",
    "    )\n",
    ")\n",
    "fig = go.Figure(data=my_data, layout=my_layout)\n",
    "py.iplot(fig, filename='univ_vis') #if using a text editor call py.plot(fig, filename='univ_vis')"
   ]
  }
 ],
 "metadata": {
  "kernelspec": {
   "display_name": "Python 3",
   "language": "python",
   "name": "python3"
  },
  "language_info": {
   "codemirror_mode": {
    "name": "ipython",
    "version": 3
   },
   "file_extension": ".py",
   "mimetype": "text/x-python",
   "name": "python",
   "nbconvert_exporter": "python",
   "pygments_lexer": "ipython3",
   "version": "3.7.4"
  }
 },
 "nbformat": 4,
 "nbformat_minor": 2
}
