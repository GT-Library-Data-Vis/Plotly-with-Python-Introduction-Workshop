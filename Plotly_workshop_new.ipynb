{
 "cells": [
  {
   "cell_type": "markdown",
   "metadata": {},
   "source": [
    "Lesson Plan for Plotly Lab\n",
    "What is Python??\n",
    "\n",
    "    Python is a programming language that is easy to learn and reads like plain english\n",
    "    Important note is that in python, the most important thing are indents.  Improper indents WILL cause errors\n",
    "Basic Types\n",
    "\n",
    "    During this lessson plan we will be using a few different types\n",
    "        String: a sequence of letters and symbols surrounded by \"\"\n",
    "        Integer: whole number (eg 5)\n",
    "        float: number with decimal places (eg 5.3)\n",
    "        Object: a special type that has its own methods we can use - \n",
    "        a method is a series of lines of code that accomplishes some task\n",
    "        Dataframe: special object imported by the pandas library, allows us\n",
    "        to create a relational way of viewing and manipulating data\n",
    "        Series/List: simply a list of some form of data\n",
    "        Dictionary: a series of mappings from one type to another\n",
    "        \n",
    "What does Import do?\n",
    "\n",
    "    the import statement gives us functions, objects or a set of objects and functions (known as a\n",
    "    library) that other people created that we would like to use.\n",
    "    the 'as' keyword lets us rename this library or object for our\n",
    "    convienence\n",
    "    \n",
    "    CSV\n",
    "        Gives us the ability to utilize and read in a comma seperated value\n",
    "        file, such as the one I have provided\n",
    "    Numpy\n",
    "        Gives us the ability to create a series object, series objects are \n",
    "        what plotly uses to graph\n",
    "     Plotly\n",
    "        Gives us access to all of the methods we need to create a plotly graph\n",
    "    Plotly.Plotly \n",
    "        This gives us easy access to plotly's plotting methods\n",
    "    Plotly.graph_objs\n",
    "        This is a plotly graph.  we are renaming it for ease later\n",
    "    Pandas\n",
    "        Gives us the ability to create a dataframe from our CSV files\n",
    "\n",
    "Plotly tools set credentials\n",
    "\n",
    "    in order to save our graphs to our specific account, Plotly wants to know our username and our specific API key\n",
    "    We can find this in the following way\n",
    "    go to https://plot.ly/ and either create an account or login\n",
    "    hover over your account in the right hand corner and click settings \n",
    "    your username should be available in the left column\n",
    "    click API keys on the left hand side\n",
    "    click generate/regenerate key, and save that number\n",
    "    set your credentials as I have done below.\n",
    "    "
   ]
  },
  {
   "cell_type": "markdown",
   "metadata": {},
   "source": [
    "Project Set Up For Personal Device:\n",
    "\n",
    "1.) Install Python (python.org)\n",
    "\n",
    "2.) Open Command Prompt\n",
    "    - You can verify that Python has been properly installed by typing \"python\" and pressing enter\n",
    "    - The version number will come up if python has been properly installed\n",
    "    \n",
    "3.) Install Plotly Libraries by typing the following commands:\n",
    "    - pip install plotly\n",
    "    - pip install chart_studio\n",
    "    \n",
    "4.) Install Jupyter Notebook by typing the following commands:\n",
    "    - python3 -m pip install jupyter\n",
    "    - type \"jupyter notebook\" to run it\n",
    "    \n",
    "5.) Download project files\n",
    "    - github.com/GTLibraryDataVisualization/Plotly-with-Python-Introduction-Workshop\n",
    "    - Press the green \"Clone or Download\" button and download the project zip file\n",
    "    - This holds the data you'll play with\n",
    "    \n",
    "6.) Set up Plotly account\n",
    "    - chart-studio.plot.ly/settings/api\n",
    "    \n",
    "7.) Generate an API key\n",
    "    - chart-studio.plot.ly/settings/api\n",
    "    - Once you have an account, generate an API key to gain access to Plotly's services.\n",
    "    - You're good to go!\n",
    " \n"
   ]
  },
  {
   "cell_type": "code",
   "execution_count": 7,
   "metadata": {},
   "outputs": [],
   "source": [
    "#setting up the project\n",
    "\n",
    "import csv\n",
    "import numpy as np\n",
    "import chart_studio.plotly as py\n",
    "import plotly.graph_objs as go\n",
    "import chart_studio\n",
    "import pandas as pd\n",
    "#replace 'Fake.Username' with your Plotly username and '55555' with the API key you generated\n",
    "chart_studio.tools.set_credentials_file(username='Fake.Username', api_key='55555')"
   ]
  },
  {
   "cell_type": "code",
   "execution_count": 8,
   "metadata": {},
   "outputs": [
    {
     "name": "stdout",
     "output_type": "stream",
     "text": [
      "                                                 INSTNM  SAT_AVG_ALL     UGDS  \\\n",
      "0                              Alabama A & M University        850.0   4505.0   \n",
      "1                   University of Alabama at Birmingham       1147.0  11269.0   \n",
      "2                                    Amridge University          NaN    308.0   \n",
      "3                   University of Alabama in Huntsville       1221.0   5829.0   \n",
      "4                              Alabama State University        844.0   4740.0   \n",
      "...                                                 ...          ...      ...   \n",
      "7588  National Personal Training Institute of Cleveland          NaN      NaN   \n",
      "7589  Bay Area Medical Academy - San Jose Satellite ...          NaN      NaN   \n",
      "7590                        High Desert Medical College          NaN      NaN   \n",
      "7591                        Vantage College-San Antonio          NaN      NaN   \n",
      "7592  American Institute of Pharmaceutical Technolog...          NaN      NaN   \n",
      "\n",
      "      UGDS_WHITE MD_EARN_WNE_P10  \n",
      "0         0.0340           29900  \n",
      "1         0.5863           40200  \n",
      "2         0.2110           40100  \n",
      "3         0.7024           45600  \n",
      "4         0.0165           26700  \n",
      "...          ...             ...  \n",
      "7588         NaN             NaN  \n",
      "7589         NaN             NaN  \n",
      "7590         NaN             NaN  \n",
      "7591         NaN             NaN  \n",
      "7592         NaN             NaN  \n",
      "\n",
      "[7593 rows x 5 columns]\n"
     ]
    }
   ],
   "source": [
    "#reading the data\n",
    "\n",
    "csv_file = \"univ_reduced.csv\"\n",
    "df = pd.read_csv(csv_file)\n",
    "print(df) # do not include this statement if using a text editor"
   ]
  },
  {
   "cell_type": "markdown",
   "metadata": {},
   "source": [
    "The variable CSV_file is going to be a string object that points to the location of our data\n",
    "\n",
    "    the next line asks our pandas library to try to read our CSV file, and turn it into a dataframe.\n",
    "    \n",
    "When done successfully, it will be stored in the variable df.\n",
    "\n",
    "    The print statement is used to see our data.\n",
    "    Notice there are over 7500 rows\n",
    "https://drive.google.com/drive/folders/1WCZQmB_dAHCr4lHE027qEcvMTPLchs8D?usp=sharing"
   ]
  },
  {
   "cell_type": "markdown",
   "metadata": {},
   "source": [
    "Notice we have a lot of Nan values.  Plotly cannot graph those, so we need to get rid of them.\n",
    "We do this by indexing into our dataframe using [], then selecting the column we want, and then keeping it if the value is not null\n",
    "    \n",
    "    we also have some \"privacy surpressed\" values in the salary category.  since this is not a number we want to \n",
    "    eliminate those as well\n",
    "    the ~ operator means not.  \n",
    "    we will tell our data frame to keep any values where the salary column does not contain the word \"privacy surpressed\"\n",
    "    \n",
    "    notice how now there are only a little over 1300 rows.  the rest of the datapoints contained \n",
    "    incomplete data that we could not graph.\n",
    "    "
   ]
  },
  {
   "cell_type": "code",
   "execution_count": 9,
   "metadata": {},
   "outputs": [
    {
     "name": "stdout",
     "output_type": "stream",
     "text": [
      "                                                 INSTNM  SAT_AVG_ALL     UGDS  \\\n",
      "0                              Alabama A & M University        850.0   4505.0   \n",
      "1                   University of Alabama at Birmingham       1147.0  11269.0   \n",
      "3                   University of Alabama in Huntsville       1221.0   5829.0   \n",
      "4                              Alabama State University        844.0   4740.0   \n",
      "5                             The University of Alabama       1181.0  31005.0   \n",
      "...                                                 ...          ...      ...   \n",
      "6820                                 Augusta University       1045.0   4773.0   \n",
      "6821                    Middle Georgia State University        864.0   7225.0   \n",
      "6866                        University of North Georgia       1013.0  16048.0   \n",
      "6868  Northeastern University Professional Advanceme...       1435.0   2051.0   \n",
      "6880                   Arizona State University-Skysong       1143.0  16219.0   \n",
      "\n",
      "      UGDS_WHITE MD_EARN_WNE_P10  \n",
      "0         0.0340           29900  \n",
      "1         0.5863           40200  \n",
      "3         0.7024           45600  \n",
      "4         0.0165           26700  \n",
      "5         0.7807           42700  \n",
      "...          ...             ...  \n",
      "6820      0.5431           58500  \n",
      "6821      0.5372           32400  \n",
      "6866      0.7651           40600  \n",
      "6868      0.4227           64000  \n",
      "6880      0.6391           45400  \n",
      "\n",
      "[1307 rows x 5 columns]\n"
     ]
    }
   ],
   "source": [
    "#cleaning up the data\n",
    "\n",
    "df = df[df.SAT_AVG_ALL.notnull()]\n",
    "df = df[df.INSTNM.notnull()]\n",
    "df = df[df.UGDS_WHITE.notnull()]\n",
    "df = df[df.MD_EARN_WNE_P10.notnull()]\n",
    "df = df[~df.MD_EARN_WNE_P10.str.contains('PrivacySuppressed')]\n",
    "print(df) #do not include this statement if using a text editor"
   ]
  },
  {
   "cell_type": "markdown",
   "metadata": {},
   "source": [
    "These lines extract the columns from our dataframe and give us arrays that we can use to graph\n",
    "    We need to do this because plotly works with Numpy, not Pandas.\n",
    "    to get the names out of our list, we look into our dataframe for the column we want, and call .values.  this simply gives us \n",
    "    back the values that were in that column.\n",
    "    we want to know our university names, their average SAT, their starting salaries, and the percentage of white students."
   ]
  },
  {
   "cell_type": "code",
   "execution_count": 10,
   "metadata": {},
   "outputs": [],
   "source": [
    "#extracting data values\n",
    "\n",
    "name = df['INSTNM'].values\n",
    "sat_average = df['SAT_AVG_ALL'].values\n",
    "salary = df['MD_EARN_WNE_P10'].values\n",
    "percentage_white = df['UGDS_WHITE'].values"
   ]
  },
  {
   "cell_type": "markdown",
   "metadata": {},
   "source": [
    "calling go.scatter3d is going to help us create a 3D scatter plot object containing all our points\n",
    "\n",
    "    we want our x axis to be their SAT averages, so we set x = to the sat average\n",
    "    we want our y values to be their starting salary, so we set y = salary\n",
    "    we want our z values to be the school's percentage white, so we set z = percentage_white\n",
    "    when we hover over a point, we want to be able to see what school it is, so we will set our text= to the name of the school\n",
    "    Mode is how we want points displayed, for this example, we want our points displayed as markers (or dots)\n",
    "\n",
    "Next we want to define what our markers look like, so we will send in a dictionary telling plotly how to format dots\n",
    "\n",
    "    we are letting the size of the dots be 4 each\n",
    "    we want to color our dots by the percentage of white students\n",
    "    plotly has built in colorscales for coloring the points, for this example we will use Viridis\n",
    "    Opacity is how transparent our dots we will be, we will set this to .8 (0 is invisible, 1 is solid)\n",
    "    \n",
    "To actually graph data, plotly can support many of these \"traces\" so it wants each trace sent into it as a list, \n",
    "    since we only have 1 trace for this example, we are creating a list with a single entry, trace 1"
   ]
  },
  {
   "cell_type": "code",
   "execution_count": 11,
   "metadata": {},
   "outputs": [],
   "source": [
    "#preparing data for plotly\n",
    "\n",
    "trace1 = go.Scatter3d(\n",
    "    x=sat_average,\n",
    "    y=salary,\n",
    "    z=percentage_white,\n",
    "    text=name,\n",
    "    mode='markers',\n",
    "    marker=dict(\n",
    "        size=4,\n",
    "        color=percentage_white, # set color to an array/list of desired values\n",
    "        colorscale='Viridis',   # choose a colorscale\n",
    "        opacity=0.8\n",
    "    )\n",
    ")\n",
    "my_data = [trace1]"
   ]
  },
  {
   "cell_type": "markdown",
   "metadata": {},
   "source": [
    "Next we want to define the layout of our graph\n",
    "\n",
    "    we want the title of our graph to simply be university data, so we can set title to \"university data\"\n",
    "    to label our axis, plotly asks us to create a scene where we define what we want our axis to be \n",
    "        \n",
    "        inside of our scene, we can define the axis labels\n",
    "        let us set our x axis label to SAT average\n",
    "        let us set our y axis label to average salary\n",
    "        let us set our z axis label to percentage white\n",
    "        \n",
    "Once we have all of that, we can actually plot the graph\n",
    "\n",
    "    first we have to create a completed figure to graph.  Plotly will do this automatically, all it needs to know\n",
    "    is the data we want to plot, and the layout, or how we want it to look.  \n",
    "    so we specify that the data it should use is my_data, and the layout it should use is my_layout.\n",
    "    \n",
    "    Finally, in order to display the graph, we call py.plot or py.iplot.  and specify the graph, as well as what\n",
    "    we want to save our graph as\n",
    "    \n",
    "    IMPORTANT if using a text editor use py.plot, iplot is only for jupyter notebook"
   ]
  },
  {
   "cell_type": "code",
   "execution_count": 12,
   "metadata": {},
   "outputs": [
    {
     "ename": "PlotlyRequestError",
     "evalue": "No such user",
     "output_type": "error",
     "traceback": [
      "\u001b[1;31m---------------------------------------------------------------------------\u001b[0m",
      "\u001b[1;31mPlotlyRequestError\u001b[0m                        Traceback (most recent call last)",
      "\u001b[1;32m<ipython-input-12-0fc60ffa356f>\u001b[0m in \u001b[0;36m<module>\u001b[1;34m\u001b[0m\n\u001b[0;32m     14\u001b[0m )\n\u001b[0;32m     15\u001b[0m \u001b[0mfig\u001b[0m \u001b[1;33m=\u001b[0m \u001b[0mgo\u001b[0m\u001b[1;33m.\u001b[0m\u001b[0mFigure\u001b[0m\u001b[1;33m(\u001b[0m\u001b[0mdata\u001b[0m\u001b[1;33m=\u001b[0m\u001b[0mmy_data\u001b[0m\u001b[1;33m,\u001b[0m \u001b[0mlayout\u001b[0m\u001b[1;33m=\u001b[0m\u001b[0mmy_layout\u001b[0m\u001b[1;33m)\u001b[0m\u001b[1;33m\u001b[0m\u001b[1;33m\u001b[0m\u001b[0m\n\u001b[1;32m---> 16\u001b[1;33m \u001b[0mpy\u001b[0m\u001b[1;33m.\u001b[0m\u001b[0miplot\u001b[0m\u001b[1;33m(\u001b[0m\u001b[0mfig\u001b[0m\u001b[1;33m,\u001b[0m \u001b[0mfilename\u001b[0m\u001b[1;33m=\u001b[0m\u001b[1;34m'univ_vis'\u001b[0m\u001b[1;33m)\u001b[0m \u001b[1;31m#if using a text editor call py.plot(fig, filename='univ_vis')\u001b[0m\u001b[1;33m\u001b[0m\u001b[1;33m\u001b[0m\u001b[0m\n\u001b[0m",
      "\u001b[1;32mc:\\users\\charl\\appdata\\local\\programs\\python\\python37-32\\lib\\site-packages\\chart_studio\\plotly\\plotly.py\u001b[0m in \u001b[0;36miplot\u001b[1;34m(figure_or_data, **plot_options)\u001b[0m\n\u001b[0;32m    133\u001b[0m     \u001b[1;32mif\u001b[0m \u001b[1;34m\"auto_open\"\u001b[0m \u001b[1;32mnot\u001b[0m \u001b[1;32min\u001b[0m \u001b[0mplot_options\u001b[0m\u001b[1;33m:\u001b[0m\u001b[1;33m\u001b[0m\u001b[1;33m\u001b[0m\u001b[0m\n\u001b[0;32m    134\u001b[0m         \u001b[0mplot_options\u001b[0m\u001b[1;33m[\u001b[0m\u001b[1;34m\"auto_open\"\u001b[0m\u001b[1;33m]\u001b[0m \u001b[1;33m=\u001b[0m \u001b[1;32mFalse\u001b[0m\u001b[1;33m\u001b[0m\u001b[1;33m\u001b[0m\u001b[0m\n\u001b[1;32m--> 135\u001b[1;33m     \u001b[0murl\u001b[0m \u001b[1;33m=\u001b[0m \u001b[0mplot\u001b[0m\u001b[1;33m(\u001b[0m\u001b[0mfigure_or_data\u001b[0m\u001b[1;33m,\u001b[0m \u001b[1;33m**\u001b[0m\u001b[0mplot_options\u001b[0m\u001b[1;33m)\u001b[0m\u001b[1;33m\u001b[0m\u001b[1;33m\u001b[0m\u001b[0m\n\u001b[0m\u001b[0;32m    136\u001b[0m \u001b[1;33m\u001b[0m\u001b[0m\n\u001b[0;32m    137\u001b[0m     \u001b[1;32mif\u001b[0m \u001b[0misinstance\u001b[0m\u001b[1;33m(\u001b[0m\u001b[0mfigure_or_data\u001b[0m\u001b[1;33m,\u001b[0m \u001b[0mdict\u001b[0m\u001b[1;33m)\u001b[0m\u001b[1;33m:\u001b[0m\u001b[1;33m\u001b[0m\u001b[1;33m\u001b[0m\u001b[0m\n",
      "\u001b[1;32mc:\\users\\charl\\appdata\\local\\programs\\python\\python37-32\\lib\\site-packages\\chart_studio\\plotly\\plotly.py\u001b[0m in \u001b[0;36mplot\u001b[1;34m(figure_or_data, validate, **plot_options)\u001b[0m\n\u001b[0;32m    278\u001b[0m             \u001b[0mfilename\u001b[0m\u001b[1;33m=\u001b[0m\u001b[0mgrid_filename\u001b[0m\u001b[1;33m,\u001b[0m\u001b[1;33m\u001b[0m\u001b[1;33m\u001b[0m\u001b[0m\n\u001b[0;32m    279\u001b[0m             \u001b[0mworld_readable\u001b[0m\u001b[1;33m=\u001b[0m\u001b[0mpayload\u001b[0m\u001b[1;33m[\u001b[0m\u001b[1;34m\"world_readable\"\u001b[0m\u001b[1;33m]\u001b[0m\u001b[1;33m,\u001b[0m\u001b[1;33m\u001b[0m\u001b[1;33m\u001b[0m\u001b[0m\n\u001b[1;32m--> 280\u001b[1;33m             \u001b[0mauto_open\u001b[0m\u001b[1;33m=\u001b[0m\u001b[1;32mFalse\u001b[0m\u001b[1;33m,\u001b[0m\u001b[1;33m\u001b[0m\u001b[1;33m\u001b[0m\u001b[0m\n\u001b[0m\u001b[0;32m    281\u001b[0m         )\n\u001b[0;32m    282\u001b[0m \u001b[1;33m\u001b[0m\u001b[0m\n",
      "\u001b[1;32mc:\\users\\charl\\appdata\\local\\programs\\python\\python37-32\\lib\\site-packages\\chart_studio\\plotly\\plotly.py\u001b[0m in \u001b[0;36mupload\u001b[1;34m(cls, grid, filename, world_readable, auto_open, meta)\u001b[0m\n\u001b[0;32m   1085\u001b[0m                 \u001b[0mpayload\u001b[0m\u001b[1;33m[\u001b[0m\u001b[1;34m\"parent_path\"\u001b[0m\u001b[1;33m]\u001b[0m \u001b[1;33m=\u001b[0m \u001b[0mparent_path\u001b[0m\u001b[1;33m\u001b[0m\u001b[1;33m\u001b[0m\u001b[0m\n\u001b[0;32m   1086\u001b[0m \u001b[1;33m\u001b[0m\u001b[0m\n\u001b[1;32m-> 1087\u001b[1;33m         \u001b[0mfile_info\u001b[0m \u001b[1;33m=\u001b[0m \u001b[0m_create_or_overwrite_grid\u001b[0m\u001b[1;33m(\u001b[0m\u001b[0mpayload\u001b[0m\u001b[1;33m)\u001b[0m\u001b[1;33m\u001b[0m\u001b[1;33m\u001b[0m\u001b[0m\n\u001b[0m\u001b[0;32m   1088\u001b[0m \u001b[1;33m\u001b[0m\u001b[0m\n\u001b[0;32m   1089\u001b[0m         \u001b[0mcols\u001b[0m \u001b[1;33m=\u001b[0m \u001b[0mfile_info\u001b[0m\u001b[1;33m[\u001b[0m\u001b[1;34m\"cols\"\u001b[0m\u001b[1;33m]\u001b[0m\u001b[1;33m\u001b[0m\u001b[1;33m\u001b[0m\u001b[0m\n",
      "\u001b[1;32mc:\\users\\charl\\appdata\\local\\programs\\python\\python37-32\\lib\\site-packages\\chart_studio\\plotly\\plotly.py\u001b[0m in \u001b[0;36m_create_or_overwrite_grid\u001b[1;34m(data, max_retries)\u001b[0m\n\u001b[0;32m   1548\u001b[0m     \u001b[1;31m# Create file\u001b[0m\u001b[1;33m\u001b[0m\u001b[1;33m\u001b[0m\u001b[1;33m\u001b[0m\u001b[0m\n\u001b[0;32m   1549\u001b[0m     \u001b[1;32mtry\u001b[0m\u001b[1;33m:\u001b[0m\u001b[1;33m\u001b[0m\u001b[1;33m\u001b[0m\u001b[0m\n\u001b[1;32m-> 1550\u001b[1;33m         \u001b[0mres\u001b[0m \u001b[1;33m=\u001b[0m \u001b[0mapi_module\u001b[0m\u001b[1;33m.\u001b[0m\u001b[0mcreate\u001b[0m\u001b[1;33m(\u001b[0m\u001b[0mdata\u001b[0m\u001b[1;33m)\u001b[0m\u001b[1;33m\u001b[0m\u001b[1;33m\u001b[0m\u001b[0m\n\u001b[0m\u001b[0;32m   1551\u001b[0m     \u001b[1;32mexcept\u001b[0m \u001b[0mexceptions\u001b[0m\u001b[1;33m.\u001b[0m\u001b[0mPlotlyRequestError\u001b[0m \u001b[1;32mas\u001b[0m \u001b[0me\u001b[0m\u001b[1;33m:\u001b[0m\u001b[1;33m\u001b[0m\u001b[1;33m\u001b[0m\u001b[0m\n\u001b[0;32m   1552\u001b[0m         \u001b[1;32mif\u001b[0m \u001b[0mmax_retries\u001b[0m \u001b[1;33m>\u001b[0m \u001b[1;36m0\u001b[0m \u001b[1;32mand\u001b[0m \u001b[1;34m\"already exists\"\u001b[0m \u001b[1;32min\u001b[0m \u001b[0me\u001b[0m\u001b[1;33m.\u001b[0m\u001b[0mmessage\u001b[0m\u001b[1;33m:\u001b[0m\u001b[1;33m\u001b[0m\u001b[1;33m\u001b[0m\u001b[0m\n",
      "\u001b[1;32mc:\\users\\charl\\appdata\\local\\programs\\python\\python37-32\\lib\\site-packages\\chart_studio\\api\\v2\\grids.py\u001b[0m in \u001b[0;36mcreate\u001b[1;34m(body)\u001b[0m\n\u001b[0;32m     16\u001b[0m     \"\"\"\n\u001b[0;32m     17\u001b[0m     \u001b[0murl\u001b[0m \u001b[1;33m=\u001b[0m \u001b[0mbuild_url\u001b[0m\u001b[1;33m(\u001b[0m\u001b[0mRESOURCE\u001b[0m\u001b[1;33m)\u001b[0m\u001b[1;33m\u001b[0m\u001b[1;33m\u001b[0m\u001b[0m\n\u001b[1;32m---> 18\u001b[1;33m     \u001b[1;32mreturn\u001b[0m \u001b[0mrequest\u001b[0m\u001b[1;33m(\u001b[0m\u001b[1;34m\"post\"\u001b[0m\u001b[1;33m,\u001b[0m \u001b[0murl\u001b[0m\u001b[1;33m,\u001b[0m \u001b[0mjson\u001b[0m\u001b[1;33m=\u001b[0m\u001b[0mbody\u001b[0m\u001b[1;33m)\u001b[0m\u001b[1;33m\u001b[0m\u001b[1;33m\u001b[0m\u001b[0m\n\u001b[0m\u001b[0;32m     19\u001b[0m \u001b[1;33m\u001b[0m\u001b[0m\n\u001b[0;32m     20\u001b[0m \u001b[1;33m\u001b[0m\u001b[0m\n",
      "\u001b[1;32mc:\\users\\charl\\appdata\\local\\programs\\python\\python37-32\\lib\\site-packages\\retrying.py\u001b[0m in \u001b[0;36mwrapped_f\u001b[1;34m(*args, **kw)\u001b[0m\n\u001b[0;32m     47\u001b[0m             \u001b[1;33m@\u001b[0m\u001b[0msix\u001b[0m\u001b[1;33m.\u001b[0m\u001b[0mwraps\u001b[0m\u001b[1;33m(\u001b[0m\u001b[0mf\u001b[0m\u001b[1;33m)\u001b[0m\u001b[1;33m\u001b[0m\u001b[1;33m\u001b[0m\u001b[0m\n\u001b[0;32m     48\u001b[0m             \u001b[1;32mdef\u001b[0m \u001b[0mwrapped_f\u001b[0m\u001b[1;33m(\u001b[0m\u001b[1;33m*\u001b[0m\u001b[0margs\u001b[0m\u001b[1;33m,\u001b[0m \u001b[1;33m**\u001b[0m\u001b[0mkw\u001b[0m\u001b[1;33m)\u001b[0m\u001b[1;33m:\u001b[0m\u001b[1;33m\u001b[0m\u001b[1;33m\u001b[0m\u001b[0m\n\u001b[1;32m---> 49\u001b[1;33m                 \u001b[1;32mreturn\u001b[0m \u001b[0mRetrying\u001b[0m\u001b[1;33m(\u001b[0m\u001b[1;33m*\u001b[0m\u001b[0mdargs\u001b[0m\u001b[1;33m,\u001b[0m \u001b[1;33m**\u001b[0m\u001b[0mdkw\u001b[0m\u001b[1;33m)\u001b[0m\u001b[1;33m.\u001b[0m\u001b[0mcall\u001b[0m\u001b[1;33m(\u001b[0m\u001b[0mf\u001b[0m\u001b[1;33m,\u001b[0m \u001b[1;33m*\u001b[0m\u001b[0margs\u001b[0m\u001b[1;33m,\u001b[0m \u001b[1;33m**\u001b[0m\u001b[0mkw\u001b[0m\u001b[1;33m)\u001b[0m\u001b[1;33m\u001b[0m\u001b[1;33m\u001b[0m\u001b[0m\n\u001b[0m\u001b[0;32m     50\u001b[0m \u001b[1;33m\u001b[0m\u001b[0m\n\u001b[0;32m     51\u001b[0m             \u001b[1;32mreturn\u001b[0m \u001b[0mwrapped_f\u001b[0m\u001b[1;33m\u001b[0m\u001b[1;33m\u001b[0m\u001b[0m\n",
      "\u001b[1;32mc:\\users\\charl\\appdata\\local\\programs\\python\\python37-32\\lib\\site-packages\\retrying.py\u001b[0m in \u001b[0;36mcall\u001b[1;34m(self, fn, *args, **kwargs)\u001b[0m\n\u001b[0;32m    204\u001b[0m \u001b[1;33m\u001b[0m\u001b[0m\n\u001b[0;32m    205\u001b[0m             \u001b[1;32mif\u001b[0m \u001b[1;32mnot\u001b[0m \u001b[0mself\u001b[0m\u001b[1;33m.\u001b[0m\u001b[0mshould_reject\u001b[0m\u001b[1;33m(\u001b[0m\u001b[0mattempt\u001b[0m\u001b[1;33m)\u001b[0m\u001b[1;33m:\u001b[0m\u001b[1;33m\u001b[0m\u001b[1;33m\u001b[0m\u001b[0m\n\u001b[1;32m--> 206\u001b[1;33m                 \u001b[1;32mreturn\u001b[0m \u001b[0mattempt\u001b[0m\u001b[1;33m.\u001b[0m\u001b[0mget\u001b[0m\u001b[1;33m(\u001b[0m\u001b[0mself\u001b[0m\u001b[1;33m.\u001b[0m\u001b[0m_wrap_exception\u001b[0m\u001b[1;33m)\u001b[0m\u001b[1;33m\u001b[0m\u001b[1;33m\u001b[0m\u001b[0m\n\u001b[0m\u001b[0;32m    207\u001b[0m \u001b[1;33m\u001b[0m\u001b[0m\n\u001b[0;32m    208\u001b[0m             \u001b[0mdelay_since_first_attempt_ms\u001b[0m \u001b[1;33m=\u001b[0m \u001b[0mint\u001b[0m\u001b[1;33m(\u001b[0m\u001b[0mround\u001b[0m\u001b[1;33m(\u001b[0m\u001b[0mtime\u001b[0m\u001b[1;33m.\u001b[0m\u001b[0mtime\u001b[0m\u001b[1;33m(\u001b[0m\u001b[1;33m)\u001b[0m \u001b[1;33m*\u001b[0m \u001b[1;36m1000\u001b[0m\u001b[1;33m)\u001b[0m\u001b[1;33m)\u001b[0m \u001b[1;33m-\u001b[0m \u001b[0mstart_time\u001b[0m\u001b[1;33m\u001b[0m\u001b[1;33m\u001b[0m\u001b[0m\n",
      "\u001b[1;32mc:\\users\\charl\\appdata\\local\\programs\\python\\python37-32\\lib\\site-packages\\retrying.py\u001b[0m in \u001b[0;36mget\u001b[1;34m(self, wrap_exception)\u001b[0m\n\u001b[0;32m    245\u001b[0m                 \u001b[1;32mraise\u001b[0m \u001b[0mRetryError\u001b[0m\u001b[1;33m(\u001b[0m\u001b[0mself\u001b[0m\u001b[1;33m)\u001b[0m\u001b[1;33m\u001b[0m\u001b[1;33m\u001b[0m\u001b[0m\n\u001b[0;32m    246\u001b[0m             \u001b[1;32melse\u001b[0m\u001b[1;33m:\u001b[0m\u001b[1;33m\u001b[0m\u001b[1;33m\u001b[0m\u001b[0m\n\u001b[1;32m--> 247\u001b[1;33m                 \u001b[0msix\u001b[0m\u001b[1;33m.\u001b[0m\u001b[0mreraise\u001b[0m\u001b[1;33m(\u001b[0m\u001b[0mself\u001b[0m\u001b[1;33m.\u001b[0m\u001b[0mvalue\u001b[0m\u001b[1;33m[\u001b[0m\u001b[1;36m0\u001b[0m\u001b[1;33m]\u001b[0m\u001b[1;33m,\u001b[0m \u001b[0mself\u001b[0m\u001b[1;33m.\u001b[0m\u001b[0mvalue\u001b[0m\u001b[1;33m[\u001b[0m\u001b[1;36m1\u001b[0m\u001b[1;33m]\u001b[0m\u001b[1;33m,\u001b[0m \u001b[0mself\u001b[0m\u001b[1;33m.\u001b[0m\u001b[0mvalue\u001b[0m\u001b[1;33m[\u001b[0m\u001b[1;36m2\u001b[0m\u001b[1;33m]\u001b[0m\u001b[1;33m)\u001b[0m\u001b[1;33m\u001b[0m\u001b[1;33m\u001b[0m\u001b[0m\n\u001b[0m\u001b[0;32m    248\u001b[0m         \u001b[1;32melse\u001b[0m\u001b[1;33m:\u001b[0m\u001b[1;33m\u001b[0m\u001b[1;33m\u001b[0m\u001b[0m\n\u001b[0;32m    249\u001b[0m             \u001b[1;32mreturn\u001b[0m \u001b[0mself\u001b[0m\u001b[1;33m.\u001b[0m\u001b[0mvalue\u001b[0m\u001b[1;33m\u001b[0m\u001b[1;33m\u001b[0m\u001b[0m\n",
      "\u001b[1;32mc:\\users\\charl\\appdata\\local\\programs\\python\\python37-32\\lib\\site-packages\\six.py\u001b[0m in \u001b[0;36mreraise\u001b[1;34m(tp, value, tb)\u001b[0m\n\u001b[0;32m    691\u001b[0m             \u001b[1;32mif\u001b[0m \u001b[0mvalue\u001b[0m\u001b[1;33m.\u001b[0m\u001b[0m__traceback__\u001b[0m \u001b[1;32mis\u001b[0m \u001b[1;32mnot\u001b[0m \u001b[0mtb\u001b[0m\u001b[1;33m:\u001b[0m\u001b[1;33m\u001b[0m\u001b[1;33m\u001b[0m\u001b[0m\n\u001b[0;32m    692\u001b[0m                 \u001b[1;32mraise\u001b[0m \u001b[0mvalue\u001b[0m\u001b[1;33m.\u001b[0m\u001b[0mwith_traceback\u001b[0m\u001b[1;33m(\u001b[0m\u001b[0mtb\u001b[0m\u001b[1;33m)\u001b[0m\u001b[1;33m\u001b[0m\u001b[1;33m\u001b[0m\u001b[0m\n\u001b[1;32m--> 693\u001b[1;33m             \u001b[1;32mraise\u001b[0m \u001b[0mvalue\u001b[0m\u001b[1;33m\u001b[0m\u001b[1;33m\u001b[0m\u001b[0m\n\u001b[0m\u001b[0;32m    694\u001b[0m         \u001b[1;32mfinally\u001b[0m\u001b[1;33m:\u001b[0m\u001b[1;33m\u001b[0m\u001b[1;33m\u001b[0m\u001b[0m\n\u001b[0;32m    695\u001b[0m             \u001b[0mvalue\u001b[0m \u001b[1;33m=\u001b[0m \u001b[1;32mNone\u001b[0m\u001b[1;33m\u001b[0m\u001b[1;33m\u001b[0m\u001b[0m\n",
      "\u001b[1;32mc:\\users\\charl\\appdata\\local\\programs\\python\\python37-32\\lib\\site-packages\\retrying.py\u001b[0m in \u001b[0;36mcall\u001b[1;34m(self, fn, *args, **kwargs)\u001b[0m\n\u001b[0;32m    198\u001b[0m         \u001b[1;32mwhile\u001b[0m \u001b[1;32mTrue\u001b[0m\u001b[1;33m:\u001b[0m\u001b[1;33m\u001b[0m\u001b[1;33m\u001b[0m\u001b[0m\n\u001b[0;32m    199\u001b[0m             \u001b[1;32mtry\u001b[0m\u001b[1;33m:\u001b[0m\u001b[1;33m\u001b[0m\u001b[1;33m\u001b[0m\u001b[0m\n\u001b[1;32m--> 200\u001b[1;33m                 \u001b[0mattempt\u001b[0m \u001b[1;33m=\u001b[0m \u001b[0mAttempt\u001b[0m\u001b[1;33m(\u001b[0m\u001b[0mfn\u001b[0m\u001b[1;33m(\u001b[0m\u001b[1;33m*\u001b[0m\u001b[0margs\u001b[0m\u001b[1;33m,\u001b[0m \u001b[1;33m**\u001b[0m\u001b[0mkwargs\u001b[0m\u001b[1;33m)\u001b[0m\u001b[1;33m,\u001b[0m \u001b[0mattempt_number\u001b[0m\u001b[1;33m,\u001b[0m \u001b[1;32mFalse\u001b[0m\u001b[1;33m)\u001b[0m\u001b[1;33m\u001b[0m\u001b[1;33m\u001b[0m\u001b[0m\n\u001b[0m\u001b[0;32m    201\u001b[0m             \u001b[1;32mexcept\u001b[0m\u001b[1;33m:\u001b[0m\u001b[1;33m\u001b[0m\u001b[1;33m\u001b[0m\u001b[0m\n\u001b[0;32m    202\u001b[0m                 \u001b[0mtb\u001b[0m \u001b[1;33m=\u001b[0m \u001b[0msys\u001b[0m\u001b[1;33m.\u001b[0m\u001b[0mexc_info\u001b[0m\u001b[1;33m(\u001b[0m\u001b[1;33m)\u001b[0m\u001b[1;33m\u001b[0m\u001b[1;33m\u001b[0m\u001b[0m\n",
      "\u001b[1;32mc:\\users\\charl\\appdata\\local\\programs\\python\\python37-32\\lib\\site-packages\\chart_studio\\api\\v2\\utils.py\u001b[0m in \u001b[0;36mrequest\u001b[1;34m(method, url, **kwargs)\u001b[0m\n\u001b[0;32m    178\u001b[0m         \u001b[0mcontent\u001b[0m \u001b[1;33m=\u001b[0m \u001b[0mresponse\u001b[0m\u001b[1;33m.\u001b[0m\u001b[0mcontent\u001b[0m \u001b[1;32mif\u001b[0m \u001b[0mresponse\u001b[0m \u001b[1;32melse\u001b[0m \u001b[1;34m\"No content\"\u001b[0m\u001b[1;33m\u001b[0m\u001b[1;33m\u001b[0m\u001b[0m\n\u001b[0;32m    179\u001b[0m         \u001b[1;32mraise\u001b[0m \u001b[0mexceptions\u001b[0m\u001b[1;33m.\u001b[0m\u001b[0mPlotlyRequestError\u001b[0m\u001b[1;33m(\u001b[0m\u001b[0mmessage\u001b[0m\u001b[1;33m,\u001b[0m \u001b[0mstatus_code\u001b[0m\u001b[1;33m,\u001b[0m \u001b[0mcontent\u001b[0m\u001b[1;33m)\u001b[0m\u001b[1;33m\u001b[0m\u001b[1;33m\u001b[0m\u001b[0m\n\u001b[1;32m--> 180\u001b[1;33m     \u001b[0mvalidate_response\u001b[0m\u001b[1;33m(\u001b[0m\u001b[0mresponse\u001b[0m\u001b[1;33m)\u001b[0m\u001b[1;33m\u001b[0m\u001b[1;33m\u001b[0m\u001b[0m\n\u001b[0m\u001b[0;32m    181\u001b[0m     \u001b[1;32mreturn\u001b[0m \u001b[0mresponse\u001b[0m\u001b[1;33m\u001b[0m\u001b[1;33m\u001b[0m\u001b[0m\n",
      "\u001b[1;32mc:\\users\\charl\\appdata\\local\\programs\\python\\python37-32\\lib\\site-packages\\chart_studio\\api\\v2\\utils.py\u001b[0m in \u001b[0;36mvalidate_response\u001b[1;34m(response)\u001b[0m\n\u001b[0;32m     80\u001b[0m         \u001b[0mmessage\u001b[0m \u001b[1;33m=\u001b[0m \u001b[0mcontent\u001b[0m \u001b[1;32mif\u001b[0m \u001b[0mcontent\u001b[0m \u001b[1;32melse\u001b[0m \u001b[1;34m\"No Content\"\u001b[0m\u001b[1;33m\u001b[0m\u001b[1;33m\u001b[0m\u001b[0m\n\u001b[0;32m     81\u001b[0m \u001b[1;33m\u001b[0m\u001b[0m\n\u001b[1;32m---> 82\u001b[1;33m     \u001b[1;32mraise\u001b[0m \u001b[0mexceptions\u001b[0m\u001b[1;33m.\u001b[0m\u001b[0mPlotlyRequestError\u001b[0m\u001b[1;33m(\u001b[0m\u001b[0mmessage\u001b[0m\u001b[1;33m,\u001b[0m \u001b[0mstatus_code\u001b[0m\u001b[1;33m,\u001b[0m \u001b[0mcontent\u001b[0m\u001b[1;33m)\u001b[0m\u001b[1;33m\u001b[0m\u001b[1;33m\u001b[0m\u001b[0m\n\u001b[0m\u001b[0;32m     83\u001b[0m \u001b[1;33m\u001b[0m\u001b[0m\n\u001b[0;32m     84\u001b[0m \u001b[1;33m\u001b[0m\u001b[0m\n",
      "\u001b[1;31mPlotlyRequestError\u001b[0m: No such user"
     ]
    }
   ],
   "source": [
    "my_layout = go.Layout(\n",
    "    title='University Data',\n",
    "    scene=dict(\n",
    "        xaxis=dict(\n",
    "            title='SAT Average'\n",
    "        ),\n",
    "        yaxis=dict(\n",
    "            title='Average Salary'\n",
    "        ),\n",
    "        zaxis=dict(\n",
    "            title='Percentage White'\n",
    "        )\n",
    "    )\n",
    ")\n",
    "fig = go.Figure(data=my_data, layout=my_layout)\n",
    "py.iplot(fig, filename='univ_vis') #if using a text editor call py.plot(fig, filename='univ_vis')"
   ]
  },
  {
   "cell_type": "code",
   "execution_count": null,
   "metadata": {},
   "outputs": [],
   "source": []
  }
 ],
 "metadata": {
  "kernelspec": {
   "display_name": "Python 3",
   "language": "python",
   "name": "python3"
  },
  "language_info": {
   "codemirror_mode": {
    "name": "ipython",
    "version": 3
   },
   "file_extension": ".py",
   "mimetype": "text/x-python",
   "name": "python",
   "nbconvert_exporter": "python",
   "pygments_lexer": "ipython3",
   "version": "3.7.4"
  }
 },
 "nbformat": 4,
 "nbformat_minor": 2
}
